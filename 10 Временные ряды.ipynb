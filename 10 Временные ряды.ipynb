{
 "cells": [
  {
   "cell_type": "markdown",
   "metadata": {
    "toc": true
   },
   "source": [
    "<h1>Содержание<span class=\"tocSkip\"></span></h1>\n",
    "<div class=\"toc\"><ul class=\"toc-item\"><li><span><a href=\"#Подготовка\" data-toc-modified-id=\"Подготовка-1\"><span class=\"toc-item-num\">1&nbsp;&nbsp;</span>Подготовка</a></span></li><li><span><a href=\"#Анализ\" data-toc-modified-id=\"Анализ-2\"><span class=\"toc-item-num\">2&nbsp;&nbsp;</span>Анализ</a></span></li><li><span><a href=\"#Обучение\" data-toc-modified-id=\"Обучение-3\"><span class=\"toc-item-num\">3&nbsp;&nbsp;</span>Обучение</a></span></li><li><span><a href=\"#Тестирование\" data-toc-modified-id=\"Тестирование-4\"><span class=\"toc-item-num\">4&nbsp;&nbsp;</span>Тестирование</a></span></li></ul></div>"
   ]
  },
  {
   "cell_type": "markdown",
   "metadata": {},
   "source": [
    "#  Прогнозирование заказов такси"
   ]
  },
  {
   "cell_type": "markdown",
   "metadata": {},
   "source": [
    "Компания «Чётенькое такси» собрала исторические данные о заказах такси в аэропортах. Чтобы привлекать больше водителей в период пиковой нагрузки, нужно спрогнозировать количество заказов такси на следующий час. Постройте модель для такого предсказания.\n",
    "\n",
    "Значение метрики *RMSE* на тестовой выборке должно быть не больше 48.\n",
    "\n",
    "Вам нужно:\n",
    "\n",
    "1. Загрузить данные и выполнить их ресемплирование по одному часу.\n",
    "2. Проанализировать данные.\n",
    "3. Обучить разные модели с различными гиперпараметрами. Сделать тестовую выборку размером 10% от исходных данных.\n",
    "4. Проверить данные на тестовой выборке и сделать выводы.\n",
    "\n",
    "\n",
    "Данные лежат в файле `taxi.csv`. Количество заказов находится в столбце `num_orders` (от англ. *number of orders*, «число заказов»)."
   ]
  },
  {
   "cell_type": "code",
   "execution_count": 1,
   "metadata": {},
   "outputs": [],
   "source": [
    "TEST_SIZE = 0.1\n",
    "RANDOM_STATE = 12345"
   ]
  },
  {
   "cell_type": "code",
   "execution_count": 2,
   "metadata": {},
   "outputs": [],
   "source": [
    "import os\n",
    "import numpy as np\n",
    "import lightgbm as lgb\n",
    "import pandas as pd\n",
    "import matplotlib.pyplot as plt\n",
    "from statsmodels.tsa.seasonal import seasonal_decompose\n",
    "from sklearn.model_selection import (\n",
    "    GridSearchCV,\n",
    "    RandomizedSearchCV,\n",
    "    train_test_split,\n",
    "    TimeSeriesSplit\n",
    ")\n",
    "from sklearn.linear_model import LinearRegression\n",
    "from sklearn.preprocessing import OrdinalEncoder\n",
    "from sklearn.preprocessing import OneHotEncoder\n",
    "from sklearn.tree import DecisionTreeRegressor\n",
    "from sklearn.compose import ColumnTransformer\n",
    "from sklearn.preprocessing import StandardScaler\n",
    "from sklearn.metrics import mean_squared_error\n",
    "from sklearn.pipeline import Pipeline\n",
    "from time import time\n",
    "from sklearn.impute import SimpleImputer\n",
    "from catboost import CatBoostRegressor"
   ]
  },
  {
   "cell_type": "code",
   "execution_count": 3,
   "metadata": {},
   "outputs": [],
   "source": [
    "import warnings\n",
    "# настройки\n",
    "warnings.filterwarnings(\"ignore\")"
   ]
  },
  {
   "cell_type": "code",
   "execution_count": 4,
   "metadata": {},
   "outputs": [],
   "source": [
    "plt.rcParams[\"figure.figsize\"] = (10,8) "
   ]
  },
  {
   "cell_type": "markdown",
   "metadata": {},
   "source": [
    "## Подготовка"
   ]
  },
  {
   "cell_type": "code",
   "execution_count": 5,
   "metadata": {},
   "outputs": [],
   "source": [
    "def upload(pth):\n",
    "    if os.path.exists(pth):\n",
    "        market_file = pd.read_csv(pth)\n",
    "        return pd.read_csv(pth, parse_dates =[0],index_col= 0)\n",
    "    else:\n",
    "        print('Something is wrong')"
   ]
  },
  {
   "cell_type": "code",
   "execution_count": 6,
   "metadata": {},
   "outputs": [],
   "source": [
    "pth = '/datasets/taxi.csv'\n",
    "df = upload(pth)"
   ]
  },
  {
   "cell_type": "code",
   "execution_count": 7,
   "metadata": {},
   "outputs": [
    {
     "name": "stdout",
     "output_type": "stream",
     "text": [
      "<class 'pandas.core.frame.DataFrame'>\n",
      "DatetimeIndex: 26496 entries, 2018-03-01 00:00:00 to 2018-08-31 23:50:00\n",
      "Data columns (total 1 columns):\n",
      " #   Column      Non-Null Count  Dtype\n",
      "---  ------      --------------  -----\n",
      " 0   num_orders  26496 non-null  int64\n",
      "dtypes: int64(1)\n",
      "memory usage: 414.0 KB\n"
     ]
    }
   ],
   "source": [
    "df.info()"
   ]
  },
  {
   "cell_type": "code",
   "execution_count": 8,
   "metadata": {},
   "outputs": [],
   "source": [
    "df1 = df.resample(\"1H\").sum()"
   ]
  },
  {
   "cell_type": "markdown",
   "metadata": {},
   "source": [
    "## Анализ"
   ]
  },
  {
   "cell_type": "code",
   "execution_count": 9,
   "metadata": {},
   "outputs": [],
   "source": [
    "def make_features(data):\n",
    "    data['day'] = data.index.day\n",
    "    data['hour'] = data.index.hour\n",
    "    data['dayofweek'] = data.index.dayofweek\n",
    "    \n",
    "    for lag in range(1, 8):\n",
    "        data['lag_{}'.format(lag)] = data['num_orders'].shift(lag)\n",
    "    \n",
    "    data['rolling_mean'] = data['num_orders'].shift().rolling(1).mean()\n",
    "    data.dropna(inplace=True)\n",
    "    return data"
   ]
  },
  {
   "cell_type": "code",
   "execution_count": 10,
   "metadata": {},
   "outputs": [
    {
     "data": {
      "text/html": [
       "<div>\n",
       "<style scoped>\n",
       "    .dataframe tbody tr th:only-of-type {\n",
       "        vertical-align: middle;\n",
       "    }\n",
       "\n",
       "    .dataframe tbody tr th {\n",
       "        vertical-align: top;\n",
       "    }\n",
       "\n",
       "    .dataframe thead th {\n",
       "        text-align: right;\n",
       "    }\n",
       "</style>\n",
       "<table border=\"1\" class=\"dataframe\">\n",
       "  <thead>\n",
       "    <tr style=\"text-align: right;\">\n",
       "      <th></th>\n",
       "      <th>num_orders</th>\n",
       "    </tr>\n",
       "    <tr>\n",
       "      <th>datetime</th>\n",
       "      <th></th>\n",
       "    </tr>\n",
       "  </thead>\n",
       "  <tbody>\n",
       "    <tr>\n",
       "      <th>2018-03-01 00:00:00</th>\n",
       "      <td>124</td>\n",
       "    </tr>\n",
       "    <tr>\n",
       "      <th>2018-03-01 01:00:00</th>\n",
       "      <td>85</td>\n",
       "    </tr>\n",
       "    <tr>\n",
       "      <th>2018-03-01 02:00:00</th>\n",
       "      <td>71</td>\n",
       "    </tr>\n",
       "    <tr>\n",
       "      <th>2018-03-01 03:00:00</th>\n",
       "      <td>66</td>\n",
       "    </tr>\n",
       "    <tr>\n",
       "      <th>2018-03-01 04:00:00</th>\n",
       "      <td>43</td>\n",
       "    </tr>\n",
       "  </tbody>\n",
       "</table>\n",
       "</div>"
      ],
      "text/plain": [
       "                     num_orders\n",
       "datetime                       \n",
       "2018-03-01 00:00:00         124\n",
       "2018-03-01 01:00:00          85\n",
       "2018-03-01 02:00:00          71\n",
       "2018-03-01 03:00:00          66\n",
       "2018-03-01 04:00:00          43"
      ]
     },
     "execution_count": 10,
     "metadata": {},
     "output_type": "execute_result"
    }
   ],
   "source": [
    "df1.head(5)"
   ]
  },
  {
   "cell_type": "code",
   "execution_count": 11,
   "metadata": {},
   "outputs": [
    {
     "data": {
      "image/png": "[encoded data removed]",
      "text/plain": [
       "<Figure size 432x576 with 3 Axes>"
      ]
     },
     "metadata": {
      "needs_background": "light"
     },
     "output_type": "display_data"
    }
   ],
   "source": [
    "decomposed = seasonal_decompose(df1)\n",
    "plt.figure(figsize=(6, 8))\n",
    "plt.subplot(311)\n",
    "decomposed.trend.plot(ax=plt.gca())\n",
    "plt.title('Trend')\n",
    "plt.subplot(312)\n",
    "decomposed.seasonal.plot(ax=plt.gca()) \n",
    "plt.title('Seasonality')\n",
    "plt.subplot(313)\n",
    "decomposed.resid.plot(ax=plt.gca())\n",
    "plt.title('Residuals')\n",
    "plt.tight_layout()"
   ]
  },
  {
   "cell_type": "code",
   "execution_count": 12,
   "metadata": {},
   "outputs": [
    {
     "data": {
      "image/png": "[encoded data removed]",
      "text/plain": [
       "<Figure size 720x576 with 1 Axes>"
      ]
     },
     "metadata": {
      "needs_background": "light"
     },
     "output_type": "display_data"
    }
   ],
   "source": [
    "df1['rolling_mean'] = df1.rolling(10).mean() \n",
    "df1.plot()\n",
    "plt.title('Cкользящее среднее')\n",
    "plt.xlabel('Период')\n",
    "plt.ylabel('Количество')\n",
    "plt.show()"
   ]
  },
  {
   "cell_type": "code",
   "execution_count": 13,
   "metadata": {},
   "outputs": [],
   "source": [
    "df_t = df.resample(\"1D\").sum()"
   ]
  },
  {
   "cell_type": "code",
   "execution_count": 14,
   "metadata": {},
   "outputs": [
    {
     "data": {
      "image/png": "[encoded data removed]",
      "text/plain": [
       "<Figure size 720x576 with 1 Axes>"
      ]
     },
     "metadata": {
      "needs_background": "light"
     },
     "output_type": "display_data"
    }
   ],
   "source": [
    "df1['rolling_mean_t'] = df_t.rolling(10).mean() \n",
    "df1.plot()\n",
    "plt.title('Cкользящее среднее')\n",
    "plt.xlabel('Период')\n",
    "plt.ylabel('Количество')\n",
    "plt.show()"
   ]
  },
  {
   "cell_type": "code",
   "execution_count": 15,
   "metadata": {},
   "outputs": [],
   "source": [
    "df2 = df1.copy()\n",
    "df2 = make_features(df2)"
   ]
  },
  {
   "cell_type": "code",
   "execution_count": 16,
   "metadata": {},
   "outputs": [
    {
     "name": "stdout",
     "output_type": "stream",
     "text": [
      "<class 'pandas.core.frame.DataFrame'>\n",
      "DatetimeIndex: 175 entries, 2018-03-10 to 2018-08-31\n",
      "Freq: 24H\n",
      "Data columns (total 13 columns):\n",
      " #   Column          Non-Null Count  Dtype  \n",
      "---  ------          --------------  -----  \n",
      " 0   num_orders      175 non-null    int64  \n",
      " 1   rolling_mean    175 non-null    float64\n",
      " 2   rolling_mean_t  175 non-null    float64\n",
      " 3   day             175 non-null    int64  \n",
      " 4   hour            175 non-null    int64  \n",
      " 5   dayofweek       175 non-null    int64  \n",
      " 6   lag_1           175 non-null    float64\n",
      " 7   lag_2           175 non-null    float64\n",
      " 8   lag_3           175 non-null    float64\n",
      " 9   lag_4           175 non-null    float64\n",
      " 10  lag_5           175 non-null    float64\n",
      " 11  lag_6           175 non-null    float64\n",
      " 12  lag_7           175 non-null    float64\n",
      "dtypes: float64(9), int64(4)\n",
      "memory usage: 19.1 KB\n"
     ]
    }
   ],
   "source": [
    "df2.info()"
   ]
  },
  {
   "cell_type": "code",
   "execution_count": 17,
   "metadata": {},
   "outputs": [
    {
     "data": {
      "text/html": [
       "<div>\n",
       "<style scoped>\n",
       "    .dataframe tbody tr th:only-of-type {\n",
       "        vertical-align: middle;\n",
       "    }\n",
       "\n",
       "    .dataframe tbody tr th {\n",
       "        vertical-align: top;\n",
       "    }\n",
       "\n",
       "    .dataframe thead th {\n",
       "        text-align: right;\n",
       "    }\n",
       "</style>\n",
       "<table border=\"1\" class=\"dataframe\">\n",
       "  <thead>\n",
       "    <tr style=\"text-align: right;\">\n",
       "      <th></th>\n",
       "      <th>num_orders</th>\n",
       "      <th>rolling_mean</th>\n",
       "      <th>rolling_mean_t</th>\n",
       "      <th>day</th>\n",
       "      <th>hour</th>\n",
       "      <th>dayofweek</th>\n",
       "      <th>lag_1</th>\n",
       "      <th>lag_2</th>\n",
       "      <th>lag_3</th>\n",
       "      <th>lag_4</th>\n",
       "      <th>lag_5</th>\n",
       "      <th>lag_6</th>\n",
       "      <th>lag_7</th>\n",
       "    </tr>\n",
       "    <tr>\n",
       "      <th>datetime</th>\n",
       "      <th></th>\n",
       "      <th></th>\n",
       "      <th></th>\n",
       "      <th></th>\n",
       "      <th></th>\n",
       "      <th></th>\n",
       "      <th></th>\n",
       "      <th></th>\n",
       "      <th></th>\n",
       "      <th></th>\n",
       "      <th></th>\n",
       "      <th></th>\n",
       "      <th></th>\n",
       "    </tr>\n",
       "  </thead>\n",
       "  <tbody>\n",
       "    <tr>\n",
       "      <th>2018-03-10</th>\n",
       "      <td>117</td>\n",
       "      <td>49.0</td>\n",
       "      <td>1311.2</td>\n",
       "      <td>10</td>\n",
       "      <td>0</td>\n",
       "      <td>5</td>\n",
       "      <td>49.0</td>\n",
       "      <td>82.0</td>\n",
       "      <td>70.0</td>\n",
       "      <td>60.0</td>\n",
       "      <td>48.0</td>\n",
       "      <td>39.0</td>\n",
       "      <td>66.0</td>\n",
       "    </tr>\n",
       "    <tr>\n",
       "      <th>2018-03-11</th>\n",
       "      <td>81</td>\n",
       "      <td>73.0</td>\n",
       "      <td>1334.8</td>\n",
       "      <td>11</td>\n",
       "      <td>0</td>\n",
       "      <td>6</td>\n",
       "      <td>73.0</td>\n",
       "      <td>80.0</td>\n",
       "      <td>62.0</td>\n",
       "      <td>54.0</td>\n",
       "      <td>33.0</td>\n",
       "      <td>102.0</td>\n",
       "      <td>60.0</td>\n",
       "    </tr>\n",
       "    <tr>\n",
       "      <th>2018-03-12</th>\n",
       "      <td>102</td>\n",
       "      <td>118.0</td>\n",
       "      <td>1346.4</td>\n",
       "      <td>12</td>\n",
       "      <td>0</td>\n",
       "      <td>0</td>\n",
       "      <td>118.0</td>\n",
       "      <td>89.0</td>\n",
       "      <td>119.0</td>\n",
       "      <td>99.0</td>\n",
       "      <td>99.0</td>\n",
       "      <td>107.0</td>\n",
       "      <td>78.0</td>\n",
       "    </tr>\n",
       "    <tr>\n",
       "      <th>2018-03-13</th>\n",
       "      <td>91</td>\n",
       "      <td>57.0</td>\n",
       "      <td>1354.3</td>\n",
       "      <td>13</td>\n",
       "      <td>0</td>\n",
       "      <td>1</td>\n",
       "      <td>57.0</td>\n",
       "      <td>67.0</td>\n",
       "      <td>81.0</td>\n",
       "      <td>46.0</td>\n",
       "      <td>45.0</td>\n",
       "      <td>107.0</td>\n",
       "      <td>94.0</td>\n",
       "    </tr>\n",
       "    <tr>\n",
       "      <th>2018-03-14</th>\n",
       "      <td>84</td>\n",
       "      <td>75.0</td>\n",
       "      <td>1368.0</td>\n",
       "      <td>14</td>\n",
       "      <td>0</td>\n",
       "      <td>2</td>\n",
       "      <td>75.0</td>\n",
       "      <td>62.0</td>\n",
       "      <td>77.0</td>\n",
       "      <td>91.0</td>\n",
       "      <td>40.0</td>\n",
       "      <td>109.0</td>\n",
       "      <td>35.0</td>\n",
       "    </tr>\n",
       "  </tbody>\n",
       "</table>\n",
       "</div>"
      ],
      "text/plain": [
       "            num_orders  rolling_mean  rolling_mean_t  day  hour  dayofweek  \\\n",
       "datetime                                                                     \n",
       "2018-03-10         117          49.0          1311.2   10     0          5   \n",
       "2018-03-11          81          73.0          1334.8   11     0          6   \n",
       "2018-03-12         102         118.0          1346.4   12     0          0   \n",
       "2018-03-13          91          57.0          1354.3   13     0          1   \n",
       "2018-03-14          84          75.0          1368.0   14     0          2   \n",
       "\n",
       "            lag_1  lag_2  lag_3  lag_4  lag_5  lag_6  lag_7  \n",
       "datetime                                                     \n",
       "2018-03-10   49.0   82.0   70.0   60.0   48.0   39.0   66.0  \n",
       "2018-03-11   73.0   80.0   62.0   54.0   33.0  102.0   60.0  \n",
       "2018-03-12  118.0   89.0  119.0   99.0   99.0  107.0   78.0  \n",
       "2018-03-13   57.0   67.0   81.0   46.0   45.0  107.0   94.0  \n",
       "2018-03-14   75.0   62.0   77.0   91.0   40.0  109.0   35.0  "
      ]
     },
     "execution_count": 17,
     "metadata": {},
     "output_type": "execute_result"
    }
   ],
   "source": [
    "df2.head(5)"
   ]
  },
  {
   "cell_type": "code",
   "execution_count": 18,
   "metadata": {},
   "outputs": [
    {
     "data": {
      "text/html": [
       "<div>\n",
       "<style scoped>\n",
       "    .dataframe tbody tr th:only-of-type {\n",
       "        vertical-align: middle;\n",
       "    }\n",
       "\n",
       "    .dataframe tbody tr th {\n",
       "        vertical-align: top;\n",
       "    }\n",
       "\n",
       "    .dataframe thead th {\n",
       "        text-align: right;\n",
       "    }\n",
       "</style>\n",
       "<table border=\"1\" class=\"dataframe\">\n",
       "  <thead>\n",
       "    <tr style=\"text-align: right;\">\n",
       "      <th></th>\n",
       "      <th>num_orders</th>\n",
       "      <th>rolling_mean</th>\n",
       "      <th>rolling_mean_t</th>\n",
       "      <th>day</th>\n",
       "      <th>hour</th>\n",
       "      <th>dayofweek</th>\n",
       "      <th>lag_1</th>\n",
       "      <th>lag_2</th>\n",
       "      <th>lag_3</th>\n",
       "      <th>lag_4</th>\n",
       "      <th>lag_5</th>\n",
       "      <th>lag_6</th>\n",
       "      <th>lag_7</th>\n",
       "    </tr>\n",
       "  </thead>\n",
       "  <tbody>\n",
       "    <tr>\n",
       "      <th>count</th>\n",
       "      <td>175.000000</td>\n",
       "      <td>175.000000</td>\n",
       "      <td>175.000000</td>\n",
       "      <td>175.000000</td>\n",
       "      <td>175.0</td>\n",
       "      <td>175.000000</td>\n",
       "      <td>175.000000</td>\n",
       "      <td>175.000000</td>\n",
       "      <td>175.000000</td>\n",
       "      <td>175.000000</td>\n",
       "      <td>175.000000</td>\n",
       "      <td>175.000000</td>\n",
       "      <td>175.000000</td>\n",
       "    </tr>\n",
       "    <tr>\n",
       "      <th>mean</th>\n",
       "      <td>146.645714</td>\n",
       "      <td>111.337143</td>\n",
       "      <td>1999.926857</td>\n",
       "      <td>16.394286</td>\n",
       "      <td>0.0</td>\n",
       "      <td>3.000000</td>\n",
       "      <td>111.337143</td>\n",
       "      <td>98.028571</td>\n",
       "      <td>95.862857</td>\n",
       "      <td>81.605714</td>\n",
       "      <td>78.325714</td>\n",
       "      <td>68.160000</td>\n",
       "      <td>93.937143</td>\n",
       "    </tr>\n",
       "    <tr>\n",
       "      <th>std</th>\n",
       "      <td>48.806328</td>\n",
       "      <td>37.827733</td>\n",
       "      <td>547.629114</td>\n",
       "      <td>8.727613</td>\n",
       "      <td>0.0</td>\n",
       "      <td>2.005739</td>\n",
       "      <td>37.827733</td>\n",
       "      <td>34.580978</td>\n",
       "      <td>32.189517</td>\n",
       "      <td>25.491467</td>\n",
       "      <td>25.632060</td>\n",
       "      <td>26.928761</td>\n",
       "      <td>45.585231</td>\n",
       "    </tr>\n",
       "    <tr>\n",
       "      <th>min</th>\n",
       "      <td>52.000000</td>\n",
       "      <td>46.000000</td>\n",
       "      <td>1311.200000</td>\n",
       "      <td>1.000000</td>\n",
       "      <td>0.0</td>\n",
       "      <td>0.000000</td>\n",
       "      <td>46.000000</td>\n",
       "      <td>45.000000</td>\n",
       "      <td>32.000000</td>\n",
       "      <td>37.000000</td>\n",
       "      <td>33.000000</td>\n",
       "      <td>25.000000</td>\n",
       "      <td>23.000000</td>\n",
       "    </tr>\n",
       "    <tr>\n",
       "      <th>25%</th>\n",
       "      <td>107.000000</td>\n",
       "      <td>84.500000</td>\n",
       "      <td>1572.700000</td>\n",
       "      <td>9.000000</td>\n",
       "      <td>0.0</td>\n",
       "      <td>1.000000</td>\n",
       "      <td>84.500000</td>\n",
       "      <td>73.500000</td>\n",
       "      <td>75.500000</td>\n",
       "      <td>62.000000</td>\n",
       "      <td>62.000000</td>\n",
       "      <td>48.000000</td>\n",
       "      <td>60.000000</td>\n",
       "    </tr>\n",
       "    <tr>\n",
       "      <th>50%</th>\n",
       "      <td>145.000000</td>\n",
       "      <td>107.000000</td>\n",
       "      <td>1917.600000</td>\n",
       "      <td>17.000000</td>\n",
       "      <td>0.0</td>\n",
       "      <td>3.000000</td>\n",
       "      <td>107.000000</td>\n",
       "      <td>90.000000</td>\n",
       "      <td>93.000000</td>\n",
       "      <td>78.000000</td>\n",
       "      <td>77.000000</td>\n",
       "      <td>62.000000</td>\n",
       "      <td>88.000000</td>\n",
       "    </tr>\n",
       "    <tr>\n",
       "      <th>75%</th>\n",
       "      <td>172.000000</td>\n",
       "      <td>127.000000</td>\n",
       "      <td>2362.400000</td>\n",
       "      <td>24.000000</td>\n",
       "      <td>0.0</td>\n",
       "      <td>5.000000</td>\n",
       "      <td>127.000000</td>\n",
       "      <td>111.000000</td>\n",
       "      <td>113.000000</td>\n",
       "      <td>95.500000</td>\n",
       "      <td>92.500000</td>\n",
       "      <td>81.500000</td>\n",
       "      <td>120.000000</td>\n",
       "    </tr>\n",
       "    <tr>\n",
       "      <th>max</th>\n",
       "      <td>281.000000</td>\n",
       "      <td>265.000000</td>\n",
       "      <td>3555.700000</td>\n",
       "      <td>31.000000</td>\n",
       "      <td>0.0</td>\n",
       "      <td>6.000000</td>\n",
       "      <td>265.000000</td>\n",
       "      <td>242.000000</td>\n",
       "      <td>214.000000</td>\n",
       "      <td>191.000000</td>\n",
       "      <td>169.000000</td>\n",
       "      <td>177.000000</td>\n",
       "      <td>342.000000</td>\n",
       "    </tr>\n",
       "  </tbody>\n",
       "</table>\n",
       "</div>"
      ],
      "text/plain": [
       "       num_orders  rolling_mean  rolling_mean_t         day   hour  \\\n",
       "count  175.000000    175.000000      175.000000  175.000000  175.0   \n",
       "mean   146.645714    111.337143     1999.926857   16.394286    0.0   \n",
       "std     48.806328     37.827733      547.629114    8.727613    0.0   \n",
       "min     52.000000     46.000000     1311.200000    1.000000    0.0   \n",
       "25%    107.000000     84.500000     1572.700000    9.000000    0.0   \n",
       "50%    145.000000    107.000000     1917.600000   17.000000    0.0   \n",
       "75%    172.000000    127.000000     2362.400000   24.000000    0.0   \n",
       "max    281.000000    265.000000     3555.700000   31.000000    0.0   \n",
       "\n",
       "        dayofweek       lag_1       lag_2       lag_3       lag_4       lag_5  \\\n",
       "count  175.000000  175.000000  175.000000  175.000000  175.000000  175.000000   \n",
       "mean     3.000000  111.337143   98.028571   95.862857   81.605714   78.325714   \n",
       "std      2.005739   37.827733   34.580978   32.189517   25.491467   25.632060   \n",
       "min      0.000000   46.000000   45.000000   32.000000   37.000000   33.000000   \n",
       "25%      1.000000   84.500000   73.500000   75.500000   62.000000   62.000000   \n",
       "50%      3.000000  107.000000   90.000000   93.000000   78.000000   77.000000   \n",
       "75%      5.000000  127.000000  111.000000  113.000000   95.500000   92.500000   \n",
       "max      6.000000  265.000000  242.000000  214.000000  191.000000  169.000000   \n",
       "\n",
       "            lag_6       lag_7  \n",
       "count  175.000000  175.000000  \n",
       "mean    68.160000   93.937143  \n",
       "std     26.928761   45.585231  \n",
       "min     25.000000   23.000000  \n",
       "25%     48.000000   60.000000  \n",
       "50%     62.000000   88.000000  \n",
       "75%     81.500000  120.000000  \n",
       "max    177.000000  342.000000  "
      ]
     },
     "execution_count": 18,
     "metadata": {},
     "output_type": "execute_result"
    }
   ],
   "source": [
    "df2.describe()"
   ]
  },
  {
   "cell_type": "code",
   "execution_count": 19,
   "metadata": {},
   "outputs": [
    {
     "data": {
      "image/png": "[encoded data removed]",
      "text/plain": [
       "<Figure size 720x576 with 1 Axes>"
      ]
     },
     "metadata": {
      "needs_background": "light"
     },
     "output_type": "display_data"
    }
   ],
   "source": [
    "df2.groupby('day')['num_orders'].sum().plot()\n",
    "plt.title('Распределение заказов по дням')\n",
    "plt.xlabel('Номер дня')\n",
    "plt.ylabel('Количество')\n",
    "plt.show()"
   ]
  },
  {
   "cell_type": "code",
   "execution_count": 20,
   "metadata": {},
   "outputs": [
    {
     "data": {
      "image/png": "[encoded data removed]",
      "text/plain": [
       "<Figure size 720x576 with 1 Axes>"
      ]
     },
     "metadata": {
      "needs_background": "light"
     },
     "output_type": "display_data"
    }
   ],
   "source": [
    "df2.groupby('dayofweek')['num_orders'].sum().plot()\n",
    "plt.title('Распределение заказов по дням недели')\n",
    "plt.xlabel('Номер дня недели')\n",
    "plt.ylabel('Количество')\n",
    "plt.show()"
   ]
  },
  {
   "cell_type": "code",
   "execution_count": 21,
   "metadata": {},
   "outputs": [
    {
     "data": {
      "image/png": "[encoded data removed]",
      "text/plain": [
       "<Figure size 720x576 with 1 Axes>"
      ]
     },
     "metadata": {
      "needs_background": "light"
     },
     "output_type": "display_data"
    }
   ],
   "source": [
    "df2.groupby('hour')['num_orders'].sum().plot()\n",
    "plt.title('Распределение заказов по часам')\n",
    "plt.xlabel('Час')\n",
    "plt.ylabel('Количество')\n",
    "plt.show()"
   ]
  },
  {
   "cell_type": "markdown",
   "metadata": {},
   "source": [
    "**Вывод:** по графикам видно, что количество заказов выше: во второй половине месяца, в середине недели (среда-пятница), во второй половине дня до полуночи."
   ]
  },
  {
   "cell_type": "markdown",
   "metadata": {},
   "source": [
    "Разложили временной ряд на три составляющие: тренд, сезонность и остаток. Чтобы снизить колебания, применили скользящее среднее.\n",
    "\n",
    "Количество заказов распределено равномерно, есть увеличение с августа."
   ]
  },
  {
   "cell_type": "markdown",
   "metadata": {},
   "source": [
    "## Обучение"
   ]
  },
  {
   "cell_type": "code",
   "execution_count": 22,
   "metadata": {},
   "outputs": [],
   "source": [
    "features = df2.drop(['num_orders'], axis=1)\n",
    "target = df2['num_orders']\n",
    "\n",
    "X_train, X_test, y_train, y_test = train_test_split(\n",
    "    features, target, test_size=TEST_SIZE, random_state=RANDOM_STATE, shuffle=False\n",
    ")"
   ]
  },
  {
   "cell_type": "code",
   "execution_count": 23,
   "metadata": {},
   "outputs": [
    {
     "data": {
      "text/plain": [
       "(157, 12)"
      ]
     },
     "execution_count": 23,
     "metadata": {},
     "output_type": "execute_result"
    }
   ],
   "source": [
    "X_train.shape"
   ]
  },
  {
   "cell_type": "code",
   "execution_count": 24,
   "metadata": {},
   "outputs": [
    {
     "data": {
      "text/plain": [
       "(18, 12)"
      ]
     },
     "execution_count": 24,
     "metadata": {},
     "output_type": "execute_result"
    }
   ],
   "source": [
    "X_test.shape"
   ]
  },
  {
   "cell_type": "code",
   "execution_count": 25,
   "metadata": {},
   "outputs": [],
   "source": [
    "X_train.dropna(inplace=True)"
   ]
  },
  {
   "cell_type": "code",
   "execution_count": 26,
   "metadata": {},
   "outputs": [],
   "source": [
    "X_test.dropna(inplace=True)"
   ]
  },
  {
   "cell_type": "code",
   "execution_count": 27,
   "metadata": {},
   "outputs": [],
   "source": [
    "cat_cols = ['day', 'dayofweek', 'hour'] \n",
    "num_cols = ['rolling_mean', 'rolling_mean_t', 'lag_1', 'lag_2', 'lag_3', 'lag_4', 'lag_5', 'lag_6', 'lag_7'] #, 'lag_8', 'lag_9', 'lag_10', 'lag_11'"
   ]
  },
  {
   "cell_type": "code",
   "execution_count": 28,
   "metadata": {},
   "outputs": [],
   "source": [
    "oe_processor = Pipeline([\n",
    "    ('imputer', SimpleImputer(missing_values=np.nan, strategy='mean')), \n",
    "    ('encoder', OrdinalEncoder(handle_unknown='use_encoded_value', unknown_value=-1))\n",
    "])\n",
    "\n",
    "data_preprocessor = ColumnTransformer([\n",
    "    ('cat_oe', oe_processor, cat_cols),\n",
    "    ('num', StandardScaler(), num_cols)], remainder='passthrough')\n",
    "\n",
    "pipe_final = Pipeline(\n",
    "    # Финальный пайплайн\n",
    "    [('preprocessor', data_preprocessor), ('model', lgb.LGBMRegressor())]\n",
    ")"
   ]
  },
  {
   "cell_type": "code",
   "execution_count": 29,
   "metadata": {},
   "outputs": [],
   "source": [
    "# Параметры LGBM регрессии\n",
    "lgbm_params = {}\n",
    "\n",
    "lgbm_params['model__n_estimators'] = [100, 200]\n",
    "lgbm_params['model__max_depth'] = [2, 4, 6] \n",
    "#lgbm_params['model__learning_rate'] = [0.1]\n",
    "lgbm_params['model'] = [\n",
    "    lgb.LGBMRegressor()  #random_state=RANDOM_STATE, metric='rmse'\n",
    "]\n",
    "\n",
    "# Параметры дерева решений\n",
    "\n",
    "tree_params = {}\n",
    "\n",
    "tree_params['model__max_depth'] = [1, 2, 5]\n",
    "tree_params['model__min_samples_split'] = [10, 14, 15]\n",
    "tree_params['model'] = [DecisionTreeRegressor(random_state=RANDOM_STATE)] \n",
    "\n",
    "# Параметры CatBoostRegressor\n",
    "\n",
    "cboost_params = {}\n",
    "\n",
    "cboost_params['model__max_depth'] = [5, 10]\n",
    "cboost_params['model__learning_rate'] = [0.1, 0.2, 1]\n",
    "cboost_params['model'] = [CatBoostRegressor(random_state=RANDOM_STATE, loss_function='RMSE', verbose=False)] \n",
    "\n",
    "params = [tree_params, lgbm_params, cboost_params]"
   ]
  },
  {
   "cell_type": "code",
   "execution_count": 30,
   "metadata": {},
   "outputs": [],
   "source": [
    "grid_reg = GridSearchCV(pipe_final, params, cv = TimeSeriesSplit(n_splits=5), scoring='neg_root_mean_squared_error', n_jobs=-1) "
   ]
  },
  {
   "cell_type": "code",
   "execution_count": 31,
   "metadata": {},
   "outputs": [
    {
     "data": {
      "text/plain": [
       "GridSearchCV(cv=TimeSeriesSplit(gap=0, max_train_size=None, n_splits=5, test_size=None),\n",
       "             estimator=Pipeline(steps=[('preprocessor',\n",
       "                                        ColumnTransformer(remainder='passthrough',\n",
       "                                                          transformers=[('cat_oe',\n",
       "                                                                         Pipeline(steps=[('imputer',\n",
       "                                                                                          SimpleImputer()),\n",
       "                                                                                         ('encoder',\n",
       "                                                                                          OrdinalEncoder(handle_unknown='use_encoded_value',\n",
       "                                                                                                         unknown_value=-1))]),\n",
       "                                                                         ['day',\n",
       "                                                                          'dayofweek',\n",
       "                                                                          'hour']),\n",
       "                                                                        ('n...\n",
       "             param_grid=[{'model': [DecisionTreeRegressor(random_state=12345)],\n",
       "                          'model__max_depth': [1, 2, 5],\n",
       "                          'model__min_samples_split': [10, 14, 15]},\n",
       "                         {'model': [LGBMRegressor()],\n",
       "                          'model__max_depth': [2, 4, 6],\n",
       "                          'model__n_estimators': [100, 200]},\n",
       "                         {'model': [<catboost.core.CatBoostRegressor object at 0x7f15626e47c0>],\n",
       "                          'model__learning_rate': [0.1, 0.2, 1],\n",
       "                          'model__max_depth': [5, 10]}],\n",
       "             scoring='neg_root_mean_squared_error')"
      ]
     },
     "execution_count": 31,
     "metadata": {},
     "output_type": "execute_result"
    }
   ],
   "source": [
    "grid_reg.fit(X_train, y_train)"
   ]
  },
  {
   "cell_type": "code",
   "execution_count": 32,
   "metadata": {},
   "outputs": [],
   "source": [
    "# Сохраним лучшую модель в отдельную переменную\n",
    "best_model = grid_reg.best_estimator_.steps[1][1]"
   ]
  },
  {
   "cell_type": "code",
   "execution_count": 33,
   "metadata": {},
   "outputs": [
    {
     "data": {
      "text/plain": [
       "35.800244654291134"
      ]
     },
     "execution_count": 33,
     "metadata": {},
     "output_type": "execute_result"
    }
   ],
   "source": [
    "# Узнаем её RMSE\n",
    "grid_reg.best_score_ * (-1)"
   ]
  },
  {
   "cell_type": "code",
   "execution_count": 34,
   "metadata": {},
   "outputs": [
    {
     "data": {
      "text/html": [
       "<div>\n",
       "<style scoped>\n",
       "    .dataframe tbody tr th:only-of-type {\n",
       "        vertical-align: middle;\n",
       "    }\n",
       "\n",
       "    .dataframe tbody tr th {\n",
       "        vertical-align: top;\n",
       "    }\n",
       "\n",
       "    .dataframe thead th {\n",
       "        text-align: right;\n",
       "    }\n",
       "</style>\n",
       "<table border=\"1\" class=\"dataframe\">\n",
       "  <thead>\n",
       "    <tr style=\"text-align: right;\">\n",
       "      <th></th>\n",
       "      <th>model_name</th>\n",
       "      <th>mean_test_score</th>\n",
       "      <th>mean_fit_time</th>\n",
       "      <th>mean_score_time</th>\n",
       "    </tr>\n",
       "  </thead>\n",
       "  <tbody>\n",
       "    <tr>\n",
       "      <th>0</th>\n",
       "      <td>&lt;catboost.core.CatBoostRegressor object at 0x7...</td>\n",
       "      <td>35.800245</td>\n",
       "      <td>1.229605</td>\n",
       "      <td>0.006644</td>\n",
       "    </tr>\n",
       "    <tr>\n",
       "      <th>1</th>\n",
       "      <td>LGBMRegressor</td>\n",
       "      <td>35.824674</td>\n",
       "      <td>0.115913</td>\n",
       "      <td>0.022328</td>\n",
       "    </tr>\n",
       "    <tr>\n",
       "      <th>2</th>\n",
       "      <td>DecisionTreeRegressor</td>\n",
       "      <td>37.423401</td>\n",
       "      <td>0.010217</td>\n",
       "      <td>0.005065</td>\n",
       "    </tr>\n",
       "  </tbody>\n",
       "</table>\n",
       "</div>"
      ],
      "text/plain": [
       "                                          model_name  mean_test_score  \\\n",
       "0  <catboost.core.CatBoostRegressor object at 0x7...        35.800245   \n",
       "1                                      LGBMRegressor        35.824674   \n",
       "2                              DecisionTreeRegressor        37.423401   \n",
       "\n",
       "   mean_fit_time  mean_score_time  \n",
       "0       1.229605         0.006644  \n",
       "1       0.115913         0.022328  \n",
       "2       0.010217         0.005065  "
      ]
     },
     "execution_count": 34,
     "metadata": {},
     "output_type": "execute_result"
    }
   ],
   "source": [
    "results= pd.DataFrame(grid_reg.cv_results_)\n",
    "\n",
    "# Поиск индексов строк с максимальными значениями метрик\n",
    "results['model_name'] = results['param_model'].apply(lambda x: str(x).split('(')[0])\n",
    "max_index = results.groupby('model_name')['mean_test_score'].idxmax()\n",
    "\n",
    "# Извлечение результатов лучших моделей\n",
    "best_models = results.loc[max_index]\n",
    "\n",
    "# Преобразование отрицательных значений метрик в положительные\n",
    "if 'mean_test_score' in best_models:\n",
    "    best_models['mean_test_score'] *= -1\n",
    "\n",
    "# Сортировка результатов по значению метрики\n",
    "sorted_results = best_models.sort_values(['mean_test_score'], ascending=True).reset_index(drop=True)\n",
    "\n",
    "# Вывод результатов\n",
    "sorted_results[['model_name','mean_test_score', 'mean_fit_time', 'mean_score_time']]"
   ]
  },
  {
   "cell_type": "markdown",
   "metadata": {},
   "source": [
    "Обучили три модели. Лучшая метрика RSME у CatBoostRegressor."
   ]
  },
  {
   "cell_type": "code",
   "execution_count": 35,
   "metadata": {},
   "outputs": [],
   "source": [
    "X_train_prepared = data_preprocessor.fit_transform(X_train)"
   ]
  },
  {
   "cell_type": "markdown",
   "metadata": {},
   "source": [
    "## Тестирование"
   ]
  },
  {
   "cell_type": "code",
   "execution_count": 36,
   "metadata": {},
   "outputs": [],
   "source": [
    "y_test_pred = best_model.predict(X_test)"
   ]
  },
  {
   "cell_type": "code",
   "execution_count": 37,
   "metadata": {},
   "outputs": [
    {
     "data": {
      "text/plain": [
       "42.49074455448011"
      ]
     },
     "execution_count": 37,
     "metadata": {},
     "output_type": "execute_result"
    }
   ],
   "source": [
    "mean_squared_error(y_test, y_test_pred) ** 0.5"
   ]
  },
  {
   "cell_type": "markdown",
   "metadata": {},
   "source": [
    "Лучшая модель, соответствующая требованию \"не больше 48\", является LGBMRegressor с метрикой RSME на тестовой выборке - 42, 49."
   ]
  }
 ],
 "metadata": {
  "ExecuteTimeLog": [
   {
    "duration": 8,
    "start_time": "2025-01-11T19:55:26.907Z"
   },
   {
    "duration": 46,
    "start_time": "2025-01-11T19:55:27.865Z"
   },
   {
    "duration": 438,
    "start_time": "2025-01-11T19:55:54.403Z"
   },
   {
    "duration": 3,
    "start_time": "2025-01-11T19:55:56.565Z"
   },
   {
    "duration": 116,
    "start_time": "2025-01-11T19:55:58.282Z"
   },
   {
    "duration": 12,
    "start_time": "2025-01-11T19:55:59.153Z"
   },
   {
    "duration": 53,
    "start_time": "2025-01-11T20:07:10.608Z"
   },
   {
    "duration": 10,
    "start_time": "2025-01-11T20:09:57.568Z"
   },
   {
    "duration": 10,
    "start_time": "2025-01-11T20:10:24.689Z"
   },
   {
    "duration": 10,
    "start_time": "2025-01-11T20:20:30.943Z"
   },
   {
    "duration": 16,
    "start_time": "2025-01-11T20:20:51.507Z"
   },
   {
    "duration": 11,
    "start_time": "2025-01-11T20:22:41.547Z"
   },
   {
    "duration": 8,
    "start_time": "2025-01-11T20:23:03.190Z"
   },
   {
    "duration": 3,
    "start_time": "2025-01-11T20:35:40.777Z"
   },
   {
    "duration": 11,
    "start_time": "2025-01-11T20:41:53.960Z"
   },
   {
    "duration": 8,
    "start_time": "2025-01-11T20:45:03.281Z"
   },
   {
    "duration": 12,
    "start_time": "2025-01-11T20:45:06.325Z"
   },
   {
    "duration": 11,
    "start_time": "2025-01-11T20:46:54.311Z"
   },
   {
    "duration": 4,
    "start_time": "2025-01-11T20:46:58.851Z"
   },
   {
    "duration": 8,
    "start_time": "2025-01-11T20:47:15.327Z"
   },
   {
    "duration": 12,
    "start_time": "2025-01-11T20:47:43.680Z"
   },
   {
    "duration": 47,
    "start_time": "2025-01-12T07:11:43.249Z"
   },
   {
    "duration": 361,
    "start_time": "2025-01-12T07:11:49.192Z"
   },
   {
    "duration": 3,
    "start_time": "2025-01-12T07:11:49.555Z"
   },
   {
    "duration": 118,
    "start_time": "2025-01-12T07:11:49.560Z"
   },
   {
    "duration": 12,
    "start_time": "2025-01-12T07:11:49.680Z"
   },
   {
    "duration": 10,
    "start_time": "2025-01-12T07:11:49.693Z"
   },
   {
    "duration": 19,
    "start_time": "2025-01-12T07:11:49.705Z"
   },
   {
    "duration": 8,
    "start_time": "2025-01-12T07:11:49.725Z"
   },
   {
    "duration": 524,
    "start_time": "2025-01-12T07:11:49.734Z"
   },
   {
    "duration": 358,
    "start_time": "2025-01-12T07:12:17.386Z"
   },
   {
    "duration": 2,
    "start_time": "2025-01-12T07:12:17.746Z"
   },
   {
    "duration": 5,
    "start_time": "2025-01-12T07:12:17.750Z"
   },
   {
    "duration": 63,
    "start_time": "2025-01-12T07:12:17.756Z"
   },
   {
    "duration": 12,
    "start_time": "2025-01-12T07:12:17.821Z"
   },
   {
    "duration": 19,
    "start_time": "2025-01-12T07:12:17.835Z"
   },
   {
    "duration": 7,
    "start_time": "2025-01-12T07:12:17.856Z"
   },
   {
    "duration": 9,
    "start_time": "2025-01-12T07:12:17.864Z"
   },
   {
    "duration": 416,
    "start_time": "2025-01-12T07:12:17.874Z"
   },
   {
    "duration": 106,
    "start_time": "2025-01-12T07:12:26.449Z"
   },
   {
    "duration": 396,
    "start_time": "2025-01-12T07:13:02.853Z"
   },
   {
    "duration": 2,
    "start_time": "2025-01-12T07:13:03.251Z"
   },
   {
    "duration": 23,
    "start_time": "2025-01-12T07:13:03.255Z"
   },
   {
    "duration": 65,
    "start_time": "2025-01-12T07:13:03.280Z"
   },
   {
    "duration": 12,
    "start_time": "2025-01-12T07:13:03.346Z"
   },
   {
    "duration": 19,
    "start_time": "2025-01-12T07:13:03.360Z"
   },
   {
    "duration": 17,
    "start_time": "2025-01-12T07:13:03.380Z"
   },
   {
    "duration": 26,
    "start_time": "2025-01-12T07:13:03.398Z"
   },
   {
    "duration": 362,
    "start_time": "2025-01-12T07:13:03.426Z"
   },
   {
    "duration": 4,
    "start_time": "2025-01-12T07:24:36.288Z"
   },
   {
    "duration": 146,
    "start_time": "2025-01-12T07:24:51.335Z"
   },
   {
    "duration": 496,
    "start_time": "2025-01-12T07:26:24.651Z"
   },
   {
    "duration": 103,
    "start_time": "2025-01-12T07:27:07.204Z"
   },
   {
    "duration": 12,
    "start_time": "2025-01-12T07:34:55.338Z"
   },
   {
    "duration": 1139,
    "start_time": "2025-01-12T07:35:06.610Z"
   },
   {
    "duration": 2,
    "start_time": "2025-01-12T07:35:07.751Z"
   },
   {
    "duration": 4,
    "start_time": "2025-01-12T07:35:07.755Z"
   },
   {
    "duration": 70,
    "start_time": "2025-01-12T07:35:07.761Z"
   },
   {
    "duration": 12,
    "start_time": "2025-01-12T07:35:07.833Z"
   },
   {
    "duration": 17,
    "start_time": "2025-01-12T07:35:07.846Z"
   },
   {
    "duration": 11,
    "start_time": "2025-01-12T07:35:07.865Z"
   },
   {
    "duration": 14,
    "start_time": "2025-01-12T07:35:07.877Z"
   },
   {
    "duration": 140,
    "start_time": "2025-01-12T07:35:07.892Z"
   },
   {
    "duration": 0,
    "start_time": "2025-01-12T07:35:08.034Z"
   },
   {
    "duration": 1,
    "start_time": "2025-01-12T07:35:08.036Z"
   },
   {
    "duration": 1166,
    "start_time": "2025-01-12T07:35:26.860Z"
   },
   {
    "duration": 2,
    "start_time": "2025-01-12T07:35:28.028Z"
   },
   {
    "duration": 7,
    "start_time": "2025-01-12T07:35:28.032Z"
   },
   {
    "duration": 66,
    "start_time": "2025-01-12T07:35:28.040Z"
   },
   {
    "duration": 13,
    "start_time": "2025-01-12T07:35:28.108Z"
   },
   {
    "duration": 4,
    "start_time": "2025-01-12T07:35:28.122Z"
   },
   {
    "duration": 10,
    "start_time": "2025-01-12T07:35:28.128Z"
   },
   {
    "duration": 14,
    "start_time": "2025-01-12T07:35:28.140Z"
   },
   {
    "duration": 126,
    "start_time": "2025-01-12T07:35:28.156Z"
   },
   {
    "duration": 0,
    "start_time": "2025-01-12T07:35:28.284Z"
   },
   {
    "duration": 0,
    "start_time": "2025-01-12T07:35:28.285Z"
   },
   {
    "duration": 1347,
    "start_time": "2025-01-12T07:35:53.382Z"
   },
   {
    "duration": 10,
    "start_time": "2025-01-12T07:36:05.130Z"
   },
   {
    "duration": 7,
    "start_time": "2025-01-12T07:36:37.868Z"
   },
   {
    "duration": 6,
    "start_time": "2025-01-12T07:37:01.437Z"
   },
   {
    "duration": 7,
    "start_time": "2025-01-12T07:37:02.131Z"
   },
   {
    "duration": 9,
    "start_time": "2025-01-12T07:37:16.777Z"
   },
   {
    "duration": 3,
    "start_time": "2025-01-12T09:20:12.918Z"
   },
   {
    "duration": 68,
    "start_time": "2025-01-12T09:20:13.456Z"
   },
   {
    "duration": 10,
    "start_time": "2025-01-12T09:20:14.234Z"
   },
   {
    "duration": 7,
    "start_time": "2025-01-12T09:20:26.626Z"
   },
   {
    "duration": 7,
    "start_time": "2025-01-12T09:20:30.227Z"
   },
   {
    "duration": 710,
    "start_time": "2025-01-12T09:20:45.682Z"
   },
   {
    "duration": 8,
    "start_time": "2025-01-12T09:21:22.081Z"
   },
   {
    "duration": 241,
    "start_time": "2025-01-12T09:44:42.545Z"
   },
   {
    "duration": 243,
    "start_time": "2025-01-12T09:48:19.400Z"
   },
   {
    "duration": 314,
    "start_time": "2025-01-12T09:48:25.507Z"
   },
   {
    "duration": 233,
    "start_time": "2025-01-12T09:48:33.081Z"
   },
   {
    "duration": 347,
    "start_time": "2025-01-12T10:14:16.196Z"
   },
   {
    "duration": 260,
    "start_time": "2025-01-12T10:14:30.526Z"
   },
   {
    "duration": 13,
    "start_time": "2025-01-12T10:15:43.200Z"
   },
   {
    "duration": 1289,
    "start_time": "2025-01-12T10:16:00.957Z"
   },
   {
    "duration": 3,
    "start_time": "2025-01-12T10:16:02.247Z"
   },
   {
    "duration": 67,
    "start_time": "2025-01-12T10:16:02.252Z"
   },
   {
    "duration": 126,
    "start_time": "2025-01-12T10:16:02.321Z"
   },
   {
    "duration": 10,
    "start_time": "2025-01-12T10:16:02.449Z"
   },
   {
    "duration": 73,
    "start_time": "2025-01-12T10:16:02.461Z"
   },
   {
    "duration": 32,
    "start_time": "2025-01-12T10:16:02.535Z"
   },
   {
    "duration": 737,
    "start_time": "2025-01-12T10:16:02.570Z"
   },
   {
    "duration": 258,
    "start_time": "2025-01-12T10:16:03.308Z"
   },
   {
    "duration": 1720,
    "start_time": "2025-01-12T10:22:21.009Z"
   },
   {
    "duration": 1543,
    "start_time": "2025-01-12T10:22:53.317Z"
   },
   {
    "duration": 243,
    "start_time": "2025-01-12T10:23:20.329Z"
   },
   {
    "duration": 4,
    "start_time": "2025-01-12T10:28:09.903Z"
   },
   {
    "duration": 14,
    "start_time": "2025-01-12T10:28:57.062Z"
   },
   {
    "duration": 15,
    "start_time": "2025-01-12T10:29:09.868Z"
   },
   {
    "duration": 3,
    "start_time": "2025-01-12T10:30:04.861Z"
   },
   {
    "duration": 9,
    "start_time": "2025-01-12T10:30:22.835Z"
   },
   {
    "duration": 577,
    "start_time": "2025-01-12T10:51:23.943Z"
   },
   {
    "duration": 6,
    "start_time": "2025-01-12T10:51:29.338Z"
   },
   {
    "duration": 2,
    "start_time": "2025-01-12T10:52:03.182Z"
   },
   {
    "duration": 6,
    "start_time": "2025-01-12T10:52:07.512Z"
   },
   {
    "duration": 3,
    "start_time": "2025-01-12T10:52:48.257Z"
   },
   {
    "duration": 7,
    "start_time": "2025-01-12T10:52:53.260Z"
   },
   {
    "duration": 2,
    "start_time": "2025-01-12T10:57:25.331Z"
   },
   {
    "duration": 18,
    "start_time": "2025-01-12T10:57:26.342Z"
   },
   {
    "duration": 5,
    "start_time": "2025-01-12T10:57:47.605Z"
   },
   {
    "duration": 12,
    "start_time": "2025-01-12T10:57:52.392Z"
   },
   {
    "duration": 12,
    "start_time": "2025-01-12T10:58:19.241Z"
   },
   {
    "duration": 4,
    "start_time": "2025-01-12T10:58:28.059Z"
   },
   {
    "duration": 14,
    "start_time": "2025-01-12T10:58:32.642Z"
   },
   {
    "duration": 4,
    "start_time": "2025-01-12T10:58:55.563Z"
   },
   {
    "duration": 10,
    "start_time": "2025-01-12T10:58:58.672Z"
   },
   {
    "duration": 24,
    "start_time": "2025-01-12T11:03:41.888Z"
   },
   {
    "duration": 4,
    "start_time": "2025-01-12T11:03:48.809Z"
   },
   {
    "duration": 14,
    "start_time": "2025-01-12T11:03:51.062Z"
   },
   {
    "duration": 40,
    "start_time": "2025-01-12T11:04:10.936Z"
   },
   {
    "duration": 5,
    "start_time": "2025-01-12T11:04:15.653Z"
   },
   {
    "duration": 3,
    "start_time": "2025-01-12T11:04:22.262Z"
   },
   {
    "duration": 6486,
    "start_time": "2025-01-12T11:04:25.367Z"
   },
   {
    "duration": 10,
    "start_time": "2025-01-12T11:05:26.658Z"
   },
   {
    "duration": 6,
    "start_time": "2025-01-12T11:05:41.713Z"
   },
   {
    "duration": 10,
    "start_time": "2025-01-12T11:05:45.435Z"
   },
   {
    "duration": 10,
    "start_time": "2025-01-12T11:08:19.763Z"
   },
   {
    "duration": 11,
    "start_time": "2025-01-12T11:08:30.819Z"
   },
   {
    "duration": 8,
    "start_time": "2025-01-12T11:08:36.141Z"
   },
   {
    "duration": 17,
    "start_time": "2025-01-12T11:08:38.482Z"
   },
   {
    "duration": 13,
    "start_time": "2025-01-12T11:08:46.956Z"
   },
   {
    "duration": 9,
    "start_time": "2025-01-12T11:10:20.133Z"
   },
   {
    "duration": 1506,
    "start_time": "2025-01-12T11:10:20.144Z"
   },
   {
    "duration": 3,
    "start_time": "2025-01-12T11:10:21.652Z"
   },
   {
    "duration": 3,
    "start_time": "2025-01-12T11:10:21.657Z"
   },
   {
    "duration": 72,
    "start_time": "2025-01-12T11:10:21.662Z"
   },
   {
    "duration": 12,
    "start_time": "2025-01-12T11:10:21.735Z"
   },
   {
    "duration": 35,
    "start_time": "2025-01-12T11:10:21.749Z"
   },
   {
    "duration": 31,
    "start_time": "2025-01-12T11:10:21.786Z"
   },
   {
    "duration": 738,
    "start_time": "2025-01-12T11:10:21.818Z"
   },
   {
    "duration": 344,
    "start_time": "2025-01-12T11:10:22.558Z"
   },
   {
    "duration": 5,
    "start_time": "2025-01-12T11:10:22.903Z"
   },
   {
    "duration": 28,
    "start_time": "2025-01-12T11:10:22.909Z"
   },
   {
    "duration": 15,
    "start_time": "2025-01-12T11:10:22.939Z"
   },
   {
    "duration": 9,
    "start_time": "2025-01-12T11:10:22.955Z"
   },
   {
    "duration": 78,
    "start_time": "2025-01-12T11:10:22.965Z"
   },
   {
    "duration": 4,
    "start_time": "2025-01-12T11:16:28.977Z"
   },
   {
    "duration": 114,
    "start_time": "2025-01-12T11:16:50.456Z"
   },
   {
    "duration": 6,
    "start_time": "2025-01-12T11:18:30.647Z"
   },
   {
    "duration": 12,
    "start_time": "2025-01-12T11:18:35.447Z"
   },
   {
    "duration": 4,
    "start_time": "2025-01-12T11:18:48.761Z"
   },
   {
    "duration": 10,
    "start_time": "2025-01-12T11:18:52.606Z"
   },
   {
    "duration": 4,
    "start_time": "2025-01-12T11:19:06.715Z"
   },
   {
    "duration": 5,
    "start_time": "2025-01-12T11:19:11.251Z"
   },
   {
    "duration": 6,
    "start_time": "2025-01-12T11:24:53.652Z"
   },
   {
    "duration": 4,
    "start_time": "2025-01-12T11:24:54.308Z"
   },
   {
    "duration": 3,
    "start_time": "2025-01-12T11:24:55.726Z"
   },
   {
    "duration": 8735,
    "start_time": "2025-01-12T11:24:56.773Z"
   },
   {
    "duration": 6,
    "start_time": "2025-01-12T11:26:01.534Z"
   },
   {
    "duration": 8,
    "start_time": "2025-01-12T11:26:06.223Z"
   },
   {
    "duration": 1443,
    "start_time": "2025-01-12T11:26:06.233Z"
   },
   {
    "duration": 2,
    "start_time": "2025-01-12T11:26:07.678Z"
   },
   {
    "duration": 5,
    "start_time": "2025-01-12T11:26:07.682Z"
   },
   {
    "duration": 70,
    "start_time": "2025-01-12T11:26:07.689Z"
   },
   {
    "duration": 11,
    "start_time": "2025-01-12T11:26:07.761Z"
   },
   {
    "duration": 8,
    "start_time": "2025-01-12T11:26:07.774Z"
   },
   {
    "duration": 18,
    "start_time": "2025-01-12T11:26:07.784Z"
   },
   {
    "duration": 745,
    "start_time": "2025-01-12T11:26:07.803Z"
   },
   {
    "duration": 329,
    "start_time": "2025-01-12T11:26:08.550Z"
   },
   {
    "duration": 5,
    "start_time": "2025-01-12T11:26:08.880Z"
   },
   {
    "duration": 15,
    "start_time": "2025-01-12T11:26:08.886Z"
   },
   {
    "duration": 12,
    "start_time": "2025-01-12T11:26:08.902Z"
   },
   {
    "duration": 21,
    "start_time": "2025-01-12T11:26:08.917Z"
   },
   {
    "duration": 6,
    "start_time": "2025-01-12T11:26:08.939Z"
   },
   {
    "duration": 4,
    "start_time": "2025-01-12T11:26:08.946Z"
   },
   {
    "duration": 4,
    "start_time": "2025-01-12T11:26:08.951Z"
   },
   {
    "duration": 3,
    "start_time": "2025-01-12T11:26:08.957Z"
   },
   {
    "duration": 9,
    "start_time": "2025-01-12T11:26:08.962Z"
   },
   {
    "duration": 8941,
    "start_time": "2025-01-12T11:26:08.973Z"
   },
   {
    "duration": 0,
    "start_time": "2025-01-12T11:26:17.916Z"
   },
   {
    "duration": 0,
    "start_time": "2025-01-12T11:26:17.917Z"
   },
   {
    "duration": 0,
    "start_time": "2025-01-12T11:26:17.918Z"
   },
   {
    "duration": 7,
    "start_time": "2025-01-12T11:29:42.461Z"
   },
   {
    "duration": 1445,
    "start_time": "2025-01-12T11:29:42.470Z"
   },
   {
    "duration": 3,
    "start_time": "2025-01-12T11:29:43.916Z"
   },
   {
    "duration": 16,
    "start_time": "2025-01-12T11:29:43.921Z"
   },
   {
    "duration": 69,
    "start_time": "2025-01-12T11:29:43.939Z"
   },
   {
    "duration": 12,
    "start_time": "2025-01-12T11:29:44.010Z"
   },
   {
    "duration": 26,
    "start_time": "2025-01-12T11:29:44.025Z"
   },
   {
    "duration": 11,
    "start_time": "2025-01-12T11:29:44.053Z"
   },
   {
    "duration": 687,
    "start_time": "2025-01-12T11:29:44.065Z"
   },
   {
    "duration": 331,
    "start_time": "2025-01-12T11:29:44.755Z"
   },
   {
    "duration": 4,
    "start_time": "2025-01-12T11:29:45.087Z"
   },
   {
    "duration": 44,
    "start_time": "2025-01-12T11:29:45.093Z"
   },
   {
    "duration": 20,
    "start_time": "2025-01-12T11:29:45.138Z"
   },
   {
    "duration": 24,
    "start_time": "2025-01-12T11:29:45.160Z"
   },
   {
    "duration": 10,
    "start_time": "2025-01-12T11:29:45.186Z"
   },
   {
    "duration": 29,
    "start_time": "2025-01-12T11:29:45.197Z"
   },
   {
    "duration": 15,
    "start_time": "2025-01-12T11:29:45.228Z"
   },
   {
    "duration": 42,
    "start_time": "2025-01-12T11:29:45.244Z"
   },
   {
    "duration": 60,
    "start_time": "2025-01-12T11:29:45.287Z"
   },
   {
    "duration": 390,
    "start_time": "2025-01-12T11:29:45.348Z"
   },
   {
    "duration": 0,
    "start_time": "2025-01-12T11:29:45.740Z"
   },
   {
    "duration": 0,
    "start_time": "2025-01-12T11:29:45.741Z"
   },
   {
    "duration": 0,
    "start_time": "2025-01-12T11:29:45.742Z"
   },
   {
    "duration": 9,
    "start_time": "2025-01-12T11:35:59.127Z"
   },
   {
    "duration": 1527,
    "start_time": "2025-01-12T11:35:59.138Z"
   },
   {
    "duration": 3,
    "start_time": "2025-01-12T11:36:00.667Z"
   },
   {
    "duration": 52,
    "start_time": "2025-01-12T11:36:00.671Z"
   },
   {
    "duration": 83,
    "start_time": "2025-01-12T11:36:00.727Z"
   },
   {
    "duration": 13,
    "start_time": "2025-01-12T11:36:00.811Z"
   },
   {
    "duration": 9,
    "start_time": "2025-01-12T11:36:00.826Z"
   },
   {
    "duration": 11,
    "start_time": "2025-01-12T11:36:00.837Z"
   },
   {
    "duration": 778,
    "start_time": "2025-01-12T11:36:00.849Z"
   },
   {
    "duration": 342,
    "start_time": "2025-01-12T11:36:01.638Z"
   },
   {
    "duration": 5,
    "start_time": "2025-01-12T11:36:01.983Z"
   },
   {
    "duration": 35,
    "start_time": "2025-01-12T11:36:01.990Z"
   },
   {
    "duration": 25,
    "start_time": "2025-01-12T11:36:02.027Z"
   },
   {
    "duration": 70,
    "start_time": "2025-01-12T11:36:02.055Z"
   },
   {
    "duration": 50,
    "start_time": "2025-01-12T11:36:02.127Z"
   },
   {
    "duration": 30,
    "start_time": "2025-01-12T11:36:02.179Z"
   },
   {
    "duration": 23,
    "start_time": "2025-01-12T11:36:02.211Z"
   },
   {
    "duration": 53,
    "start_time": "2025-01-12T11:36:02.236Z"
   },
   {
    "duration": 432,
    "start_time": "2025-01-12T11:36:02.291Z"
   },
   {
    "duration": 0,
    "start_time": "2025-01-12T11:36:02.725Z"
   },
   {
    "duration": 0,
    "start_time": "2025-01-12T11:36:02.727Z"
   },
   {
    "duration": 0,
    "start_time": "2025-01-12T11:36:02.728Z"
   },
   {
    "duration": 4,
    "start_time": "2025-01-12T11:37:21.717Z"
   },
   {
    "duration": 19,
    "start_time": "2025-01-12T11:37:22.226Z"
   },
   {
    "duration": 15,
    "start_time": "2025-01-12T11:37:24.354Z"
   },
   {
    "duration": 7,
    "start_time": "2025-01-12T11:37:29.380Z"
   },
   {
    "duration": 3,
    "start_time": "2025-01-12T11:37:47.785Z"
   },
   {
    "duration": 4,
    "start_time": "2025-01-12T11:37:49.485Z"
   },
   {
    "duration": 5,
    "start_time": "2025-01-12T11:37:54.234Z"
   },
   {
    "duration": 3,
    "start_time": "2025-01-12T11:37:56.754Z"
   },
   {
    "duration": 249,
    "start_time": "2025-01-12T11:37:58.551Z"
   },
   {
    "duration": 16,
    "start_time": "2025-01-12T11:38:47.952Z"
   },
   {
    "duration": 7,
    "start_time": "2025-01-12T11:39:26.591Z"
   },
   {
    "duration": 1538,
    "start_time": "2025-01-12T11:39:26.600Z"
   },
   {
    "duration": 6,
    "start_time": "2025-01-12T11:39:28.140Z"
   },
   {
    "duration": 5,
    "start_time": "2025-01-12T11:39:28.149Z"
   },
   {
    "duration": 88,
    "start_time": "2025-01-12T11:39:28.158Z"
   },
   {
    "duration": 21,
    "start_time": "2025-01-12T11:39:28.249Z"
   },
   {
    "duration": 12,
    "start_time": "2025-01-12T11:39:28.274Z"
   },
   {
    "duration": 25,
    "start_time": "2025-01-12T11:39:28.288Z"
   },
   {
    "duration": 763,
    "start_time": "2025-01-12T11:39:28.315Z"
   },
   {
    "duration": 362,
    "start_time": "2025-01-12T11:39:29.079Z"
   },
   {
    "duration": 6,
    "start_time": "2025-01-12T11:39:29.443Z"
   },
   {
    "duration": 18,
    "start_time": "2025-01-12T11:39:29.452Z"
   },
   {
    "duration": 13,
    "start_time": "2025-01-12T11:39:29.471Z"
   },
   {
    "duration": 14,
    "start_time": "2025-01-12T11:39:29.488Z"
   },
   {
    "duration": 35,
    "start_time": "2025-01-12T11:39:29.504Z"
   },
   {
    "duration": 4,
    "start_time": "2025-01-12T11:39:29.541Z"
   },
   {
    "duration": 12,
    "start_time": "2025-01-12T11:39:29.547Z"
   },
   {
    "duration": 5,
    "start_time": "2025-01-12T11:39:29.561Z"
   },
   {
    "duration": 11,
    "start_time": "2025-01-12T11:39:29.567Z"
   },
   {
    "duration": 383,
    "start_time": "2025-01-12T11:39:29.580Z"
   },
   {
    "duration": 0,
    "start_time": "2025-01-12T11:39:29.966Z"
   },
   {
    "duration": 0,
    "start_time": "2025-01-12T11:39:29.967Z"
   },
   {
    "duration": 0,
    "start_time": "2025-01-12T11:39:29.969Z"
   },
   {
    "duration": 8,
    "start_time": "2025-01-12T11:40:02.186Z"
   },
   {
    "duration": 1560,
    "start_time": "2025-01-12T11:40:02.196Z"
   },
   {
    "duration": 3,
    "start_time": "2025-01-12T11:40:03.758Z"
   },
   {
    "duration": 6,
    "start_time": "2025-01-12T11:40:03.762Z"
   },
   {
    "duration": 66,
    "start_time": "2025-01-12T11:40:03.770Z"
   },
   {
    "duration": 13,
    "start_time": "2025-01-12T11:40:03.838Z"
   },
   {
    "duration": 18,
    "start_time": "2025-01-12T11:40:03.853Z"
   },
   {
    "duration": 31,
    "start_time": "2025-01-12T11:40:03.873Z"
   },
   {
    "duration": 790,
    "start_time": "2025-01-12T11:40:03.905Z"
   },
   {
    "duration": 370,
    "start_time": "2025-01-12T11:40:04.697Z"
   },
   {
    "duration": 4,
    "start_time": "2025-01-12T11:40:05.069Z"
   },
   {
    "duration": 46,
    "start_time": "2025-01-12T11:40:05.074Z"
   },
   {
    "duration": 11,
    "start_time": "2025-01-12T11:40:05.122Z"
   },
   {
    "duration": 15,
    "start_time": "2025-01-12T11:40:05.138Z"
   },
   {
    "duration": 19,
    "start_time": "2025-01-12T11:40:05.156Z"
   },
   {
    "duration": 17,
    "start_time": "2025-01-12T11:40:05.177Z"
   },
   {
    "duration": 5,
    "start_time": "2025-01-12T11:40:05.195Z"
   },
   {
    "duration": 5,
    "start_time": "2025-01-12T11:40:05.202Z"
   },
   {
    "duration": 4,
    "start_time": "2025-01-12T11:40:05.209Z"
   },
   {
    "duration": 410,
    "start_time": "2025-01-12T11:40:05.214Z"
   },
   {
    "duration": 0,
    "start_time": "2025-01-12T11:40:05.626Z"
   },
   {
    "duration": 0,
    "start_time": "2025-01-12T11:40:05.627Z"
   },
   {
    "duration": 0,
    "start_time": "2025-01-12T11:40:05.629Z"
   },
   {
    "duration": 3,
    "start_time": "2025-01-12T11:40:13.507Z"
   },
   {
    "duration": 9,
    "start_time": "2025-01-12T11:41:54.562Z"
   },
   {
    "duration": 1516,
    "start_time": "2025-01-12T11:41:54.573Z"
   },
   {
    "duration": 2,
    "start_time": "2025-01-12T11:41:56.091Z"
   },
   {
    "duration": 59,
    "start_time": "2025-01-12T11:41:56.095Z"
   },
   {
    "duration": 70,
    "start_time": "2025-01-12T11:41:56.157Z"
   },
   {
    "duration": 12,
    "start_time": "2025-01-12T11:41:56.229Z"
   },
   {
    "duration": 10,
    "start_time": "2025-01-12T11:41:56.243Z"
   },
   {
    "duration": 11,
    "start_time": "2025-01-12T11:41:56.255Z"
   },
   {
    "duration": 812,
    "start_time": "2025-01-12T11:41:56.268Z"
   },
   {
    "duration": 346,
    "start_time": "2025-01-12T11:41:57.082Z"
   },
   {
    "duration": 9,
    "start_time": "2025-01-12T11:41:57.430Z"
   },
   {
    "duration": 17,
    "start_time": "2025-01-12T11:41:57.442Z"
   },
   {
    "duration": 13,
    "start_time": "2025-01-12T11:41:57.461Z"
   },
   {
    "duration": 15,
    "start_time": "2025-01-12T11:41:57.477Z"
   },
   {
    "duration": 13,
    "start_time": "2025-01-12T11:41:57.494Z"
   },
   {
    "duration": 4,
    "start_time": "2025-01-12T11:41:57.542Z"
   },
   {
    "duration": 8,
    "start_time": "2025-01-12T11:41:57.548Z"
   },
   {
    "duration": 42,
    "start_time": "2025-01-12T11:41:57.558Z"
   },
   {
    "duration": 14,
    "start_time": "2025-01-12T11:41:57.602Z"
   },
   {
    "duration": 164331,
    "start_time": "2025-01-12T11:41:57.618Z"
   },
   {
    "duration": 3,
    "start_time": "2025-01-12T11:44:41.950Z"
   },
   {
    "duration": 7,
    "start_time": "2025-01-12T11:44:41.955Z"
   },
   {
    "duration": 174,
    "start_time": "2025-01-12T11:44:41.963Z"
   },
   {
    "duration": 10,
    "start_time": "2025-01-12T11:53:35.274Z"
   },
   {
    "duration": 1677,
    "start_time": "2025-01-12T11:53:35.287Z"
   },
   {
    "duration": 3,
    "start_time": "2025-01-12T11:53:36.967Z"
   },
   {
    "duration": 5,
    "start_time": "2025-01-12T11:53:36.972Z"
   },
   {
    "duration": 95,
    "start_time": "2025-01-12T11:53:36.979Z"
   },
   {
    "duration": 12,
    "start_time": "2025-01-12T11:53:37.076Z"
   },
   {
    "duration": 13,
    "start_time": "2025-01-12T11:53:37.089Z"
   },
   {
    "duration": 13,
    "start_time": "2025-01-12T11:53:37.103Z"
   },
   {
    "duration": 745,
    "start_time": "2025-01-12T11:53:37.118Z"
   },
   {
    "duration": 348,
    "start_time": "2025-01-12T11:53:37.865Z"
   },
   {
    "duration": 7,
    "start_time": "2025-01-12T11:53:38.215Z"
   },
   {
    "duration": 21,
    "start_time": "2025-01-12T11:53:38.236Z"
   },
   {
    "duration": 14,
    "start_time": "2025-01-12T11:53:38.259Z"
   },
   {
    "duration": 21,
    "start_time": "2025-01-12T11:53:38.277Z"
   },
   {
    "duration": 42,
    "start_time": "2025-01-12T11:53:38.301Z"
   },
   {
    "duration": 7,
    "start_time": "2025-01-12T11:53:38.346Z"
   },
   {
    "duration": 5,
    "start_time": "2025-01-12T11:53:38.355Z"
   },
   {
    "duration": 5,
    "start_time": "2025-01-12T11:53:38.361Z"
   },
   {
    "duration": 4,
    "start_time": "2025-01-12T11:53:38.367Z"
   },
   {
    "duration": 393901,
    "start_time": "2025-01-12T11:53:38.373Z"
   },
   {
    "duration": 3,
    "start_time": "2025-01-12T12:00:12.276Z"
   },
   {
    "duration": 24,
    "start_time": "2025-01-12T12:00:12.280Z"
   },
   {
    "duration": 162,
    "start_time": "2025-01-12T12:00:12.306Z"
   },
   {
    "duration": 0,
    "start_time": "2025-01-12T12:00:12.470Z"
   },
   {
    "duration": 0,
    "start_time": "2025-01-12T12:00:12.471Z"
   },
   {
    "duration": 0,
    "start_time": "2025-01-12T12:00:12.472Z"
   },
   {
    "duration": 0,
    "start_time": "2025-01-12T12:00:12.473Z"
   },
   {
    "duration": 0,
    "start_time": "2025-01-12T12:00:12.475Z"
   },
   {
    "duration": 0,
    "start_time": "2025-01-12T12:00:12.476Z"
   },
   {
    "duration": 0,
    "start_time": "2025-01-12T12:00:12.477Z"
   },
   {
    "duration": 0,
    "start_time": "2025-01-12T12:00:12.478Z"
   },
   {
    "duration": 0,
    "start_time": "2025-01-12T12:00:12.480Z"
   },
   {
    "duration": 0,
    "start_time": "2025-01-12T12:00:12.481Z"
   },
   {
    "duration": 0,
    "start_time": "2025-01-12T12:00:12.482Z"
   },
   {
    "duration": 0,
    "start_time": "2025-01-12T12:00:12.483Z"
   },
   {
    "duration": 0,
    "start_time": "2025-01-12T12:00:12.484Z"
   },
   {
    "duration": 4,
    "start_time": "2025-01-12T12:00:59.020Z"
   },
   {
    "duration": 5,
    "start_time": "2025-01-12T12:01:07.714Z"
   },
   {
    "duration": 4,
    "start_time": "2025-01-12T12:01:08.568Z"
   },
   {
    "duration": 70,
    "start_time": "2025-01-12T12:01:09.250Z"
   },
   {
    "duration": 3,
    "start_time": "2025-01-12T12:01:09.724Z"
   },
   {
    "duration": 5,
    "start_time": "2025-01-12T12:01:27.326Z"
   },
   {
    "duration": 4,
    "start_time": "2025-01-12T12:01:27.849Z"
   },
   {
    "duration": 216,
    "start_time": "2025-01-12T12:01:29.291Z"
   },
   {
    "duration": 4,
    "start_time": "2025-01-12T12:01:32.148Z"
   },
   {
    "duration": 5,
    "start_time": "2025-01-12T12:01:32.647Z"
   },
   {
    "duration": 28,
    "start_time": "2025-01-12T12:02:03.369Z"
   },
   {
    "duration": 3,
    "start_time": "2025-01-12T12:02:03.842Z"
   },
   {
    "duration": 8461,
    "start_time": "2025-01-12T12:02:04.288Z"
   },
   {
    "duration": 111,
    "start_time": "2025-01-12T12:02:12.751Z"
   },
   {
    "duration": 14,
    "start_time": "2025-01-12T12:02:12.864Z"
   },
   {
    "duration": 61,
    "start_time": "2025-01-12T12:02:12.881Z"
   },
   {
    "duration": 4,
    "start_time": "2025-01-12T12:02:12.944Z"
   },
   {
    "duration": 13,
    "start_time": "2025-01-12T12:02:12.950Z"
   },
   {
    "duration": 29,
    "start_time": "2025-01-12T12:02:12.964Z"
   },
   {
    "duration": 17,
    "start_time": "2025-01-12T12:03:13.515Z"
   },
   {
    "duration": 49,
    "start_time": "2025-01-12T17:34:46.110Z"
   },
   {
    "duration": 1668,
    "start_time": "2025-01-12T17:35:02.181Z"
   },
   {
    "duration": 3,
    "start_time": "2025-01-12T17:35:09.124Z"
   },
   {
    "duration": 79,
    "start_time": "2025-01-12T17:36:11.509Z"
   },
   {
    "duration": 8,
    "start_time": "2025-01-12T17:38:07.858Z"
   },
   {
    "duration": 1408,
    "start_time": "2025-01-12T17:38:07.868Z"
   },
   {
    "duration": 2,
    "start_time": "2025-01-12T17:38:09.278Z"
   },
   {
    "duration": 5,
    "start_time": "2025-01-12T17:38:09.282Z"
   },
   {
    "duration": 120,
    "start_time": "2025-01-12T17:38:09.289Z"
   },
   {
    "duration": 11,
    "start_time": "2025-01-12T17:38:09.411Z"
   },
   {
    "duration": 8,
    "start_time": "2025-01-12T17:38:09.424Z"
   },
   {
    "duration": 10,
    "start_time": "2025-01-12T17:38:09.433Z"
   },
   {
    "duration": 756,
    "start_time": "2025-01-12T17:38:09.444Z"
   },
   {
    "duration": 253,
    "start_time": "2025-01-12T17:38:10.202Z"
   },
   {
    "duration": 5,
    "start_time": "2025-01-12T17:38:10.457Z"
   },
   {
    "duration": 16,
    "start_time": "2025-01-12T17:38:10.464Z"
   },
   {
    "duration": 12,
    "start_time": "2025-01-12T17:38:10.481Z"
   },
   {
    "duration": 36,
    "start_time": "2025-01-12T17:38:10.496Z"
   },
   {
    "duration": 15,
    "start_time": "2025-01-12T17:38:10.534Z"
   },
   {
    "duration": 27,
    "start_time": "2025-01-12T17:38:10.551Z"
   },
   {
    "duration": 28,
    "start_time": "2025-01-12T17:38:10.580Z"
   },
   {
    "duration": 12,
    "start_time": "2025-01-12T17:38:10.610Z"
   },
   {
    "duration": 19,
    "start_time": "2025-01-12T17:38:10.624Z"
   },
   {
    "duration": 10305,
    "start_time": "2025-01-12T17:38:10.644Z"
   },
   {
    "duration": 3,
    "start_time": "2025-01-12T17:38:20.951Z"
   },
   {
    "duration": 30,
    "start_time": "2025-01-12T17:38:20.956Z"
   },
   {
    "duration": 12,
    "start_time": "2025-01-12T17:38:20.989Z"
   },
   {
    "duration": 33,
    "start_time": "2025-01-12T17:38:21.003Z"
   },
   {
    "duration": 3,
    "start_time": "2025-01-12T17:38:21.037Z"
   },
   {
    "duration": 189,
    "start_time": "2025-01-12T17:38:21.041Z"
   },
   {
    "duration": 103,
    "start_time": "2025-01-12T17:38:21.231Z"
   },
   {
    "duration": 7,
    "start_time": "2025-01-12T17:38:21.336Z"
   },
   {
    "duration": 11,
    "start_time": "2025-01-12T17:38:21.344Z"
   },
   {
    "duration": 66,
    "start_time": "2025-01-12T17:38:21.356Z"
   },
   {
    "duration": 9,
    "start_time": "2025-01-12T17:45:49.581Z"
   },
   {
    "duration": 3,
    "start_time": "2025-01-12T17:45:50.138Z"
   },
   {
    "duration": 7,
    "start_time": "2025-01-12T17:45:50.619Z"
   },
   {
    "duration": 4,
    "start_time": "2025-01-12T17:45:51.186Z"
   },
   {
    "duration": 5,
    "start_time": "2025-01-12T17:45:52.508Z"
   },
   {
    "duration": 5,
    "start_time": "2025-01-12T17:45:58.608Z"
   },
   {
    "duration": 6,
    "start_time": "2025-01-12T17:46:02.441Z"
   },
   {
    "duration": 3,
    "start_time": "2025-01-12T17:46:05.873Z"
   },
   {
    "duration": 4,
    "start_time": "2025-01-12T17:46:06.354Z"
   },
   {
    "duration": 9,
    "start_time": "2025-01-12T17:49:01.798Z"
   },
   {
    "duration": 1825,
    "start_time": "2025-01-12T17:49:01.808Z"
   },
   {
    "duration": 3,
    "start_time": "2025-01-12T17:49:03.634Z"
   },
   {
    "duration": 37,
    "start_time": "2025-01-12T17:49:03.638Z"
   },
   {
    "duration": 82,
    "start_time": "2025-01-12T17:49:03.678Z"
   },
   {
    "duration": 11,
    "start_time": "2025-01-12T17:49:03.762Z"
   },
   {
    "duration": 124,
    "start_time": "2025-01-12T17:49:03.775Z"
   },
   {
    "duration": 13,
    "start_time": "2025-01-12T17:49:03.902Z"
   },
   {
    "duration": 776,
    "start_time": "2025-01-12T17:49:03.916Z"
   },
   {
    "duration": 249,
    "start_time": "2025-01-12T17:49:04.694Z"
   },
   {
    "duration": 3,
    "start_time": "2025-01-12T17:49:04.945Z"
   },
   {
    "duration": 48,
    "start_time": "2025-01-12T17:49:04.950Z"
   },
   {
    "duration": 19,
    "start_time": "2025-01-12T17:49:05.000Z"
   },
   {
    "duration": 37,
    "start_time": "2025-01-12T17:49:05.022Z"
   },
   {
    "duration": 28,
    "start_time": "2025-01-12T17:49:05.060Z"
   },
   {
    "duration": 9,
    "start_time": "2025-01-12T17:49:05.090Z"
   },
   {
    "duration": 6,
    "start_time": "2025-01-12T17:49:05.101Z"
   },
   {
    "duration": 10,
    "start_time": "2025-01-12T17:49:05.109Z"
   },
   {
    "duration": 18,
    "start_time": "2025-01-12T17:49:05.121Z"
   },
   {
    "duration": 732,
    "start_time": "2025-01-12T17:49:05.141Z"
   },
   {
    "duration": 2,
    "start_time": "2025-01-12T17:49:05.875Z"
   },
   {
    "duration": 39,
    "start_time": "2025-01-12T17:49:05.879Z"
   },
   {
    "duration": 8,
    "start_time": "2025-01-12T17:49:05.920Z"
   },
   {
    "duration": 161,
    "start_time": "2025-01-12T17:49:05.930Z"
   },
   {
    "duration": 0,
    "start_time": "2025-01-12T17:49:06.092Z"
   },
   {
    "duration": 0,
    "start_time": "2025-01-12T17:49:06.094Z"
   },
   {
    "duration": 0,
    "start_time": "2025-01-12T17:49:06.095Z"
   },
   {
    "duration": 0,
    "start_time": "2025-01-12T17:49:06.096Z"
   },
   {
    "duration": 0,
    "start_time": "2025-01-12T17:49:06.097Z"
   },
   {
    "duration": 0,
    "start_time": "2025-01-12T17:49:06.098Z"
   },
   {
    "duration": 0,
    "start_time": "2025-01-12T17:49:06.099Z"
   },
   {
    "duration": 0,
    "start_time": "2025-01-12T17:49:06.101Z"
   },
   {
    "duration": 0,
    "start_time": "2025-01-12T17:49:06.102Z"
   },
   {
    "duration": 0,
    "start_time": "2025-01-12T17:49:06.103Z"
   },
   {
    "duration": 0,
    "start_time": "2025-01-12T17:49:06.122Z"
   },
   {
    "duration": 14,
    "start_time": "2025-01-12T17:51:33.737Z"
   },
   {
    "duration": 3,
    "start_time": "2025-01-12T17:51:35.011Z"
   },
   {
    "duration": 9,
    "start_time": "2025-01-12T17:51:35.670Z"
   },
   {
    "duration": 32,
    "start_time": "2025-01-12T17:51:36.135Z"
   },
   {
    "duration": 4,
    "start_time": "2025-01-12T17:51:36.947Z"
   },
   {
    "duration": 4,
    "start_time": "2025-01-12T17:51:37.178Z"
   },
   {
    "duration": 23,
    "start_time": "2025-01-12T17:51:37.373Z"
   },
   {
    "duration": 8,
    "start_time": "2025-01-12T17:51:57.847Z"
   },
   {
    "duration": 1416,
    "start_time": "2025-01-12T17:51:57.856Z"
   },
   {
    "duration": 2,
    "start_time": "2025-01-12T17:51:59.274Z"
   },
   {
    "duration": 9,
    "start_time": "2025-01-12T17:51:59.278Z"
   },
   {
    "duration": 82,
    "start_time": "2025-01-12T17:51:59.289Z"
   },
   {
    "duration": 12,
    "start_time": "2025-01-12T17:51:59.373Z"
   },
   {
    "duration": 9,
    "start_time": "2025-01-12T17:51:59.387Z"
   },
   {
    "duration": 20,
    "start_time": "2025-01-12T17:51:59.397Z"
   },
   {
    "duration": 771,
    "start_time": "2025-01-12T17:51:59.418Z"
   },
   {
    "duration": 254,
    "start_time": "2025-01-12T17:52:00.191Z"
   },
   {
    "duration": 5,
    "start_time": "2025-01-12T17:52:00.447Z"
   },
   {
    "duration": 74,
    "start_time": "2025-01-12T17:52:00.453Z"
   },
   {
    "duration": 29,
    "start_time": "2025-01-12T17:52:00.529Z"
   },
   {
    "duration": 34,
    "start_time": "2025-01-12T17:52:00.561Z"
   },
   {
    "duration": 30,
    "start_time": "2025-01-12T17:52:00.596Z"
   },
   {
    "duration": 24,
    "start_time": "2025-01-12T17:52:00.628Z"
   },
   {
    "duration": 36,
    "start_time": "2025-01-12T17:52:00.654Z"
   },
   {
    "duration": 26,
    "start_time": "2025-01-12T17:52:00.692Z"
   },
   {
    "duration": 12,
    "start_time": "2025-01-12T17:52:00.719Z"
   },
   {
    "duration": 739,
    "start_time": "2025-01-12T17:52:00.733Z"
   },
   {
    "duration": 2,
    "start_time": "2025-01-12T17:52:01.474Z"
   },
   {
    "duration": 46,
    "start_time": "2025-01-12T17:52:01.478Z"
   },
   {
    "duration": 37,
    "start_time": "2025-01-12T17:52:01.525Z"
   },
   {
    "duration": 50,
    "start_time": "2025-01-12T17:52:01.564Z"
   },
   {
    "duration": 8,
    "start_time": "2025-01-12T17:52:01.616Z"
   },
   {
    "duration": 26,
    "start_time": "2025-01-12T17:52:01.625Z"
   },
   {
    "duration": 30,
    "start_time": "2025-01-12T17:52:01.653Z"
   },
   {
    "duration": 16,
    "start_time": "2025-01-12T17:52:01.684Z"
   },
   {
    "duration": 6,
    "start_time": "2025-01-12T17:52:01.702Z"
   },
   {
    "duration": 156,
    "start_time": "2025-01-12T17:52:01.709Z"
   },
   {
    "duration": 0,
    "start_time": "2025-01-12T17:52:01.866Z"
   },
   {
    "duration": 0,
    "start_time": "2025-01-12T17:52:01.867Z"
   },
   {
    "duration": 0,
    "start_time": "2025-01-12T17:52:01.868Z"
   },
   {
    "duration": 0,
    "start_time": "2025-01-12T17:52:01.869Z"
   },
   {
    "duration": 0,
    "start_time": "2025-01-12T17:52:01.870Z"
   },
   {
    "duration": 8,
    "start_time": "2025-01-12T17:52:22.815Z"
   },
   {
    "duration": 1497,
    "start_time": "2025-01-12T17:52:22.825Z"
   },
   {
    "duration": 3,
    "start_time": "2025-01-12T17:52:24.324Z"
   },
   {
    "duration": 12,
    "start_time": "2025-01-12T17:52:24.328Z"
   },
   {
    "duration": 93,
    "start_time": "2025-01-12T17:52:24.343Z"
   },
   {
    "duration": 11,
    "start_time": "2025-01-12T17:52:24.438Z"
   },
   {
    "duration": 9,
    "start_time": "2025-01-12T17:52:24.451Z"
   },
   {
    "duration": 13,
    "start_time": "2025-01-12T17:52:24.462Z"
   },
   {
    "duration": 792,
    "start_time": "2025-01-12T17:52:24.476Z"
   },
   {
    "duration": 247,
    "start_time": "2025-01-12T17:52:25.270Z"
   },
   {
    "duration": 5,
    "start_time": "2025-01-12T17:52:25.521Z"
   },
   {
    "duration": 15,
    "start_time": "2025-01-12T17:52:25.527Z"
   },
   {
    "duration": 13,
    "start_time": "2025-01-12T17:52:25.543Z"
   },
   {
    "duration": 15,
    "start_time": "2025-01-12T17:52:25.559Z"
   },
   {
    "duration": 21,
    "start_time": "2025-01-12T17:52:25.575Z"
   },
   {
    "duration": 21,
    "start_time": "2025-01-12T17:52:25.597Z"
   },
   {
    "duration": 7,
    "start_time": "2025-01-12T17:52:25.619Z"
   },
   {
    "duration": 6,
    "start_time": "2025-01-12T17:52:25.627Z"
   },
   {
    "duration": 4,
    "start_time": "2025-01-12T17:52:25.634Z"
   },
   {
    "duration": 10812,
    "start_time": "2025-01-12T17:52:25.639Z"
   },
   {
    "duration": 3,
    "start_time": "2025-01-12T17:52:36.452Z"
   },
   {
    "duration": 54,
    "start_time": "2025-01-12T17:52:36.457Z"
   },
   {
    "duration": 53,
    "start_time": "2025-01-12T17:52:36.513Z"
   },
   {
    "duration": 74,
    "start_time": "2025-01-12T17:52:36.567Z"
   },
   {
    "duration": 30,
    "start_time": "2025-01-12T17:52:36.642Z"
   },
   {
    "duration": 257,
    "start_time": "2025-01-12T17:52:36.674Z"
   },
   {
    "duration": 113,
    "start_time": "2025-01-12T17:52:36.933Z"
   },
   {
    "duration": 6,
    "start_time": "2025-01-12T17:52:37.048Z"
   },
   {
    "duration": 30,
    "start_time": "2025-01-12T17:52:37.055Z"
   },
   {
    "duration": 61,
    "start_time": "2025-01-12T17:52:37.087Z"
   },
   {
    "duration": 26,
    "start_time": "2025-01-12T17:52:37.150Z"
   },
   {
    "duration": 43,
    "start_time": "2025-01-12T17:52:37.178Z"
   },
   {
    "duration": 55,
    "start_time": "2025-01-12T17:52:37.222Z"
   },
   {
    "duration": 48,
    "start_time": "2025-01-12T17:52:37.278Z"
   },
   {
    "duration": 37,
    "start_time": "2025-01-12T17:52:37.327Z"
   },
   {
    "duration": 8,
    "start_time": "2025-01-12T17:52:40.840Z"
   },
   {
    "duration": 1425,
    "start_time": "2025-01-12T17:52:40.850Z"
   },
   {
    "duration": 2,
    "start_time": "2025-01-12T17:52:42.277Z"
   },
   {
    "duration": 18,
    "start_time": "2025-01-12T17:52:42.280Z"
   },
   {
    "duration": 86,
    "start_time": "2025-01-12T17:52:42.300Z"
   },
   {
    "duration": 17,
    "start_time": "2025-01-12T17:52:42.389Z"
   },
   {
    "duration": 49,
    "start_time": "2025-01-12T17:52:42.408Z"
   },
   {
    "duration": 17,
    "start_time": "2025-01-12T17:52:42.459Z"
   },
   {
    "duration": 781,
    "start_time": "2025-01-12T17:52:42.478Z"
   },
   {
    "duration": 250,
    "start_time": "2025-01-12T17:52:43.261Z"
   },
   {
    "duration": 9,
    "start_time": "2025-01-12T17:52:43.513Z"
   },
   {
    "duration": 32,
    "start_time": "2025-01-12T17:52:43.524Z"
   },
   {
    "duration": 11,
    "start_time": "2025-01-12T17:52:43.557Z"
   },
   {
    "duration": 16,
    "start_time": "2025-01-12T17:52:43.571Z"
   },
   {
    "duration": 20,
    "start_time": "2025-01-12T17:52:43.589Z"
   },
   {
    "duration": 15,
    "start_time": "2025-01-12T17:52:43.610Z"
   },
   {
    "duration": 15,
    "start_time": "2025-01-12T17:52:43.627Z"
   },
   {
    "duration": 4,
    "start_time": "2025-01-12T17:52:43.644Z"
   },
   {
    "duration": 4,
    "start_time": "2025-01-12T17:52:43.650Z"
   },
   {
    "duration": 9198,
    "start_time": "2025-01-12T17:52:43.655Z"
   },
   {
    "duration": 3,
    "start_time": "2025-01-12T17:52:52.854Z"
   },
   {
    "duration": 12,
    "start_time": "2025-01-12T17:52:52.858Z"
   },
   {
    "duration": 51,
    "start_time": "2025-01-12T17:52:52.871Z"
   },
   {
    "duration": 41,
    "start_time": "2025-01-12T17:52:52.924Z"
   },
   {
    "duration": 12,
    "start_time": "2025-01-12T17:52:52.967Z"
   },
   {
    "duration": 148,
    "start_time": "2025-01-12T17:52:52.981Z"
   },
   {
    "duration": 95,
    "start_time": "2025-01-12T17:52:53.130Z"
   },
   {
    "duration": 11,
    "start_time": "2025-01-12T17:52:53.226Z"
   },
   {
    "duration": 4,
    "start_time": "2025-01-12T17:52:53.239Z"
   },
   {
    "duration": 88,
    "start_time": "2025-01-12T17:52:53.244Z"
   },
   {
    "duration": 8,
    "start_time": "2025-01-12T17:52:53.334Z"
   },
   {
    "duration": 17,
    "start_time": "2025-01-12T17:52:53.343Z"
   },
   {
    "duration": 33,
    "start_time": "2025-01-12T17:52:53.361Z"
   },
   {
    "duration": 25,
    "start_time": "2025-01-12T17:52:53.396Z"
   },
   {
    "duration": 34,
    "start_time": "2025-01-12T17:52:53.423Z"
   },
   {
    "duration": 8,
    "start_time": "2025-01-12T17:53:46.093Z"
   },
   {
    "duration": 1477,
    "start_time": "2025-01-12T17:53:46.103Z"
   },
   {
    "duration": 2,
    "start_time": "2025-01-12T17:53:47.582Z"
   },
   {
    "duration": 20,
    "start_time": "2025-01-12T17:53:47.586Z"
   },
   {
    "duration": 67,
    "start_time": "2025-01-12T17:53:47.608Z"
   },
   {
    "duration": 11,
    "start_time": "2025-01-12T17:53:47.677Z"
   },
   {
    "duration": 8,
    "start_time": "2025-01-12T17:53:47.690Z"
   },
   {
    "duration": 9,
    "start_time": "2025-01-12T17:53:47.700Z"
   },
   {
    "duration": 848,
    "start_time": "2025-01-12T17:53:47.710Z"
   },
   {
    "duration": 248,
    "start_time": "2025-01-12T17:53:48.561Z"
   },
   {
    "duration": 4,
    "start_time": "2025-01-12T17:53:48.810Z"
   },
   {
    "duration": 18,
    "start_time": "2025-01-12T17:53:48.821Z"
   },
   {
    "duration": 11,
    "start_time": "2025-01-12T17:53:48.840Z"
   },
   {
    "duration": 42,
    "start_time": "2025-01-12T17:53:48.852Z"
   },
   {
    "duration": 10,
    "start_time": "2025-01-12T17:53:48.896Z"
   },
   {
    "duration": 5,
    "start_time": "2025-01-12T17:53:48.907Z"
   },
   {
    "duration": 7,
    "start_time": "2025-01-12T17:53:48.913Z"
   },
   {
    "duration": 8,
    "start_time": "2025-01-12T17:53:48.922Z"
   },
   {
    "duration": 6,
    "start_time": "2025-01-12T17:53:48.932Z"
   },
   {
    "duration": 11402,
    "start_time": "2025-01-12T17:53:48.939Z"
   },
   {
    "duration": 3,
    "start_time": "2025-01-12T17:54:00.342Z"
   },
   {
    "duration": 53,
    "start_time": "2025-01-12T17:54:00.347Z"
   },
   {
    "duration": 53,
    "start_time": "2025-01-12T17:54:00.402Z"
   },
   {
    "duration": 23,
    "start_time": "2025-01-12T17:54:00.457Z"
   },
   {
    "duration": 148,
    "start_time": "2025-01-12T17:54:00.482Z"
   },
   {
    "duration": 100,
    "start_time": "2025-01-12T17:54:00.631Z"
   },
   {
    "duration": 8,
    "start_time": "2025-01-12T17:54:00.732Z"
   },
   {
    "duration": 12,
    "start_time": "2025-01-12T17:54:00.743Z"
   },
   {
    "duration": 68,
    "start_time": "2025-01-12T17:54:00.757Z"
   },
   {
    "duration": 15,
    "start_time": "2025-01-12T17:54:00.827Z"
   },
   {
    "duration": 9,
    "start_time": "2025-01-12T17:54:00.843Z"
   },
   {
    "duration": 16,
    "start_time": "2025-01-12T17:54:00.853Z"
   },
   {
    "duration": 9,
    "start_time": "2025-01-12T17:54:00.870Z"
   },
   {
    "duration": 43,
    "start_time": "2025-01-12T17:54:00.880Z"
   },
   {
    "duration": 7,
    "start_time": "2025-01-12T17:56:11.276Z"
   },
   {
    "duration": 1396,
    "start_time": "2025-01-12T17:56:11.285Z"
   },
   {
    "duration": 3,
    "start_time": "2025-01-12T17:56:12.682Z"
   },
   {
    "duration": 5,
    "start_time": "2025-01-12T17:56:12.687Z"
   },
   {
    "duration": 68,
    "start_time": "2025-01-12T17:56:12.693Z"
   },
   {
    "duration": 13,
    "start_time": "2025-01-12T17:56:12.763Z"
   },
   {
    "duration": 10,
    "start_time": "2025-01-12T17:56:12.778Z"
   },
   {
    "duration": 15,
    "start_time": "2025-01-12T17:56:12.789Z"
   },
   {
    "duration": 766,
    "start_time": "2025-01-12T17:56:12.821Z"
   },
   {
    "duration": 243,
    "start_time": "2025-01-12T17:56:13.590Z"
   },
   {
    "duration": 4,
    "start_time": "2025-01-12T17:56:13.835Z"
   },
   {
    "duration": 55,
    "start_time": "2025-01-12T17:56:13.841Z"
   },
   {
    "duration": 11,
    "start_time": "2025-01-12T17:56:13.898Z"
   },
   {
    "duration": 17,
    "start_time": "2025-01-12T17:56:13.910Z"
   },
   {
    "duration": 9,
    "start_time": "2025-01-12T17:56:13.928Z"
   },
   {
    "duration": 6,
    "start_time": "2025-01-12T17:56:13.939Z"
   },
   {
    "duration": 5,
    "start_time": "2025-01-12T17:56:13.947Z"
   },
   {
    "duration": 7,
    "start_time": "2025-01-12T17:56:13.953Z"
   },
   {
    "duration": 11,
    "start_time": "2025-01-12T17:56:13.961Z"
   },
   {
    "duration": 9161,
    "start_time": "2025-01-12T17:56:13.973Z"
   },
   {
    "duration": 4,
    "start_time": "2025-01-12T17:56:23.135Z"
   },
   {
    "duration": 7,
    "start_time": "2025-01-12T17:56:23.141Z"
   },
   {
    "duration": 16,
    "start_time": "2025-01-12T17:56:23.150Z"
   },
   {
    "duration": 8,
    "start_time": "2025-01-12T17:56:23.168Z"
   },
   {
    "duration": 346,
    "start_time": "2025-01-12T17:56:23.178Z"
   },
   {
    "duration": 31,
    "start_time": "2025-01-12T17:56:23.525Z"
   },
   {
    "duration": 67,
    "start_time": "2025-01-12T17:56:23.557Z"
   },
   {
    "duration": 16,
    "start_time": "2025-01-12T17:56:23.628Z"
   },
   {
    "duration": 17,
    "start_time": "2025-01-12T17:56:23.645Z"
   },
   {
    "duration": 11,
    "start_time": "2025-01-12T17:56:23.664Z"
   },
   {
    "duration": 47,
    "start_time": "2025-01-12T17:56:23.676Z"
   },
   {
    "duration": 10,
    "start_time": "2025-01-12T17:56:23.724Z"
   },
   {
    "duration": 6,
    "start_time": "2025-01-12T17:56:23.736Z"
   },
   {
    "duration": 7,
    "start_time": "2025-01-12T17:56:23.743Z"
   },
   {
    "duration": 8,
    "start_time": "2025-01-12T18:01:54.230Z"
   },
   {
    "duration": 1420,
    "start_time": "2025-01-12T18:01:54.239Z"
   },
   {
    "duration": 3,
    "start_time": "2025-01-12T18:01:55.661Z"
   },
   {
    "duration": 11,
    "start_time": "2025-01-12T18:01:55.665Z"
   },
   {
    "duration": 80,
    "start_time": "2025-01-12T18:01:55.678Z"
   },
   {
    "duration": 11,
    "start_time": "2025-01-12T18:01:55.760Z"
   },
   {
    "duration": 9,
    "start_time": "2025-01-12T18:01:55.773Z"
   },
   {
    "duration": 15,
    "start_time": "2025-01-12T18:01:55.784Z"
   },
   {
    "duration": 799,
    "start_time": "2025-01-12T18:01:55.801Z"
   },
   {
    "duration": 253,
    "start_time": "2025-01-12T18:01:56.602Z"
   },
   {
    "duration": 4,
    "start_time": "2025-01-12T18:01:56.856Z"
   },
   {
    "duration": 23,
    "start_time": "2025-01-12T18:01:56.862Z"
   },
   {
    "duration": 11,
    "start_time": "2025-01-12T18:01:56.886Z"
   },
   {
    "duration": 28,
    "start_time": "2025-01-12T18:01:56.900Z"
   },
   {
    "duration": 17,
    "start_time": "2025-01-12T18:01:56.929Z"
   },
   {
    "duration": 3,
    "start_time": "2025-01-12T18:01:56.948Z"
   },
   {
    "duration": 7,
    "start_time": "2025-01-12T18:01:56.953Z"
   },
   {
    "duration": 5,
    "start_time": "2025-01-12T18:01:56.962Z"
   },
   {
    "duration": 6,
    "start_time": "2025-01-12T18:01:56.969Z"
   },
   {
    "duration": 6598,
    "start_time": "2025-01-12T18:01:56.977Z"
   },
   {
    "duration": 0,
    "start_time": "2025-01-12T18:02:03.577Z"
   },
   {
    "duration": 0,
    "start_time": "2025-01-12T18:02:03.578Z"
   },
   {
    "duration": 0,
    "start_time": "2025-01-12T18:02:03.579Z"
   },
   {
    "duration": 0,
    "start_time": "2025-01-12T18:02:03.580Z"
   },
   {
    "duration": 0,
    "start_time": "2025-01-12T18:02:03.581Z"
   },
   {
    "duration": 0,
    "start_time": "2025-01-12T18:02:03.582Z"
   },
   {
    "duration": 0,
    "start_time": "2025-01-12T18:02:03.583Z"
   },
   {
    "duration": 0,
    "start_time": "2025-01-12T18:02:03.584Z"
   },
   {
    "duration": 0,
    "start_time": "2025-01-12T18:02:03.585Z"
   },
   {
    "duration": 0,
    "start_time": "2025-01-12T18:02:03.586Z"
   },
   {
    "duration": 0,
    "start_time": "2025-01-12T18:02:03.587Z"
   },
   {
    "duration": 0,
    "start_time": "2025-01-12T18:02:03.588Z"
   },
   {
    "duration": 0,
    "start_time": "2025-01-12T18:02:03.589Z"
   },
   {
    "duration": 0,
    "start_time": "2025-01-12T18:02:03.590Z"
   },
   {
    "duration": 0,
    "start_time": "2025-01-12T18:02:03.591Z"
   },
   {
    "duration": 0,
    "start_time": "2025-01-12T18:02:03.592Z"
   },
   {
    "duration": 8,
    "start_time": "2025-01-12T18:02:50.853Z"
   },
   {
    "duration": 1440,
    "start_time": "2025-01-12T18:02:50.862Z"
   },
   {
    "duration": 2,
    "start_time": "2025-01-12T18:02:52.304Z"
   },
   {
    "duration": 77,
    "start_time": "2025-01-12T18:02:52.308Z"
   },
   {
    "duration": 88,
    "start_time": "2025-01-12T18:02:52.388Z"
   },
   {
    "duration": 13,
    "start_time": "2025-01-12T18:02:52.478Z"
   },
   {
    "duration": 10,
    "start_time": "2025-01-12T18:02:52.492Z"
   },
   {
    "duration": 10,
    "start_time": "2025-01-12T18:02:52.522Z"
   },
   {
    "duration": 912,
    "start_time": "2025-01-12T18:02:52.533Z"
   },
   {
    "duration": 266,
    "start_time": "2025-01-12T18:02:53.447Z"
   },
   {
    "duration": 9,
    "start_time": "2025-01-12T18:02:53.714Z"
   },
   {
    "duration": 38,
    "start_time": "2025-01-12T18:02:53.724Z"
   },
   {
    "duration": 11,
    "start_time": "2025-01-12T18:02:53.763Z"
   },
   {
    "duration": 14,
    "start_time": "2025-01-12T18:02:53.777Z"
   },
   {
    "duration": 25,
    "start_time": "2025-01-12T18:02:53.793Z"
   },
   {
    "duration": 87,
    "start_time": "2025-01-12T18:02:53.820Z"
   },
   {
    "duration": 36,
    "start_time": "2025-01-12T18:02:53.908Z"
   },
   {
    "duration": 32,
    "start_time": "2025-01-12T18:02:53.945Z"
   },
   {
    "duration": 15,
    "start_time": "2025-01-12T18:02:53.978Z"
   },
   {
    "duration": 6402,
    "start_time": "2025-01-12T18:02:53.995Z"
   },
   {
    "duration": 0,
    "start_time": "2025-01-12T18:03:00.399Z"
   },
   {
    "duration": 0,
    "start_time": "2025-01-12T18:03:00.400Z"
   },
   {
    "duration": 0,
    "start_time": "2025-01-12T18:03:00.401Z"
   },
   {
    "duration": 0,
    "start_time": "2025-01-12T18:03:00.402Z"
   },
   {
    "duration": 0,
    "start_time": "2025-01-12T18:03:00.403Z"
   },
   {
    "duration": 0,
    "start_time": "2025-01-12T18:03:00.405Z"
   },
   {
    "duration": 0,
    "start_time": "2025-01-12T18:03:00.406Z"
   },
   {
    "duration": 0,
    "start_time": "2025-01-12T18:03:00.407Z"
   },
   {
    "duration": 0,
    "start_time": "2025-01-12T18:03:00.408Z"
   },
   {
    "duration": 0,
    "start_time": "2025-01-12T18:03:00.421Z"
   },
   {
    "duration": 0,
    "start_time": "2025-01-12T18:03:00.423Z"
   },
   {
    "duration": 0,
    "start_time": "2025-01-12T18:03:00.424Z"
   },
   {
    "duration": 0,
    "start_time": "2025-01-12T18:03:00.425Z"
   },
   {
    "duration": 0,
    "start_time": "2025-01-12T18:03:00.426Z"
   },
   {
    "duration": 0,
    "start_time": "2025-01-12T18:03:00.427Z"
   },
   {
    "duration": 0,
    "start_time": "2025-01-12T18:03:00.428Z"
   },
   {
    "duration": 8,
    "start_time": "2025-01-12T18:04:55.686Z"
   },
   {
    "duration": 1449,
    "start_time": "2025-01-12T18:04:55.695Z"
   },
   {
    "duration": 2,
    "start_time": "2025-01-12T18:04:57.146Z"
   },
   {
    "duration": 9,
    "start_time": "2025-01-12T18:04:57.149Z"
   },
   {
    "duration": 71,
    "start_time": "2025-01-12T18:04:57.159Z"
   },
   {
    "duration": 12,
    "start_time": "2025-01-12T18:04:57.231Z"
   },
   {
    "duration": 9,
    "start_time": "2025-01-12T18:04:57.244Z"
   },
   {
    "duration": 10,
    "start_time": "2025-01-12T18:04:57.254Z"
   },
   {
    "duration": 782,
    "start_time": "2025-01-12T18:04:57.265Z"
   },
   {
    "duration": 265,
    "start_time": "2025-01-12T18:04:58.048Z"
   },
   {
    "duration": 9,
    "start_time": "2025-01-12T18:04:58.314Z"
   },
   {
    "duration": 51,
    "start_time": "2025-01-12T18:04:58.324Z"
   },
   {
    "duration": 10,
    "start_time": "2025-01-12T18:04:58.376Z"
   },
   {
    "duration": 14,
    "start_time": "2025-01-12T18:04:58.389Z"
   },
   {
    "duration": 7,
    "start_time": "2025-01-12T18:04:58.404Z"
   },
   {
    "duration": 3,
    "start_time": "2025-01-12T18:04:58.412Z"
   },
   {
    "duration": 4,
    "start_time": "2025-01-12T18:04:58.417Z"
   },
   {
    "duration": 10,
    "start_time": "2025-01-12T18:04:58.423Z"
   },
   {
    "duration": 11,
    "start_time": "2025-01-12T18:04:58.434Z"
   },
   {
    "duration": 6981,
    "start_time": "2025-01-12T18:04:58.446Z"
   },
   {
    "duration": 1,
    "start_time": "2025-01-12T18:05:05.428Z"
   },
   {
    "duration": 0,
    "start_time": "2025-01-12T18:05:05.430Z"
   },
   {
    "duration": 0,
    "start_time": "2025-01-12T18:05:05.431Z"
   },
   {
    "duration": 0,
    "start_time": "2025-01-12T18:05:05.432Z"
   },
   {
    "duration": 0,
    "start_time": "2025-01-12T18:05:05.433Z"
   },
   {
    "duration": 0,
    "start_time": "2025-01-12T18:05:05.434Z"
   },
   {
    "duration": 0,
    "start_time": "2025-01-12T18:05:05.435Z"
   },
   {
    "duration": 0,
    "start_time": "2025-01-12T18:05:05.436Z"
   },
   {
    "duration": 0,
    "start_time": "2025-01-12T18:05:05.437Z"
   },
   {
    "duration": 0,
    "start_time": "2025-01-12T18:05:05.439Z"
   },
   {
    "duration": 0,
    "start_time": "2025-01-12T18:05:05.440Z"
   },
   {
    "duration": 0,
    "start_time": "2025-01-12T18:05:05.441Z"
   },
   {
    "duration": 0,
    "start_time": "2025-01-12T18:05:05.442Z"
   },
   {
    "duration": 0,
    "start_time": "2025-01-12T18:05:05.443Z"
   },
   {
    "duration": 0,
    "start_time": "2025-01-12T18:05:05.444Z"
   },
   {
    "duration": 0,
    "start_time": "2025-01-12T18:05:05.445Z"
   },
   {
    "duration": 3,
    "start_time": "2025-01-12T18:06:51.779Z"
   },
   {
    "duration": 4,
    "start_time": "2025-01-12T18:07:09.676Z"
   },
   {
    "duration": 4,
    "start_time": "2025-01-12T18:07:21.823Z"
   },
   {
    "duration": 7,
    "start_time": "2025-01-12T18:09:47.020Z"
   },
   {
    "duration": 1599,
    "start_time": "2025-01-12T18:09:47.029Z"
   },
   {
    "duration": 3,
    "start_time": "2025-01-12T18:09:48.629Z"
   },
   {
    "duration": 8,
    "start_time": "2025-01-12T18:09:48.634Z"
   },
   {
    "duration": 70,
    "start_time": "2025-01-12T18:09:48.643Z"
   },
   {
    "duration": 12,
    "start_time": "2025-01-12T18:09:48.714Z"
   },
   {
    "duration": 8,
    "start_time": "2025-01-12T18:09:48.727Z"
   },
   {
    "duration": 9,
    "start_time": "2025-01-12T18:09:48.736Z"
   },
   {
    "duration": 714,
    "start_time": "2025-01-12T18:09:48.746Z"
   },
   {
    "duration": 230,
    "start_time": "2025-01-12T18:09:49.462Z"
   },
   {
    "duration": 4,
    "start_time": "2025-01-12T18:09:49.694Z"
   },
   {
    "duration": 26,
    "start_time": "2025-01-12T18:09:49.699Z"
   },
   {
    "duration": 9,
    "start_time": "2025-01-12T18:09:49.726Z"
   },
   {
    "duration": 12,
    "start_time": "2025-01-12T18:09:49.736Z"
   },
   {
    "duration": 6,
    "start_time": "2025-01-12T18:09:49.749Z"
   },
   {
    "duration": 4,
    "start_time": "2025-01-12T18:09:49.756Z"
   },
   {
    "duration": 4,
    "start_time": "2025-01-12T18:09:49.761Z"
   },
   {
    "duration": 5,
    "start_time": "2025-01-12T18:09:49.766Z"
   },
   {
    "duration": 5,
    "start_time": "2025-01-12T18:09:49.772Z"
   },
   {
    "duration": 5590,
    "start_time": "2025-01-12T18:09:49.778Z"
   },
   {
    "duration": 0,
    "start_time": "2025-01-12T18:09:55.370Z"
   },
   {
    "duration": 0,
    "start_time": "2025-01-12T18:09:55.371Z"
   },
   {
    "duration": 0,
    "start_time": "2025-01-12T18:09:55.372Z"
   },
   {
    "duration": 0,
    "start_time": "2025-01-12T18:09:55.374Z"
   },
   {
    "duration": 0,
    "start_time": "2025-01-12T18:09:55.375Z"
   },
   {
    "duration": 0,
    "start_time": "2025-01-12T18:09:55.376Z"
   },
   {
    "duration": 0,
    "start_time": "2025-01-12T18:09:55.377Z"
   },
   {
    "duration": 0,
    "start_time": "2025-01-12T18:09:55.378Z"
   },
   {
    "duration": 0,
    "start_time": "2025-01-12T18:09:55.379Z"
   },
   {
    "duration": 0,
    "start_time": "2025-01-12T18:09:55.380Z"
   },
   {
    "duration": 0,
    "start_time": "2025-01-12T18:09:55.381Z"
   },
   {
    "duration": 0,
    "start_time": "2025-01-12T18:09:55.382Z"
   },
   {
    "duration": 0,
    "start_time": "2025-01-12T18:09:55.383Z"
   },
   {
    "duration": 0,
    "start_time": "2025-01-12T18:09:55.384Z"
   },
   {
    "duration": 0,
    "start_time": "2025-01-12T18:09:55.385Z"
   },
   {
    "duration": 0,
    "start_time": "2025-01-12T18:09:55.386Z"
   },
   {
    "duration": 7,
    "start_time": "2025-01-12T18:24:35.263Z"
   },
   {
    "duration": 1380,
    "start_time": "2025-01-12T18:24:35.272Z"
   },
   {
    "duration": 2,
    "start_time": "2025-01-12T18:24:36.653Z"
   },
   {
    "duration": 16,
    "start_time": "2025-01-12T18:24:36.657Z"
   },
   {
    "duration": 96,
    "start_time": "2025-01-12T18:24:36.674Z"
   },
   {
    "duration": 12,
    "start_time": "2025-01-12T18:24:36.771Z"
   },
   {
    "duration": 75,
    "start_time": "2025-01-12T18:24:36.784Z"
   },
   {
    "duration": 27,
    "start_time": "2025-01-12T18:24:36.860Z"
   },
   {
    "duration": 752,
    "start_time": "2025-01-12T18:24:36.888Z"
   },
   {
    "duration": 232,
    "start_time": "2025-01-12T18:24:37.641Z"
   },
   {
    "duration": 3,
    "start_time": "2025-01-12T18:24:37.875Z"
   },
   {
    "duration": 102,
    "start_time": "2025-01-12T18:24:37.879Z"
   },
   {
    "duration": 9,
    "start_time": "2025-01-12T18:24:37.983Z"
   },
   {
    "duration": 25,
    "start_time": "2025-01-12T18:24:37.994Z"
   },
   {
    "duration": 5,
    "start_time": "2025-01-12T18:24:38.020Z"
   },
   {
    "duration": 3,
    "start_time": "2025-01-12T18:24:38.026Z"
   },
   {
    "duration": 8,
    "start_time": "2025-01-12T18:24:38.030Z"
   },
   {
    "duration": 11,
    "start_time": "2025-01-12T18:24:38.039Z"
   },
   {
    "duration": 4,
    "start_time": "2025-01-12T18:24:38.052Z"
   },
   {
    "duration": 5659,
    "start_time": "2025-01-12T18:24:38.057Z"
   },
   {
    "duration": 0,
    "start_time": "2025-01-12T18:24:43.717Z"
   },
   {
    "duration": 0,
    "start_time": "2025-01-12T18:24:43.718Z"
   },
   {
    "duration": 0,
    "start_time": "2025-01-12T18:24:43.721Z"
   },
   {
    "duration": 0,
    "start_time": "2025-01-12T18:24:43.723Z"
   },
   {
    "duration": 0,
    "start_time": "2025-01-12T18:24:43.724Z"
   },
   {
    "duration": 0,
    "start_time": "2025-01-12T18:24:43.725Z"
   },
   {
    "duration": 0,
    "start_time": "2025-01-12T18:24:43.726Z"
   },
   {
    "duration": 1,
    "start_time": "2025-01-12T18:24:43.726Z"
   },
   {
    "duration": 1,
    "start_time": "2025-01-12T18:24:43.727Z"
   },
   {
    "duration": 0,
    "start_time": "2025-01-12T18:24:43.728Z"
   },
   {
    "duration": 0,
    "start_time": "2025-01-12T18:24:43.730Z"
   },
   {
    "duration": 0,
    "start_time": "2025-01-12T18:24:43.731Z"
   },
   {
    "duration": 0,
    "start_time": "2025-01-12T18:24:43.732Z"
   },
   {
    "duration": 0,
    "start_time": "2025-01-12T18:24:43.732Z"
   },
   {
    "duration": 0,
    "start_time": "2025-01-12T18:24:43.734Z"
   },
   {
    "duration": 0,
    "start_time": "2025-01-12T18:24:43.735Z"
   },
   {
    "duration": 7,
    "start_time": "2025-01-12T18:29:52.604Z"
   },
   {
    "duration": 1395,
    "start_time": "2025-01-12T18:29:52.612Z"
   },
   {
    "duration": 2,
    "start_time": "2025-01-12T18:29:54.009Z"
   },
   {
    "duration": 24,
    "start_time": "2025-01-12T18:29:54.013Z"
   },
   {
    "duration": 86,
    "start_time": "2025-01-12T18:29:54.038Z"
   },
   {
    "duration": 10,
    "start_time": "2025-01-12T18:29:54.126Z"
   },
   {
    "duration": 32,
    "start_time": "2025-01-12T18:29:54.137Z"
   },
   {
    "duration": 21,
    "start_time": "2025-01-12T18:29:54.170Z"
   },
   {
    "duration": 720,
    "start_time": "2025-01-12T18:29:54.192Z"
   },
   {
    "duration": 225,
    "start_time": "2025-01-12T18:29:54.914Z"
   },
   {
    "duration": 4,
    "start_time": "2025-01-12T18:29:55.140Z"
   },
   {
    "duration": 33,
    "start_time": "2025-01-12T18:29:55.146Z"
   },
   {
    "duration": 10,
    "start_time": "2025-01-12T18:29:55.180Z"
   },
   {
    "duration": 15,
    "start_time": "2025-01-12T18:29:55.191Z"
   },
   {
    "duration": 10,
    "start_time": "2025-01-12T18:29:55.207Z"
   },
   {
    "duration": 8,
    "start_time": "2025-01-12T18:29:55.221Z"
   },
   {
    "duration": 13,
    "start_time": "2025-01-12T18:29:55.230Z"
   },
   {
    "duration": 117,
    "start_time": "2025-01-12T18:29:55.244Z"
   },
   {
    "duration": 0,
    "start_time": "2025-01-12T18:29:55.363Z"
   },
   {
    "duration": 0,
    "start_time": "2025-01-12T18:29:55.364Z"
   },
   {
    "duration": 0,
    "start_time": "2025-01-12T18:29:55.365Z"
   },
   {
    "duration": 0,
    "start_time": "2025-01-12T18:29:55.366Z"
   },
   {
    "duration": 0,
    "start_time": "2025-01-12T18:29:55.367Z"
   },
   {
    "duration": 0,
    "start_time": "2025-01-12T18:29:55.368Z"
   },
   {
    "duration": 0,
    "start_time": "2025-01-12T18:29:55.368Z"
   },
   {
    "duration": 0,
    "start_time": "2025-01-12T18:29:55.369Z"
   },
   {
    "duration": 0,
    "start_time": "2025-01-12T18:29:55.370Z"
   },
   {
    "duration": 0,
    "start_time": "2025-01-12T18:29:55.371Z"
   },
   {
    "duration": 0,
    "start_time": "2025-01-12T18:29:55.372Z"
   },
   {
    "duration": 0,
    "start_time": "2025-01-12T18:29:55.373Z"
   },
   {
    "duration": 0,
    "start_time": "2025-01-12T18:29:55.374Z"
   },
   {
    "duration": 0,
    "start_time": "2025-01-12T18:29:55.375Z"
   },
   {
    "duration": 0,
    "start_time": "2025-01-12T18:29:55.376Z"
   },
   {
    "duration": 0,
    "start_time": "2025-01-12T18:29:55.377Z"
   },
   {
    "duration": 0,
    "start_time": "2025-01-12T18:29:55.378Z"
   },
   {
    "duration": 0,
    "start_time": "2025-01-12T18:29:55.379Z"
   },
   {
    "duration": 7,
    "start_time": "2025-01-12T18:31:51.592Z"
   },
   {
    "duration": 1389,
    "start_time": "2025-01-12T18:31:51.600Z"
   },
   {
    "duration": 3,
    "start_time": "2025-01-12T18:31:52.991Z"
   },
   {
    "duration": 7,
    "start_time": "2025-01-12T18:31:52.995Z"
   },
   {
    "duration": 66,
    "start_time": "2025-01-12T18:31:53.003Z"
   },
   {
    "duration": 10,
    "start_time": "2025-01-12T18:31:53.071Z"
   },
   {
    "duration": 7,
    "start_time": "2025-01-12T18:31:53.083Z"
   },
   {
    "duration": 9,
    "start_time": "2025-01-12T18:31:53.091Z"
   },
   {
    "duration": 716,
    "start_time": "2025-01-12T18:31:53.101Z"
   },
   {
    "duration": 224,
    "start_time": "2025-01-12T18:31:53.821Z"
   },
   {
    "duration": 4,
    "start_time": "2025-01-12T18:31:54.047Z"
   },
   {
    "duration": 16,
    "start_time": "2025-01-12T18:31:54.052Z"
   },
   {
    "duration": 11,
    "start_time": "2025-01-12T18:31:54.069Z"
   },
   {
    "duration": 11,
    "start_time": "2025-01-12T18:31:54.082Z"
   },
   {
    "duration": 5,
    "start_time": "2025-01-12T18:31:54.095Z"
   },
   {
    "duration": 2,
    "start_time": "2025-01-12T18:31:54.121Z"
   },
   {
    "duration": 8,
    "start_time": "2025-01-12T18:31:54.125Z"
   },
   {
    "duration": 11,
    "start_time": "2025-01-12T18:31:54.134Z"
   },
   {
    "duration": 22,
    "start_time": "2025-01-12T18:31:54.147Z"
   },
   {
    "duration": 18164,
    "start_time": "2025-01-12T18:31:54.170Z"
   },
   {
    "duration": 2,
    "start_time": "2025-01-12T18:32:12.336Z"
   },
   {
    "duration": 27,
    "start_time": "2025-01-12T18:32:12.339Z"
   },
   {
    "duration": 16,
    "start_time": "2025-01-12T18:32:12.367Z"
   },
   {
    "duration": 8,
    "start_time": "2025-01-12T18:32:12.384Z"
   },
   {
    "duration": 335,
    "start_time": "2025-01-12T18:32:12.396Z"
   },
   {
    "duration": 109,
    "start_time": "2025-01-12T18:32:12.732Z"
   },
   {
    "duration": 2893,
    "start_time": "2025-01-12T18:32:12.842Z"
   },
   {
    "duration": 8,
    "start_time": "2025-01-12T18:32:15.738Z"
   },
   {
    "duration": 9,
    "start_time": "2025-01-12T18:32:15.748Z"
   },
   {
    "duration": 5,
    "start_time": "2025-01-12T18:32:15.758Z"
   },
   {
    "duration": 14,
    "start_time": "2025-01-12T18:32:15.764Z"
   },
   {
    "duration": 49,
    "start_time": "2025-01-12T18:32:15.779Z"
   },
   {
    "duration": 13,
    "start_time": "2025-01-12T18:32:15.829Z"
   },
   {
    "duration": 5,
    "start_time": "2025-01-12T18:32:15.843Z"
   },
   {
    "duration": 4,
    "start_time": "2025-01-12T18:32:15.849Z"
   },
   {
    "duration": 4,
    "start_time": "2025-01-12T18:32:15.854Z"
   },
   {
    "duration": 19,
    "start_time": "2025-01-12T18:32:56.783Z"
   },
   {
    "duration": 8,
    "start_time": "2025-01-12T18:34:08.630Z"
   },
   {
    "duration": 1363,
    "start_time": "2025-01-12T18:34:08.640Z"
   },
   {
    "duration": 3,
    "start_time": "2025-01-12T18:34:10.004Z"
   },
   {
    "duration": 12,
    "start_time": "2025-01-12T18:34:10.008Z"
   },
   {
    "duration": 73,
    "start_time": "2025-01-12T18:34:10.021Z"
   },
   {
    "duration": 11,
    "start_time": "2025-01-12T18:34:10.096Z"
   },
   {
    "duration": 7,
    "start_time": "2025-01-12T18:34:10.109Z"
   },
   {
    "duration": 9,
    "start_time": "2025-01-12T18:34:10.117Z"
   },
   {
    "duration": 731,
    "start_time": "2025-01-12T18:34:10.127Z"
   },
   {
    "duration": 229,
    "start_time": "2025-01-12T18:34:10.861Z"
   },
   {
    "duration": 4,
    "start_time": "2025-01-12T18:34:11.091Z"
   },
   {
    "duration": 26,
    "start_time": "2025-01-12T18:34:11.097Z"
   },
   {
    "duration": 12,
    "start_time": "2025-01-12T18:34:11.124Z"
   },
   {
    "duration": 13,
    "start_time": "2025-01-12T18:34:11.137Z"
   },
   {
    "duration": 6,
    "start_time": "2025-01-12T18:34:11.152Z"
   },
   {
    "duration": 10,
    "start_time": "2025-01-12T18:34:11.160Z"
   },
   {
    "duration": 4,
    "start_time": "2025-01-12T18:34:11.172Z"
   },
   {
    "duration": 18,
    "start_time": "2025-01-12T18:34:11.177Z"
   },
   {
    "duration": 5,
    "start_time": "2025-01-12T18:34:11.197Z"
   },
   {
    "duration": 21646,
    "start_time": "2025-01-12T18:34:11.204Z"
   },
   {
    "duration": 2,
    "start_time": "2025-01-12T18:34:32.852Z"
   },
   {
    "duration": 7,
    "start_time": "2025-01-12T18:34:32.855Z"
   },
   {
    "duration": 33,
    "start_time": "2025-01-12T18:34:32.863Z"
   },
   {
    "duration": 2,
    "start_time": "2025-01-12T18:34:32.897Z"
   },
   {
    "duration": 331,
    "start_time": "2025-01-12T18:34:32.901Z"
   },
   {
    "duration": 101,
    "start_time": "2025-01-12T18:34:33.234Z"
   },
   {
    "duration": 2633,
    "start_time": "2025-01-12T18:34:33.337Z"
   },
   {
    "duration": 7,
    "start_time": "2025-01-12T18:34:35.974Z"
   },
   {
    "duration": 75,
    "start_time": "2025-01-12T18:34:35.982Z"
   },
   {
    "duration": 40,
    "start_time": "2025-01-12T18:34:36.059Z"
   },
   {
    "duration": 42,
    "start_time": "2025-01-12T18:34:36.100Z"
   },
   {
    "duration": 10,
    "start_time": "2025-01-12T18:34:36.144Z"
   },
   {
    "duration": 7,
    "start_time": "2025-01-12T18:34:36.156Z"
   },
   {
    "duration": 24,
    "start_time": "2025-01-12T18:34:36.164Z"
   },
   {
    "duration": 7,
    "start_time": "2025-01-12T18:34:36.190Z"
   },
   {
    "duration": 12,
    "start_time": "2025-01-12T18:34:36.198Z"
   },
   {
    "duration": 5,
    "start_time": "2025-01-12T18:36:51.448Z"
   },
   {
    "duration": 4,
    "start_time": "2025-01-12T18:36:52.107Z"
   },
   {
    "duration": 7,
    "start_time": "2025-01-12T18:38:29.925Z"
   },
   {
    "duration": 1350,
    "start_time": "2025-01-12T18:38:29.934Z"
   },
   {
    "duration": 3,
    "start_time": "2025-01-12T18:38:31.285Z"
   },
   {
    "duration": 5,
    "start_time": "2025-01-12T18:38:31.289Z"
   },
   {
    "duration": 98,
    "start_time": "2025-01-12T18:38:31.296Z"
   },
   {
    "duration": 11,
    "start_time": "2025-01-12T18:38:31.396Z"
   },
   {
    "duration": 32,
    "start_time": "2025-01-12T18:38:31.408Z"
   },
   {
    "duration": 22,
    "start_time": "2025-01-12T18:38:31.441Z"
   },
   {
    "duration": 731,
    "start_time": "2025-01-12T18:38:31.464Z"
   },
   {
    "duration": 246,
    "start_time": "2025-01-12T18:38:32.197Z"
   },
   {
    "duration": 5,
    "start_time": "2025-01-12T18:38:32.445Z"
   },
   {
    "duration": 66,
    "start_time": "2025-01-12T18:38:32.451Z"
   },
   {
    "duration": 22,
    "start_time": "2025-01-12T18:38:32.518Z"
   },
   {
    "duration": 14,
    "start_time": "2025-01-12T18:38:32.542Z"
   },
   {
    "duration": 7,
    "start_time": "2025-01-12T18:38:32.557Z"
   },
   {
    "duration": 19,
    "start_time": "2025-01-12T18:38:32.565Z"
   },
   {
    "duration": 13,
    "start_time": "2025-01-12T18:38:32.585Z"
   },
   {
    "duration": 10,
    "start_time": "2025-01-12T18:38:32.599Z"
   },
   {
    "duration": 4,
    "start_time": "2025-01-12T18:38:32.610Z"
   },
   {
    "duration": 22233,
    "start_time": "2025-01-12T18:38:32.615Z"
   },
   {
    "duration": 2,
    "start_time": "2025-01-12T18:38:54.849Z"
   },
   {
    "duration": 6,
    "start_time": "2025-01-12T18:38:54.852Z"
   },
   {
    "duration": 25,
    "start_time": "2025-01-12T18:38:54.859Z"
   },
   {
    "duration": 3,
    "start_time": "2025-01-12T18:38:54.885Z"
   },
   {
    "duration": 241,
    "start_time": "2025-01-12T18:38:54.889Z"
   },
   {
    "duration": 100,
    "start_time": "2025-01-12T18:38:55.132Z"
   },
   {
    "duration": 2664,
    "start_time": "2025-01-12T18:38:55.234Z"
   },
   {
    "duration": 13,
    "start_time": "2025-01-12T18:38:57.900Z"
   },
   {
    "duration": 6,
    "start_time": "2025-01-12T18:38:57.915Z"
   },
   {
    "duration": 9,
    "start_time": "2025-01-12T18:38:57.923Z"
   },
   {
    "duration": 15,
    "start_time": "2025-01-12T18:38:57.934Z"
   },
   {
    "duration": 89,
    "start_time": "2025-01-12T18:38:57.951Z"
   },
   {
    "duration": 7,
    "start_time": "2025-01-12T18:38:58.042Z"
   },
   {
    "duration": 5,
    "start_time": "2025-01-12T18:38:58.050Z"
   },
   {
    "duration": 18,
    "start_time": "2025-01-12T18:38:58.056Z"
   },
   {
    "duration": 7,
    "start_time": "2025-01-12T18:38:58.075Z"
   },
   {
    "duration": 13,
    "start_time": "2025-01-12T18:38:58.083Z"
   },
   {
    "duration": 5,
    "start_time": "2025-01-12T18:38:58.098Z"
   },
   {
    "duration": 8,
    "start_time": "2025-01-12T18:43:44.730Z"
   },
   {
    "duration": 1361,
    "start_time": "2025-01-12T18:43:44.740Z"
   },
   {
    "duration": 3,
    "start_time": "2025-01-12T18:43:46.102Z"
   },
   {
    "duration": 31,
    "start_time": "2025-01-12T18:43:46.107Z"
   },
   {
    "duration": 82,
    "start_time": "2025-01-12T18:43:46.140Z"
   },
   {
    "duration": 11,
    "start_time": "2025-01-12T18:43:46.225Z"
   },
   {
    "duration": 27,
    "start_time": "2025-01-12T18:43:46.237Z"
   },
   {
    "duration": 36,
    "start_time": "2025-01-12T18:43:46.266Z"
   },
   {
    "duration": 719,
    "start_time": "2025-01-12T18:43:46.303Z"
   },
   {
    "duration": 237,
    "start_time": "2025-01-12T18:43:47.023Z"
   },
   {
    "duration": 4,
    "start_time": "2025-01-12T18:43:47.262Z"
   },
   {
    "duration": 41,
    "start_time": "2025-01-12T18:43:47.267Z"
   },
   {
    "duration": 16,
    "start_time": "2025-01-12T18:43:47.311Z"
   },
   {
    "duration": 44,
    "start_time": "2025-01-12T18:43:47.328Z"
   },
   {
    "duration": 8,
    "start_time": "2025-01-12T18:43:47.373Z"
   },
   {
    "duration": 26,
    "start_time": "2025-01-12T18:43:47.382Z"
   },
   {
    "duration": 16,
    "start_time": "2025-01-12T18:43:47.409Z"
   },
   {
    "duration": 25,
    "start_time": "2025-01-12T18:43:47.426Z"
   },
   {
    "duration": 16,
    "start_time": "2025-01-12T18:43:47.453Z"
   },
   {
    "duration": 21468,
    "start_time": "2025-01-12T18:43:47.471Z"
   },
   {
    "duration": 2,
    "start_time": "2025-01-12T18:44:08.940Z"
   },
   {
    "duration": 5,
    "start_time": "2025-01-12T18:44:08.944Z"
   },
   {
    "duration": 15,
    "start_time": "2025-01-12T18:44:08.950Z"
   },
   {
    "duration": 3,
    "start_time": "2025-01-12T18:44:08.966Z"
   },
   {
    "duration": 2146,
    "start_time": "2025-01-12T18:44:08.970Z"
   },
   {
    "duration": 30,
    "start_time": "2025-01-12T18:44:11.118Z"
   },
   {
    "duration": 2670,
    "start_time": "2025-01-12T18:44:11.150Z"
   },
   {
    "duration": 15,
    "start_time": "2025-01-12T18:44:13.822Z"
   },
   {
    "duration": 3,
    "start_time": "2025-01-12T18:44:13.838Z"
   },
   {
    "duration": 12,
    "start_time": "2025-01-12T18:44:13.843Z"
   },
   {
    "duration": 15,
    "start_time": "2025-01-12T18:44:13.856Z"
   },
   {
    "duration": 11,
    "start_time": "2025-01-12T18:44:13.872Z"
   },
   {
    "duration": 9,
    "start_time": "2025-01-12T18:44:13.884Z"
   },
   {
    "duration": 5,
    "start_time": "2025-01-12T18:44:13.894Z"
   },
   {
    "duration": 22,
    "start_time": "2025-01-12T18:44:13.901Z"
   },
   {
    "duration": 6,
    "start_time": "2025-01-12T18:44:13.924Z"
   },
   {
    "duration": 7,
    "start_time": "2025-01-12T18:44:13.931Z"
   },
   {
    "duration": 4,
    "start_time": "2025-01-12T18:44:13.939Z"
   },
   {
    "duration": 8,
    "start_time": "2025-01-12T18:44:44.228Z"
   },
   {
    "duration": 1321,
    "start_time": "2025-01-12T18:44:44.238Z"
   },
   {
    "duration": 3,
    "start_time": "2025-01-12T18:44:45.560Z"
   },
   {
    "duration": 4,
    "start_time": "2025-01-12T18:44:45.564Z"
   },
   {
    "duration": 65,
    "start_time": "2025-01-12T18:44:45.570Z"
   },
   {
    "duration": 11,
    "start_time": "2025-01-12T18:44:45.637Z"
   },
   {
    "duration": 7,
    "start_time": "2025-01-12T18:44:45.649Z"
   },
   {
    "duration": 8,
    "start_time": "2025-01-12T18:44:45.658Z"
   },
   {
    "duration": 729,
    "start_time": "2025-01-12T18:44:45.667Z"
   },
   {
    "duration": 227,
    "start_time": "2025-01-12T18:44:46.398Z"
   },
   {
    "duration": 3,
    "start_time": "2025-01-12T18:44:46.627Z"
   },
   {
    "duration": 19,
    "start_time": "2025-01-12T18:44:46.632Z"
   },
   {
    "duration": 9,
    "start_time": "2025-01-12T18:44:46.653Z"
   },
   {
    "duration": 16,
    "start_time": "2025-01-12T18:44:46.666Z"
   },
   {
    "duration": 5,
    "start_time": "2025-01-12T18:44:46.684Z"
   },
   {
    "duration": 26,
    "start_time": "2025-01-12T18:44:46.690Z"
   },
   {
    "duration": 5,
    "start_time": "2025-01-12T18:44:46.718Z"
   },
   {
    "duration": 5,
    "start_time": "2025-01-12T18:44:46.725Z"
   },
   {
    "duration": 22,
    "start_time": "2025-01-12T18:44:46.731Z"
   },
   {
    "duration": 6695,
    "start_time": "2025-01-12T18:44:46.754Z"
   },
   {
    "duration": 2,
    "start_time": "2025-01-12T18:44:53.450Z"
   },
   {
    "duration": 21,
    "start_time": "2025-01-12T18:44:53.454Z"
   },
   {
    "duration": 69,
    "start_time": "2025-01-12T18:44:53.477Z"
   },
   {
    "duration": 6,
    "start_time": "2025-01-12T18:44:53.548Z"
   },
   {
    "duration": 769,
    "start_time": "2025-01-12T18:44:53.555Z"
   },
   {
    "duration": 29,
    "start_time": "2025-01-12T18:44:54.326Z"
   },
   {
    "duration": 2697,
    "start_time": "2025-01-12T18:44:54.356Z"
   },
   {
    "duration": 9,
    "start_time": "2025-01-12T18:44:57.054Z"
   },
   {
    "duration": 6,
    "start_time": "2025-01-12T18:44:57.064Z"
   },
   {
    "duration": 5,
    "start_time": "2025-01-12T18:44:57.071Z"
   },
   {
    "duration": 47,
    "start_time": "2025-01-12T18:44:57.077Z"
   },
   {
    "duration": 16,
    "start_time": "2025-01-12T18:44:57.125Z"
   },
   {
    "duration": 13,
    "start_time": "2025-01-12T18:44:57.142Z"
   },
   {
    "duration": 29,
    "start_time": "2025-01-12T18:44:57.156Z"
   },
   {
    "duration": 22,
    "start_time": "2025-01-12T18:44:57.187Z"
   },
   {
    "duration": 21,
    "start_time": "2025-01-12T18:44:57.211Z"
   },
   {
    "duration": 20,
    "start_time": "2025-01-12T18:44:57.234Z"
   },
   {
    "duration": 11,
    "start_time": "2025-01-12T18:44:57.256Z"
   },
   {
    "duration": 10,
    "start_time": "2025-01-12T18:45:52.425Z"
   },
   {
    "duration": 1354,
    "start_time": "2025-01-12T18:45:52.438Z"
   },
   {
    "duration": 3,
    "start_time": "2025-01-12T18:45:53.793Z"
   },
   {
    "duration": 37,
    "start_time": "2025-01-12T18:45:53.797Z"
   },
   {
    "duration": 72,
    "start_time": "2025-01-12T18:45:53.836Z"
   },
   {
    "duration": 10,
    "start_time": "2025-01-12T18:45:53.910Z"
   },
   {
    "duration": 12,
    "start_time": "2025-01-12T18:45:53.922Z"
   },
   {
    "duration": 11,
    "start_time": "2025-01-12T18:45:53.935Z"
   },
   {
    "duration": 787,
    "start_time": "2025-01-12T18:45:53.947Z"
   },
   {
    "duration": 222,
    "start_time": "2025-01-12T18:45:54.735Z"
   },
   {
    "duration": 4,
    "start_time": "2025-01-12T18:45:54.958Z"
   },
   {
    "duration": 17,
    "start_time": "2025-01-12T18:45:54.964Z"
   },
   {
    "duration": 9,
    "start_time": "2025-01-12T18:45:54.982Z"
   },
   {
    "duration": 28,
    "start_time": "2025-01-12T18:45:54.994Z"
   },
   {
    "duration": 9,
    "start_time": "2025-01-12T18:45:55.024Z"
   },
   {
    "duration": 3,
    "start_time": "2025-01-12T18:45:55.034Z"
   },
   {
    "duration": 16,
    "start_time": "2025-01-12T18:45:55.038Z"
   },
   {
    "duration": 10,
    "start_time": "2025-01-12T18:45:55.055Z"
   },
   {
    "duration": 26,
    "start_time": "2025-01-12T18:45:55.066Z"
   },
   {
    "duration": 16056,
    "start_time": "2025-01-12T18:45:55.094Z"
   },
   {
    "duration": 3,
    "start_time": "2025-01-12T18:46:11.151Z"
   },
   {
    "duration": 15,
    "start_time": "2025-01-12T18:46:11.155Z"
   },
   {
    "duration": 18,
    "start_time": "2025-01-12T18:46:11.171Z"
   },
   {
    "duration": 2,
    "start_time": "2025-01-12T18:46:11.190Z"
   },
   {
    "duration": 241,
    "start_time": "2025-01-12T18:46:11.194Z"
   },
   {
    "duration": 109,
    "start_time": "2025-01-12T18:46:11.436Z"
   },
   {
    "duration": 2748,
    "start_time": "2025-01-12T18:46:11.546Z"
   },
   {
    "duration": 13,
    "start_time": "2025-01-12T18:46:14.295Z"
   },
   {
    "duration": 3,
    "start_time": "2025-01-12T18:46:14.309Z"
   },
   {
    "duration": 3,
    "start_time": "2025-01-12T18:46:14.321Z"
   },
   {
    "duration": 66,
    "start_time": "2025-01-12T18:46:14.325Z"
   },
   {
    "duration": 7,
    "start_time": "2025-01-12T18:46:14.393Z"
   },
   {
    "duration": 4,
    "start_time": "2025-01-12T18:46:14.402Z"
   },
   {
    "duration": 5,
    "start_time": "2025-01-12T18:46:14.408Z"
   },
   {
    "duration": 8,
    "start_time": "2025-01-12T18:46:14.415Z"
   },
   {
    "duration": 5,
    "start_time": "2025-01-12T18:46:14.424Z"
   },
   {
    "duration": 8,
    "start_time": "2025-01-12T18:46:14.430Z"
   },
   {
    "duration": 9,
    "start_time": "2025-01-12T18:46:14.439Z"
   },
   {
    "duration": 7,
    "start_time": "2025-01-12T19:01:39.342Z"
   },
   {
    "duration": 1375,
    "start_time": "2025-01-12T19:01:39.351Z"
   },
   {
    "duration": 3,
    "start_time": "2025-01-12T19:01:40.727Z"
   },
   {
    "duration": 18,
    "start_time": "2025-01-12T19:01:40.731Z"
   },
   {
    "duration": 86,
    "start_time": "2025-01-12T19:01:40.751Z"
   },
   {
    "duration": 11,
    "start_time": "2025-01-12T19:01:40.838Z"
   },
   {
    "duration": 33,
    "start_time": "2025-01-12T19:01:40.850Z"
   },
   {
    "duration": 9,
    "start_time": "2025-01-12T19:01:40.884Z"
   },
   {
    "duration": 688,
    "start_time": "2025-01-12T19:01:40.894Z"
   },
   {
    "duration": 219,
    "start_time": "2025-01-12T19:01:41.584Z"
   },
   {
    "duration": 4,
    "start_time": "2025-01-12T19:01:41.804Z"
   },
   {
    "duration": 23,
    "start_time": "2025-01-12T19:01:41.809Z"
   },
   {
    "duration": 16,
    "start_time": "2025-01-12T19:01:41.834Z"
   },
   {
    "duration": 20,
    "start_time": "2025-01-12T19:01:41.853Z"
   },
   {
    "duration": 5,
    "start_time": "2025-01-12T19:01:41.874Z"
   },
   {
    "duration": 3,
    "start_time": "2025-01-12T19:01:41.880Z"
   },
   {
    "duration": 4,
    "start_time": "2025-01-12T19:01:41.884Z"
   },
   {
    "duration": 4,
    "start_time": "2025-01-12T19:01:41.889Z"
   },
   {
    "duration": 5,
    "start_time": "2025-01-12T19:01:41.894Z"
   },
   {
    "duration": 15653,
    "start_time": "2025-01-12T19:01:41.900Z"
   },
   {
    "duration": 2,
    "start_time": "2025-01-12T19:01:57.555Z"
   },
   {
    "duration": 65,
    "start_time": "2025-01-12T19:01:57.558Z"
   },
   {
    "duration": 14,
    "start_time": "2025-01-12T19:01:57.624Z"
   },
   {
    "duration": 3,
    "start_time": "2025-01-12T19:01:57.639Z"
   },
   {
    "duration": 288,
    "start_time": "2025-01-12T19:01:57.643Z"
   },
   {
    "duration": 107,
    "start_time": "2025-01-12T19:01:57.932Z"
   },
   {
    "duration": 2837,
    "start_time": "2025-01-12T19:01:58.040Z"
   },
   {
    "duration": 7,
    "start_time": "2025-01-12T19:02:00.878Z"
   },
   {
    "duration": 14,
    "start_time": "2025-01-12T19:02:00.887Z"
   },
   {
    "duration": 20,
    "start_time": "2025-01-12T19:02:00.902Z"
   },
   {
    "duration": 15,
    "start_time": "2025-01-12T19:02:00.924Z"
   },
   {
    "duration": 10,
    "start_time": "2025-01-12T19:02:00.940Z"
   },
   {
    "duration": 17,
    "start_time": "2025-01-12T19:02:00.951Z"
   },
   {
    "duration": 23,
    "start_time": "2025-01-12T19:02:00.970Z"
   },
   {
    "duration": 6,
    "start_time": "2025-01-12T19:02:01.021Z"
   },
   {
    "duration": 7,
    "start_time": "2025-01-12T19:02:01.028Z"
   },
   {
    "duration": 14,
    "start_time": "2025-01-12T19:02:01.037Z"
   },
   {
    "duration": 9,
    "start_time": "2025-01-12T19:02:01.052Z"
   },
   {
    "duration": 7,
    "start_time": "2025-01-12T19:02:40.273Z"
   },
   {
    "duration": 1364,
    "start_time": "2025-01-12T19:02:40.283Z"
   },
   {
    "duration": 3,
    "start_time": "2025-01-12T19:02:41.648Z"
   },
   {
    "duration": 3,
    "start_time": "2025-01-12T19:02:41.653Z"
   },
   {
    "duration": 62,
    "start_time": "2025-01-12T19:02:41.659Z"
   },
   {
    "duration": 11,
    "start_time": "2025-01-12T19:02:41.722Z"
   },
   {
    "duration": 7,
    "start_time": "2025-01-12T19:02:41.735Z"
   },
   {
    "duration": 8,
    "start_time": "2025-01-12T19:02:41.743Z"
   },
   {
    "duration": 724,
    "start_time": "2025-01-12T19:02:41.753Z"
   },
   {
    "duration": 221,
    "start_time": "2025-01-12T19:02:42.479Z"
   },
   {
    "duration": 5,
    "start_time": "2025-01-12T19:02:42.701Z"
   },
   {
    "duration": 24,
    "start_time": "2025-01-12T19:02:42.707Z"
   },
   {
    "duration": 10,
    "start_time": "2025-01-12T19:02:42.732Z"
   },
   {
    "duration": 12,
    "start_time": "2025-01-12T19:02:42.744Z"
   },
   {
    "duration": 6,
    "start_time": "2025-01-12T19:02:42.757Z"
   },
   {
    "duration": 3,
    "start_time": "2025-01-12T19:02:42.765Z"
   },
   {
    "duration": 4,
    "start_time": "2025-01-12T19:02:42.770Z"
   },
   {
    "duration": 4,
    "start_time": "2025-01-12T19:02:42.775Z"
   },
   {
    "duration": 4,
    "start_time": "2025-01-12T19:02:42.781Z"
   },
   {
    "duration": 15865,
    "start_time": "2025-01-12T19:02:42.786Z"
   },
   {
    "duration": 2,
    "start_time": "2025-01-12T19:02:58.653Z"
   },
   {
    "duration": 10,
    "start_time": "2025-01-12T19:02:58.657Z"
   },
   {
    "duration": 60,
    "start_time": "2025-01-12T19:02:58.669Z"
   },
   {
    "duration": 2,
    "start_time": "2025-01-12T19:02:58.731Z"
   },
   {
    "duration": 295,
    "start_time": "2025-01-12T19:02:58.735Z"
   },
   {
    "duration": 99,
    "start_time": "2025-01-12T19:02:59.032Z"
   },
   {
    "duration": 2684,
    "start_time": "2025-01-12T19:02:59.132Z"
   },
   {
    "duration": 8,
    "start_time": "2025-01-12T19:03:01.818Z"
   },
   {
    "duration": 9,
    "start_time": "2025-01-12T19:03:01.827Z"
   },
   {
    "duration": 45,
    "start_time": "2025-01-12T19:03:01.837Z"
   },
   {
    "duration": 24,
    "start_time": "2025-01-12T19:03:01.884Z"
   },
   {
    "duration": 18,
    "start_time": "2025-01-12T19:03:01.910Z"
   },
   {
    "duration": 27,
    "start_time": "2025-01-12T19:03:01.929Z"
   },
   {
    "duration": 33,
    "start_time": "2025-01-12T19:03:01.958Z"
   },
   {
    "duration": 4,
    "start_time": "2025-01-12T19:03:01.993Z"
   },
   {
    "duration": 53,
    "start_time": "2025-01-12T19:03:01.998Z"
   },
   {
    "duration": 41,
    "start_time": "2025-01-12T19:03:02.052Z"
   },
   {
    "duration": 36,
    "start_time": "2025-01-12T19:03:02.095Z"
   },
   {
    "duration": 8,
    "start_time": "2025-01-12T19:03:31.023Z"
   },
   {
    "duration": 1386,
    "start_time": "2025-01-12T19:03:31.032Z"
   },
   {
    "duration": 3,
    "start_time": "2025-01-12T19:03:32.421Z"
   },
   {
    "duration": 21,
    "start_time": "2025-01-12T19:03:32.427Z"
   },
   {
    "duration": 66,
    "start_time": "2025-01-12T19:03:32.451Z"
   },
   {
    "duration": 10,
    "start_time": "2025-01-12T19:03:32.521Z"
   },
   {
    "duration": 33,
    "start_time": "2025-01-12T19:03:32.533Z"
   },
   {
    "duration": 28,
    "start_time": "2025-01-12T19:03:32.568Z"
   },
   {
    "duration": 745,
    "start_time": "2025-01-12T19:03:32.598Z"
   },
   {
    "duration": 233,
    "start_time": "2025-01-12T19:03:33.344Z"
   },
   {
    "duration": 4,
    "start_time": "2025-01-12T19:03:33.578Z"
   },
   {
    "duration": 22,
    "start_time": "2025-01-12T19:03:33.583Z"
   },
   {
    "duration": 23,
    "start_time": "2025-01-12T19:03:33.607Z"
   },
   {
    "duration": 32,
    "start_time": "2025-01-12T19:03:33.632Z"
   },
   {
    "duration": 19,
    "start_time": "2025-01-12T19:03:33.666Z"
   },
   {
    "duration": 14,
    "start_time": "2025-01-12T19:03:33.686Z"
   },
   {
    "duration": 18,
    "start_time": "2025-01-12T19:03:33.701Z"
   },
   {
    "duration": 5,
    "start_time": "2025-01-12T19:03:33.721Z"
   },
   {
    "duration": 13,
    "start_time": "2025-01-12T19:03:33.727Z"
   },
   {
    "duration": 16510,
    "start_time": "2025-01-12T19:03:33.741Z"
   },
   {
    "duration": 3,
    "start_time": "2025-01-12T19:03:50.252Z"
   },
   {
    "duration": 7,
    "start_time": "2025-01-12T19:03:50.256Z"
   },
   {
    "duration": 58,
    "start_time": "2025-01-12T19:03:50.264Z"
   },
   {
    "duration": 3,
    "start_time": "2025-01-12T19:03:50.323Z"
   },
   {
    "duration": 299,
    "start_time": "2025-01-12T19:03:50.327Z"
   },
   {
    "duration": 26,
    "start_time": "2025-01-12T19:03:50.628Z"
   },
   {
    "duration": 2735,
    "start_time": "2025-01-12T19:03:50.656Z"
   },
   {
    "duration": 10,
    "start_time": "2025-01-12T19:03:53.392Z"
   },
   {
    "duration": 6,
    "start_time": "2025-01-12T19:03:53.403Z"
   },
   {
    "duration": 9,
    "start_time": "2025-01-12T19:03:53.411Z"
   },
   {
    "duration": 29,
    "start_time": "2025-01-12T19:03:53.421Z"
   },
   {
    "duration": 8,
    "start_time": "2025-01-12T19:03:53.451Z"
   },
   {
    "duration": 14,
    "start_time": "2025-01-12T19:03:53.460Z"
   },
   {
    "duration": 5,
    "start_time": "2025-01-12T19:03:53.475Z"
   },
   {
    "duration": 8,
    "start_time": "2025-01-12T19:03:53.481Z"
   },
   {
    "duration": 17,
    "start_time": "2025-01-12T19:03:53.491Z"
   },
   {
    "duration": 35,
    "start_time": "2025-01-12T19:03:53.509Z"
   },
   {
    "duration": 109,
    "start_time": "2025-01-12T19:03:53.545Z"
   },
   {
    "duration": 3,
    "start_time": "2025-01-12T19:04:26.059Z"
   },
   {
    "duration": 4,
    "start_time": "2025-01-12T19:04:26.944Z"
   },
   {
    "duration": 4,
    "start_time": "2025-01-12T19:04:32.207Z"
   },
   {
    "duration": 4,
    "start_time": "2025-01-12T19:04:32.696Z"
   },
   {
    "duration": 7,
    "start_time": "2025-01-12T19:04:53.806Z"
   },
   {
    "duration": 1372,
    "start_time": "2025-01-12T19:04:53.815Z"
   },
   {
    "duration": 3,
    "start_time": "2025-01-12T19:04:55.188Z"
   },
   {
    "duration": 46,
    "start_time": "2025-01-12T19:04:55.192Z"
   },
   {
    "duration": 81,
    "start_time": "2025-01-12T19:04:55.241Z"
   },
   {
    "duration": 11,
    "start_time": "2025-01-12T19:04:55.323Z"
   },
   {
    "duration": 8,
    "start_time": "2025-01-12T19:04:55.335Z"
   },
   {
    "duration": 22,
    "start_time": "2025-01-12T19:04:55.344Z"
   },
   {
    "duration": 733,
    "start_time": "2025-01-12T19:04:55.369Z"
   },
   {
    "duration": 230,
    "start_time": "2025-01-12T19:04:56.103Z"
   },
   {
    "duration": 3,
    "start_time": "2025-01-12T19:04:56.335Z"
   },
   {
    "duration": 20,
    "start_time": "2025-01-12T19:04:56.340Z"
   },
   {
    "duration": 30,
    "start_time": "2025-01-12T19:04:56.361Z"
   },
   {
    "duration": 73,
    "start_time": "2025-01-12T19:04:56.394Z"
   },
   {
    "duration": 45,
    "start_time": "2025-01-12T19:04:56.469Z"
   },
   {
    "duration": 28,
    "start_time": "2025-01-12T19:04:56.515Z"
   },
   {
    "duration": 8,
    "start_time": "2025-01-12T19:04:56.544Z"
   },
   {
    "duration": 3,
    "start_time": "2025-01-12T19:04:56.554Z"
   },
   {
    "duration": 5,
    "start_time": "2025-01-12T19:04:56.558Z"
   },
   {
    "duration": 17288,
    "start_time": "2025-01-12T19:04:56.565Z"
   },
   {
    "duration": 2,
    "start_time": "2025-01-12T19:05:13.855Z"
   },
   {
    "duration": 41,
    "start_time": "2025-01-12T19:05:13.859Z"
   },
   {
    "duration": 41,
    "start_time": "2025-01-12T19:05:13.901Z"
   },
   {
    "duration": 5,
    "start_time": "2025-01-12T19:05:13.944Z"
   },
   {
    "duration": 372,
    "start_time": "2025-01-12T19:05:13.951Z"
   },
   {
    "duration": 28,
    "start_time": "2025-01-12T19:05:14.324Z"
   },
   {
    "duration": 2756,
    "start_time": "2025-01-12T19:05:14.353Z"
   },
   {
    "duration": 9,
    "start_time": "2025-01-12T19:05:17.111Z"
   },
   {
    "duration": 7,
    "start_time": "2025-01-12T19:05:17.121Z"
   },
   {
    "duration": 5,
    "start_time": "2025-01-12T19:05:17.129Z"
   },
   {
    "duration": 16,
    "start_time": "2025-01-12T19:05:17.135Z"
   },
   {
    "duration": 12,
    "start_time": "2025-01-12T19:05:17.152Z"
   },
   {
    "duration": 5,
    "start_time": "2025-01-12T19:05:17.166Z"
   },
   {
    "duration": 17,
    "start_time": "2025-01-12T19:05:17.172Z"
   },
   {
    "duration": 31,
    "start_time": "2025-01-12T19:05:17.190Z"
   },
   {
    "duration": 4,
    "start_time": "2025-01-12T19:05:17.223Z"
   },
   {
    "duration": 6,
    "start_time": "2025-01-12T19:05:17.228Z"
   },
   {
    "duration": 7,
    "start_time": "2025-01-12T19:05:17.235Z"
   },
   {
    "duration": 7,
    "start_time": "2025-01-12T19:07:57.963Z"
   },
   {
    "duration": 1322,
    "start_time": "2025-01-12T19:07:57.972Z"
   },
   {
    "duration": 2,
    "start_time": "2025-01-12T19:07:59.295Z"
   },
   {
    "duration": 8,
    "start_time": "2025-01-12T19:07:59.299Z"
   },
   {
    "duration": 65,
    "start_time": "2025-01-12T19:07:59.309Z"
   },
   {
    "duration": 11,
    "start_time": "2025-01-12T19:07:59.375Z"
   },
   {
    "duration": 9,
    "start_time": "2025-01-12T19:07:59.388Z"
   },
   {
    "duration": 10,
    "start_time": "2025-01-12T19:07:59.398Z"
   },
   {
    "duration": 740,
    "start_time": "2025-01-12T19:07:59.409Z"
   },
   {
    "duration": 237,
    "start_time": "2025-01-12T19:08:00.151Z"
   },
   {
    "duration": 5,
    "start_time": "2025-01-12T19:08:00.390Z"
   },
   {
    "duration": 97,
    "start_time": "2025-01-12T19:08:00.397Z"
   },
   {
    "duration": 101,
    "start_time": "2025-01-12T19:08:00.496Z"
   },
   {
    "duration": 29,
    "start_time": "2025-01-12T19:08:00.601Z"
   },
   {
    "duration": 74,
    "start_time": "2025-01-12T19:08:00.632Z"
   },
   {
    "duration": 31,
    "start_time": "2025-01-12T19:08:00.707Z"
   },
   {
    "duration": 27,
    "start_time": "2025-01-12T19:08:00.740Z"
   },
   {
    "duration": 22,
    "start_time": "2025-01-12T19:08:00.768Z"
   },
   {
    "duration": 130,
    "start_time": "2025-01-12T19:08:00.791Z"
   },
   {
    "duration": 0,
    "start_time": "2025-01-12T19:08:00.922Z"
   },
   {
    "duration": 0,
    "start_time": "2025-01-12T19:08:00.924Z"
   },
   {
    "duration": 0,
    "start_time": "2025-01-12T19:08:00.925Z"
   },
   {
    "duration": 0,
    "start_time": "2025-01-12T19:08:00.927Z"
   },
   {
    "duration": 0,
    "start_time": "2025-01-12T19:08:00.929Z"
   },
   {
    "duration": 0,
    "start_time": "2025-01-12T19:08:00.930Z"
   },
   {
    "duration": 0,
    "start_time": "2025-01-12T19:08:00.931Z"
   },
   {
    "duration": 0,
    "start_time": "2025-01-12T19:08:00.933Z"
   },
   {
    "duration": 0,
    "start_time": "2025-01-12T19:08:00.934Z"
   },
   {
    "duration": 0,
    "start_time": "2025-01-12T19:08:00.936Z"
   },
   {
    "duration": 0,
    "start_time": "2025-01-12T19:08:00.937Z"
   },
   {
    "duration": 0,
    "start_time": "2025-01-12T19:08:00.938Z"
   },
   {
    "duration": 0,
    "start_time": "2025-01-12T19:08:00.940Z"
   },
   {
    "duration": 0,
    "start_time": "2025-01-12T19:08:00.942Z"
   },
   {
    "duration": 0,
    "start_time": "2025-01-12T19:08:00.943Z"
   },
   {
    "duration": 0,
    "start_time": "2025-01-12T19:08:00.945Z"
   },
   {
    "duration": 0,
    "start_time": "2025-01-12T19:08:00.946Z"
   },
   {
    "duration": 0,
    "start_time": "2025-01-12T19:08:00.947Z"
   },
   {
    "duration": 0,
    "start_time": "2025-01-12T19:08:00.948Z"
   },
   {
    "duration": 8,
    "start_time": "2025-01-12T19:08:44.114Z"
   },
   {
    "duration": 1381,
    "start_time": "2025-01-12T19:08:44.123Z"
   },
   {
    "duration": 2,
    "start_time": "2025-01-12T19:08:45.506Z"
   },
   {
    "duration": 8,
    "start_time": "2025-01-12T19:08:45.509Z"
   },
   {
    "duration": 67,
    "start_time": "2025-01-12T19:08:45.522Z"
   },
   {
    "duration": 11,
    "start_time": "2025-01-12T19:08:45.590Z"
   },
   {
    "duration": 17,
    "start_time": "2025-01-12T19:08:45.602Z"
   },
   {
    "duration": 9,
    "start_time": "2025-01-12T19:08:45.620Z"
   },
   {
    "duration": 716,
    "start_time": "2025-01-12T19:08:45.631Z"
   },
   {
    "duration": 228,
    "start_time": "2025-01-12T19:08:46.348Z"
   },
   {
    "duration": 3,
    "start_time": "2025-01-12T19:08:46.578Z"
   },
   {
    "duration": 34,
    "start_time": "2025-01-12T19:08:46.583Z"
   },
   {
    "duration": 23,
    "start_time": "2025-01-12T19:08:46.618Z"
   },
   {
    "duration": 15,
    "start_time": "2025-01-12T19:08:46.644Z"
   },
   {
    "duration": 20,
    "start_time": "2025-01-12T19:08:46.660Z"
   },
   {
    "duration": 6,
    "start_time": "2025-01-12T19:08:46.681Z"
   },
   {
    "duration": 4,
    "start_time": "2025-01-12T19:08:46.688Z"
   },
   {
    "duration": 4,
    "start_time": "2025-01-12T19:08:46.694Z"
   },
   {
    "duration": 10,
    "start_time": "2025-01-12T19:08:46.699Z"
   },
   {
    "duration": 13641,
    "start_time": "2025-01-12T19:08:46.710Z"
   },
   {
    "duration": 3,
    "start_time": "2025-01-12T19:09:00.352Z"
   },
   {
    "duration": 30,
    "start_time": "2025-01-12T19:09:00.356Z"
   },
   {
    "duration": 40,
    "start_time": "2025-01-12T19:09:00.387Z"
   },
   {
    "duration": 23,
    "start_time": "2025-01-12T19:09:00.428Z"
   },
   {
    "duration": 78,
    "start_time": "2025-01-12T19:09:00.453Z"
   },
   {
    "duration": 100,
    "start_time": "2025-01-12T19:09:00.533Z"
   },
   {
    "duration": 2917,
    "start_time": "2025-01-12T19:09:00.635Z"
   },
   {
    "duration": 12,
    "start_time": "2025-01-12T19:09:03.554Z"
   },
   {
    "duration": 4,
    "start_time": "2025-01-12T19:09:03.568Z"
   },
   {
    "duration": 27,
    "start_time": "2025-01-12T19:09:03.574Z"
   },
   {
    "duration": 35,
    "start_time": "2025-01-12T19:09:03.602Z"
   },
   {
    "duration": 19,
    "start_time": "2025-01-12T19:09:03.638Z"
   },
   {
    "duration": 6,
    "start_time": "2025-01-12T19:09:03.659Z"
   },
   {
    "duration": 29,
    "start_time": "2025-01-12T19:09:03.666Z"
   },
   {
    "duration": 3,
    "start_time": "2025-01-12T19:09:03.696Z"
   },
   {
    "duration": 25,
    "start_time": "2025-01-12T19:09:03.700Z"
   },
   {
    "duration": 24,
    "start_time": "2025-01-12T19:09:03.726Z"
   },
   {
    "duration": 8,
    "start_time": "2025-01-12T19:09:03.751Z"
   },
   {
    "duration": 8,
    "start_time": "2025-01-12T19:10:37.779Z"
   },
   {
    "duration": 1373,
    "start_time": "2025-01-12T19:10:37.788Z"
   },
   {
    "duration": 2,
    "start_time": "2025-01-12T19:10:39.163Z"
   },
   {
    "duration": 14,
    "start_time": "2025-01-12T19:10:39.166Z"
   },
   {
    "duration": 79,
    "start_time": "2025-01-12T19:10:39.182Z"
   },
   {
    "duration": 10,
    "start_time": "2025-01-12T19:10:39.262Z"
   },
   {
    "duration": 7,
    "start_time": "2025-01-12T19:10:39.274Z"
   },
   {
    "duration": 10,
    "start_time": "2025-01-12T19:10:39.283Z"
   },
   {
    "duration": 751,
    "start_time": "2025-01-12T19:10:39.294Z"
   },
   {
    "duration": 236,
    "start_time": "2025-01-12T19:10:40.048Z"
   },
   {
    "duration": 4,
    "start_time": "2025-01-12T19:10:40.286Z"
   },
   {
    "duration": 21,
    "start_time": "2025-01-12T19:10:40.291Z"
   },
   {
    "duration": 17,
    "start_time": "2025-01-12T19:10:40.313Z"
   },
   {
    "duration": 13,
    "start_time": "2025-01-12T19:10:40.333Z"
   },
   {
    "duration": 5,
    "start_time": "2025-01-12T19:10:40.347Z"
   },
   {
    "duration": 5,
    "start_time": "2025-01-12T19:10:40.353Z"
   },
   {
    "duration": 4,
    "start_time": "2025-01-12T19:10:40.359Z"
   },
   {
    "duration": 12,
    "start_time": "2025-01-12T19:10:40.364Z"
   },
   {
    "duration": 16,
    "start_time": "2025-01-12T19:10:40.377Z"
   },
   {
    "duration": 22457,
    "start_time": "2025-01-12T19:10:40.394Z"
   },
   {
    "duration": 3,
    "start_time": "2025-01-12T19:11:02.853Z"
   },
   {
    "duration": 7,
    "start_time": "2025-01-12T19:11:02.858Z"
   },
   {
    "duration": 58,
    "start_time": "2025-01-12T19:11:02.866Z"
   },
   {
    "duration": 3,
    "start_time": "2025-01-12T19:11:02.925Z"
   },
   {
    "duration": 194,
    "start_time": "2025-01-12T19:11:02.930Z"
   },
   {
    "duration": 29,
    "start_time": "2025-01-12T19:11:03.126Z"
   },
   {
    "duration": 2646,
    "start_time": "2025-01-12T19:11:03.156Z"
   },
   {
    "duration": 5,
    "start_time": "2025-01-12T19:11:05.804Z"
   },
   {
    "duration": 14,
    "start_time": "2025-01-12T19:11:05.811Z"
   },
   {
    "duration": 25,
    "start_time": "2025-01-12T19:11:05.826Z"
   },
   {
    "duration": 16,
    "start_time": "2025-01-12T19:11:05.853Z"
   },
   {
    "duration": 23,
    "start_time": "2025-01-12T19:11:05.871Z"
   },
   {
    "duration": 5,
    "start_time": "2025-01-12T19:11:05.896Z"
   },
   {
    "duration": 19,
    "start_time": "2025-01-12T19:11:05.903Z"
   },
   {
    "duration": 7,
    "start_time": "2025-01-12T19:11:05.924Z"
   },
   {
    "duration": 5,
    "start_time": "2025-01-12T19:11:05.933Z"
   },
   {
    "duration": 6,
    "start_time": "2025-01-12T19:11:05.939Z"
   },
   {
    "duration": 13,
    "start_time": "2025-01-12T19:11:05.946Z"
   },
   {
    "duration": 7,
    "start_time": "2025-01-12T19:11:46.483Z"
   },
   {
    "duration": 1413,
    "start_time": "2025-01-12T19:11:46.492Z"
   },
   {
    "duration": 3,
    "start_time": "2025-01-12T19:11:47.907Z"
   },
   {
    "duration": 13,
    "start_time": "2025-01-12T19:11:47.911Z"
   },
   {
    "duration": 79,
    "start_time": "2025-01-12T19:11:47.926Z"
   },
   {
    "duration": 10,
    "start_time": "2025-01-12T19:11:48.007Z"
   },
   {
    "duration": 8,
    "start_time": "2025-01-12T19:11:48.018Z"
   },
   {
    "duration": 8,
    "start_time": "2025-01-12T19:11:48.027Z"
   },
   {
    "duration": 728,
    "start_time": "2025-01-12T19:11:48.036Z"
   },
   {
    "duration": 226,
    "start_time": "2025-01-12T19:11:48.765Z"
   },
   {
    "duration": 4,
    "start_time": "2025-01-12T19:11:48.992Z"
   },
   {
    "duration": 24,
    "start_time": "2025-01-12T19:11:48.997Z"
   },
   {
    "duration": 9,
    "start_time": "2025-01-12T19:11:49.023Z"
   },
   {
    "duration": 28,
    "start_time": "2025-01-12T19:11:49.035Z"
   },
   {
    "duration": 7,
    "start_time": "2025-01-12T19:11:49.064Z"
   },
   {
    "duration": 4,
    "start_time": "2025-01-12T19:11:49.072Z"
   },
   {
    "duration": 4,
    "start_time": "2025-01-12T19:11:49.077Z"
   },
   {
    "duration": 4,
    "start_time": "2025-01-12T19:11:49.082Z"
   },
   {
    "duration": 6,
    "start_time": "2025-01-12T19:11:49.087Z"
   },
   {
    "duration": 21558,
    "start_time": "2025-01-12T19:11:49.094Z"
   },
   {
    "duration": 3,
    "start_time": "2025-01-12T19:12:10.654Z"
   },
   {
    "duration": 5,
    "start_time": "2025-01-12T19:12:10.658Z"
   },
   {
    "duration": 58,
    "start_time": "2025-01-12T19:12:10.664Z"
   },
   {
    "duration": 3,
    "start_time": "2025-01-12T19:12:10.723Z"
   },
   {
    "duration": 99,
    "start_time": "2025-01-12T19:12:10.728Z"
   },
   {
    "duration": 29,
    "start_time": "2025-01-12T19:12:10.829Z"
   },
   {
    "duration": 2892,
    "start_time": "2025-01-12T19:12:10.860Z"
   },
   {
    "duration": 9,
    "start_time": "2025-01-12T19:12:13.753Z"
   },
   {
    "duration": 11,
    "start_time": "2025-01-12T19:12:13.764Z"
   },
   {
    "duration": 8,
    "start_time": "2025-01-12T19:12:13.776Z"
   },
   {
    "duration": 45,
    "start_time": "2025-01-12T19:12:13.785Z"
   },
   {
    "duration": 8,
    "start_time": "2025-01-12T19:12:13.831Z"
   },
   {
    "duration": 9,
    "start_time": "2025-01-12T19:12:13.841Z"
   },
   {
    "duration": 5,
    "start_time": "2025-01-12T19:12:13.851Z"
   },
   {
    "duration": 3,
    "start_time": "2025-01-12T19:12:13.858Z"
   },
   {
    "duration": 10,
    "start_time": "2025-01-12T19:12:13.862Z"
   },
   {
    "duration": 43,
    "start_time": "2025-01-12T19:12:13.873Z"
   },
   {
    "duration": 11,
    "start_time": "2025-01-12T19:12:13.917Z"
   },
   {
    "duration": 18,
    "start_time": "2025-01-12T19:12:32.907Z"
   },
   {
    "duration": 5,
    "start_time": "2025-01-12T19:13:26.550Z"
   },
   {
    "duration": 8,
    "start_time": "2025-01-12T19:14:21.519Z"
   },
   {
    "duration": 1638,
    "start_time": "2025-01-12T19:14:21.529Z"
   },
   {
    "duration": 3,
    "start_time": "2025-01-12T19:14:23.168Z"
   },
   {
    "duration": 4,
    "start_time": "2025-01-12T19:14:23.173Z"
   },
   {
    "duration": 63,
    "start_time": "2025-01-12T19:14:23.178Z"
   },
   {
    "duration": 11,
    "start_time": "2025-01-12T19:14:23.242Z"
   },
   {
    "duration": 9,
    "start_time": "2025-01-12T19:14:23.254Z"
   },
   {
    "duration": 9,
    "start_time": "2025-01-12T19:14:23.264Z"
   },
   {
    "duration": 749,
    "start_time": "2025-01-12T19:14:23.274Z"
   },
   {
    "duration": 222,
    "start_time": "2025-01-12T19:14:24.026Z"
   },
   {
    "duration": 4,
    "start_time": "2025-01-12T19:14:24.249Z"
   },
   {
    "duration": 23,
    "start_time": "2025-01-12T19:14:24.254Z"
   },
   {
    "duration": 9,
    "start_time": "2025-01-12T19:14:24.278Z"
   },
   {
    "duration": 20,
    "start_time": "2025-01-12T19:14:24.289Z"
   },
   {
    "duration": 15,
    "start_time": "2025-01-12T19:14:24.310Z"
   },
   {
    "duration": 8,
    "start_time": "2025-01-12T19:14:24.326Z"
   },
   {
    "duration": 4,
    "start_time": "2025-01-12T19:14:24.336Z"
   },
   {
    "duration": 5,
    "start_time": "2025-01-12T19:14:24.342Z"
   },
   {
    "duration": 6,
    "start_time": "2025-01-12T19:14:24.348Z"
   },
   {
    "duration": 4,
    "start_time": "2025-01-12T19:14:24.355Z"
   },
   {
    "duration": 4,
    "start_time": "2025-01-12T19:14:24.360Z"
   },
   {
    "duration": 21479,
    "start_time": "2025-01-12T19:14:24.365Z"
   },
   {
    "duration": 3,
    "start_time": "2025-01-12T19:14:45.846Z"
   },
   {
    "duration": 8,
    "start_time": "2025-01-12T19:14:45.850Z"
   },
   {
    "duration": 13,
    "start_time": "2025-01-12T19:14:45.859Z"
   },
   {
    "duration": 2,
    "start_time": "2025-01-12T19:14:45.873Z"
   },
   {
    "duration": 251,
    "start_time": "2025-01-12T19:14:45.877Z"
   },
   {
    "duration": 28,
    "start_time": "2025-01-12T19:14:46.130Z"
   },
   {
    "duration": 2877,
    "start_time": "2025-01-12T19:14:46.159Z"
   },
   {
    "duration": 9,
    "start_time": "2025-01-12T19:14:49.038Z"
   },
   {
    "duration": 4,
    "start_time": "2025-01-12T19:14:49.049Z"
   },
   {
    "duration": 6,
    "start_time": "2025-01-12T19:14:49.054Z"
   },
   {
    "duration": 68,
    "start_time": "2025-01-12T19:14:49.062Z"
   },
   {
    "duration": 8,
    "start_time": "2025-01-12T19:14:49.132Z"
   },
   {
    "duration": 8,
    "start_time": "2025-01-12T19:14:49.142Z"
   },
   {
    "duration": 4,
    "start_time": "2025-01-12T19:14:49.151Z"
   },
   {
    "duration": 3,
    "start_time": "2025-01-12T19:14:49.157Z"
   },
   {
    "duration": 5,
    "start_time": "2025-01-12T19:14:49.221Z"
   },
   {
    "duration": 6,
    "start_time": "2025-01-12T19:14:49.228Z"
   },
   {
    "duration": 7,
    "start_time": "2025-01-12T19:14:49.236Z"
   },
   {
    "duration": 7,
    "start_time": "2025-01-12T19:17:54.661Z"
   },
   {
    "duration": 1510,
    "start_time": "2025-01-12T19:17:54.669Z"
   },
   {
    "duration": 3,
    "start_time": "2025-01-12T19:17:56.180Z"
   },
   {
    "duration": 25,
    "start_time": "2025-01-12T19:17:56.184Z"
   },
   {
    "duration": 74,
    "start_time": "2025-01-12T19:17:56.211Z"
   },
   {
    "duration": 10,
    "start_time": "2025-01-12T19:17:56.287Z"
   },
   {
    "duration": 16,
    "start_time": "2025-01-12T19:17:56.298Z"
   },
   {
    "duration": 8,
    "start_time": "2025-01-12T19:17:56.315Z"
   },
   {
    "duration": 730,
    "start_time": "2025-01-12T19:17:56.324Z"
   },
   {
    "duration": 230,
    "start_time": "2025-01-12T19:17:57.055Z"
   },
   {
    "duration": 4,
    "start_time": "2025-01-12T19:17:57.286Z"
   },
   {
    "duration": 15,
    "start_time": "2025-01-12T19:17:57.291Z"
   },
   {
    "duration": 22,
    "start_time": "2025-01-12T19:17:57.307Z"
   },
   {
    "duration": 11,
    "start_time": "2025-01-12T19:17:57.332Z"
   },
   {
    "duration": 6,
    "start_time": "2025-01-12T19:17:57.345Z"
   },
   {
    "duration": 5,
    "start_time": "2025-01-12T19:17:57.353Z"
   },
   {
    "duration": 5,
    "start_time": "2025-01-12T19:17:57.359Z"
   },
   {
    "duration": 4,
    "start_time": "2025-01-12T19:17:57.366Z"
   },
   {
    "duration": 3,
    "start_time": "2025-01-12T19:17:57.372Z"
   },
   {
    "duration": 4,
    "start_time": "2025-01-12T19:17:57.377Z"
   },
   {
    "duration": 3,
    "start_time": "2025-01-12T19:17:57.382Z"
   },
   {
    "duration": 140167,
    "start_time": "2025-01-12T19:17:57.387Z"
   },
   {
    "duration": 2,
    "start_time": "2025-01-12T19:20:17.556Z"
   },
   {
    "duration": 10,
    "start_time": "2025-01-12T19:20:17.559Z"
   },
   {
    "duration": 31,
    "start_time": "2025-01-12T19:20:17.570Z"
   },
   {
    "duration": 3,
    "start_time": "2025-01-12T19:20:17.603Z"
   },
   {
    "duration": 1696,
    "start_time": "2025-01-12T19:20:17.607Z"
   },
   {
    "duration": 29,
    "start_time": "2025-01-12T19:20:19.305Z"
   },
   {
    "duration": 2809,
    "start_time": "2025-01-12T19:20:19.336Z"
   },
   {
    "duration": 16,
    "start_time": "2025-01-12T19:20:22.147Z"
   },
   {
    "duration": 18,
    "start_time": "2025-01-12T19:20:22.164Z"
   },
   {
    "duration": 39,
    "start_time": "2025-01-12T19:20:22.183Z"
   },
   {
    "duration": 49,
    "start_time": "2025-01-12T19:20:22.224Z"
   },
   {
    "duration": 34,
    "start_time": "2025-01-12T19:20:22.275Z"
   },
   {
    "duration": 21,
    "start_time": "2025-01-12T19:20:22.310Z"
   },
   {
    "duration": 29,
    "start_time": "2025-01-12T19:20:22.333Z"
   },
   {
    "duration": 32,
    "start_time": "2025-01-12T19:20:22.364Z"
   },
   {
    "duration": 70,
    "start_time": "2025-01-12T19:20:22.401Z"
   },
   {
    "duration": 36,
    "start_time": "2025-01-12T19:20:22.472Z"
   },
   {
    "duration": 51,
    "start_time": "2025-01-12T19:20:22.510Z"
   },
   {
    "duration": 7,
    "start_time": "2025-01-12T19:28:48.013Z"
   },
   {
    "duration": 1354,
    "start_time": "2025-01-12T19:28:48.022Z"
   },
   {
    "duration": 2,
    "start_time": "2025-01-12T19:28:49.378Z"
   },
   {
    "duration": 23,
    "start_time": "2025-01-12T19:28:49.382Z"
   },
   {
    "duration": 104,
    "start_time": "2025-01-12T19:28:49.407Z"
   },
   {
    "duration": 10,
    "start_time": "2025-01-12T19:28:49.513Z"
   },
   {
    "duration": 17,
    "start_time": "2025-01-12T19:28:49.524Z"
   },
   {
    "duration": 28,
    "start_time": "2025-01-12T19:28:49.543Z"
   },
   {
    "duration": 706,
    "start_time": "2025-01-12T19:28:49.573Z"
   },
   {
    "duration": 234,
    "start_time": "2025-01-12T19:28:50.280Z"
   },
   {
    "duration": 6,
    "start_time": "2025-01-12T19:28:50.516Z"
   },
   {
    "duration": 41,
    "start_time": "2025-01-12T19:28:50.523Z"
   },
   {
    "duration": 42,
    "start_time": "2025-01-12T19:28:50.566Z"
   },
   {
    "duration": 21,
    "start_time": "2025-01-12T19:28:50.611Z"
   },
   {
    "duration": 18,
    "start_time": "2025-01-12T19:28:50.633Z"
   },
   {
    "duration": 18,
    "start_time": "2025-01-12T19:28:50.652Z"
   },
   {
    "duration": 29,
    "start_time": "2025-01-12T19:28:50.671Z"
   },
   {
    "duration": 18,
    "start_time": "2025-01-12T19:28:50.701Z"
   },
   {
    "duration": 28,
    "start_time": "2025-01-12T19:28:50.721Z"
   },
   {
    "duration": 26,
    "start_time": "2025-01-12T19:28:50.750Z"
   },
   {
    "duration": 30,
    "start_time": "2025-01-12T19:28:50.778Z"
   },
   {
    "duration": 7,
    "start_time": "2025-01-12T19:30:10.288Z"
   },
   {
    "duration": 1392,
    "start_time": "2025-01-12T19:30:10.297Z"
   },
   {
    "duration": 3,
    "start_time": "2025-01-12T19:30:11.690Z"
   },
   {
    "duration": 15,
    "start_time": "2025-01-12T19:30:11.694Z"
   },
   {
    "duration": 69,
    "start_time": "2025-01-12T19:30:11.711Z"
   },
   {
    "duration": 11,
    "start_time": "2025-01-12T19:30:11.781Z"
   },
   {
    "duration": 8,
    "start_time": "2025-01-12T19:30:11.793Z"
   },
   {
    "duration": 9,
    "start_time": "2025-01-12T19:30:11.802Z"
   },
   {
    "duration": 755,
    "start_time": "2025-01-12T19:30:11.812Z"
   },
   {
    "duration": 227,
    "start_time": "2025-01-12T19:30:12.568Z"
   },
   {
    "duration": 4,
    "start_time": "2025-01-12T19:30:12.796Z"
   },
   {
    "duration": 22,
    "start_time": "2025-01-12T19:30:12.801Z"
   },
   {
    "duration": 9,
    "start_time": "2025-01-12T19:30:12.824Z"
   },
   {
    "duration": 12,
    "start_time": "2025-01-12T19:30:12.836Z"
   },
   {
    "duration": 14,
    "start_time": "2025-01-12T19:30:12.849Z"
   },
   {
    "duration": 5,
    "start_time": "2025-01-12T19:30:12.864Z"
   },
   {
    "duration": 6,
    "start_time": "2025-01-12T19:30:12.870Z"
   },
   {
    "duration": 4,
    "start_time": "2025-01-12T19:30:12.877Z"
   },
   {
    "duration": 11,
    "start_time": "2025-01-12T19:30:12.882Z"
   },
   {
    "duration": 13,
    "start_time": "2025-01-12T19:30:12.895Z"
   },
   {
    "duration": 2,
    "start_time": "2025-01-12T19:30:12.910Z"
   },
   {
    "duration": 154721,
    "start_time": "2025-01-12T19:30:12.921Z"
   },
   {
    "duration": 3,
    "start_time": "2025-01-12T19:32:47.643Z"
   },
   {
    "duration": 12,
    "start_time": "2025-01-12T19:32:47.647Z"
   },
   {
    "duration": 13,
    "start_time": "2025-01-12T19:32:47.660Z"
   },
   {
    "duration": 13,
    "start_time": "2025-01-12T19:32:47.675Z"
   },
   {
    "duration": 2261,
    "start_time": "2025-01-12T19:32:47.689Z"
   },
   {
    "duration": 28,
    "start_time": "2025-01-12T19:32:49.952Z"
   },
   {
    "duration": 2738,
    "start_time": "2025-01-12T19:32:49.981Z"
   },
   {
    "duration": 16,
    "start_time": "2025-01-12T19:32:52.720Z"
   },
   {
    "duration": 4,
    "start_time": "2025-01-12T19:32:52.737Z"
   },
   {
    "duration": 5,
    "start_time": "2025-01-12T19:32:52.742Z"
   },
   {
    "duration": 18,
    "start_time": "2025-01-12T19:32:52.748Z"
   },
   {
    "duration": 26,
    "start_time": "2025-01-12T19:32:52.768Z"
   },
   {
    "duration": 5,
    "start_time": "2025-01-12T19:32:52.796Z"
   },
   {
    "duration": 6,
    "start_time": "2025-01-12T19:32:52.803Z"
   },
   {
    "duration": 4,
    "start_time": "2025-01-12T19:32:52.810Z"
   },
   {
    "duration": 6,
    "start_time": "2025-01-12T19:32:52.822Z"
   },
   {
    "duration": 26,
    "start_time": "2025-01-12T19:32:52.829Z"
   },
   {
    "duration": 17,
    "start_time": "2025-01-12T19:32:52.856Z"
   },
   {
    "duration": 7,
    "start_time": "2025-01-13T10:16:07.141Z"
   },
   {
    "duration": 1633,
    "start_time": "2025-01-13T10:16:08.821Z"
   },
   {
    "duration": 2,
    "start_time": "2025-01-13T10:16:10.456Z"
   },
   {
    "duration": 3,
    "start_time": "2025-01-13T10:16:11.721Z"
   },
   {
    "duration": 113,
    "start_time": "2025-01-13T10:16:12.803Z"
   },
   {
    "duration": 11,
    "start_time": "2025-01-13T10:16:14.513Z"
   },
   {
    "duration": 9,
    "start_time": "2025-01-13T10:16:15.902Z"
   },
   {
    "duration": 9,
    "start_time": "2025-01-13T10:16:17.622Z"
   },
   {
    "duration": 763,
    "start_time": "2025-01-13T10:16:18.501Z"
   },
   {
    "duration": 218,
    "start_time": "2025-01-13T10:16:22.381Z"
   },
   {
    "duration": 6,
    "start_time": "2025-01-13T10:16:23.461Z"
   },
   {
    "duration": 196,
    "start_time": "2025-01-13T10:16:26.620Z"
   },
   {
    "duration": 6,
    "start_time": "2025-01-13T10:34:54.266Z"
   },
   {
    "duration": 1492,
    "start_time": "2025-01-13T10:34:54.274Z"
   },
   {
    "duration": 2,
    "start_time": "2025-01-13T10:34:55.768Z"
   },
   {
    "duration": 34,
    "start_time": "2025-01-13T10:34:55.771Z"
   },
   {
    "duration": 79,
    "start_time": "2025-01-13T10:34:55.807Z"
   },
   {
    "duration": 10,
    "start_time": "2025-01-13T10:34:55.888Z"
   },
   {
    "duration": 9,
    "start_time": "2025-01-13T10:34:55.900Z"
   },
   {
    "duration": 9,
    "start_time": "2025-01-13T10:34:55.911Z"
   },
   {
    "duration": 747,
    "start_time": "2025-01-13T10:34:55.922Z"
   },
   {
    "duration": 255,
    "start_time": "2025-01-13T10:34:56.670Z"
   },
   {
    "duration": 7,
    "start_time": "2025-01-13T10:34:56.927Z"
   },
   {
    "duration": 207,
    "start_time": "2025-01-13T10:34:56.935Z"
   },
   {
    "duration": 12,
    "start_time": "2025-01-13T10:34:57.144Z"
   },
   {
    "duration": 15,
    "start_time": "2025-01-13T10:34:57.158Z"
   },
   {
    "duration": 10,
    "start_time": "2025-01-13T10:34:57.174Z"
   },
   {
    "duration": 12,
    "start_time": "2025-01-13T10:34:57.186Z"
   },
   {
    "duration": 9,
    "start_time": "2025-01-13T10:34:57.199Z"
   },
   {
    "duration": 4,
    "start_time": "2025-01-13T10:34:57.209Z"
   },
   {
    "duration": 12,
    "start_time": "2025-01-13T10:34:57.214Z"
   },
   {
    "duration": 27,
    "start_time": "2025-01-13T10:34:57.227Z"
   },
   {
    "duration": 5,
    "start_time": "2025-01-13T10:34:57.255Z"
   },
   {
    "duration": 9,
    "start_time": "2025-01-13T10:34:57.261Z"
   },
   {
    "duration": 4,
    "start_time": "2025-01-13T10:34:57.272Z"
   },
   {
    "duration": 6,
    "start_time": "2025-01-13T10:34:57.277Z"
   },
   {
    "duration": 9,
    "start_time": "2025-01-13T10:34:57.284Z"
   },
   {
    "duration": 154779,
    "start_time": "2025-01-13T10:34:57.294Z"
   },
   {
    "duration": 3,
    "start_time": "2025-01-13T10:37:32.075Z"
   },
   {
    "duration": 31,
    "start_time": "2025-01-13T10:37:32.079Z"
   },
   {
    "duration": 16,
    "start_time": "2025-01-13T10:37:32.111Z"
   },
   {
    "duration": 1684,
    "start_time": "2025-01-13T10:37:32.129Z"
   },
   {
    "duration": 15,
    "start_time": "2025-01-13T10:37:33.815Z"
   },
   {
    "duration": 22,
    "start_time": "2025-01-13T10:37:33.831Z"
   },
   {
    "duration": 107,
    "start_time": "2025-01-13T10:37:33.854Z"
   },
   {
    "duration": 0,
    "start_time": "2025-01-13T10:37:33.963Z"
   },
   {
    "duration": 8,
    "start_time": "2025-01-13T10:38:56.180Z"
   },
   {
    "duration": 9,
    "start_time": "2025-01-13T10:39:33.740Z"
   },
   {
    "duration": 4,
    "start_time": "2025-01-13T10:39:34.432Z"
   },
   {
    "duration": 5,
    "start_time": "2025-01-13T10:39:35.340Z"
   },
   {
    "duration": 20,
    "start_time": "2025-01-13T10:40:06.241Z"
   },
   {
    "duration": 2,
    "start_time": "2025-01-13T10:40:25.660Z"
   },
   {
    "duration": 8,
    "start_time": "2025-01-13T10:41:55.021Z"
   },
   {
    "duration": 1386,
    "start_time": "2025-01-13T10:41:55.031Z"
   },
   {
    "duration": 3,
    "start_time": "2025-01-13T10:41:56.418Z"
   },
   {
    "duration": 3,
    "start_time": "2025-01-13T10:41:56.423Z"
   },
   {
    "duration": 65,
    "start_time": "2025-01-13T10:41:56.428Z"
   },
   {
    "duration": 11,
    "start_time": "2025-01-13T10:41:56.495Z"
   },
   {
    "duration": 8,
    "start_time": "2025-01-13T10:41:56.507Z"
   },
   {
    "duration": 9,
    "start_time": "2025-01-13T10:41:56.517Z"
   },
   {
    "duration": 768,
    "start_time": "2025-01-13T10:41:56.528Z"
   },
   {
    "duration": 230,
    "start_time": "2025-01-13T10:41:57.298Z"
   },
   {
    "duration": 6,
    "start_time": "2025-01-13T10:41:57.529Z"
   },
   {
    "duration": 221,
    "start_time": "2025-01-13T10:41:57.536Z"
   },
   {
    "duration": 4,
    "start_time": "2025-01-13T10:41:57.759Z"
   },
   {
    "duration": 16,
    "start_time": "2025-01-13T10:41:57.764Z"
   },
   {
    "duration": 11,
    "start_time": "2025-01-13T10:41:57.782Z"
   },
   {
    "duration": 72,
    "start_time": "2025-01-13T10:41:57.795Z"
   },
   {
    "duration": 35,
    "start_time": "2025-01-13T10:41:57.870Z"
   },
   {
    "duration": 5,
    "start_time": "2025-01-13T10:41:57.907Z"
   },
   {
    "duration": 5,
    "start_time": "2025-01-13T10:41:57.913Z"
   },
   {
    "duration": 6,
    "start_time": "2025-01-13T10:41:57.920Z"
   },
   {
    "duration": 4,
    "start_time": "2025-01-13T10:41:57.927Z"
   },
   {
    "duration": 3,
    "start_time": "2025-01-13T10:41:57.933Z"
   },
   {
    "duration": 4,
    "start_time": "2025-01-13T10:41:57.937Z"
   },
   {
    "duration": 10,
    "start_time": "2025-01-13T10:41:57.944Z"
   },
   {
    "duration": 4,
    "start_time": "2025-01-13T10:41:57.955Z"
   },
   {
    "duration": 153280,
    "start_time": "2025-01-13T10:41:57.960Z"
   },
   {
    "duration": 3,
    "start_time": "2025-01-13T10:44:31.242Z"
   },
   {
    "duration": 39,
    "start_time": "2025-01-13T10:44:31.246Z"
   },
   {
    "duration": 21,
    "start_time": "2025-01-13T10:44:31.286Z"
   },
   {
    "duration": 90,
    "start_time": "2025-01-13T10:44:31.309Z"
   },
   {
    "duration": 1864,
    "start_time": "2025-01-13T10:44:31.401Z"
   },
   {
    "duration": 15,
    "start_time": "2025-01-13T10:44:33.266Z"
   },
   {
    "duration": 17,
    "start_time": "2025-01-13T10:44:33.283Z"
   },
   {
    "duration": 110,
    "start_time": "2025-01-13T10:44:33.301Z"
   },
   {
    "duration": 0,
    "start_time": "2025-01-13T10:44:33.413Z"
   },
   {
    "duration": 4,
    "start_time": "2025-01-13T10:44:58.497Z"
   },
   {
    "duration": 4,
    "start_time": "2025-01-13T10:45:00.009Z"
   },
   {
    "duration": 14,
    "start_time": "2025-01-13T10:47:42.540Z"
   },
   {
    "duration": 3,
    "start_time": "2025-01-13T10:47:43.053Z"
   },
   {
    "duration": 2645,
    "start_time": "2025-01-13T10:47:43.701Z"
   },
   {
    "duration": 17,
    "start_time": "2025-01-13T10:47:46.349Z"
   },
   {
    "duration": 10,
    "start_time": "2025-01-13T10:47:48.320Z"
   },
   {
    "duration": 5,
    "start_time": "2025-01-13T10:47:48.860Z"
   },
   {
    "duration": 5,
    "start_time": "2025-01-13T10:47:49.293Z"
   },
   {
    "duration": 7,
    "start_time": "2025-01-13T10:54:17.037Z"
   },
   {
    "duration": 1402,
    "start_time": "2025-01-13T10:54:17.047Z"
   },
   {
    "duration": 2,
    "start_time": "2025-01-13T10:54:18.453Z"
   },
   {
    "duration": 5,
    "start_time": "2025-01-13T10:54:18.457Z"
   },
   {
    "duration": 74,
    "start_time": "2025-01-13T10:54:18.464Z"
   },
   {
    "duration": 11,
    "start_time": "2025-01-13T10:54:18.539Z"
   },
   {
    "duration": 9,
    "start_time": "2025-01-13T10:54:18.552Z"
   },
   {
    "duration": 9,
    "start_time": "2025-01-13T10:54:18.562Z"
   },
   {
    "duration": 741,
    "start_time": "2025-01-13T10:54:18.572Z"
   },
   {
    "duration": 231,
    "start_time": "2025-01-13T10:54:19.315Z"
   },
   {
    "duration": 10,
    "start_time": "2025-01-13T10:54:19.548Z"
   },
   {
    "duration": 211,
    "start_time": "2025-01-13T10:54:19.559Z"
   },
   {
    "duration": 4,
    "start_time": "2025-01-13T10:54:19.771Z"
   },
   {
    "duration": 14,
    "start_time": "2025-01-13T10:54:19.778Z"
   },
   {
    "duration": 10,
    "start_time": "2025-01-13T10:54:19.793Z"
   },
   {
    "duration": 12,
    "start_time": "2025-01-13T10:54:19.804Z"
   },
   {
    "duration": 5,
    "start_time": "2025-01-13T10:54:19.818Z"
   },
   {
    "duration": 32,
    "start_time": "2025-01-13T10:54:19.824Z"
   },
   {
    "duration": 7,
    "start_time": "2025-01-13T10:54:19.857Z"
   },
   {
    "duration": 7,
    "start_time": "2025-01-13T10:54:19.865Z"
   },
   {
    "duration": 7,
    "start_time": "2025-01-13T10:54:19.873Z"
   },
   {
    "duration": 3,
    "start_time": "2025-01-13T10:54:19.881Z"
   },
   {
    "duration": 4,
    "start_time": "2025-01-13T10:54:19.885Z"
   },
   {
    "duration": 7,
    "start_time": "2025-01-13T10:54:19.891Z"
   },
   {
    "duration": 5,
    "start_time": "2025-01-13T10:54:19.899Z"
   },
   {
    "duration": 159064,
    "start_time": "2025-01-13T10:54:19.905Z"
   },
   {
    "duration": 2,
    "start_time": "2025-01-13T10:56:58.971Z"
   },
   {
    "duration": 5,
    "start_time": "2025-01-13T10:56:58.974Z"
   },
   {
    "duration": 19,
    "start_time": "2025-01-13T10:56:58.980Z"
   },
   {
    "duration": 23,
    "start_time": "2025-01-13T10:56:59.000Z"
   },
   {
    "duration": 2,
    "start_time": "2025-01-13T10:56:59.024Z"
   },
   {
    "duration": 2636,
    "start_time": "2025-01-13T10:56:59.027Z"
   },
   {
    "duration": 15,
    "start_time": "2025-01-13T10:57:01.664Z"
   },
   {
    "duration": 8,
    "start_time": "2025-01-13T10:57:01.680Z"
   },
   {
    "duration": 46,
    "start_time": "2025-01-13T10:57:01.689Z"
   },
   {
    "duration": 5,
    "start_time": "2025-01-13T10:57:01.737Z"
   },
   {
    "duration": 8,
    "start_time": "2025-01-13T18:49:33.605Z"
   },
   {
    "duration": 1889,
    "start_time": "2025-01-13T18:49:33.615Z"
   },
   {
    "duration": 3,
    "start_time": "2025-01-13T18:49:35.506Z"
   },
   {
    "duration": 41,
    "start_time": "2025-01-13T18:49:35.511Z"
   },
   {
    "duration": 218,
    "start_time": "2025-01-13T18:49:35.555Z"
   },
   {
    "duration": 13,
    "start_time": "2025-01-13T18:49:35.776Z"
   },
   {
    "duration": 27,
    "start_time": "2025-01-13T18:49:35.791Z"
   },
   {
    "duration": 32,
    "start_time": "2025-01-13T18:49:35.820Z"
   },
   {
    "duration": 915,
    "start_time": "2025-01-13T18:49:35.854Z"
   },
   {
    "duration": 291,
    "start_time": "2025-01-13T18:49:36.771Z"
   },
   {
    "duration": 7,
    "start_time": "2025-01-13T18:49:37.064Z"
   },
   {
    "duration": 269,
    "start_time": "2025-01-13T18:49:37.073Z"
   },
   {
    "duration": 5,
    "start_time": "2025-01-13T18:49:37.345Z"
   },
   {
    "duration": 22,
    "start_time": "2025-01-13T18:49:37.359Z"
   },
   {
    "duration": 15,
    "start_time": "2025-01-13T18:49:37.383Z"
   },
   {
    "duration": 18,
    "start_time": "2025-01-13T18:49:37.400Z"
   },
   {
    "duration": 7,
    "start_time": "2025-01-13T18:49:37.419Z"
   },
   {
    "duration": 33,
    "start_time": "2025-01-13T18:49:37.428Z"
   },
   {
    "duration": 7,
    "start_time": "2025-01-13T18:49:37.463Z"
   },
   {
    "duration": 6,
    "start_time": "2025-01-13T18:49:37.472Z"
   },
   {
    "duration": 6,
    "start_time": "2025-01-13T18:49:37.480Z"
   },
   {
    "duration": 3,
    "start_time": "2025-01-13T18:49:37.488Z"
   },
   {
    "duration": 8,
    "start_time": "2025-01-13T18:49:37.493Z"
   },
   {
    "duration": 6,
    "start_time": "2025-01-13T18:49:37.503Z"
   },
   {
    "duration": 8,
    "start_time": "2025-01-13T18:49:37.511Z"
   },
   {
    "duration": 8,
    "start_time": "2025-01-13T18:51:38.769Z"
   },
   {
    "duration": 1648,
    "start_time": "2025-01-13T18:51:38.779Z"
   },
   {
    "duration": 3,
    "start_time": "2025-01-13T18:51:40.429Z"
   },
   {
    "duration": 12,
    "start_time": "2025-01-13T18:51:40.433Z"
   },
   {
    "duration": 13,
    "start_time": "2025-01-13T18:51:40.447Z"
   },
   {
    "duration": 70,
    "start_time": "2025-01-13T18:51:40.462Z"
   },
   {
    "duration": 13,
    "start_time": "2025-01-13T18:51:40.534Z"
   },
   {
    "duration": 11,
    "start_time": "2025-01-13T18:51:40.549Z"
   },
   {
    "duration": 11,
    "start_time": "2025-01-13T18:51:40.562Z"
   },
   {
    "duration": 885,
    "start_time": "2025-01-13T18:51:40.575Z"
   },
   {
    "duration": 583,
    "start_time": "2025-01-13T18:51:41.461Z"
   },
   {
    "duration": 8,
    "start_time": "2025-01-13T18:51:42.046Z"
   },
   {
    "duration": 441,
    "start_time": "2025-01-13T18:51:42.059Z"
   },
   {
    "duration": 4,
    "start_time": "2025-01-13T18:51:42.504Z"
   },
   {
    "duration": 16,
    "start_time": "2025-01-13T18:51:42.510Z"
   },
   {
    "duration": 12,
    "start_time": "2025-01-13T18:51:42.528Z"
   },
   {
    "duration": 16,
    "start_time": "2025-01-13T18:51:42.560Z"
   },
   {
    "duration": 7,
    "start_time": "2025-01-13T18:51:42.578Z"
   },
   {
    "duration": 7,
    "start_time": "2025-01-13T18:51:42.586Z"
   },
   {
    "duration": 5,
    "start_time": "2025-01-13T18:51:42.594Z"
   },
   {
    "duration": 6,
    "start_time": "2025-01-13T18:51:42.601Z"
   },
   {
    "duration": 6,
    "start_time": "2025-01-13T18:51:42.609Z"
   },
   {
    "duration": 43,
    "start_time": "2025-01-13T18:51:42.617Z"
   },
   {
    "duration": 7,
    "start_time": "2025-01-13T18:51:42.662Z"
   },
   {
    "duration": 8,
    "start_time": "2025-01-13T18:51:42.671Z"
   },
   {
    "duration": 5,
    "start_time": "2025-01-13T18:51:42.680Z"
   },
   {
    "duration": 8,
    "start_time": "2025-01-13T18:52:15.993Z"
   },
   {
    "duration": 1604,
    "start_time": "2025-01-13T18:52:16.003Z"
   },
   {
    "duration": 3,
    "start_time": "2025-01-13T18:52:17.608Z"
   },
   {
    "duration": 3,
    "start_time": "2025-01-13T18:52:17.614Z"
   },
   {
    "duration": 4,
    "start_time": "2025-01-13T18:52:17.619Z"
   },
   {
    "duration": 76,
    "start_time": "2025-01-13T18:52:17.625Z"
   },
   {
    "duration": 13,
    "start_time": "2025-01-13T18:52:17.703Z"
   },
   {
    "duration": 10,
    "start_time": "2025-01-13T18:52:17.717Z"
   },
   {
    "duration": 11,
    "start_time": "2025-01-13T18:52:17.729Z"
   },
   {
    "duration": 925,
    "start_time": "2025-01-13T18:52:17.760Z"
   },
   {
    "duration": 382,
    "start_time": "2025-01-13T18:52:18.687Z"
   },
   {
    "duration": 7,
    "start_time": "2025-01-13T18:52:19.071Z"
   },
   {
    "duration": 319,
    "start_time": "2025-01-13T18:52:19.080Z"
   },
   {
    "duration": 5,
    "start_time": "2025-01-13T18:52:19.401Z"
   },
   {
    "duration": 21,
    "start_time": "2025-01-13T18:52:19.407Z"
   },
   {
    "duration": 14,
    "start_time": "2025-01-13T18:52:19.430Z"
   },
   {
    "duration": 16,
    "start_time": "2025-01-13T18:52:19.460Z"
   },
   {
    "duration": 8,
    "start_time": "2025-01-13T18:52:19.478Z"
   },
   {
    "duration": 7,
    "start_time": "2025-01-13T18:52:19.488Z"
   },
   {
    "duration": 5,
    "start_time": "2025-01-13T18:52:19.496Z"
   },
   {
    "duration": 6,
    "start_time": "2025-01-13T18:52:19.503Z"
   },
   {
    "duration": 5,
    "start_time": "2025-01-13T18:52:19.511Z"
   },
   {
    "duration": 15,
    "start_time": "2025-01-13T18:52:19.518Z"
   },
   {
    "duration": 5,
    "start_time": "2025-01-13T18:52:19.559Z"
   },
   {
    "duration": 6,
    "start_time": "2025-01-13T18:52:19.566Z"
   },
   {
    "duration": 16,
    "start_time": "2025-01-13T18:52:19.574Z"
   },
   {
    "duration": 180403,
    "start_time": "2025-01-13T18:52:19.592Z"
   },
   {
    "duration": 3,
    "start_time": "2025-01-13T18:55:19.998Z"
   },
   {
    "duration": 8,
    "start_time": "2025-01-13T18:55:20.003Z"
   },
   {
    "duration": 64,
    "start_time": "2025-01-13T18:55:20.012Z"
   },
   {
    "duration": 44,
    "start_time": "2025-01-13T18:55:20.078Z"
   },
   {
    "duration": 3,
    "start_time": "2025-01-13T18:55:20.123Z"
   },
   {
    "duration": 3038,
    "start_time": "2025-01-13T18:55:20.128Z"
   },
   {
    "duration": 17,
    "start_time": "2025-01-13T18:55:23.167Z"
   },
   {
    "duration": 14,
    "start_time": "2025-01-13T18:55:23.186Z"
   },
   {
    "duration": 5,
    "start_time": "2025-01-13T18:55:23.202Z"
   },
   {
    "duration": 6,
    "start_time": "2025-01-13T18:55:23.208Z"
   },
   {
    "duration": 237,
    "start_time": "2025-01-13T19:08:28.565Z"
   },
   {
    "duration": 143,
    "start_time": "2025-01-13T19:08:45.142Z"
   },
   {
    "duration": 40,
    "start_time": "2025-01-13T19:14:25.072Z"
   },
   {
    "duration": 134,
    "start_time": "2025-01-13T19:14:41.115Z"
   },
   {
    "duration": 162,
    "start_time": "2025-01-13T19:15:08.049Z"
   },
   {
    "duration": 164,
    "start_time": "2025-01-13T19:15:34.532Z"
   },
   {
    "duration": 158,
    "start_time": "2025-01-13T19:15:42.157Z"
   },
   {
    "duration": 164,
    "start_time": "2025-01-13T19:16:34.626Z"
   },
   {
    "duration": 176,
    "start_time": "2025-01-13T19:16:53.170Z"
   },
   {
    "duration": 274,
    "start_time": "2025-01-13T19:17:12.098Z"
   },
   {
    "duration": 9,
    "start_time": "2025-01-13T19:19:08.334Z"
   },
   {
    "duration": 1654,
    "start_time": "2025-01-13T19:19:08.345Z"
   },
   {
    "duration": 4,
    "start_time": "2025-01-13T19:19:10.001Z"
   },
   {
    "duration": 24,
    "start_time": "2025-01-13T19:19:10.008Z"
   },
   {
    "duration": 13,
    "start_time": "2025-01-13T19:19:10.034Z"
   },
   {
    "duration": 76,
    "start_time": "2025-01-13T19:19:10.049Z"
   },
   {
    "duration": 14,
    "start_time": "2025-01-13T19:19:10.127Z"
   },
   {
    "duration": 10,
    "start_time": "2025-01-13T19:19:10.144Z"
   },
   {
    "duration": 4,
    "start_time": "2025-01-13T19:19:10.156Z"
   },
   {
    "duration": 12,
    "start_time": "2025-01-13T19:19:10.163Z"
   },
   {
    "duration": 890,
    "start_time": "2025-01-13T19:19:10.177Z"
   },
   {
    "duration": 355,
    "start_time": "2025-01-13T19:19:11.069Z"
   },
   {
    "duration": 7,
    "start_time": "2025-01-13T19:19:11.426Z"
   },
   {
    "duration": 277,
    "start_time": "2025-01-13T19:19:11.434Z"
   },
   {
    "duration": 21,
    "start_time": "2025-01-13T19:19:11.713Z"
   },
   {
    "duration": 29,
    "start_time": "2025-01-13T19:19:11.736Z"
   },
   {
    "duration": 27,
    "start_time": "2025-01-13T19:19:11.767Z"
   },
   {
    "duration": 53,
    "start_time": "2025-01-13T19:19:11.796Z"
   },
   {
    "duration": 162,
    "start_time": "2025-01-13T19:19:11.851Z"
   },
   {
    "duration": 184,
    "start_time": "2025-01-13T19:19:12.015Z"
   },
   {
    "duration": 169,
    "start_time": "2025-01-13T19:19:12.201Z"
   },
   {
    "duration": 8,
    "start_time": "2025-01-13T19:19:12.372Z"
   },
   {
    "duration": 13,
    "start_time": "2025-01-13T19:19:12.382Z"
   },
   {
    "duration": 5,
    "start_time": "2025-01-13T19:19:12.397Z"
   },
   {
    "duration": 13,
    "start_time": "2025-01-13T19:19:12.404Z"
   },
   {
    "duration": 11,
    "start_time": "2025-01-13T19:19:12.418Z"
   },
   {
    "duration": 28,
    "start_time": "2025-01-13T19:19:12.432Z"
   },
   {
    "duration": 4,
    "start_time": "2025-01-13T19:19:12.465Z"
   },
   {
    "duration": 17,
    "start_time": "2025-01-13T19:19:12.471Z"
   },
   {
    "duration": 10,
    "start_time": "2025-01-13T19:19:12.489Z"
   },
   {
    "duration": 175590,
    "start_time": "2025-01-13T19:19:12.501Z"
   },
   {
    "duration": 2,
    "start_time": "2025-01-13T19:22:08.093Z"
   },
   {
    "duration": 9,
    "start_time": "2025-01-13T19:22:08.097Z"
   },
   {
    "duration": 24,
    "start_time": "2025-01-13T19:22:08.108Z"
   },
   {
    "duration": 41,
    "start_time": "2025-01-13T19:22:08.134Z"
   },
   {
    "duration": 6,
    "start_time": "2025-01-13T19:22:08.177Z"
   },
   {
    "duration": 3231,
    "start_time": "2025-01-13T19:22:08.184Z"
   },
   {
    "duration": 18,
    "start_time": "2025-01-13T19:22:11.417Z"
   },
   {
    "duration": 11,
    "start_time": "2025-01-13T19:22:11.438Z"
   },
   {
    "duration": 10,
    "start_time": "2025-01-13T19:22:11.451Z"
   },
   {
    "duration": 18,
    "start_time": "2025-01-13T19:22:11.464Z"
   },
   {
    "duration": 3,
    "start_time": "2025-01-13T19:22:58.248Z"
   },
   {
    "duration": 470,
    "start_time": "2025-01-13T19:23:00.391Z"
   },
   {
    "duration": 8,
    "start_time": "2025-01-13T19:23:13.157Z"
   },
   {
    "duration": 11,
    "start_time": "2025-01-13T19:23:17.772Z"
   },
   {
    "duration": 7,
    "start_time": "2025-01-13T19:23:18.437Z"
   },
   {
    "duration": 5,
    "start_time": "2025-01-13T19:23:19.110Z"
   },
   {
    "duration": 7,
    "start_time": "2025-01-13T19:25:10.568Z"
   },
   {
    "duration": 1657,
    "start_time": "2025-01-13T19:25:10.578Z"
   },
   {
    "duration": 3,
    "start_time": "2025-01-13T19:25:12.236Z"
   },
   {
    "duration": 7,
    "start_time": "2025-01-13T19:25:12.241Z"
   },
   {
    "duration": 10,
    "start_time": "2025-01-13T19:25:12.250Z"
   },
   {
    "duration": 73,
    "start_time": "2025-01-13T19:25:12.262Z"
   },
   {
    "duration": 13,
    "start_time": "2025-01-13T19:25:12.337Z"
   },
   {
    "duration": 14,
    "start_time": "2025-01-13T19:25:12.352Z"
   },
   {
    "duration": 4,
    "start_time": "2025-01-13T19:25:12.368Z"
   },
   {
    "duration": 12,
    "start_time": "2025-01-13T19:25:12.376Z"
   },
   {
    "duration": 891,
    "start_time": "2025-01-13T19:25:12.390Z"
   },
   {
    "duration": 357,
    "start_time": "2025-01-13T19:25:13.283Z"
   },
   {
    "duration": 8,
    "start_time": "2025-01-13T19:25:13.642Z"
   },
   {
    "duration": 301,
    "start_time": "2025-01-13T19:25:13.651Z"
   },
   {
    "duration": 22,
    "start_time": "2025-01-13T19:25:13.953Z"
   },
   {
    "duration": 14,
    "start_time": "2025-01-13T19:25:13.977Z"
   },
   {
    "duration": 16,
    "start_time": "2025-01-13T19:25:13.994Z"
   },
   {
    "duration": 77,
    "start_time": "2025-01-13T19:25:14.012Z"
   },
   {
    "duration": 189,
    "start_time": "2025-01-13T19:25:14.091Z"
   },
   {
    "duration": 210,
    "start_time": "2025-01-13T19:25:14.282Z"
   },
   {
    "duration": 169,
    "start_time": "2025-01-13T19:25:14.494Z"
   },
   {
    "duration": 8,
    "start_time": "2025-01-13T19:25:14.665Z"
   },
   {
    "duration": 6,
    "start_time": "2025-01-13T19:25:14.676Z"
   },
   {
    "duration": 18,
    "start_time": "2025-01-13T19:25:14.684Z"
   },
   {
    "duration": 31,
    "start_time": "2025-01-13T19:25:14.705Z"
   },
   {
    "duration": 30,
    "start_time": "2025-01-13T19:25:14.738Z"
   },
   {
    "duration": 6,
    "start_time": "2025-01-13T19:25:14.771Z"
   },
   {
    "duration": 23,
    "start_time": "2025-01-13T19:25:14.782Z"
   },
   {
    "duration": 9,
    "start_time": "2025-01-13T19:25:14.807Z"
   },
   {
    "duration": 7,
    "start_time": "2025-01-13T19:25:14.817Z"
   },
   {
    "duration": 52566,
    "start_time": "2025-01-13T19:25:14.826Z"
   },
   {
    "duration": 3,
    "start_time": "2025-01-13T19:26:07.394Z"
   },
   {
    "duration": 9,
    "start_time": "2025-01-13T19:26:07.399Z"
   },
   {
    "duration": 63,
    "start_time": "2025-01-13T19:26:07.410Z"
   },
   {
    "duration": 16,
    "start_time": "2025-01-13T19:26:07.474Z"
   },
   {
    "duration": 3,
    "start_time": "2025-01-13T19:26:07.492Z"
   },
   {
    "duration": 474,
    "start_time": "2025-01-13T19:26:07.497Z"
   },
   {
    "duration": 88,
    "start_time": "2025-01-13T19:26:07.974Z"
   },
   {
    "duration": 10,
    "start_time": "2025-01-13T19:26:08.064Z"
   },
   {
    "duration": 8,
    "start_time": "2025-01-13T19:26:08.076Z"
   },
   {
    "duration": 23,
    "start_time": "2025-01-13T19:26:08.160Z"
   },
   {
    "duration": 9,
    "start_time": "2025-01-13T19:27:51.816Z"
   },
   {
    "duration": 1643,
    "start_time": "2025-01-13T19:27:51.827Z"
   },
   {
    "duration": 3,
    "start_time": "2025-01-13T19:27:53.472Z"
   },
   {
    "duration": 16,
    "start_time": "2025-01-13T19:27:53.477Z"
   },
   {
    "duration": 9,
    "start_time": "2025-01-13T19:27:53.495Z"
   },
   {
    "duration": 79,
    "start_time": "2025-01-13T19:27:53.506Z"
   },
   {
    "duration": 13,
    "start_time": "2025-01-13T19:27:53.587Z"
   },
   {
    "duration": 10,
    "start_time": "2025-01-13T19:27:53.602Z"
   },
   {
    "duration": 4,
    "start_time": "2025-01-13T19:27:53.614Z"
   },
   {
    "duration": 13,
    "start_time": "2025-01-13T19:27:53.620Z"
   },
   {
    "duration": 893,
    "start_time": "2025-01-13T19:27:53.635Z"
   },
   {
    "duration": 359,
    "start_time": "2025-01-13T19:27:54.529Z"
   },
   {
    "duration": 8,
    "start_time": "2025-01-13T19:27:54.890Z"
   },
   {
    "duration": 284,
    "start_time": "2025-01-13T19:27:54.901Z"
   },
   {
    "duration": 14,
    "start_time": "2025-01-13T19:27:55.187Z"
   },
   {
    "duration": 12,
    "start_time": "2025-01-13T19:27:55.203Z"
   },
   {
    "duration": 14,
    "start_time": "2025-01-13T19:27:55.217Z"
   },
   {
    "duration": 40,
    "start_time": "2025-01-13T19:27:55.260Z"
   },
   {
    "duration": 178,
    "start_time": "2025-01-13T19:27:55.301Z"
   },
   {
    "duration": 180,
    "start_time": "2025-01-13T19:27:55.480Z"
   },
   {
    "duration": 159,
    "start_time": "2025-01-13T19:27:55.661Z"
   },
   {
    "duration": 7,
    "start_time": "2025-01-13T19:27:55.822Z"
   },
   {
    "duration": 7,
    "start_time": "2025-01-13T19:27:55.830Z"
   },
   {
    "duration": 23,
    "start_time": "2025-01-13T19:27:55.838Z"
   },
   {
    "duration": 16,
    "start_time": "2025-01-13T19:27:55.863Z"
   },
   {
    "duration": 9,
    "start_time": "2025-01-13T19:27:55.880Z"
   },
   {
    "duration": 7,
    "start_time": "2025-01-13T19:27:55.891Z"
   },
   {
    "duration": 22,
    "start_time": "2025-01-13T19:27:55.900Z"
   },
   {
    "duration": 9,
    "start_time": "2025-01-13T19:27:55.924Z"
   },
   {
    "duration": 3,
    "start_time": "2025-01-13T19:27:55.935Z"
   },
   {
    "duration": 70553,
    "start_time": "2025-01-13T19:27:55.940Z"
   },
   {
    "duration": 3,
    "start_time": "2025-01-13T19:29:06.494Z"
   },
   {
    "duration": 28,
    "start_time": "2025-01-13T19:29:06.499Z"
   },
   {
    "duration": 40,
    "start_time": "2025-01-13T19:29:06.529Z"
   },
   {
    "duration": 26,
    "start_time": "2025-01-13T19:29:06.571Z"
   },
   {
    "duration": 3,
    "start_time": "2025-01-13T19:29:06.599Z"
   },
   {
    "duration": 461,
    "start_time": "2025-01-13T19:29:06.603Z"
   },
   {
    "duration": 95,
    "start_time": "2025-01-13T19:29:07.066Z"
   },
   {
    "duration": 11,
    "start_time": "2025-01-13T19:29:07.163Z"
   },
   {
    "duration": 12,
    "start_time": "2025-01-13T19:29:07.176Z"
   },
   {
    "duration": 5,
    "start_time": "2025-01-13T19:29:07.192Z"
   },
   {
    "duration": 133,
    "start_time": "2025-01-13T19:30:07.018Z"
   },
   {
    "duration": 14,
    "start_time": "2025-01-13T19:30:19.602Z"
   },
   {
    "duration": 16,
    "start_time": "2025-01-13T19:31:15.328Z"
   },
   {
    "duration": 5,
    "start_time": "2025-01-13T19:33:06.764Z"
   },
   {
    "duration": 8,
    "start_time": "2025-01-13T19:33:35.473Z"
   },
   {
    "duration": 1633,
    "start_time": "2025-01-13T19:33:35.483Z"
   },
   {
    "duration": 3,
    "start_time": "2025-01-13T19:33:37.117Z"
   },
   {
    "duration": 37,
    "start_time": "2025-01-13T19:33:37.121Z"
   },
   {
    "duration": 18,
    "start_time": "2025-01-13T19:33:37.160Z"
   },
   {
    "duration": 79,
    "start_time": "2025-01-13T19:33:37.180Z"
   },
   {
    "duration": 14,
    "start_time": "2025-01-13T19:33:37.261Z"
   },
   {
    "duration": 10,
    "start_time": "2025-01-13T19:33:37.277Z"
   },
   {
    "duration": 5,
    "start_time": "2025-01-13T19:33:37.288Z"
   },
   {
    "duration": 26,
    "start_time": "2025-01-13T19:33:37.295Z"
   },
   {
    "duration": 925,
    "start_time": "2025-01-13T19:33:37.322Z"
   },
   {
    "duration": 363,
    "start_time": "2025-01-13T19:33:38.249Z"
   },
   {
    "duration": 7,
    "start_time": "2025-01-13T19:33:38.614Z"
   },
   {
    "duration": 281,
    "start_time": "2025-01-13T19:33:38.625Z"
   },
   {
    "duration": 15,
    "start_time": "2025-01-13T19:33:38.908Z"
   },
   {
    "duration": 12,
    "start_time": "2025-01-13T19:33:38.925Z"
   },
   {
    "duration": 34,
    "start_time": "2025-01-13T19:33:38.938Z"
   },
   {
    "duration": 46,
    "start_time": "2025-01-13T19:33:38.974Z"
   },
   {
    "duration": 190,
    "start_time": "2025-01-13T19:33:39.022Z"
   },
   {
    "duration": 183,
    "start_time": "2025-01-13T19:33:39.214Z"
   },
   {
    "duration": 171,
    "start_time": "2025-01-13T19:33:39.399Z"
   },
   {
    "duration": 6,
    "start_time": "2025-01-13T19:33:39.572Z"
   },
   {
    "duration": 35,
    "start_time": "2025-01-13T19:33:39.580Z"
   },
   {
    "duration": 25,
    "start_time": "2025-01-13T19:33:39.617Z"
   },
   {
    "duration": 18,
    "start_time": "2025-01-13T19:33:39.644Z"
   },
   {
    "duration": 25,
    "start_time": "2025-01-13T19:33:39.663Z"
   },
   {
    "duration": 28,
    "start_time": "2025-01-13T19:33:39.690Z"
   },
   {
    "duration": 16,
    "start_time": "2025-01-13T19:33:39.719Z"
   },
   {
    "duration": 23,
    "start_time": "2025-01-13T19:33:39.737Z"
   },
   {
    "duration": 18,
    "start_time": "2025-01-13T19:33:39.762Z"
   },
   {
    "duration": 75723,
    "start_time": "2025-01-13T19:33:39.781Z"
   },
   {
    "duration": 3,
    "start_time": "2025-01-13T19:34:55.506Z"
   },
   {
    "duration": 38,
    "start_time": "2025-01-13T19:34:55.510Z"
   },
   {
    "duration": 38,
    "start_time": "2025-01-13T19:34:55.549Z"
   },
   {
    "duration": 20,
    "start_time": "2025-01-13T19:34:55.589Z"
   },
   {
    "duration": 3,
    "start_time": "2025-01-13T19:34:55.611Z"
   },
   {
    "duration": 3700,
    "start_time": "2025-01-13T19:34:55.616Z"
   },
   {
    "duration": 21,
    "start_time": "2025-01-13T19:34:59.317Z"
   },
   {
    "duration": 18,
    "start_time": "2025-01-13T19:34:59.340Z"
   },
   {
    "duration": 11,
    "start_time": "2025-01-13T19:34:59.360Z"
   },
   {
    "duration": 10,
    "start_time": "2025-01-13T19:34:59.376Z"
   },
   {
    "duration": 9,
    "start_time": "2025-01-14T19:07:17.609Z"
   },
   {
    "duration": 1716,
    "start_time": "2025-01-14T19:07:17.620Z"
   },
   {
    "duration": 3,
    "start_time": "2025-01-14T19:07:19.338Z"
   },
   {
    "duration": 70,
    "start_time": "2025-01-14T19:07:19.342Z"
   },
   {
    "duration": 5,
    "start_time": "2025-01-14T19:07:19.414Z"
   },
   {
    "duration": 124,
    "start_time": "2025-01-14T19:07:19.420Z"
   },
   {
    "duration": 13,
    "start_time": "2025-01-14T19:07:19.546Z"
   },
   {
    "duration": 10,
    "start_time": "2025-01-14T19:07:19.561Z"
   },
   {
    "duration": 4,
    "start_time": "2025-01-14T19:07:19.573Z"
   },
   {
    "duration": 16,
    "start_time": "2025-01-14T19:07:19.578Z"
   },
   {
    "duration": 884,
    "start_time": "2025-01-14T19:07:19.595Z"
   },
   {
    "duration": 338,
    "start_time": "2025-01-14T19:07:20.481Z"
   },
   {
    "duration": 6,
    "start_time": "2025-01-14T19:07:20.821Z"
   },
   {
    "duration": 270,
    "start_time": "2025-01-14T19:07:20.830Z"
   },
   {
    "duration": 15,
    "start_time": "2025-01-14T19:07:21.102Z"
   },
   {
    "duration": 14,
    "start_time": "2025-01-14T19:07:21.130Z"
   },
   {
    "duration": 41,
    "start_time": "2025-01-14T19:07:21.146Z"
   },
   {
    "duration": 45,
    "start_time": "2025-01-14T19:07:21.189Z"
   },
   {
    "duration": 165,
    "start_time": "2025-01-14T19:07:21.236Z"
   },
   {
    "duration": 174,
    "start_time": "2025-01-14T19:07:21.402Z"
   },
   {
    "duration": 163,
    "start_time": "2025-01-14T19:07:21.577Z"
   },
   {
    "duration": 7,
    "start_time": "2025-01-14T19:07:21.742Z"
   },
   {
    "duration": 12,
    "start_time": "2025-01-14T19:07:21.750Z"
   },
   {
    "duration": 17,
    "start_time": "2025-01-14T19:07:21.764Z"
   },
   {
    "duration": 30,
    "start_time": "2025-01-14T19:07:21.783Z"
   },
   {
    "duration": 30,
    "start_time": "2025-01-14T19:07:21.814Z"
   },
   {
    "duration": 8,
    "start_time": "2025-01-14T19:07:21.845Z"
   },
   {
    "duration": 8,
    "start_time": "2025-01-14T19:07:21.855Z"
   },
   {
    "duration": 15,
    "start_time": "2025-01-14T19:07:21.865Z"
   },
   {
    "duration": 16,
    "start_time": "2025-01-14T19:07:21.881Z"
   },
   {
    "duration": 70040,
    "start_time": "2025-01-14T19:07:21.899Z"
   },
   {
    "duration": 3,
    "start_time": "2025-01-14T19:08:31.941Z"
   },
   {
    "duration": 9,
    "start_time": "2025-01-14T19:08:31.946Z"
   },
   {
    "duration": 33,
    "start_time": "2025-01-14T19:08:31.957Z"
   },
   {
    "duration": 162,
    "start_time": "2025-01-14T19:08:31.992Z"
   },
   {
    "duration": 0,
    "start_time": "2025-01-14T19:08:32.155Z"
   },
   {
    "duration": 0,
    "start_time": "2025-01-14T19:08:32.156Z"
   },
   {
    "duration": 4,
    "start_time": "2025-01-14T19:16:10.032Z"
   },
   {
    "duration": 6,
    "start_time": "2025-01-14T19:16:10.749Z"
   },
   {
    "duration": 14,
    "start_time": "2025-01-14T19:16:35.273Z"
   },
   {
    "duration": 5,
    "start_time": "2025-01-14T19:16:36.070Z"
   },
   {
    "duration": 4,
    "start_time": "2025-01-14T19:16:36.656Z"
   },
   {
    "duration": 15,
    "start_time": "2025-01-14T19:16:51.219Z"
   },
   {
    "duration": 16,
    "start_time": "2025-01-14T19:16:56.147Z"
   },
   {
    "duration": 5,
    "start_time": "2025-01-14T19:16:56.709Z"
   },
   {
    "duration": 6,
    "start_time": "2025-01-14T19:16:57.204Z"
   },
   {
    "duration": 7,
    "start_time": "2025-01-14T19:18:10.837Z"
   },
   {
    "duration": 1569,
    "start_time": "2025-01-14T19:18:10.846Z"
   },
   {
    "duration": 3,
    "start_time": "2025-01-14T19:18:12.417Z"
   },
   {
    "duration": 12,
    "start_time": "2025-01-14T19:18:12.422Z"
   },
   {
    "duration": 5,
    "start_time": "2025-01-14T19:18:12.436Z"
   },
   {
    "duration": 70,
    "start_time": "2025-01-14T19:18:12.442Z"
   },
   {
    "duration": 11,
    "start_time": "2025-01-14T19:18:12.514Z"
   },
   {
    "duration": 9,
    "start_time": "2025-01-14T19:18:12.527Z"
   },
   {
    "duration": 4,
    "start_time": "2025-01-14T19:18:12.537Z"
   },
   {
    "duration": 11,
    "start_time": "2025-01-14T19:18:12.542Z"
   },
   {
    "duration": 800,
    "start_time": "2025-01-14T19:18:12.554Z"
   },
   {
    "duration": 323,
    "start_time": "2025-01-14T19:18:13.356Z"
   },
   {
    "duration": 7,
    "start_time": "2025-01-14T19:18:13.680Z"
   },
   {
    "duration": 253,
    "start_time": "2025-01-14T19:18:13.690Z"
   },
   {
    "duration": 14,
    "start_time": "2025-01-14T19:18:13.945Z"
   },
   {
    "duration": 11,
    "start_time": "2025-01-14T19:18:13.961Z"
   },
   {
    "duration": 16,
    "start_time": "2025-01-14T19:18:13.974Z"
   },
   {
    "duration": 69,
    "start_time": "2025-01-14T19:18:13.991Z"
   },
   {
    "duration": 162,
    "start_time": "2025-01-14T19:18:14.063Z"
   },
   {
    "duration": 161,
    "start_time": "2025-01-14T19:18:14.226Z"
   },
   {
    "duration": 157,
    "start_time": "2025-01-14T19:18:14.388Z"
   },
   {
    "duration": 6,
    "start_time": "2025-01-14T19:18:14.547Z"
   },
   {
    "duration": 4,
    "start_time": "2025-01-14T19:18:14.555Z"
   },
   {
    "duration": 6,
    "start_time": "2025-01-14T19:18:14.561Z"
   },
   {
    "duration": 6,
    "start_time": "2025-01-14T19:18:14.569Z"
   },
   {
    "duration": 11,
    "start_time": "2025-01-14T19:18:14.576Z"
   },
   {
    "duration": 9,
    "start_time": "2025-01-14T19:18:14.589Z"
   },
   {
    "duration": 32,
    "start_time": "2025-01-14T19:18:14.600Z"
   },
   {
    "duration": 8,
    "start_time": "2025-01-14T19:18:14.633Z"
   },
   {
    "duration": 3,
    "start_time": "2025-01-14T19:18:14.643Z"
   },
   {
    "duration": 70519,
    "start_time": "2025-01-14T19:18:14.648Z"
   },
   {
    "duration": 2,
    "start_time": "2025-01-14T19:19:25.169Z"
   },
   {
    "duration": 13,
    "start_time": "2025-01-14T19:19:25.173Z"
   },
   {
    "duration": 48,
    "start_time": "2025-01-14T19:19:25.187Z"
   },
   {
    "duration": 20,
    "start_time": "2025-01-14T19:19:25.237Z"
   },
   {
    "duration": 14,
    "start_time": "2025-01-14T19:19:25.258Z"
   },
   {
    "duration": 13,
    "start_time": "2025-01-14T19:19:25.273Z"
   },
   {
    "duration": 5,
    "start_time": "2025-01-14T19:19:25.287Z"
   },
   {
    "duration": 8,
    "start_time": "2025-01-14T19:22:42.522Z"
   },
   {
    "duration": 1464,
    "start_time": "2025-01-14T19:22:42.533Z"
   },
   {
    "duration": 3,
    "start_time": "2025-01-14T19:22:43.999Z"
   },
   {
    "duration": 23,
    "start_time": "2025-01-14T19:22:44.004Z"
   },
   {
    "duration": 14,
    "start_time": "2025-01-14T19:22:44.029Z"
   },
   {
    "duration": 78,
    "start_time": "2025-01-14T19:22:44.045Z"
   },
   {
    "duration": 12,
    "start_time": "2025-01-14T19:22:44.124Z"
   },
   {
    "duration": 10,
    "start_time": "2025-01-14T19:22:44.138Z"
   },
   {
    "duration": 4,
    "start_time": "2025-01-14T19:22:44.150Z"
   },
   {
    "duration": 11,
    "start_time": "2025-01-14T19:22:44.156Z"
   },
   {
    "duration": 816,
    "start_time": "2025-01-14T19:22:44.169Z"
   },
   {
    "duration": 336,
    "start_time": "2025-01-14T19:22:44.987Z"
   },
   {
    "duration": 7,
    "start_time": "2025-01-14T19:22:45.325Z"
   },
   {
    "duration": 269,
    "start_time": "2025-01-14T19:22:45.335Z"
   },
   {
    "duration": 25,
    "start_time": "2025-01-14T19:22:45.605Z"
   },
   {
    "duration": 11,
    "start_time": "2025-01-14T19:22:45.632Z"
   },
   {
    "duration": 15,
    "start_time": "2025-01-14T19:22:45.646Z"
   },
   {
    "duration": 44,
    "start_time": "2025-01-14T19:22:45.663Z"
   },
   {
    "duration": 185,
    "start_time": "2025-01-14T19:22:45.708Z"
   },
   {
    "duration": 191,
    "start_time": "2025-01-14T19:22:45.895Z"
   },
   {
    "duration": 156,
    "start_time": "2025-01-14T19:22:46.088Z"
   },
   {
    "duration": 7,
    "start_time": "2025-01-14T19:22:46.246Z"
   },
   {
    "duration": 8,
    "start_time": "2025-01-14T19:22:46.255Z"
   },
   {
    "duration": 8,
    "start_time": "2025-01-14T19:22:46.265Z"
   },
   {
    "duration": 64,
    "start_time": "2025-01-14T19:22:46.275Z"
   },
   {
    "duration": 9,
    "start_time": "2025-01-14T19:22:46.341Z"
   },
   {
    "duration": 3,
    "start_time": "2025-01-14T19:22:46.352Z"
   },
   {
    "duration": 5,
    "start_time": "2025-01-14T19:22:46.356Z"
   },
   {
    "duration": 13,
    "start_time": "2025-01-14T19:22:46.363Z"
   },
   {
    "duration": 8,
    "start_time": "2025-01-14T19:22:46.378Z"
   },
   {
    "duration": 274571,
    "start_time": "2025-01-14T19:22:46.388Z"
   },
   {
    "duration": 3,
    "start_time": "2025-01-14T19:27:20.960Z"
   },
   {
    "duration": 19,
    "start_time": "2025-01-14T19:27:20.964Z"
   },
   {
    "duration": 22,
    "start_time": "2025-01-14T19:27:20.985Z"
   },
   {
    "duration": 31,
    "start_time": "2025-01-14T19:27:21.008Z"
   },
   {
    "duration": 14,
    "start_time": "2025-01-14T19:27:21.041Z"
   },
   {
    "duration": 9,
    "start_time": "2025-01-14T19:27:21.057Z"
   },
   {
    "duration": 65,
    "start_time": "2025-01-14T19:27:21.067Z"
   },
   {
    "duration": 10,
    "start_time": "2025-01-14T19:27:34.738Z"
   },
   {
    "duration": 5,
    "start_time": "2025-01-14T19:27:35.731Z"
   },
   {
    "duration": 7,
    "start_time": "2025-01-14T19:28:19.740Z"
   },
   {
    "duration": 5,
    "start_time": "2025-01-14T19:28:20.195Z"
   },
   {
    "duration": 10,
    "start_time": "2025-01-14T19:28:25.321Z"
   },
   {
    "duration": 4,
    "start_time": "2025-01-14T19:28:26.071Z"
   },
   {
    "duration": 7,
    "start_time": "2025-01-14T19:29:23.005Z"
   },
   {
    "duration": 1474,
    "start_time": "2025-01-14T19:29:23.015Z"
   },
   {
    "duration": 2,
    "start_time": "2025-01-14T19:29:24.491Z"
   },
   {
    "duration": 4,
    "start_time": "2025-01-14T19:29:24.495Z"
   },
   {
    "duration": 3,
    "start_time": "2025-01-14T19:29:24.501Z"
   },
   {
    "duration": 71,
    "start_time": "2025-01-14T19:29:24.505Z"
   },
   {
    "duration": 10,
    "start_time": "2025-01-14T19:29:24.578Z"
   },
   {
    "duration": 8,
    "start_time": "2025-01-14T19:29:24.590Z"
   },
   {
    "duration": 4,
    "start_time": "2025-01-14T19:29:24.599Z"
   },
   {
    "duration": 27,
    "start_time": "2025-01-14T19:29:24.604Z"
   },
   {
    "duration": 768,
    "start_time": "2025-01-14T19:29:24.632Z"
   },
   {
    "duration": 325,
    "start_time": "2025-01-14T19:29:25.402Z"
   },
   {
    "duration": 7,
    "start_time": "2025-01-14T19:29:25.729Z"
   },
   {
    "duration": 254,
    "start_time": "2025-01-14T19:29:25.739Z"
   },
   {
    "duration": 18,
    "start_time": "2025-01-14T19:29:25.995Z"
   },
   {
    "duration": 31,
    "start_time": "2025-01-14T19:29:26.016Z"
   },
   {
    "duration": 22,
    "start_time": "2025-01-14T19:29:26.049Z"
   },
   {
    "duration": 63,
    "start_time": "2025-01-14T19:29:26.073Z"
   },
   {
    "duration": 161,
    "start_time": "2025-01-14T19:29:26.138Z"
   },
   {
    "duration": 158,
    "start_time": "2025-01-14T19:29:26.301Z"
   },
   {
    "duration": 151,
    "start_time": "2025-01-14T19:29:26.461Z"
   },
   {
    "duration": 7,
    "start_time": "2025-01-14T19:29:26.613Z"
   },
   {
    "duration": 13,
    "start_time": "2025-01-14T19:29:26.621Z"
   },
   {
    "duration": 16,
    "start_time": "2025-01-14T19:29:26.635Z"
   },
   {
    "duration": 16,
    "start_time": "2025-01-14T19:29:26.653Z"
   },
   {
    "duration": 11,
    "start_time": "2025-01-14T19:29:26.671Z"
   },
   {
    "duration": 29,
    "start_time": "2025-01-14T19:29:26.684Z"
   },
   {
    "duration": 30,
    "start_time": "2025-01-14T19:29:26.715Z"
   },
   {
    "duration": 24,
    "start_time": "2025-01-14T19:29:26.747Z"
   },
   {
    "duration": 4,
    "start_time": "2025-01-14T19:29:26.772Z"
   },
   {
    "duration": 259322,
    "start_time": "2025-01-14T19:29:26.777Z"
   },
   {
    "duration": 3,
    "start_time": "2025-01-14T19:33:46.101Z"
   },
   {
    "duration": 14,
    "start_time": "2025-01-14T19:33:46.105Z"
   },
   {
    "duration": 22,
    "start_time": "2025-01-14T19:33:46.121Z"
   },
   {
    "duration": 18,
    "start_time": "2025-01-14T19:33:46.145Z"
   },
   {
    "duration": 14,
    "start_time": "2025-01-14T19:33:46.164Z"
   },
   {
    "duration": 4,
    "start_time": "2025-01-14T19:33:46.180Z"
   },
   {
    "duration": 5,
    "start_time": "2025-01-14T19:33:46.185Z"
   },
   {
    "duration": 11,
    "start_time": "2025-01-14T19:35:31.979Z"
   },
   {
    "duration": 1560,
    "start_time": "2025-01-14T19:35:31.992Z"
   },
   {
    "duration": 3,
    "start_time": "2025-01-14T19:35:33.554Z"
   },
   {
    "duration": 33,
    "start_time": "2025-01-14T19:35:33.559Z"
   },
   {
    "duration": 16,
    "start_time": "2025-01-14T19:35:33.595Z"
   },
   {
    "duration": 90,
    "start_time": "2025-01-14T19:35:33.612Z"
   },
   {
    "duration": 12,
    "start_time": "2025-01-14T19:35:33.704Z"
   },
   {
    "duration": 19,
    "start_time": "2025-01-14T19:35:33.718Z"
   },
   {
    "duration": 10,
    "start_time": "2025-01-14T19:35:33.739Z"
   },
   {
    "duration": 11,
    "start_time": "2025-01-14T19:35:33.751Z"
   },
   {
    "duration": 808,
    "start_time": "2025-01-14T19:35:33.763Z"
   },
   {
    "duration": 330,
    "start_time": "2025-01-14T19:35:34.573Z"
   },
   {
    "duration": 7,
    "start_time": "2025-01-14T19:35:34.904Z"
   },
   {
    "duration": 287,
    "start_time": "2025-01-14T19:35:34.914Z"
   },
   {
    "duration": 15,
    "start_time": "2025-01-14T19:35:35.202Z"
   },
   {
    "duration": 21,
    "start_time": "2025-01-14T19:35:35.219Z"
   },
   {
    "duration": 15,
    "start_time": "2025-01-14T19:35:35.242Z"
   },
   {
    "duration": 49,
    "start_time": "2025-01-14T19:35:35.259Z"
   },
   {
    "duration": 167,
    "start_time": "2025-01-14T19:35:35.309Z"
   },
   {
    "duration": 174,
    "start_time": "2025-01-14T19:35:35.478Z"
   },
   {
    "duration": 153,
    "start_time": "2025-01-14T19:35:35.654Z"
   },
   {
    "duration": 6,
    "start_time": "2025-01-14T19:35:35.809Z"
   },
   {
    "duration": 71,
    "start_time": "2025-01-14T19:35:35.817Z"
   },
   {
    "duration": 18,
    "start_time": "2025-01-14T19:35:35.889Z"
   },
   {
    "duration": 36,
    "start_time": "2025-01-14T19:35:35.908Z"
   },
   {
    "duration": 31,
    "start_time": "2025-01-14T19:35:35.946Z"
   },
   {
    "duration": 28,
    "start_time": "2025-01-14T19:35:35.979Z"
   },
   {
    "duration": 22,
    "start_time": "2025-01-14T19:35:36.009Z"
   },
   {
    "duration": 22,
    "start_time": "2025-01-14T19:35:36.033Z"
   },
   {
    "duration": 5,
    "start_time": "2025-01-14T19:35:36.057Z"
   },
   {
    "duration": 240610,
    "start_time": "2025-01-14T19:35:36.064Z"
   },
   {
    "duration": 3,
    "start_time": "2025-01-14T19:39:36.676Z"
   },
   {
    "duration": 6,
    "start_time": "2025-01-14T19:39:36.680Z"
   },
   {
    "duration": 19,
    "start_time": "2025-01-14T19:39:36.687Z"
   },
   {
    "duration": 15,
    "start_time": "2025-01-14T19:39:36.708Z"
   },
   {
    "duration": 13,
    "start_time": "2025-01-14T19:39:36.730Z"
   },
   {
    "duration": 12,
    "start_time": "2025-01-14T19:39:36.745Z"
   },
   {
    "duration": 5,
    "start_time": "2025-01-14T19:39:36.759Z"
   },
   {
    "duration": 10,
    "start_time": "2025-01-14T19:41:02.438Z"
   },
   {
    "duration": 1491,
    "start_time": "2025-01-14T19:41:02.450Z"
   },
   {
    "duration": 3,
    "start_time": "2025-01-14T19:41:03.942Z"
   },
   {
    "duration": 5,
    "start_time": "2025-01-14T19:41:03.947Z"
   },
   {
    "duration": 4,
    "start_time": "2025-01-14T19:41:03.953Z"
   },
   {
    "duration": 80,
    "start_time": "2025-01-14T19:41:03.958Z"
   },
   {
    "duration": 13,
    "start_time": "2025-01-14T19:41:04.039Z"
   },
   {
    "duration": 9,
    "start_time": "2025-01-14T19:41:04.054Z"
   },
   {
    "duration": 4,
    "start_time": "2025-01-14T19:41:04.065Z"
   },
   {
    "duration": 12,
    "start_time": "2025-01-14T19:41:04.072Z"
   },
   {
    "duration": 846,
    "start_time": "2025-01-14T19:41:04.086Z"
   },
   {
    "duration": 345,
    "start_time": "2025-01-14T19:41:04.934Z"
   },
   {
    "duration": 7,
    "start_time": "2025-01-14T19:41:05.280Z"
   },
   {
    "duration": 271,
    "start_time": "2025-01-14T19:41:05.288Z"
   },
   {
    "duration": 15,
    "start_time": "2025-01-14T19:41:05.560Z"
   },
   {
    "duration": 11,
    "start_time": "2025-01-14T19:41:05.577Z"
   },
   {
    "duration": 28,
    "start_time": "2025-01-14T19:41:05.590Z"
   },
   {
    "duration": 44,
    "start_time": "2025-01-14T19:41:05.630Z"
   },
   {
    "duration": 170,
    "start_time": "2025-01-14T19:41:05.676Z"
   },
   {
    "duration": 172,
    "start_time": "2025-01-14T19:41:05.847Z"
   },
   {
    "duration": 176,
    "start_time": "2025-01-14T19:41:06.022Z"
   },
   {
    "duration": 8,
    "start_time": "2025-01-14T19:41:06.199Z"
   },
   {
    "duration": 33,
    "start_time": "2025-01-14T19:41:06.208Z"
   },
   {
    "duration": 12,
    "start_time": "2025-01-14T19:41:06.244Z"
   },
   {
    "duration": 6,
    "start_time": "2025-01-14T19:41:06.257Z"
   },
   {
    "duration": 5,
    "start_time": "2025-01-14T19:41:06.265Z"
   },
   {
    "duration": 8,
    "start_time": "2025-01-14T19:41:06.271Z"
   },
   {
    "duration": 12,
    "start_time": "2025-01-14T19:41:06.283Z"
   },
   {
    "duration": 7,
    "start_time": "2025-01-14T19:41:06.297Z"
   },
   {
    "duration": 36,
    "start_time": "2025-01-14T19:41:06.305Z"
   },
   {
    "duration": 95092,
    "start_time": "2025-01-14T19:41:06.343Z"
   },
   {
    "duration": 3,
    "start_time": "2025-01-14T19:42:41.436Z"
   },
   {
    "duration": 5,
    "start_time": "2025-01-14T19:42:41.441Z"
   },
   {
    "duration": 19,
    "start_time": "2025-01-14T19:42:41.447Z"
   },
   {
    "duration": 15,
    "start_time": "2025-01-14T19:42:41.468Z"
   },
   {
    "duration": 13,
    "start_time": "2025-01-14T19:42:41.484Z"
   },
   {
    "duration": 31,
    "start_time": "2025-01-14T19:42:41.499Z"
   },
   {
    "duration": 12,
    "start_time": "2025-01-14T19:42:41.532Z"
   },
   {
    "duration": 8,
    "start_time": "2025-01-14T19:44:37.668Z"
   },
   {
    "duration": 1448,
    "start_time": "2025-01-14T19:44:37.678Z"
   },
   {
    "duration": 3,
    "start_time": "2025-01-14T19:44:39.130Z"
   },
   {
    "duration": 6,
    "start_time": "2025-01-14T19:44:39.135Z"
   },
   {
    "duration": 7,
    "start_time": "2025-01-14T19:44:39.143Z"
   },
   {
    "duration": 78,
    "start_time": "2025-01-14T19:44:39.151Z"
   },
   {
    "duration": 12,
    "start_time": "2025-01-14T19:44:39.230Z"
   },
   {
    "duration": 18,
    "start_time": "2025-01-14T19:44:39.244Z"
   },
   {
    "duration": 4,
    "start_time": "2025-01-14T19:44:39.263Z"
   },
   {
    "duration": 12,
    "start_time": "2025-01-14T19:44:39.269Z"
   },
   {
    "duration": 825,
    "start_time": "2025-01-14T19:44:39.283Z"
   },
   {
    "duration": 342,
    "start_time": "2025-01-14T19:44:40.109Z"
   },
   {
    "duration": 7,
    "start_time": "2025-01-14T19:44:40.452Z"
   },
   {
    "duration": 278,
    "start_time": "2025-01-14T19:44:40.462Z"
   },
   {
    "duration": 15,
    "start_time": "2025-01-14T19:44:40.742Z"
   },
   {
    "duration": 10,
    "start_time": "2025-01-14T19:44:40.759Z"
   },
   {
    "duration": 15,
    "start_time": "2025-01-14T19:44:40.771Z"
   },
   {
    "duration": 70,
    "start_time": "2025-01-14T19:44:40.788Z"
   },
   {
    "duration": 161,
    "start_time": "2025-01-14T19:44:40.860Z"
   },
   {
    "duration": 169,
    "start_time": "2025-01-14T19:44:41.023Z"
   },
   {
    "duration": 150,
    "start_time": "2025-01-14T19:44:41.193Z"
   },
   {
    "duration": 6,
    "start_time": "2025-01-14T19:44:41.344Z"
   },
   {
    "duration": 22,
    "start_time": "2025-01-14T19:44:41.352Z"
   },
   {
    "duration": 11,
    "start_time": "2025-01-14T19:44:41.375Z"
   },
   {
    "duration": 7,
    "start_time": "2025-01-14T19:44:41.388Z"
   },
   {
    "duration": 19,
    "start_time": "2025-01-14T19:44:41.396Z"
   },
   {
    "duration": 4,
    "start_time": "2025-01-14T19:44:41.416Z"
   },
   {
    "duration": 10,
    "start_time": "2025-01-14T19:44:41.422Z"
   },
   {
    "duration": 6,
    "start_time": "2025-01-14T19:44:41.434Z"
   },
   {
    "duration": 4,
    "start_time": "2025-01-14T19:44:41.442Z"
   },
   {
    "duration": 56501,
    "start_time": "2025-01-14T19:44:41.448Z"
   },
   {
    "duration": 2,
    "start_time": "2025-01-14T19:45:37.951Z"
   },
   {
    "duration": 17,
    "start_time": "2025-01-14T19:45:37.955Z"
   },
   {
    "duration": 138,
    "start_time": "2025-01-14T19:45:37.973Z"
   },
   {
    "duration": 0,
    "start_time": "2025-01-14T19:45:38.112Z"
   },
   {
    "duration": 0,
    "start_time": "2025-01-14T19:45:38.114Z"
   },
   {
    "duration": 0,
    "start_time": "2025-01-14T19:45:38.115Z"
   },
   {
    "duration": 0,
    "start_time": "2025-01-14T19:45:38.115Z"
   },
   {
    "duration": 8,
    "start_time": "2025-01-14T19:47:11.983Z"
   },
   {
    "duration": 1528,
    "start_time": "2025-01-14T19:47:11.993Z"
   },
   {
    "duration": 2,
    "start_time": "2025-01-14T19:47:13.523Z"
   },
   {
    "duration": 9,
    "start_time": "2025-01-14T19:47:13.530Z"
   },
   {
    "duration": 4,
    "start_time": "2025-01-14T19:47:13.540Z"
   },
   {
    "duration": 77,
    "start_time": "2025-01-14T19:47:13.545Z"
   },
   {
    "duration": 13,
    "start_time": "2025-01-14T19:47:13.623Z"
   },
   {
    "duration": 44,
    "start_time": "2025-01-14T19:47:13.637Z"
   },
   {
    "duration": 4,
    "start_time": "2025-01-14T19:47:13.683Z"
   },
   {
    "duration": 15,
    "start_time": "2025-01-14T19:47:13.690Z"
   },
   {
    "duration": 831,
    "start_time": "2025-01-14T19:47:13.707Z"
   },
   {
    "duration": 344,
    "start_time": "2025-01-14T19:47:14.539Z"
   },
   {
    "duration": 7,
    "start_time": "2025-01-14T19:47:14.884Z"
   },
   {
    "duration": 253,
    "start_time": "2025-01-14T19:47:14.893Z"
   },
   {
    "duration": 15,
    "start_time": "2025-01-14T19:47:15.148Z"
   },
   {
    "duration": 12,
    "start_time": "2025-01-14T19:47:15.165Z"
   },
   {
    "duration": 38,
    "start_time": "2025-01-14T19:47:15.178Z"
   },
   {
    "duration": 56,
    "start_time": "2025-01-14T19:47:15.218Z"
   },
   {
    "duration": 168,
    "start_time": "2025-01-14T19:47:15.275Z"
   },
   {
    "duration": 179,
    "start_time": "2025-01-14T19:47:15.445Z"
   },
   {
    "duration": 154,
    "start_time": "2025-01-14T19:47:15.629Z"
   },
   {
    "duration": 8,
    "start_time": "2025-01-14T19:47:15.784Z"
   },
   {
    "duration": 20,
    "start_time": "2025-01-14T19:47:15.794Z"
   },
   {
    "duration": 12,
    "start_time": "2025-01-14T19:47:15.816Z"
   },
   {
    "duration": 8,
    "start_time": "2025-01-14T19:47:15.830Z"
   },
   {
    "duration": 7,
    "start_time": "2025-01-14T19:47:15.840Z"
   },
   {
    "duration": 10,
    "start_time": "2025-01-14T19:47:15.848Z"
   },
   {
    "duration": 5,
    "start_time": "2025-01-14T19:47:15.861Z"
   },
   {
    "duration": 23,
    "start_time": "2025-01-14T19:47:15.868Z"
   },
   {
    "duration": 26,
    "start_time": "2025-01-14T19:47:15.893Z"
   },
   {
    "duration": 307738,
    "start_time": "2025-01-14T19:47:15.921Z"
   },
   {
    "duration": 3,
    "start_time": "2025-01-14T19:52:23.661Z"
   },
   {
    "duration": 37,
    "start_time": "2025-01-14T19:52:23.666Z"
   },
   {
    "duration": 26,
    "start_time": "2025-01-14T19:52:23.704Z"
   },
   {
    "duration": 33,
    "start_time": "2025-01-14T19:52:23.732Z"
   },
   {
    "duration": 14,
    "start_time": "2025-01-14T19:52:23.767Z"
   },
   {
    "duration": 47,
    "start_time": "2025-01-14T19:52:23.783Z"
   },
   {
    "duration": 6,
    "start_time": "2025-01-14T19:52:23.832Z"
   },
   {
    "duration": 11,
    "start_time": "2025-01-14T19:52:40.581Z"
   },
   {
    "duration": 4,
    "start_time": "2025-01-14T19:52:41.072Z"
   },
   {
    "duration": 11,
    "start_time": "2025-01-14T19:52:46.854Z"
   },
   {
    "duration": 5,
    "start_time": "2025-01-14T19:52:49.463Z"
   },
   {
    "duration": 15,
    "start_time": "2025-01-14T19:54:03.443Z"
   },
   {
    "duration": 1573,
    "start_time": "2025-01-14T19:54:03.459Z"
   },
   {
    "duration": 5,
    "start_time": "2025-01-14T19:54:05.034Z"
   },
   {
    "duration": 69,
    "start_time": "2025-01-14T19:54:05.042Z"
   },
   {
    "duration": 16,
    "start_time": "2025-01-14T19:54:05.114Z"
   },
   {
    "duration": 76,
    "start_time": "2025-01-14T19:54:05.131Z"
   },
   {
    "duration": 12,
    "start_time": "2025-01-14T19:54:05.209Z"
   },
   {
    "duration": 34,
    "start_time": "2025-01-14T19:54:05.223Z"
   },
   {
    "duration": 5,
    "start_time": "2025-01-14T19:54:05.258Z"
   },
   {
    "duration": 36,
    "start_time": "2025-01-14T19:54:05.265Z"
   },
   {
    "duration": 944,
    "start_time": "2025-01-14T19:54:05.303Z"
   },
   {
    "duration": 406,
    "start_time": "2025-01-14T19:54:06.249Z"
   },
   {
    "duration": 8,
    "start_time": "2025-01-14T19:54:06.658Z"
   },
   {
    "duration": 269,
    "start_time": "2025-01-14T19:54:06.669Z"
   },
   {
    "duration": 26,
    "start_time": "2025-01-14T19:54:06.940Z"
   },
   {
    "duration": 197,
    "start_time": "2025-01-14T19:54:06.967Z"
   },
   {
    "duration": 21,
    "start_time": "2025-01-14T19:54:07.166Z"
   },
   {
    "duration": 66,
    "start_time": "2025-01-14T19:54:07.188Z"
   },
   {
    "duration": 170,
    "start_time": "2025-01-14T19:54:07.256Z"
   },
   {
    "duration": 184,
    "start_time": "2025-01-14T19:54:07.427Z"
   },
   {
    "duration": 178,
    "start_time": "2025-01-14T19:54:07.613Z"
   },
   {
    "duration": 6,
    "start_time": "2025-01-14T19:54:07.794Z"
   },
   {
    "duration": 32,
    "start_time": "2025-01-14T19:54:07.802Z"
   },
   {
    "duration": 9,
    "start_time": "2025-01-14T19:54:07.837Z"
   },
   {
    "duration": 10,
    "start_time": "2025-01-14T19:54:07.851Z"
   },
   {
    "duration": 14,
    "start_time": "2025-01-14T19:54:07.863Z"
   },
   {
    "duration": 12,
    "start_time": "2025-01-14T19:54:07.878Z"
   },
   {
    "duration": 31,
    "start_time": "2025-01-14T19:54:07.891Z"
   },
   {
    "duration": 8,
    "start_time": "2025-01-14T19:54:07.924Z"
   },
   {
    "duration": 6,
    "start_time": "2025-01-14T19:54:07.934Z"
   },
   {
    "duration": 438904,
    "start_time": "2025-01-14T19:54:07.942Z"
   },
   {
    "duration": 3,
    "start_time": "2025-01-14T20:01:26.847Z"
   },
   {
    "duration": 5,
    "start_time": "2025-01-14T20:01:26.851Z"
   },
   {
    "duration": 25,
    "start_time": "2025-01-14T20:01:26.857Z"
   },
   {
    "duration": 17,
    "start_time": "2025-01-14T20:01:26.883Z"
   },
   {
    "duration": 15,
    "start_time": "2025-01-14T20:01:26.930Z"
   },
   {
    "duration": 7,
    "start_time": "2025-01-14T20:01:26.947Z"
   },
   {
    "duration": 17,
    "start_time": "2025-01-14T20:01:26.956Z"
   },
   {
    "duration": 9,
    "start_time": "2025-01-14T20:01:53.383Z"
   },
   {
    "duration": 5,
    "start_time": "2025-01-14T20:01:53.874Z"
   },
   {
    "duration": 10,
    "start_time": "2025-01-14T20:01:59.835Z"
   },
   {
    "duration": 4,
    "start_time": "2025-01-14T20:02:00.283Z"
   },
   {
    "duration": 8,
    "start_time": "2025-01-14T20:02:38.225Z"
   },
   {
    "duration": 1488,
    "start_time": "2025-01-14T20:02:38.235Z"
   },
   {
    "duration": 5,
    "start_time": "2025-01-14T20:02:39.725Z"
   },
   {
    "duration": 2,
    "start_time": "2025-01-14T20:02:39.732Z"
   },
   {
    "duration": 4,
    "start_time": "2025-01-14T20:02:39.737Z"
   },
   {
    "duration": 73,
    "start_time": "2025-01-14T20:02:39.742Z"
   },
   {
    "duration": 12,
    "start_time": "2025-01-14T20:02:39.817Z"
   },
   {
    "duration": 8,
    "start_time": "2025-01-14T20:02:39.831Z"
   },
   {
    "duration": 9,
    "start_time": "2025-01-14T20:02:39.841Z"
   },
   {
    "duration": 10,
    "start_time": "2025-01-14T20:02:39.852Z"
   },
   {
    "duration": 849,
    "start_time": "2025-01-14T20:02:39.863Z"
   },
   {
    "duration": 438,
    "start_time": "2025-01-14T20:02:40.713Z"
   },
   {
    "duration": 8,
    "start_time": "2025-01-14T20:02:41.152Z"
   },
   {
    "duration": 263,
    "start_time": "2025-01-14T20:02:41.163Z"
   },
   {
    "duration": 17,
    "start_time": "2025-01-14T20:02:41.428Z"
   },
   {
    "duration": 12,
    "start_time": "2025-01-14T20:02:41.446Z"
   },
   {
    "duration": 21,
    "start_time": "2025-01-14T20:02:41.460Z"
   },
   {
    "duration": 77,
    "start_time": "2025-01-14T20:02:41.483Z"
   },
   {
    "duration": 163,
    "start_time": "2025-01-14T20:02:41.562Z"
   },
   {
    "duration": 163,
    "start_time": "2025-01-14T20:02:41.729Z"
   },
   {
    "duration": 181,
    "start_time": "2025-01-14T20:02:41.894Z"
   },
   {
    "duration": 7,
    "start_time": "2025-01-14T20:02:42.076Z"
   },
   {
    "duration": 4,
    "start_time": "2025-01-14T20:02:42.085Z"
   },
   {
    "duration": 4,
    "start_time": "2025-01-14T20:02:42.091Z"
   },
   {
    "duration": 50,
    "start_time": "2025-01-14T20:02:42.097Z"
   },
   {
    "duration": 6,
    "start_time": "2025-01-14T20:02:42.148Z"
   },
   {
    "duration": 5,
    "start_time": "2025-01-14T20:02:42.155Z"
   },
   {
    "duration": 17,
    "start_time": "2025-01-14T20:02:42.162Z"
   },
   {
    "duration": 8,
    "start_time": "2025-01-14T20:02:42.180Z"
   },
   {
    "duration": 7,
    "start_time": "2025-01-14T20:02:42.190Z"
   },
   {
    "duration": 338441,
    "start_time": "2025-01-14T20:02:42.198Z"
   },
   {
    "duration": 2,
    "start_time": "2025-01-14T20:08:20.641Z"
   },
   {
    "duration": 15,
    "start_time": "2025-01-14T20:08:20.645Z"
   },
   {
    "duration": 27,
    "start_time": "2025-01-14T20:08:20.661Z"
   },
   {
    "duration": 29,
    "start_time": "2025-01-14T20:08:20.690Z"
   },
   {
    "duration": 14,
    "start_time": "2025-01-14T20:08:20.721Z"
   },
   {
    "duration": 15,
    "start_time": "2025-01-14T20:08:20.737Z"
   },
   {
    "duration": 5,
    "start_time": "2025-01-14T20:08:20.754Z"
   },
   {
    "duration": 8,
    "start_time": "2025-01-14T20:09:50.054Z"
   },
   {
    "duration": 1506,
    "start_time": "2025-01-14T20:09:50.064Z"
   },
   {
    "duration": 3,
    "start_time": "2025-01-14T20:09:51.572Z"
   },
   {
    "duration": 11,
    "start_time": "2025-01-14T20:09:51.576Z"
   },
   {
    "duration": 9,
    "start_time": "2025-01-14T20:09:51.589Z"
   },
   {
    "duration": 88,
    "start_time": "2025-01-14T20:09:51.599Z"
   },
   {
    "duration": 13,
    "start_time": "2025-01-14T20:09:51.689Z"
   },
   {
    "duration": 30,
    "start_time": "2025-01-14T20:09:51.704Z"
   },
   {
    "duration": 31,
    "start_time": "2025-01-14T20:09:51.736Z"
   },
   {
    "duration": 40,
    "start_time": "2025-01-14T20:09:51.769Z"
   },
   {
    "duration": 823,
    "start_time": "2025-01-14T20:09:51.811Z"
   },
   {
    "duration": 339,
    "start_time": "2025-01-14T20:09:52.636Z"
   },
   {
    "duration": 7,
    "start_time": "2025-01-14T20:09:52.977Z"
   },
   {
    "duration": 338,
    "start_time": "2025-01-14T20:09:52.987Z"
   },
   {
    "duration": 17,
    "start_time": "2025-01-14T20:09:53.330Z"
   },
   {
    "duration": 12,
    "start_time": "2025-01-14T20:09:53.349Z"
   },
   {
    "duration": 18,
    "start_time": "2025-01-14T20:09:53.363Z"
   },
   {
    "duration": 80,
    "start_time": "2025-01-14T20:09:53.383Z"
   },
   {
    "duration": 167,
    "start_time": "2025-01-14T20:09:53.466Z"
   },
   {
    "duration": 183,
    "start_time": "2025-01-14T20:09:53.635Z"
   },
   {
    "duration": 167,
    "start_time": "2025-01-14T20:09:53.821Z"
   },
   {
    "duration": 7,
    "start_time": "2025-01-14T20:09:53.989Z"
   },
   {
    "duration": 16,
    "start_time": "2025-01-14T20:09:53.998Z"
   },
   {
    "duration": 6,
    "start_time": "2025-01-14T20:09:54.016Z"
   },
   {
    "duration": 6,
    "start_time": "2025-01-14T20:09:54.030Z"
   },
   {
    "duration": 5,
    "start_time": "2025-01-14T20:09:54.038Z"
   },
   {
    "duration": 24,
    "start_time": "2025-01-14T20:09:54.044Z"
   },
   {
    "duration": 5,
    "start_time": "2025-01-14T20:09:54.069Z"
   },
   {
    "duration": 8,
    "start_time": "2025-01-14T20:09:54.076Z"
   },
   {
    "duration": 12,
    "start_time": "2025-01-14T20:09:54.085Z"
   },
   {
    "duration": 328510,
    "start_time": "2025-01-14T20:09:54.099Z"
   },
   {
    "duration": 2,
    "start_time": "2025-01-14T20:15:22.611Z"
   },
   {
    "duration": 6,
    "start_time": "2025-01-14T20:15:22.615Z"
   },
   {
    "duration": 21,
    "start_time": "2025-01-14T20:15:22.623Z"
   },
   {
    "duration": 16,
    "start_time": "2025-01-14T20:15:22.646Z"
   },
   {
    "duration": 22,
    "start_time": "2025-01-14T20:15:22.663Z"
   },
   {
    "duration": 12,
    "start_time": "2025-01-14T20:15:22.687Z"
   },
   {
    "duration": 6,
    "start_time": "2025-01-14T20:15:22.701Z"
   },
   {
    "duration": 5,
    "start_time": "2025-01-14T20:16:25.207Z"
   },
   {
    "duration": 5,
    "start_time": "2025-01-14T20:16:25.640Z"
   },
   {
    "duration": 4,
    "start_time": "2025-01-14T20:16:30.293Z"
   },
   {
    "duration": 5,
    "start_time": "2025-01-14T20:16:30.609Z"
   },
   {
    "duration": 8,
    "start_time": "2025-01-14T20:23:14.228Z"
   },
   {
    "duration": 1452,
    "start_time": "2025-01-14T20:23:14.237Z"
   },
   {
    "duration": 3,
    "start_time": "2025-01-14T20:23:15.690Z"
   },
   {
    "duration": 26,
    "start_time": "2025-01-14T20:23:15.695Z"
   },
   {
    "duration": 4,
    "start_time": "2025-01-14T20:23:15.723Z"
   },
   {
    "duration": 75,
    "start_time": "2025-01-14T20:23:15.728Z"
   },
   {
    "duration": 13,
    "start_time": "2025-01-14T20:23:15.805Z"
   },
   {
    "duration": 10,
    "start_time": "2025-01-14T20:23:15.819Z"
   },
   {
    "duration": 16,
    "start_time": "2025-01-14T20:23:15.830Z"
   },
   {
    "duration": 11,
    "start_time": "2025-01-14T20:23:15.847Z"
   },
   {
    "duration": 807,
    "start_time": "2025-01-14T20:23:15.860Z"
   },
   {
    "duration": 332,
    "start_time": "2025-01-14T20:23:16.670Z"
   },
   {
    "duration": 7,
    "start_time": "2025-01-14T20:23:17.004Z"
   },
   {
    "duration": 264,
    "start_time": "2025-01-14T20:23:17.014Z"
   },
   {
    "duration": 17,
    "start_time": "2025-01-14T20:23:17.280Z"
   },
   {
    "duration": 11,
    "start_time": "2025-01-14T20:23:17.299Z"
   },
   {
    "duration": 18,
    "start_time": "2025-01-14T20:23:17.330Z"
   },
   {
    "duration": 51,
    "start_time": "2025-01-14T20:23:17.350Z"
   },
   {
    "duration": 165,
    "start_time": "2025-01-14T20:23:17.402Z"
   },
   {
    "duration": 165,
    "start_time": "2025-01-14T20:23:17.569Z"
   },
   {
    "duration": 153,
    "start_time": "2025-01-14T20:23:17.735Z"
   },
   {
    "duration": 6,
    "start_time": "2025-01-14T20:23:17.890Z"
   },
   {
    "duration": 4,
    "start_time": "2025-01-14T20:23:17.898Z"
   },
   {
    "duration": 4,
    "start_time": "2025-01-14T20:23:17.904Z"
   },
   {
    "duration": 24,
    "start_time": "2025-01-14T20:23:17.910Z"
   },
   {
    "duration": 5,
    "start_time": "2025-01-14T20:23:17.936Z"
   },
   {
    "duration": 3,
    "start_time": "2025-01-14T20:23:17.943Z"
   },
   {
    "duration": 4,
    "start_time": "2025-01-14T20:23:17.948Z"
   },
   {
    "duration": 4,
    "start_time": "2025-01-14T20:23:17.954Z"
   },
   {
    "duration": 5,
    "start_time": "2025-01-14T20:23:17.959Z"
   },
   {
    "duration": 327505,
    "start_time": "2025-01-14T20:23:17.965Z"
   },
   {
    "duration": 3,
    "start_time": "2025-01-14T20:28:45.471Z"
   },
   {
    "duration": 18,
    "start_time": "2025-01-14T20:28:45.476Z"
   },
   {
    "duration": 36,
    "start_time": "2025-01-14T20:28:45.496Z"
   },
   {
    "duration": 29,
    "start_time": "2025-01-14T20:28:45.534Z"
   },
   {
    "duration": 14,
    "start_time": "2025-01-14T20:28:45.565Z"
   },
   {
    "duration": 5,
    "start_time": "2025-01-14T20:28:45.580Z"
   },
   {
    "duration": 4,
    "start_time": "2025-01-14T20:28:45.587Z"
   },
   {
    "duration": 8,
    "start_time": "2025-01-14T20:30:06.824Z"
   },
   {
    "duration": 1502,
    "start_time": "2025-01-14T20:30:06.834Z"
   },
   {
    "duration": 4,
    "start_time": "2025-01-14T20:30:08.338Z"
   },
   {
    "duration": 8,
    "start_time": "2025-01-14T20:30:08.343Z"
   },
   {
    "duration": 8,
    "start_time": "2025-01-14T20:30:08.354Z"
   },
   {
    "duration": 73,
    "start_time": "2025-01-14T20:30:08.363Z"
   },
   {
    "duration": 13,
    "start_time": "2025-01-14T20:30:08.437Z"
   },
   {
    "duration": 9,
    "start_time": "2025-01-14T20:30:08.451Z"
   },
   {
    "duration": 5,
    "start_time": "2025-01-14T20:30:08.462Z"
   },
   {
    "duration": 10,
    "start_time": "2025-01-14T20:30:08.468Z"
   },
   {
    "duration": 836,
    "start_time": "2025-01-14T20:30:08.480Z"
   },
   {
    "duration": 317,
    "start_time": "2025-01-14T20:30:09.318Z"
   },
   {
    "duration": 7,
    "start_time": "2025-01-14T20:30:09.636Z"
   },
   {
    "duration": 256,
    "start_time": "2025-01-14T20:30:09.646Z"
   },
   {
    "duration": 27,
    "start_time": "2025-01-14T20:30:09.903Z"
   },
   {
    "duration": 11,
    "start_time": "2025-01-14T20:30:09.932Z"
   },
   {
    "duration": 21,
    "start_time": "2025-01-14T20:30:09.945Z"
   },
   {
    "duration": 63,
    "start_time": "2025-01-14T20:30:09.968Z"
   },
   {
    "duration": 163,
    "start_time": "2025-01-14T20:30:10.033Z"
   },
   {
    "duration": 169,
    "start_time": "2025-01-14T20:30:10.197Z"
   },
   {
    "duration": 152,
    "start_time": "2025-01-14T20:30:10.368Z"
   },
   {
    "duration": 12,
    "start_time": "2025-01-14T20:30:10.521Z"
   },
   {
    "duration": 15,
    "start_time": "2025-01-14T20:30:10.534Z"
   },
   {
    "duration": 15,
    "start_time": "2025-01-14T20:30:10.550Z"
   },
   {
    "duration": 7,
    "start_time": "2025-01-14T20:30:10.567Z"
   },
   {
    "duration": 18,
    "start_time": "2025-01-14T20:30:10.576Z"
   },
   {
    "duration": 16,
    "start_time": "2025-01-14T20:30:10.595Z"
   },
   {
    "duration": 6,
    "start_time": "2025-01-14T20:30:10.612Z"
   },
   {
    "duration": 5,
    "start_time": "2025-01-14T20:30:10.619Z"
   },
   {
    "duration": 13,
    "start_time": "2025-01-14T20:30:10.625Z"
   },
   {
    "duration": 354808,
    "start_time": "2025-01-14T20:30:10.639Z"
   },
   {
    "duration": 2,
    "start_time": "2025-01-14T20:36:05.450Z"
   },
   {
    "duration": 24,
    "start_time": "2025-01-14T20:36:05.454Z"
   },
   {
    "duration": 40,
    "start_time": "2025-01-14T20:36:05.480Z"
   },
   {
    "duration": 30,
    "start_time": "2025-01-14T20:36:05.522Z"
   },
   {
    "duration": 16,
    "start_time": "2025-01-14T20:36:05.554Z"
   },
   {
    "duration": 36,
    "start_time": "2025-01-14T20:36:05.572Z"
   },
   {
    "duration": 23,
    "start_time": "2025-01-14T20:36:05.610Z"
   },
   {
    "duration": 5,
    "start_time": "2025-01-14T20:49:17.270Z"
   },
   {
    "duration": 6,
    "start_time": "2025-01-14T20:49:17.740Z"
   },
   {
    "duration": 4,
    "start_time": "2025-01-14T20:49:22.599Z"
   },
   {
    "duration": 5,
    "start_time": "2025-01-14T20:49:22.868Z"
   },
   {
    "duration": 8,
    "start_time": "2025-01-14T20:50:01.232Z"
   },
   {
    "duration": 1542,
    "start_time": "2025-01-14T20:50:01.241Z"
   },
   {
    "duration": 3,
    "start_time": "2025-01-14T20:50:02.784Z"
   },
   {
    "duration": 28,
    "start_time": "2025-01-14T20:50:02.789Z"
   },
   {
    "duration": 36,
    "start_time": "2025-01-14T20:50:02.820Z"
   },
   {
    "duration": 80,
    "start_time": "2025-01-14T20:50:02.858Z"
   },
   {
    "duration": 13,
    "start_time": "2025-01-14T20:50:02.940Z"
   },
   {
    "duration": 14,
    "start_time": "2025-01-14T20:50:02.954Z"
   },
   {
    "duration": 4,
    "start_time": "2025-01-14T20:50:02.970Z"
   },
   {
    "duration": 12,
    "start_time": "2025-01-14T20:50:02.975Z"
   },
   {
    "duration": 835,
    "start_time": "2025-01-14T20:50:02.988Z"
   },
   {
    "duration": 327,
    "start_time": "2025-01-14T20:50:03.824Z"
   },
   {
    "duration": 7,
    "start_time": "2025-01-14T20:50:04.152Z"
   },
   {
    "duration": 276,
    "start_time": "2025-01-14T20:50:04.162Z"
   },
   {
    "duration": 17,
    "start_time": "2025-01-14T20:50:04.440Z"
   },
   {
    "duration": 11,
    "start_time": "2025-01-14T20:50:04.459Z"
   },
   {
    "duration": 25,
    "start_time": "2025-01-14T20:50:04.471Z"
   },
   {
    "duration": 74,
    "start_time": "2025-01-14T20:50:04.497Z"
   },
   {
    "duration": 167,
    "start_time": "2025-01-14T20:50:04.572Z"
   },
   {
    "duration": 167,
    "start_time": "2025-01-14T20:50:04.740Z"
   },
   {
    "duration": 150,
    "start_time": "2025-01-14T20:50:04.909Z"
   },
   {
    "duration": 6,
    "start_time": "2025-01-14T20:50:05.061Z"
   },
   {
    "duration": 7,
    "start_time": "2025-01-14T20:50:05.069Z"
   },
   {
    "duration": 26,
    "start_time": "2025-01-14T20:50:05.078Z"
   },
   {
    "duration": 14,
    "start_time": "2025-01-14T20:50:05.105Z"
   },
   {
    "duration": 6,
    "start_time": "2025-01-14T20:50:05.120Z"
   },
   {
    "duration": 5,
    "start_time": "2025-01-14T20:50:05.127Z"
   },
   {
    "duration": 31,
    "start_time": "2025-01-14T20:50:05.133Z"
   },
   {
    "duration": 39,
    "start_time": "2025-01-14T20:50:05.166Z"
   },
   {
    "duration": 5,
    "start_time": "2025-01-14T20:50:05.207Z"
   },
   {
    "duration": 347871,
    "start_time": "2025-01-14T20:50:05.213Z"
   },
   {
    "duration": 2,
    "start_time": "2025-01-14T20:55:53.086Z"
   },
   {
    "duration": 8,
    "start_time": "2025-01-14T20:55:53.090Z"
   },
   {
    "duration": 19,
    "start_time": "2025-01-14T20:55:53.100Z"
   },
   {
    "duration": 34,
    "start_time": "2025-01-14T20:55:53.120Z"
   },
   {
    "duration": 12,
    "start_time": "2025-01-14T20:55:53.156Z"
   },
   {
    "duration": 46,
    "start_time": "2025-01-14T20:55:53.170Z"
   },
   {
    "duration": 6,
    "start_time": "2025-01-14T20:55:53.217Z"
   },
   {
    "duration": 7,
    "start_time": "2025-01-14T21:03:34.662Z"
   },
   {
    "duration": 1514,
    "start_time": "2025-01-14T21:03:34.671Z"
   },
   {
    "duration": 2,
    "start_time": "2025-01-14T21:03:36.187Z"
   },
   {
    "duration": 20,
    "start_time": "2025-01-14T21:03:36.191Z"
   },
   {
    "duration": 23,
    "start_time": "2025-01-14T21:03:36.213Z"
   },
   {
    "duration": 83,
    "start_time": "2025-01-14T21:03:36.237Z"
   },
   {
    "duration": 14,
    "start_time": "2025-01-14T21:03:36.321Z"
   },
   {
    "duration": 17,
    "start_time": "2025-01-14T21:03:36.337Z"
   },
   {
    "duration": 4,
    "start_time": "2025-01-14T21:03:36.355Z"
   },
   {
    "duration": 28,
    "start_time": "2025-01-14T21:03:36.362Z"
   },
   {
    "duration": 838,
    "start_time": "2025-01-14T21:03:36.392Z"
   },
   {
    "duration": 339,
    "start_time": "2025-01-14T21:03:37.232Z"
   },
   {
    "duration": 8,
    "start_time": "2025-01-14T21:03:37.573Z"
   },
   {
    "duration": 311,
    "start_time": "2025-01-14T21:03:37.583Z"
   },
   {
    "duration": 15,
    "start_time": "2025-01-14T21:03:37.896Z"
   },
   {
    "duration": 25,
    "start_time": "2025-01-14T21:03:37.913Z"
   },
   {
    "duration": 16,
    "start_time": "2025-01-14T21:03:37.941Z"
   },
   {
    "duration": 51,
    "start_time": "2025-01-14T21:03:37.959Z"
   },
   {
    "duration": 179,
    "start_time": "2025-01-14T21:03:38.012Z"
   },
   {
    "duration": 174,
    "start_time": "2025-01-14T21:03:38.193Z"
   },
   {
    "duration": 166,
    "start_time": "2025-01-14T21:03:38.369Z"
   },
   {
    "duration": 7,
    "start_time": "2025-01-14T21:03:38.536Z"
   },
   {
    "duration": 29,
    "start_time": "2025-01-14T21:03:38.544Z"
   },
   {
    "duration": 30,
    "start_time": "2025-01-14T21:03:38.575Z"
   },
   {
    "duration": 17,
    "start_time": "2025-01-14T21:03:38.607Z"
   },
   {
    "duration": 13,
    "start_time": "2025-01-14T21:03:38.626Z"
   },
   {
    "duration": 14,
    "start_time": "2025-01-14T21:03:38.641Z"
   },
   {
    "duration": 8,
    "start_time": "2025-01-14T21:03:38.659Z"
   },
   {
    "duration": 9,
    "start_time": "2025-01-14T21:03:38.668Z"
   },
   {
    "duration": 8,
    "start_time": "2025-01-14T21:03:38.678Z"
   },
   {
    "duration": 107041,
    "start_time": "2025-01-14T21:03:38.688Z"
   },
   {
    "duration": 3,
    "start_time": "2025-01-14T21:05:25.730Z"
   },
   {
    "duration": 17,
    "start_time": "2025-01-14T21:05:25.735Z"
   },
   {
    "duration": 22,
    "start_time": "2025-01-14T21:05:25.753Z"
   },
   {
    "duration": 13,
    "start_time": "2025-01-14T21:05:25.777Z"
   },
   {
    "duration": 25,
    "start_time": "2025-01-14T21:05:25.792Z"
   },
   {
    "duration": 33,
    "start_time": "2025-01-14T21:05:25.819Z"
   },
   {
    "duration": 9,
    "start_time": "2025-01-14T21:05:25.854Z"
   },
   {
    "duration": 3,
    "start_time": "2025-01-14T21:06:06.980Z"
   },
   {
    "duration": 5,
    "start_time": "2025-01-14T21:06:07.446Z"
   },
   {
    "duration": 4,
    "start_time": "2025-01-14T21:06:12.565Z"
   },
   {
    "duration": 5,
    "start_time": "2025-01-14T21:06:13.047Z"
   },
   {
    "duration": 8,
    "start_time": "2025-01-14T21:07:20.825Z"
   },
   {
    "duration": 1596,
    "start_time": "2025-01-14T21:07:20.834Z"
   },
   {
    "duration": 2,
    "start_time": "2025-01-14T21:07:22.432Z"
   },
   {
    "duration": 11,
    "start_time": "2025-01-14T21:07:22.436Z"
   },
   {
    "duration": 18,
    "start_time": "2025-01-14T21:07:22.450Z"
   },
   {
    "duration": 79,
    "start_time": "2025-01-14T21:07:22.469Z"
   },
   {
    "duration": 13,
    "start_time": "2025-01-14T21:07:22.550Z"
   },
   {
    "duration": 18,
    "start_time": "2025-01-14T21:07:22.564Z"
   },
   {
    "duration": 5,
    "start_time": "2025-01-14T21:07:22.583Z"
   },
   {
    "duration": 19,
    "start_time": "2025-01-14T21:07:22.589Z"
   },
   {
    "duration": 826,
    "start_time": "2025-01-14T21:07:22.609Z"
   },
   {
    "duration": 342,
    "start_time": "2025-01-14T21:07:23.437Z"
   },
   {
    "duration": 6,
    "start_time": "2025-01-14T21:07:23.781Z"
   },
   {
    "duration": 346,
    "start_time": "2025-01-14T21:07:23.790Z"
   },
   {
    "duration": 16,
    "start_time": "2025-01-14T21:07:24.137Z"
   },
   {
    "duration": 12,
    "start_time": "2025-01-14T21:07:24.155Z"
   },
   {
    "duration": 53,
    "start_time": "2025-01-14T21:07:24.168Z"
   },
   {
    "duration": 58,
    "start_time": "2025-01-14T21:07:24.223Z"
   },
   {
    "duration": 158,
    "start_time": "2025-01-14T21:07:24.283Z"
   },
   {
    "duration": 178,
    "start_time": "2025-01-14T21:07:24.443Z"
   },
   {
    "duration": 169,
    "start_time": "2025-01-14T21:07:24.623Z"
   },
   {
    "duration": 7,
    "start_time": "2025-01-14T21:07:24.794Z"
   },
   {
    "duration": 48,
    "start_time": "2025-01-14T21:07:24.803Z"
   },
   {
    "duration": 5,
    "start_time": "2025-01-14T21:07:24.853Z"
   },
   {
    "duration": 6,
    "start_time": "2025-01-14T21:07:24.859Z"
   },
   {
    "duration": 29,
    "start_time": "2025-01-14T21:07:24.866Z"
   },
   {
    "duration": 7,
    "start_time": "2025-01-14T21:07:24.897Z"
   },
   {
    "duration": 12,
    "start_time": "2025-01-14T21:07:24.906Z"
   },
   {
    "duration": 7,
    "start_time": "2025-01-14T21:07:24.920Z"
   },
   {
    "duration": 5,
    "start_time": "2025-01-14T21:07:24.928Z"
   },
   {
    "duration": 108705,
    "start_time": "2025-01-14T21:07:24.935Z"
   },
   {
    "duration": 3,
    "start_time": "2025-01-14T21:09:13.642Z"
   },
   {
    "duration": 10,
    "start_time": "2025-01-14T21:09:13.647Z"
   },
   {
    "duration": 21,
    "start_time": "2025-01-14T21:09:13.659Z"
   },
   {
    "duration": 14,
    "start_time": "2025-01-14T21:09:13.682Z"
   },
   {
    "duration": 5,
    "start_time": "2025-01-14T21:09:13.697Z"
   },
   {
    "duration": 5,
    "start_time": "2025-01-14T21:09:13.731Z"
   }
  ],
  "kernelspec": {
   "display_name": "Python 3 (ipykernel)",
   "language": "python",
   "name": "python3"
  },
  "language_info": {
   "codemirror_mode": {
    "name": "ipython",
    "version": 3
   },
   "file_extension": ".py",
   "mimetype": "text/x-python",
   "name": "python",
   "nbconvert_exporter": "python",
   "pygments_lexer": "ipython3",
   "version": "3.11.7"
  },
  "toc": {
   "base_numbering": 1,
   "nav_menu": {},
   "number_sections": true,
   "sideBar": true,
   "skip_h1_title": true,
   "title_cell": "Содержание",
   "title_sidebar": "Contents",
   "toc_cell": true,
   "toc_position": {},
   "toc_section_display": true,
   "toc_window_display": false
  }
 },
 "nbformat": 4,
 "nbformat_minor": 4
}
