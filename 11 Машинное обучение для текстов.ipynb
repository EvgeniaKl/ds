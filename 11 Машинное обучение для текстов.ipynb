{
 "cells": [
  {
   "cell_type": "markdown",
   "metadata": {
    "toc": true
   },
   "source": [
    "<h1>Содержание<span class=\"tocSkip\"></span></h1>\n",
    "<div class=\"toc\"><ul class=\"toc-item\"><li><span><a href=\"#Подготовка\" data-toc-modified-id=\"Подготовка-1\"><span class=\"toc-item-num\">1&nbsp;&nbsp;</span>Подготовка</a></span></li><li><span><a href=\"#Обучение\" data-toc-modified-id=\"Обучение-2\"><span class=\"toc-item-num\">2&nbsp;&nbsp;</span>Обучение</a></span></li><li><span><a href=\"#Выводы\" data-toc-modified-id=\"Выводы-3\"><span class=\"toc-item-num\">3&nbsp;&nbsp;</span>Выводы</a></span></li><li><span><a href=\"#Чек-лист-проверки\" data-toc-modified-id=\"Чек-лист-проверки-4\"><span class=\"toc-item-num\">4&nbsp;&nbsp;</span>Чек-лист проверки</a></span></li></ul></div>"
   ]
  },
  {
   "cell_type": "markdown",
   "metadata": {},
   "source": [
    "# Проект для «Викишоп»"
   ]
  },
  {
   "cell_type": "markdown",
   "metadata": {},
   "source": [
    "Интернет-магазин «Викишоп» запускает новый сервис. Теперь пользователи могут редактировать и дополнять описания товаров, как в вики-сообществах. То есть клиенты предлагают свои правки и комментируют изменения других. Магазину нужен инструмент, который будет искать токсичные комментарии и отправлять их на модерацию. \n",
    "\n",
    "Обучите модель классифицировать комментарии на позитивные и негативные. В вашем распоряжении набор данных с разметкой о токсичности правок.\n",
    "\n",
    "Постройте модель со значением метрики качества *F1* не меньше 0.75. \n",
    "\n",
    "**Инструкция по выполнению проекта**\n",
    "\n",
    "1. Загрузите и подготовьте данные.\n",
    "2. Обучите разные модели. \n",
    "3. Сделайте выводы.\n",
    "\n",
    "Для выполнения проекта применять *BERT* необязательно, но вы можете попробовать.\n",
    "\n",
    "**Описание данных**\n",
    "\n",
    "Данные находятся в файле `toxic_comments.csv`. Столбец *text* в нём содержит текст комментария, а *toxic* — целевой признак."
   ]
  },
  {
   "cell_type": "markdown",
   "metadata": {},
   "source": [
    "## Подготовка"
   ]
  },
  {
   "cell_type": "code",
   "execution_count": 1,
   "metadata": {},
   "outputs": [],
   "source": [
    "import pandas as pd\n",
    "import os\n",
    "\n",
    "from sklearn.model_selection import train_test_split\n",
    "from sklearn.feature_extraction.text import CountVectorizer, TfidfTransformer\n",
    "from sklearn.linear_model import LogisticRegression\n",
    "from sklearn.svm import SVC\n",
    "from sklearn.tree import DecisionTreeClassifier\n",
    "from sklearn.ensemble import RandomForestClassifier\n",
    "from sklearn.neural_network import MLPClassifier\n",
    "from sklearn.metrics import f1_score\n",
    "from sklearn.pipeline import Pipeline\n",
    "from sklearn.feature_extraction.text import TfidfVectorizer\n",
    "from sklearn.linear_model import LogisticRegression\n",
    "from sklearn.metrics import f1_score\n",
    "from sklearn.model_selection import GridSearchCV\n",
    "import re \n",
    "import nltk\n",
    "from nltk.corpus import stopwords as nltk_stopwords\n",
    "from nltk.stem import WordNetLemmatizer\n",
    "import spacy"
   ]
  },
  {
   "cell_type": "code",
   "execution_count": 2,
   "metadata": {},
   "outputs": [],
   "source": [
    "# Загрузка модели\n",
    "nlp = spacy.load(\"en_core_web_sm\")"
   ]
  },
  {
   "cell_type": "code",
   "execution_count": 3,
   "metadata": {},
   "outputs": [],
   "source": [
    "import warnings\n",
    "# настройки\n",
    "warnings.filterwarnings(\"ignore\")\n",
    "\n",
    "# Установка опции для отображения максимальной ширины столбца\n",
    "pd.set_option('display.max_colwidth', None)"
   ]
  },
  {
   "cell_type": "code",
   "execution_count": 4,
   "metadata": {},
   "outputs": [],
   "source": [
    "def upload(pth):\n",
    "    if os.path.exists(pth):\n",
    "        market_file = pd.read_csv(pth)\n",
    "        return pd.read_csv(pth, parse_dates =[0],index_col= 0)\n",
    "    else:\n",
    "        print('Something is wrong')"
   ]
  },
  {
   "cell_type": "code",
   "execution_count": 5,
   "metadata": {},
   "outputs": [],
   "source": [
    "pth = '/datasets/toxic_comments.csv'\n",
    "df = upload(pth)"
   ]
  },
  {
   "cell_type": "code",
   "execution_count": 6,
   "metadata": {},
   "outputs": [
    {
     "name": "stdout",
     "output_type": "stream",
     "text": [
      "<class 'pandas.core.frame.DataFrame'>\n",
      "Int64Index: 159292 entries, 0 to 159450\n",
      "Data columns (total 2 columns):\n",
      " #   Column  Non-Null Count   Dtype \n",
      "---  ------  --------------   ----- \n",
      " 0   text    159292 non-null  object\n",
      " 1   toxic   159292 non-null  int64 \n",
      "dtypes: int64(1), object(1)\n",
      "memory usage: 3.6+ MB\n"
     ]
    }
   ],
   "source": [
    "df.info()"
   ]
  },
  {
   "cell_type": "code",
   "execution_count": 7,
   "metadata": {},
   "outputs": [
    {
     "data": {
      "text/html": [
       "<div>\n",
       "<style scoped>\n",
       "    .dataframe tbody tr th:only-of-type {\n",
       "        vertical-align: middle;\n",
       "    }\n",
       "\n",
       "    .dataframe tbody tr th {\n",
       "        vertical-align: top;\n",
       "    }\n",
       "\n",
       "    .dataframe thead th {\n",
       "        text-align: right;\n",
       "    }\n",
       "</style>\n",
       "<table border=\"1\" class=\"dataframe\">\n",
       "  <thead>\n",
       "    <tr style=\"text-align: right;\">\n",
       "      <th></th>\n",
       "      <th>text</th>\n",
       "      <th>toxic</th>\n",
       "    </tr>\n",
       "  </thead>\n",
       "  <tbody>\n",
       "    <tr>\n",
       "      <th>0</th>\n",
       "      <td>Explanation\\nWhy the edits made under my username Hardcore Metallica Fan were reverted? They weren't vandalisms, just closure on some GAs after I voted at New York Dolls FAC. And please don't remove the template from the talk page since I'm retired now.89.205.38.27</td>\n",
       "      <td>0</td>\n",
       "    </tr>\n",
       "    <tr>\n",
       "      <th>1</th>\n",
       "      <td>D'aww! He matches this background colour I'm seemingly stuck with. Thanks.  (talk) 21:51, January 11, 2016 (UTC)</td>\n",
       "      <td>0</td>\n",
       "    </tr>\n",
       "    <tr>\n",
       "      <th>2</th>\n",
       "      <td>Hey man, I'm really not trying to edit war. It's just that this guy is constantly removing relevant information and talking to me through edits instead of my talk page. He seems to care more about the formatting than the actual info.</td>\n",
       "      <td>0</td>\n",
       "    </tr>\n",
       "    <tr>\n",
       "      <th>3</th>\n",
       "      <td>\"\\nMore\\nI can't make any real suggestions on improvement - I wondered if the section statistics should be later on, or a subsection of \"\"types of accidents\"\"  -I think the references may need tidying so that they are all in the exact same format ie date format etc. I can do that later on, if no-one else does first - if you have any preferences for formatting style on references or want to do it yourself please let me know.\\n\\nThere appears to be a backlog on articles for review so I guess there may be a delay until a reviewer turns up. It's listed in the relevant form eg Wikipedia:Good_article_nominations#Transport  \"</td>\n",
       "      <td>0</td>\n",
       "    </tr>\n",
       "    <tr>\n",
       "      <th>4</th>\n",
       "      <td>You, sir, are my hero. Any chance you remember what page that's on?</td>\n",
       "      <td>0</td>\n",
       "    </tr>\n",
       "  </tbody>\n",
       "</table>\n",
       "</div>"
      ],
      "text/plain": [
       "                                                                                                                                                                                                                                                                                                                                                                                                                                                                                                                                                                                                                                                 text  \\\n",
       "0                                                                                                                                                                                                                                                                                                                                                                           Explanation\\nWhy the edits made under my username Hardcore Metallica Fan were reverted? They weren't vandalisms, just closure on some GAs after I voted at New York Dolls FAC. And please don't remove the template from the talk page since I'm retired now.89.205.38.27   \n",
       "1                                                                                                                                                                                                                                                                                                                                                                                                                                                                                                                                    D'aww! He matches this background colour I'm seemingly stuck with. Thanks.  (talk) 21:51, January 11, 2016 (UTC)   \n",
       "2                                                                                                                                                                                                                                                                                                                                                                                                           Hey man, I'm really not trying to edit war. It's just that this guy is constantly removing relevant information and talking to me through edits instead of my talk page. He seems to care more about the formatting than the actual info.   \n",
       "3  \"\\nMore\\nI can't make any real suggestions on improvement - I wondered if the section statistics should be later on, or a subsection of \"\"types of accidents\"\"  -I think the references may need tidying so that they are all in the exact same format ie date format etc. I can do that later on, if no-one else does first - if you have any preferences for formatting style on references or want to do it yourself please let me know.\\n\\nThere appears to be a backlog on articles for review so I guess there may be a delay until a reviewer turns up. It's listed in the relevant form eg Wikipedia:Good_article_nominations#Transport  \"   \n",
       "4                                                                                                                                                                                                                                                                                                                                                                                                                                                                                                                                                                                 You, sir, are my hero. Any chance you remember what page that's on?   \n",
       "\n",
       "   toxic  \n",
       "0      0  \n",
       "1      0  \n",
       "2      0  \n",
       "3      0  \n",
       "4      0  "
      ]
     },
     "execution_count": 7,
     "metadata": {},
     "output_type": "execute_result"
    }
   ],
   "source": [
    "df.head()"
   ]
  },
  {
   "cell_type": "code",
   "execution_count": 8,
   "metadata": {},
   "outputs": [
    {
     "data": {
      "text/plain": [
       "0"
      ]
     },
     "execution_count": 8,
     "metadata": {},
     "output_type": "execute_result"
    }
   ],
   "source": [
    "df['text'].duplicated().sum()"
   ]
  },
  {
   "cell_type": "code",
   "execution_count": 9,
   "metadata": {},
   "outputs": [
    {
     "data": {
      "text/plain": [
       "array([0, 1])"
      ]
     },
     "execution_count": 9,
     "metadata": {},
     "output_type": "execute_result"
    }
   ],
   "source": [
    "df['toxic'].unique()"
   ]
  },
  {
   "cell_type": "code",
   "execution_count": 10,
   "metadata": {},
   "outputs": [
    {
     "data": {
      "text/plain": [
       "0    143106\n",
       "1     16186\n",
       "Name: toxic, dtype: int64"
      ]
     },
     "execution_count": 10,
     "metadata": {},
     "output_type": "execute_result"
    }
   ],
   "source": [
    "df['toxic'].value_counts() "
   ]
  },
  {
   "cell_type": "code",
   "execution_count": 11,
   "metadata": {},
   "outputs": [
    {
     "name": "stderr",
     "output_type": "stream",
     "text": [
      "[nltk_data] Downloading package stopwords to /home/jovyan/nltk_data...\n",
      "[nltk_data]   Package stopwords is already up-to-date!\n"
     ]
    }
   ],
   "source": [
    "nltk.download('stopwords')\n",
    "stopwords = set(nltk_stopwords.words('english'))"
   ]
  },
  {
   "cell_type": "code",
   "execution_count": 12,
   "metadata": {},
   "outputs": [],
   "source": [
    "lemmatizer = WordNetLemmatizer()"
   ]
  },
  {
   "cell_type": "code",
   "execution_count": 13,
   "metadata": {},
   "outputs": [],
   "source": [
    "def lemmatize(text):\n",
    "    token = nltk.word_tokenize(text)\n",
    "    text = [word for word in token if word not in stopwords]\n",
    "    text = [lemmatizer.lemmatize(word) for word in text]\n",
    "    text = ' '.join(text)\n",
    "    return text"
   ]
  },
  {
   "cell_type": "code",
   "execution_count": 14,
   "metadata": {},
   "outputs": [],
   "source": [
    "df['lemmatized'] = df['text'].apply(lambda x: lemmatize(x))"
   ]
  },
  {
   "cell_type": "code",
   "execution_count": 15,
   "metadata": {},
   "outputs": [
    {
     "data": {
      "text/html": [
       "<div>\n",
       "<style scoped>\n",
       "    .dataframe tbody tr th:only-of-type {\n",
       "        vertical-align: middle;\n",
       "    }\n",
       "\n",
       "    .dataframe tbody tr th {\n",
       "        vertical-align: top;\n",
       "    }\n",
       "\n",
       "    .dataframe thead th {\n",
       "        text-align: right;\n",
       "    }\n",
       "</style>\n",
       "<table border=\"1\" class=\"dataframe\">\n",
       "  <thead>\n",
       "    <tr style=\"text-align: right;\">\n",
       "      <th></th>\n",
       "      <th>text</th>\n",
       "      <th>toxic</th>\n",
       "      <th>lemmatized</th>\n",
       "    </tr>\n",
       "  </thead>\n",
       "  <tbody>\n",
       "    <tr>\n",
       "      <th>0</th>\n",
       "      <td>Explanation\\nWhy the edits made under my username Hardcore Metallica Fan were reverted? They weren't vandalisms, just closure on some GAs after I voted at New York Dolls FAC. And please don't remove the template from the talk page since I'm retired now.89.205.38.27</td>\n",
       "      <td>0</td>\n",
       "      <td>Explanation Why edits made username Hardcore Metallica Fan reverted ? They n't vandalism , closure GAs I voted New York Dolls FAC . And please n't remove template talk page since I 'm retired now.89.205.38.27</td>\n",
       "    </tr>\n",
       "    <tr>\n",
       "      <th>1</th>\n",
       "      <td>D'aww! He matches this background colour I'm seemingly stuck with. Thanks.  (talk) 21:51, January 11, 2016 (UTC)</td>\n",
       "      <td>0</td>\n",
       "      <td>D'aww ! He match background colour I 'm seemingly stuck . Thanks . ( talk ) 21:51 , January 11 , 2016 ( UTC )</td>\n",
       "    </tr>\n",
       "    <tr>\n",
       "      <th>2</th>\n",
       "      <td>Hey man, I'm really not trying to edit war. It's just that this guy is constantly removing relevant information and talking to me through edits instead of my talk page. He seems to care more about the formatting than the actual info.</td>\n",
       "      <td>0</td>\n",
       "      <td>Hey man , I 'm really trying edit war . It 's guy constantly removing relevant information talking edits instead talk page . He seems care formatting actual info .</td>\n",
       "    </tr>\n",
       "    <tr>\n",
       "      <th>3</th>\n",
       "      <td>\"\\nMore\\nI can't make any real suggestions on improvement - I wondered if the section statistics should be later on, or a subsection of \"\"types of accidents\"\"  -I think the references may need tidying so that they are all in the exact same format ie date format etc. I can do that later on, if no-one else does first - if you have any preferences for formatting style on references or want to do it yourself please let me know.\\n\\nThere appears to be a backlog on articles for review so I guess there may be a delay until a reviewer turns up. It's listed in the relevant form eg Wikipedia:Good_article_nominations#Transport  \"</td>\n",
       "      <td>0</td>\n",
       "      <td>`` More I ca n't make real suggestion improvement - I wondered section statistic later , subsection `` '' type accident '' '' -I think reference may need tidying exact format ie date format etc . I later , no-one else first - preference formatting style reference want please let know . There appears backlog article review I guess may delay reviewer turn . It 's listed relevant form eg Wikipedia : Good_article_nominations # Transport ``</td>\n",
       "    </tr>\n",
       "    <tr>\n",
       "      <th>4</th>\n",
       "      <td>You, sir, are my hero. Any chance you remember what page that's on?</td>\n",
       "      <td>0</td>\n",
       "      <td>You , sir , hero . Any chance remember page 's ?</td>\n",
       "    </tr>\n",
       "  </tbody>\n",
       "</table>\n",
       "</div>"
      ],
      "text/plain": [
       "                                                                                                                                                                                                                                                                                                                                                                                                                                                                                                                                                                                                                                                 text  \\\n",
       "0                                                                                                                                                                                                                                                                                                                                                                           Explanation\\nWhy the edits made under my username Hardcore Metallica Fan were reverted? They weren't vandalisms, just closure on some GAs after I voted at New York Dolls FAC. And please don't remove the template from the talk page since I'm retired now.89.205.38.27   \n",
       "1                                                                                                                                                                                                                                                                                                                                                                                                                                                                                                                                    D'aww! He matches this background colour I'm seemingly stuck with. Thanks.  (talk) 21:51, January 11, 2016 (UTC)   \n",
       "2                                                                                                                                                                                                                                                                                                                                                                                                           Hey man, I'm really not trying to edit war. It's just that this guy is constantly removing relevant information and talking to me through edits instead of my talk page. He seems to care more about the formatting than the actual info.   \n",
       "3  \"\\nMore\\nI can't make any real suggestions on improvement - I wondered if the section statistics should be later on, or a subsection of \"\"types of accidents\"\"  -I think the references may need tidying so that they are all in the exact same format ie date format etc. I can do that later on, if no-one else does first - if you have any preferences for formatting style on references or want to do it yourself please let me know.\\n\\nThere appears to be a backlog on articles for review so I guess there may be a delay until a reviewer turns up. It's listed in the relevant form eg Wikipedia:Good_article_nominations#Transport  \"   \n",
       "4                                                                                                                                                                                                                                                                                                                                                                                                                                                                                                                                                                                 You, sir, are my hero. Any chance you remember what page that's on?   \n",
       "\n",
       "   toxic  \\\n",
       "0      0   \n",
       "1      0   \n",
       "2      0   \n",
       "3      0   \n",
       "4      0   \n",
       "\n",
       "                                                                                                                                                                                                                                                                                                                                                                                                                                                lemmatized  \n",
       "0                                                                                                                                                                                                                                         Explanation Why edits made username Hardcore Metallica Fan reverted ? They n't vandalism , closure GAs I voted New York Dolls FAC . And please n't remove template talk page since I 'm retired now.89.205.38.27  \n",
       "1                                                                                                                                                                                                                                                                                                                                            D'aww ! He match background colour I 'm seemingly stuck . Thanks . ( talk ) 21:51 , January 11 , 2016 ( UTC )  \n",
       "2                                                                                                                                                                                                                                                                                      Hey man , I 'm really trying edit war . It 's guy constantly removing relevant information talking edits instead talk page . He seems care formatting actual info .  \n",
       "3  `` More I ca n't make real suggestion improvement - I wondered section statistic later , subsection `` '' type accident '' '' -I think reference may need tidying exact format ie date format etc . I later , no-one else first - preference formatting style reference want please let know . There appears backlog article review I guess may delay reviewer turn . It 's listed relevant form eg Wikipedia : Good_article_nominations # Transport ``  \n",
       "4                                                                                                                                                                                                                                                                                                                                                                                                         You , sir , hero . Any chance remember page 's ?  "
      ]
     },
     "execution_count": 15,
     "metadata": {},
     "output_type": "execute_result"
    }
   ],
   "source": [
    "df.head()"
   ]
  },
  {
   "cell_type": "code",
   "execution_count": 16,
   "metadata": {},
   "outputs": [],
   "source": [
    "def clean_text(text):\n",
    "    # Удаление разделителей строк\n",
    "    text = re.sub('\\n|\\r', ' ', text)\n",
    "\n",
    "    # Преобразование текста в нижний регистр\n",
    "    text = text.lower()\n",
    "\n",
    "    return text"
   ]
  },
  {
   "cell_type": "code",
   "execution_count": 17,
   "metadata": {},
   "outputs": [
    {
     "data": {
      "text/html": [
       "<div>\n",
       "<style scoped>\n",
       "    .dataframe tbody tr th:only-of-type {\n",
       "        vertical-align: middle;\n",
       "    }\n",
       "\n",
       "    .dataframe tbody tr th {\n",
       "        vertical-align: top;\n",
       "    }\n",
       "\n",
       "    .dataframe thead th {\n",
       "        text-align: right;\n",
       "    }\n",
       "</style>\n",
       "<table border=\"1\" class=\"dataframe\">\n",
       "  <thead>\n",
       "    <tr style=\"text-align: right;\">\n",
       "      <th></th>\n",
       "      <th>text</th>\n",
       "      <th>toxic</th>\n",
       "      <th>lemmatized</th>\n",
       "    </tr>\n",
       "  </thead>\n",
       "  <tbody>\n",
       "    <tr>\n",
       "      <th>0</th>\n",
       "      <td>Explanation\\nWhy the edits made under my username Hardcore Metallica Fan were reverted? They weren't vandalisms, just closure on some GAs after I voted at New York Dolls FAC. And please don't remove the template from the talk page since I'm retired now.89.205.38.27</td>\n",
       "      <td>0</td>\n",
       "      <td>explanation why edits made username hardcore metallica fan reverted ? they n't vandalism , closure gas i voted new york dolls fac . and please n't remove template talk page since i 'm retired now.89.205.38.27</td>\n",
       "    </tr>\n",
       "    <tr>\n",
       "      <th>1</th>\n",
       "      <td>D'aww! He matches this background colour I'm seemingly stuck with. Thanks.  (talk) 21:51, January 11, 2016 (UTC)</td>\n",
       "      <td>0</td>\n",
       "      <td>d'aww ! he match background colour i 'm seemingly stuck . thanks . ( talk ) 21:51 , january 11 , 2016 ( utc )</td>\n",
       "    </tr>\n",
       "    <tr>\n",
       "      <th>2</th>\n",
       "      <td>Hey man, I'm really not trying to edit war. It's just that this guy is constantly removing relevant information and talking to me through edits instead of my talk page. He seems to care more about the formatting than the actual info.</td>\n",
       "      <td>0</td>\n",
       "      <td>hey man , i 'm really trying edit war . it 's guy constantly removing relevant information talking edits instead talk page . he seems care formatting actual info .</td>\n",
       "    </tr>\n",
       "    <tr>\n",
       "      <th>3</th>\n",
       "      <td>\"\\nMore\\nI can't make any real suggestions on improvement - I wondered if the section statistics should be later on, or a subsection of \"\"types of accidents\"\"  -I think the references may need tidying so that they are all in the exact same format ie date format etc. I can do that later on, if no-one else does first - if you have any preferences for formatting style on references or want to do it yourself please let me know.\\n\\nThere appears to be a backlog on articles for review so I guess there may be a delay until a reviewer turns up. It's listed in the relevant form eg Wikipedia:Good_article_nominations#Transport  \"</td>\n",
       "      <td>0</td>\n",
       "      <td>`` more i ca n't make real suggestion improvement - i wondered section statistic later , subsection `` '' type accident '' '' -i think reference may need tidying exact format ie date format etc . i later , no-one else first - preference formatting style reference want please let know . there appears backlog article review i guess may delay reviewer turn . it 's listed relevant form eg wikipedia : good_article_nominations # transport ``</td>\n",
       "    </tr>\n",
       "    <tr>\n",
       "      <th>4</th>\n",
       "      <td>You, sir, are my hero. Any chance you remember what page that's on?</td>\n",
       "      <td>0</td>\n",
       "      <td>you , sir , hero . any chance remember page 's ?</td>\n",
       "    </tr>\n",
       "  </tbody>\n",
       "</table>\n",
       "</div>"
      ],
      "text/plain": [
       "                                                                                                                                                                                                                                                                                                                                                                                                                                                                                                                                                                                                                                                 text  \\\n",
       "0                                                                                                                                                                                                                                                                                                                                                                           Explanation\\nWhy the edits made under my username Hardcore Metallica Fan were reverted? They weren't vandalisms, just closure on some GAs after I voted at New York Dolls FAC. And please don't remove the template from the talk page since I'm retired now.89.205.38.27   \n",
       "1                                                                                                                                                                                                                                                                                                                                                                                                                                                                                                                                    D'aww! He matches this background colour I'm seemingly stuck with. Thanks.  (talk) 21:51, January 11, 2016 (UTC)   \n",
       "2                                                                                                                                                                                                                                                                                                                                                                                                           Hey man, I'm really not trying to edit war. It's just that this guy is constantly removing relevant information and talking to me through edits instead of my talk page. He seems to care more about the formatting than the actual info.   \n",
       "3  \"\\nMore\\nI can't make any real suggestions on improvement - I wondered if the section statistics should be later on, or a subsection of \"\"types of accidents\"\"  -I think the references may need tidying so that they are all in the exact same format ie date format etc. I can do that later on, if no-one else does first - if you have any preferences for formatting style on references or want to do it yourself please let me know.\\n\\nThere appears to be a backlog on articles for review so I guess there may be a delay until a reviewer turns up. It's listed in the relevant form eg Wikipedia:Good_article_nominations#Transport  \"   \n",
       "4                                                                                                                                                                                                                                                                                                                                                                                                                                                                                                                                                                                 You, sir, are my hero. Any chance you remember what page that's on?   \n",
       "\n",
       "   toxic  \\\n",
       "0      0   \n",
       "1      0   \n",
       "2      0   \n",
       "3      0   \n",
       "4      0   \n",
       "\n",
       "                                                                                                                                                                                                                                                                                                                                                                                                                                                lemmatized  \n",
       "0                                                                                                                                                                                                                                         explanation why edits made username hardcore metallica fan reverted ? they n't vandalism , closure gas i voted new york dolls fac . and please n't remove template talk page since i 'm retired now.89.205.38.27  \n",
       "1                                                                                                                                                                                                                                                                                                                                            d'aww ! he match background colour i 'm seemingly stuck . thanks . ( talk ) 21:51 , january 11 , 2016 ( utc )  \n",
       "2                                                                                                                                                                                                                                                                                      hey man , i 'm really trying edit war . it 's guy constantly removing relevant information talking edits instead talk page . he seems care formatting actual info .  \n",
       "3  `` more i ca n't make real suggestion improvement - i wondered section statistic later , subsection `` '' type accident '' '' -i think reference may need tidying exact format ie date format etc . i later , no-one else first - preference formatting style reference want please let know . there appears backlog article review i guess may delay reviewer turn . it 's listed relevant form eg wikipedia : good_article_nominations # transport ``  \n",
       "4                                                                                                                                                                                                                                                                                                                                                                                                         you , sir , hero . any chance remember page 's ?  "
      ]
     },
     "execution_count": 17,
     "metadata": {},
     "output_type": "execute_result"
    }
   ],
   "source": [
    "df['lemmatized'] = df['lemmatized'].apply(lambda x: clean_text(x))\n",
    "df.head()"
   ]
  },
  {
   "cell_type": "markdown",
   "metadata": {},
   "source": [
    "Загрузили данные, выполнили лемматизацию, удалили разделители строк и выполнили преобразование текста в нижний регистр. Загрузили стоп-слова для английского языка."
   ]
  },
  {
   "cell_type": "markdown",
   "metadata": {},
   "source": [
    "## Обучение"
   ]
  },
  {
   "cell_type": "code",
   "execution_count": 18,
   "metadata": {},
   "outputs": [],
   "source": [
    "X= df['lemmatized']\n",
    "y = df['toxic'].values"
   ]
  },
  {
   "cell_type": "code",
   "execution_count": 19,
   "metadata": {},
   "outputs": [],
   "source": [
    "# Разделение данных на обучающую и тестовую выборки\n",
    "X_train, X_test, y_train, y_test = train_test_split(X, y, test_size=0.2, random_state=42)"
   ]
  },
  {
   "cell_type": "code",
   "execution_count": 20,
   "metadata": {},
   "outputs": [
    {
     "data": {
      "text/plain": [
       "((127433,), (31859,), (127433,), (31859,))"
      ]
     },
     "execution_count": 20,
     "metadata": {},
     "output_type": "execute_result"
    }
   ],
   "source": [
    "X_train.shape, X_test.shape, y_train.shape, y_test.shape"
   ]
  },
  {
   "cell_type": "code",
   "execution_count": 21,
   "metadata": {},
   "outputs": [],
   "source": [
    "pipe_final = Pipeline([\n",
    "        ('tfidf', TfidfVectorizer(min_df = 1)),\n",
    "        ('model', LogisticRegression())])"
   ]
  },
  {
   "cell_type": "code",
   "execution_count": 22,
   "metadata": {},
   "outputs": [],
   "source": [
    "# Параметры LogisticRegression\n",
    "l_params = {}\n",
    "\n",
    "l_params['model__C'] = [0.1, 1.0, 10.0]\n",
    "l_params['model__penalty'] = ['l1', 'l2'] \n",
    "l_params['model'] = [LogisticRegression()]\n",
    "\n",
    "# Параметры DecisionTreeClassifier\n",
    "\n",
    "tree_params = {}\n",
    "\n",
    "tree_params['model__criterion'] = ['gini', 'entropy']\n",
    "tree_params['model__max_depth'] = [2, 4, 6]\n",
    "tree_params['model'] = [DecisionTreeClassifier()]  \n",
    "\n",
    "params = [l_params, tree_params]"
   ]
  },
  {
   "cell_type": "code",
   "execution_count": 23,
   "metadata": {},
   "outputs": [
    {
     "data": {
      "text/plain": [
       "GridSearchCV(cv=5,\n",
       "             estimator=Pipeline(steps=[('tfidf', TfidfVectorizer()),\n",
       "                                       ('model', LogisticRegression())]),\n",
       "             n_jobs=-1,\n",
       "             param_grid=[{'model': [LogisticRegression(C=10.0)],\n",
       "                          'model__C': [0.1, 1.0, 10.0],\n",
       "                          'model__penalty': ['l1', 'l2']},\n",
       "                         {'model': [DecisionTreeClassifier()],\n",
       "                          'model__criterion': ['gini', 'entropy'],\n",
       "                          'model__max_depth': [2, 4, 6]}],\n",
       "             scoring='f1', verbose=False)"
      ]
     },
     "execution_count": 23,
     "metadata": {},
     "output_type": "execute_result"
    }
   ],
   "source": [
    "grid = GridSearchCV(pipe_final, cv = 5, n_jobs = -1, param_grid = params ,scoring = 'f1', verbose = False)\n",
    "grid.fit(X_train, y_train)"
   ]
  },
  {
   "cell_type": "code",
   "execution_count": 24,
   "metadata": {},
   "outputs": [],
   "source": [
    "# Сохраним лучшую модель в отдельную переменную\n",
    "best_model = grid.best_estimator_.steps[1][1]"
   ]
  },
  {
   "cell_type": "code",
   "execution_count": 25,
   "metadata": {},
   "outputs": [
    {
     "data": {
      "text/plain": [
       "0.7747916112940048"
      ]
     },
     "execution_count": 25,
     "metadata": {},
     "output_type": "execute_result"
    }
   ],
   "source": [
    "grid.best_score_"
   ]
  },
  {
   "cell_type": "code",
   "execution_count": 26,
   "metadata": {},
   "outputs": [
    {
     "data": {
      "text/html": [
       "<div>\n",
       "<style scoped>\n",
       "    .dataframe tbody tr th:only-of-type {\n",
       "        vertical-align: middle;\n",
       "    }\n",
       "\n",
       "    .dataframe tbody tr th {\n",
       "        vertical-align: top;\n",
       "    }\n",
       "\n",
       "    .dataframe thead th {\n",
       "        text-align: right;\n",
       "    }\n",
       "</style>\n",
       "<table border=\"1\" class=\"dataframe\">\n",
       "  <thead>\n",
       "    <tr style=\"text-align: right;\">\n",
       "      <th></th>\n",
       "      <th>model_name</th>\n",
       "      <th>mean_test_score</th>\n",
       "      <th>mean_fit_time</th>\n",
       "      <th>mean_score_time</th>\n",
       "    </tr>\n",
       "  </thead>\n",
       "  <tbody>\n",
       "    <tr>\n",
       "      <th>0</th>\n",
       "      <td>LogisticRegression</td>\n",
       "      <td>-0.774792</td>\n",
       "      <td>48.198417</td>\n",
       "      <td>0.960087</td>\n",
       "    </tr>\n",
       "    <tr>\n",
       "      <th>1</th>\n",
       "      <td>DecisionTreeClassifier</td>\n",
       "      <td>-0.531101</td>\n",
       "      <td>6.452880</td>\n",
       "      <td>0.871489</td>\n",
       "    </tr>\n",
       "  </tbody>\n",
       "</table>\n",
       "</div>"
      ],
      "text/plain": [
       "               model_name  mean_test_score  mean_fit_time  mean_score_time\n",
       "0      LogisticRegression        -0.774792      48.198417         0.960087\n",
       "1  DecisionTreeClassifier        -0.531101       6.452880         0.871489"
      ]
     },
     "execution_count": 26,
     "metadata": {},
     "output_type": "execute_result"
    }
   ],
   "source": [
    "results= pd.DataFrame(grid.cv_results_)\n",
    "\n",
    "# Поиск индексов строк с максимальными значениями метрик\n",
    "results['model_name'] = results['param_model'].apply(lambda x: str(x).split('(')[0])\n",
    "max_index = results.groupby('model_name')['mean_test_score'].idxmax()\n",
    "\n",
    "# Извлечение результатов лучших моделей\n",
    "best_models = results.loc[max_index]\n",
    "\n",
    "# Преобразование отрицательных значений метрик в положительные\n",
    "if 'mean_test_score' in best_models:\n",
    "    best_models['mean_test_score'] *= -1\n",
    "\n",
    "# Сортировка результатов по значению метрики\n",
    "sorted_results = best_models.sort_values(['mean_test_score'], ascending=True).reset_index(drop=True)\n",
    "\n",
    "# Вывод результатов\n",
    "sorted_results[['model_name','mean_test_score', 'mean_fit_time', 'mean_score_time']]"
   ]
  },
  {
   "cell_type": "code",
   "execution_count": 29,
   "metadata": {},
   "outputs": [],
   "source": [
    "pred = grid.predict(X_test)"
   ]
  },
  {
   "cell_type": "code",
   "execution_count": 30,
   "metadata": {},
   "outputs": [
    {
     "data": {
      "text/plain": [
       "0.7775648841665216"
      ]
     },
     "execution_count": 30,
     "metadata": {},
     "output_type": "execute_result"
    }
   ],
   "source": [
    "res = f1_score(y_test, pred)\n",
    "res"
   ]
  },
  {
   "cell_type": "markdown",
   "metadata": {},
   "source": [
    "## Выводы"
   ]
  },
  {
   "cell_type": "markdown",
   "metadata": {},
   "source": [
    "В рамках проекта были загружены данные. Выполнена предобработка - лемматизация, преобразования текста. Обучены две модели - логистическая регрессия и дерево решений. Лучшей моделью оказалась линейная реграссия с метрикой f1 = 0.77, что соответствует требованию проекта (f1 > 0.75)."
   ]
  }
 ],
 "metadata": {
  "ExecuteTimeLog": [
   {
    "duration": 381,
    "start_time": "2025-01-27T09:47:25.708Z"
   },
   {
    "duration": 3,
    "start_time": "2025-01-27T09:47:26.091Z"
   },
   {
    "duration": 14,
    "start_time": "2025-01-27T09:47:26.095Z"
   },
   {
    "duration": 42,
    "start_time": "2025-01-27T09:47:26.111Z"
   },
   {
    "duration": 63,
    "start_time": "2025-01-27T09:47:26.155Z"
   },
   {
    "duration": 0,
    "start_time": "2025-01-27T09:47:26.219Z"
   },
   {
    "duration": 0,
    "start_time": "2025-01-27T09:47:26.220Z"
   },
   {
    "duration": 0,
    "start_time": "2025-01-27T09:47:26.221Z"
   },
   {
    "duration": 0,
    "start_time": "2025-01-27T09:47:26.223Z"
   },
   {
    "duration": 416,
    "start_time": "2025-01-27T09:48:05.758Z"
   },
   {
    "duration": 2,
    "start_time": "2025-01-27T09:48:06.176Z"
   },
   {
    "duration": 27,
    "start_time": "2025-01-27T09:48:06.179Z"
   },
   {
    "duration": 4673,
    "start_time": "2025-01-27T09:48:06.207Z"
   },
   {
    "duration": 24,
    "start_time": "2025-01-27T09:48:10.886Z"
   },
   {
    "duration": 11,
    "start_time": "2025-01-27T09:48:10.911Z"
   },
   {
    "duration": 88,
    "start_time": "2025-01-27T09:48:10.924Z"
   },
   {
    "duration": 11,
    "start_time": "2025-01-27T09:48:11.013Z"
   },
   {
    "duration": 13,
    "start_time": "2025-01-27T09:48:11.025Z"
   },
   {
    "duration": 381,
    "start_time": "2025-01-27T09:52:57.607Z"
   },
   {
    "duration": 3,
    "start_time": "2025-01-27T09:52:57.991Z"
   },
   {
    "duration": 5,
    "start_time": "2025-01-27T09:52:57.996Z"
   },
   {
    "duration": 11,
    "start_time": "2025-01-27T09:52:58.002Z"
   },
   {
    "duration": 1963,
    "start_time": "2025-01-27T09:52:58.015Z"
   },
   {
    "duration": 23,
    "start_time": "2025-01-27T09:52:59.980Z"
   },
   {
    "duration": 33,
    "start_time": "2025-01-27T09:53:00.005Z"
   },
   {
    "duration": 115,
    "start_time": "2025-01-27T09:53:00.039Z"
   },
   {
    "duration": 69,
    "start_time": "2025-01-27T09:53:00.155Z"
   },
   {
    "duration": 48,
    "start_time": "2025-01-27T09:53:00.226Z"
   },
   {
    "duration": 378,
    "start_time": "2025-01-27T10:29:05.814Z"
   },
   {
    "duration": 3,
    "start_time": "2025-01-27T10:29:06.194Z"
   },
   {
    "duration": 29,
    "start_time": "2025-01-27T10:29:06.199Z"
   },
   {
    "duration": 50,
    "start_time": "2025-01-27T10:29:06.229Z"
   },
   {
    "duration": 2006,
    "start_time": "2025-01-27T10:29:06.281Z"
   },
   {
    "duration": 24,
    "start_time": "2025-01-27T10:29:08.289Z"
   },
   {
    "duration": 17,
    "start_time": "2025-01-27T10:29:08.315Z"
   },
   {
    "duration": 92,
    "start_time": "2025-01-27T10:29:08.333Z"
   },
   {
    "duration": 33,
    "start_time": "2025-01-27T10:29:08.427Z"
   },
   {
    "duration": 6,
    "start_time": "2025-01-27T10:29:08.461Z"
   },
   {
    "duration": 4,
    "start_time": "2025-01-27T10:29:08.468Z"
   },
   {
    "duration": 74,
    "start_time": "2025-01-27T10:29:08.474Z"
   },
   {
    "duration": 429,
    "start_time": "2025-01-27T10:30:40.952Z"
   },
   {
    "duration": 6,
    "start_time": "2025-01-27T10:30:41.382Z"
   },
   {
    "duration": 10,
    "start_time": "2025-01-27T10:30:41.390Z"
   },
   {
    "duration": 13,
    "start_time": "2025-01-27T10:30:41.401Z"
   },
   {
    "duration": 1992,
    "start_time": "2025-01-27T10:30:41.416Z"
   },
   {
    "duration": 27,
    "start_time": "2025-01-27T10:30:43.410Z"
   },
   {
    "duration": 105,
    "start_time": "2025-01-27T10:30:43.438Z"
   },
   {
    "duration": 82,
    "start_time": "2025-01-27T10:30:43.544Z"
   },
   {
    "duration": 28,
    "start_time": "2025-01-27T10:30:43.628Z"
   },
   {
    "duration": 10,
    "start_time": "2025-01-27T10:30:43.658Z"
   },
   {
    "duration": 3,
    "start_time": "2025-01-27T10:30:43.669Z"
   },
   {
    "duration": 1129,
    "start_time": "2025-01-27T10:30:43.673Z"
   },
   {
    "duration": 395,
    "start_time": "2025-01-27T11:09:57.996Z"
   },
   {
    "duration": 4,
    "start_time": "2025-01-27T11:09:58.393Z"
   },
   {
    "duration": 3,
    "start_time": "2025-01-27T11:09:58.398Z"
   },
   {
    "duration": 3,
    "start_time": "2025-01-27T11:09:58.402Z"
   },
   {
    "duration": 2010,
    "start_time": "2025-01-27T11:09:58.407Z"
   },
   {
    "duration": 28,
    "start_time": "2025-01-27T11:10:00.418Z"
   },
   {
    "duration": 12,
    "start_time": "2025-01-27T11:10:00.447Z"
   },
   {
    "duration": 118,
    "start_time": "2025-01-27T11:10:00.460Z"
   },
   {
    "duration": 38,
    "start_time": "2025-01-27T11:10:00.579Z"
   },
   {
    "duration": 28,
    "start_time": "2025-01-27T11:10:00.618Z"
   },
   {
    "duration": 3,
    "start_time": "2025-01-27T11:10:00.647Z"
   },
   {
    "duration": 1119,
    "start_time": "2025-01-27T11:10:00.651Z"
   },
   {
    "duration": 0,
    "start_time": "2025-01-27T11:10:01.772Z"
   },
   {
    "duration": 427,
    "start_time": "2025-01-27T11:12:33.760Z"
   },
   {
    "duration": 5,
    "start_time": "2025-01-27T11:12:34.191Z"
   },
   {
    "duration": 20,
    "start_time": "2025-01-27T11:12:34.198Z"
   },
   {
    "duration": 13,
    "start_time": "2025-01-27T11:12:34.220Z"
   },
   {
    "duration": 2025,
    "start_time": "2025-01-27T11:12:34.234Z"
   },
   {
    "duration": 31,
    "start_time": "2025-01-27T11:12:36.260Z"
   },
   {
    "duration": 19,
    "start_time": "2025-01-27T11:12:36.293Z"
   },
   {
    "duration": 87,
    "start_time": "2025-01-27T11:12:36.313Z"
   },
   {
    "duration": 14,
    "start_time": "2025-01-27T11:12:36.403Z"
   },
   {
    "duration": 11,
    "start_time": "2025-01-27T11:12:36.418Z"
   },
   {
    "duration": 4,
    "start_time": "2025-01-27T11:12:36.430Z"
   },
   {
    "duration": 1095,
    "start_time": "2025-01-27T11:12:36.435Z"
   },
   {
    "duration": 0,
    "start_time": "2025-01-27T11:12:37.531Z"
   },
   {
    "duration": 454,
    "start_time": "2025-01-27T11:13:17.185Z"
   },
   {
    "duration": 4,
    "start_time": "2025-01-27T11:13:17.641Z"
   },
   {
    "duration": 119,
    "start_time": "2025-01-27T11:13:17.647Z"
   },
   {
    "duration": 6,
    "start_time": "2025-01-27T11:13:17.768Z"
   },
   {
    "duration": 1991,
    "start_time": "2025-01-27T11:13:17.775Z"
   },
   {
    "duration": 26,
    "start_time": "2025-01-27T11:13:19.768Z"
   },
   {
    "duration": 12,
    "start_time": "2025-01-27T11:13:19.796Z"
   },
   {
    "duration": 86,
    "start_time": "2025-01-27T11:13:19.810Z"
   },
   {
    "duration": 4,
    "start_time": "2025-01-27T11:13:19.898Z"
   },
   {
    "duration": 6,
    "start_time": "2025-01-27T11:13:19.904Z"
   },
   {
    "duration": 3,
    "start_time": "2025-01-27T11:13:19.911Z"
   },
   {
    "duration": 1317,
    "start_time": "2025-01-27T11:13:19.916Z"
   },
   {
    "duration": 0,
    "start_time": "2025-01-27T11:13:21.235Z"
   },
   {
    "duration": 5,
    "start_time": "2025-01-27T11:14:17.502Z"
   },
   {
    "duration": 1242,
    "start_time": "2025-01-27T11:14:18.687Z"
   },
   {
    "duration": 59,
    "start_time": "2025-01-27T11:51:27.205Z"
   },
   {
    "duration": 998,
    "start_time": "2025-01-27T11:51:27.910Z"
   },
   {
    "duration": 435,
    "start_time": "2025-01-27T11:53:57.252Z"
   },
   {
    "duration": 66,
    "start_time": "2025-01-27T11:53:57.689Z"
   },
   {
    "duration": 0,
    "start_time": "2025-01-27T11:53:57.757Z"
   },
   {
    "duration": 0,
    "start_time": "2025-01-27T11:53:57.758Z"
   },
   {
    "duration": 0,
    "start_time": "2025-01-27T11:53:57.759Z"
   },
   {
    "duration": 0,
    "start_time": "2025-01-27T11:53:57.760Z"
   },
   {
    "duration": 0,
    "start_time": "2025-01-27T11:53:57.761Z"
   },
   {
    "duration": 0,
    "start_time": "2025-01-27T11:53:57.762Z"
   },
   {
    "duration": 0,
    "start_time": "2025-01-27T11:53:57.787Z"
   },
   {
    "duration": 0,
    "start_time": "2025-01-27T11:53:57.788Z"
   },
   {
    "duration": 0,
    "start_time": "2025-01-27T11:53:57.789Z"
   },
   {
    "duration": 0,
    "start_time": "2025-01-27T11:53:57.790Z"
   },
   {
    "duration": 0,
    "start_time": "2025-01-27T11:53:57.791Z"
   },
   {
    "duration": 5,
    "start_time": "2025-01-27T11:58:01.580Z"
   },
   {
    "duration": 401,
    "start_time": "2025-01-27T11:58:07.991Z"
   },
   {
    "duration": 4,
    "start_time": "2025-01-27T11:58:08.393Z"
   },
   {
    "duration": 4,
    "start_time": "2025-01-27T11:58:08.398Z"
   },
   {
    "duration": 11,
    "start_time": "2025-01-27T11:58:08.403Z"
   },
   {
    "duration": 1948,
    "start_time": "2025-01-27T11:58:08.416Z"
   },
   {
    "duration": 25,
    "start_time": "2025-01-27T11:58:10.365Z"
   },
   {
    "duration": 12,
    "start_time": "2025-01-27T11:58:10.391Z"
   },
   {
    "duration": 88,
    "start_time": "2025-01-27T11:58:10.404Z"
   },
   {
    "duration": 5,
    "start_time": "2025-01-27T11:58:10.493Z"
   },
   {
    "duration": 6,
    "start_time": "2025-01-27T11:58:10.499Z"
   },
   {
    "duration": 3,
    "start_time": "2025-01-27T11:58:10.506Z"
   },
   {
    "duration": 1002,
    "start_time": "2025-01-27T11:58:10.510Z"
   },
   {
    "duration": 0,
    "start_time": "2025-01-27T11:58:11.514Z"
   },
   {
    "duration": 412,
    "start_time": "2025-01-27T13:06:03.478Z"
   },
   {
    "duration": 4,
    "start_time": "2025-01-27T13:06:03.892Z"
   },
   {
    "duration": 21,
    "start_time": "2025-01-27T13:06:03.898Z"
   },
   {
    "duration": 5,
    "start_time": "2025-01-27T13:06:03.921Z"
   },
   {
    "duration": 1996,
    "start_time": "2025-01-27T13:06:03.928Z"
   },
   {
    "duration": 26,
    "start_time": "2025-01-27T13:06:05.926Z"
   },
   {
    "duration": 11,
    "start_time": "2025-01-27T13:06:05.954Z"
   },
   {
    "duration": 81,
    "start_time": "2025-01-27T13:06:05.966Z"
   },
   {
    "duration": 43,
    "start_time": "2025-01-27T13:06:06.049Z"
   },
   {
    "duration": 16,
    "start_time": "2025-01-27T13:06:06.094Z"
   },
   {
    "duration": 20,
    "start_time": "2025-01-27T13:06:06.111Z"
   },
   {
    "duration": 1085,
    "start_time": "2025-01-27T13:06:06.132Z"
   },
   {
    "duration": 0,
    "start_time": "2025-01-27T13:06:07.219Z"
   },
   {
    "duration": 2953,
    "start_time": "2025-01-27T13:09:20.318Z"
   },
   {
    "duration": 3,
    "start_time": "2025-01-27T13:14:28.561Z"
   },
   {
    "duration": 331,
    "start_time": "2025-01-27T13:14:37.470Z"
   },
   {
    "duration": 872,
    "start_time": "2025-01-27T13:14:39.249Z"
   },
   {
    "duration": 3,
    "start_time": "2025-01-27T13:18:11.415Z"
   },
   {
    "duration": 8,
    "start_time": "2025-01-27T13:18:11.922Z"
   },
   {
    "duration": 3,
    "start_time": "2025-01-27T13:19:08.615Z"
   },
   {
    "duration": 10,
    "start_time": "2025-01-27T13:19:11.538Z"
   },
   {
    "duration": 1016,
    "start_time": "2025-01-27T13:19:25.459Z"
   },
   {
    "duration": 415,
    "start_time": "2025-01-27T13:19:53.576Z"
   },
   {
    "duration": 5,
    "start_time": "2025-01-27T13:19:53.992Z"
   },
   {
    "duration": 17,
    "start_time": "2025-01-27T13:19:53.998Z"
   },
   {
    "duration": 41,
    "start_time": "2025-01-27T13:19:54.016Z"
   },
   {
    "duration": 2413,
    "start_time": "2025-01-27T13:19:54.059Z"
   },
   {
    "duration": 31,
    "start_time": "2025-01-27T13:19:56.473Z"
   },
   {
    "duration": 70,
    "start_time": "2025-01-27T13:19:56.506Z"
   },
   {
    "duration": 75,
    "start_time": "2025-01-27T13:19:56.578Z"
   },
   {
    "duration": 70,
    "start_time": "2025-01-27T13:19:56.655Z"
   },
   {
    "duration": 6,
    "start_time": "2025-01-27T13:19:56.728Z"
   },
   {
    "duration": 3,
    "start_time": "2025-01-27T13:19:56.735Z"
   },
   {
    "duration": 928,
    "start_time": "2025-01-27T13:19:56.739Z"
   },
   {
    "duration": 3070,
    "start_time": "2025-01-27T13:19:57.668Z"
   },
   {
    "duration": 1078,
    "start_time": "2025-01-27T13:20:00.740Z"
   },
   {
    "duration": 122,
    "start_time": "2025-01-27T13:20:18.733Z"
   },
   {
    "duration": 43,
    "start_time": "2025-01-27T13:32:18.725Z"
   },
   {
    "duration": 24,
    "start_time": "2025-01-27T13:32:25.654Z"
   },
   {
    "duration": 24,
    "start_time": "2025-01-27T13:32:39.586Z"
   },
   {
    "duration": 40,
    "start_time": "2025-01-27T13:32:40.318Z"
   },
   {
    "duration": 24,
    "start_time": "2025-01-27T13:32:40.901Z"
   },
   {
    "duration": 350,
    "start_time": "2025-01-27T13:40:55.874Z"
   },
   {
    "duration": 25,
    "start_time": "2025-01-27T13:41:02.030Z"
   },
   {
    "duration": 275,
    "start_time": "2025-01-27T13:41:15.604Z"
   },
   {
    "duration": 423,
    "start_time": "2025-01-27T13:41:36.766Z"
   },
   {
    "duration": 4,
    "start_time": "2025-01-27T13:41:37.192Z"
   },
   {
    "duration": 24,
    "start_time": "2025-01-27T13:41:37.197Z"
   },
   {
    "duration": 27,
    "start_time": "2025-01-27T13:41:37.223Z"
   },
   {
    "duration": 2017,
    "start_time": "2025-01-27T13:41:37.252Z"
   },
   {
    "duration": 27,
    "start_time": "2025-01-27T13:41:39.271Z"
   },
   {
    "duration": 21,
    "start_time": "2025-01-27T13:41:39.299Z"
   },
   {
    "duration": 75,
    "start_time": "2025-01-27T13:41:39.321Z"
   },
   {
    "duration": 5,
    "start_time": "2025-01-27T13:41:39.398Z"
   },
   {
    "duration": 6,
    "start_time": "2025-01-27T13:41:39.404Z"
   },
   {
    "duration": 11,
    "start_time": "2025-01-27T13:41:39.411Z"
   },
   {
    "duration": 982,
    "start_time": "2025-01-27T13:41:39.424Z"
   },
   {
    "duration": 3027,
    "start_time": "2025-01-27T13:41:40.408Z"
   },
   {
    "duration": 560,
    "start_time": "2025-01-27T13:41:43.438Z"
   },
   {
    "duration": 952,
    "start_time": "2025-01-27T13:44:15.243Z"
   },
   {
    "duration": 386,
    "start_time": "2025-01-27T13:49:10.007Z"
   },
   {
    "duration": 877,
    "start_time": "2025-01-27T13:49:10.395Z"
   },
   {
    "duration": 3,
    "start_time": "2025-01-27T13:49:11.273Z"
   },
   {
    "duration": 4,
    "start_time": "2025-01-27T13:49:11.278Z"
   },
   {
    "duration": 2023,
    "start_time": "2025-01-27T13:49:11.286Z"
   },
   {
    "duration": 28,
    "start_time": "2025-01-27T13:49:13.311Z"
   },
   {
    "duration": 12,
    "start_time": "2025-01-27T13:49:13.341Z"
   },
   {
    "duration": 89,
    "start_time": "2025-01-27T13:49:13.354Z"
   },
   {
    "duration": 4,
    "start_time": "2025-01-27T13:49:13.444Z"
   },
   {
    "duration": 16,
    "start_time": "2025-01-27T13:49:13.450Z"
   },
   {
    "duration": 2,
    "start_time": "2025-01-27T13:49:13.467Z"
   },
   {
    "duration": 928,
    "start_time": "2025-01-27T13:49:13.471Z"
   },
   {
    "duration": 3112,
    "start_time": "2025-01-27T13:49:14.401Z"
   },
   {
    "duration": 572,
    "start_time": "2025-01-27T13:49:17.515Z"
   },
   {
    "duration": 132,
    "start_time": "2025-01-27T13:49:18.088Z"
   },
   {
    "duration": 408,
    "start_time": "2025-01-27T13:50:17.587Z"
   },
   {
    "duration": 856,
    "start_time": "2025-01-27T13:50:17.997Z"
   },
   {
    "duration": 3,
    "start_time": "2025-01-27T13:50:18.854Z"
   },
   {
    "duration": 7,
    "start_time": "2025-01-27T13:50:18.859Z"
   },
   {
    "duration": 2008,
    "start_time": "2025-01-27T13:50:18.867Z"
   },
   {
    "duration": 28,
    "start_time": "2025-01-27T13:50:20.877Z"
   },
   {
    "duration": 60,
    "start_time": "2025-01-27T13:50:20.907Z"
   },
   {
    "duration": 90,
    "start_time": "2025-01-27T13:50:20.968Z"
   },
   {
    "duration": 9,
    "start_time": "2025-01-27T13:50:21.059Z"
   },
   {
    "duration": 5,
    "start_time": "2025-01-27T13:50:21.070Z"
   },
   {
    "duration": 11,
    "start_time": "2025-01-27T13:50:21.077Z"
   },
   {
    "duration": 961,
    "start_time": "2025-01-27T13:50:21.089Z"
   },
   {
    "duration": 3054,
    "start_time": "2025-01-27T13:50:22.051Z"
   },
   {
    "duration": 581,
    "start_time": "2025-01-27T13:50:25.107Z"
   },
   {
    "duration": 150,
    "start_time": "2025-01-27T13:50:25.689Z"
   },
   {
    "duration": 121,
    "start_time": "2025-01-27T14:24:21.656Z"
   },
   {
    "duration": 3,
    "start_time": "2025-01-27T14:24:26.665Z"
   },
   {
    "duration": 3,
    "start_time": "2025-01-27T14:24:37.190Z"
   },
   {
    "duration": 9,
    "start_time": "2025-01-27T14:24:38.237Z"
   },
   {
    "duration": 31,
    "start_time": "2025-01-27T14:25:12.362Z"
   },
   {
    "duration": 22,
    "start_time": "2025-01-27T14:25:22.412Z"
   },
   {
    "duration": 33,
    "start_time": "2025-01-27T14:25:23.242Z"
   },
   {
    "duration": 3,
    "start_time": "2025-01-27T14:25:42.243Z"
   },
   {
    "duration": 17,
    "start_time": "2025-01-27T14:25:49.061Z"
   },
   {
    "duration": 3,
    "start_time": "2025-01-27T14:28:20.127Z"
   },
   {
    "duration": 17,
    "start_time": "2025-01-27T14:28:24.133Z"
   },
   {
    "duration": 3,
    "start_time": "2025-01-27T14:33:51.622Z"
   },
   {
    "duration": 23,
    "start_time": "2025-01-27T14:33:52.460Z"
   },
   {
    "duration": 3,
    "start_time": "2025-01-27T14:33:53.107Z"
   },
   {
    "duration": 17,
    "start_time": "2025-01-27T14:33:53.945Z"
   },
   {
    "duration": 2,
    "start_time": "2025-01-27T14:34:13.453Z"
   },
   {
    "duration": 25,
    "start_time": "2025-01-27T14:34:14.170Z"
   },
   {
    "duration": 3,
    "start_time": "2025-01-27T14:34:14.933Z"
   },
   {
    "duration": 23,
    "start_time": "2025-01-27T14:34:15.663Z"
   },
   {
    "duration": 3,
    "start_time": "2025-01-27T14:35:58.633Z"
   },
   {
    "duration": 25,
    "start_time": "2025-01-27T14:35:59.142Z"
   },
   {
    "duration": 3,
    "start_time": "2025-01-27T14:35:59.697Z"
   },
   {
    "duration": 17,
    "start_time": "2025-01-27T14:36:00.444Z"
   },
   {
    "duration": 3,
    "start_time": "2025-01-27T14:36:37.710Z"
   },
   {
    "duration": 3,
    "start_time": "2025-01-27T14:38:23.915Z"
   },
   {
    "duration": 4,
    "start_time": "2025-01-27T14:38:24.338Z"
   },
   {
    "duration": 1223,
    "start_time": "2025-01-27T14:40:35.718Z"
   },
   {
    "duration": 209,
    "start_time": "2025-01-27T14:40:36.943Z"
   },
   {
    "duration": 2,
    "start_time": "2025-01-27T14:40:37.154Z"
   },
   {
    "duration": 29,
    "start_time": "2025-01-27T14:40:37.158Z"
   },
   {
    "duration": 4734,
    "start_time": "2025-01-27T14:40:37.190Z"
   },
   {
    "duration": 28,
    "start_time": "2025-01-27T14:40:41.926Z"
   },
   {
    "duration": 31,
    "start_time": "2025-01-27T14:40:41.956Z"
   },
   {
    "duration": 78,
    "start_time": "2025-01-27T14:40:41.989Z"
   },
   {
    "duration": 18,
    "start_time": "2025-01-27T14:40:42.069Z"
   },
   {
    "duration": 24,
    "start_time": "2025-01-27T14:40:42.089Z"
   },
   {
    "duration": 3,
    "start_time": "2025-01-27T14:40:42.115Z"
   },
   {
    "duration": 921,
    "start_time": "2025-01-27T14:40:42.120Z"
   },
   {
    "duration": 3096,
    "start_time": "2025-01-27T14:40:43.043Z"
   },
   {
    "duration": 562,
    "start_time": "2025-01-27T14:40:46.142Z"
   },
   {
    "duration": 273,
    "start_time": "2025-01-27T14:40:46.705Z"
   },
   {
    "duration": 3,
    "start_time": "2025-01-27T14:40:46.979Z"
   },
   {
    "duration": 27,
    "start_time": "2025-01-27T14:40:46.983Z"
   },
   {
    "duration": 28,
    "start_time": "2025-01-27T14:40:47.012Z"
   },
   {
    "duration": 134,
    "start_time": "2025-01-27T14:40:47.041Z"
   },
   {
    "duration": 4,
    "start_time": "2025-01-27T14:48:07.576Z"
   },
   {
    "duration": 1111,
    "start_time": "2025-01-27T14:48:08.461Z"
   },
   {
    "duration": 3,
    "start_time": "2025-01-27T14:48:48.581Z"
   },
   {
    "duration": 9,
    "start_time": "2025-01-27T14:49:01.094Z"
   },
   {
    "duration": 388,
    "start_time": "2025-01-27T14:49:01.681Z"
   },
   {
    "duration": 1217,
    "start_time": "2025-01-27T14:49:06.002Z"
   },
   {
    "duration": 255,
    "start_time": "2025-01-27T14:49:07.221Z"
   },
   {
    "duration": 9,
    "start_time": "2025-01-27T14:49:07.477Z"
   },
   {
    "duration": 35,
    "start_time": "2025-01-27T14:49:07.488Z"
   },
   {
    "duration": 4720,
    "start_time": "2025-01-27T14:49:07.526Z"
   },
   {
    "duration": 24,
    "start_time": "2025-01-27T14:49:12.248Z"
   },
   {
    "duration": 28,
    "start_time": "2025-01-27T14:49:12.273Z"
   },
   {
    "duration": 76,
    "start_time": "2025-01-27T14:49:12.303Z"
   },
   {
    "duration": 6,
    "start_time": "2025-01-27T14:49:12.387Z"
   },
   {
    "duration": 8,
    "start_time": "2025-01-27T14:49:12.395Z"
   },
   {
    "duration": 3,
    "start_time": "2025-01-27T14:49:12.404Z"
   },
   {
    "duration": 972,
    "start_time": "2025-01-27T14:49:12.408Z"
   },
   {
    "duration": 3276,
    "start_time": "2025-01-27T14:49:13.382Z"
   },
   {
    "duration": 588,
    "start_time": "2025-01-27T14:49:16.661Z"
   },
   {
    "duration": 1232,
    "start_time": "2025-01-27T14:49:17.251Z"
   },
   {
    "duration": 4,
    "start_time": "2025-01-27T14:49:18.485Z"
   },
   {
    "duration": 1236,
    "start_time": "2025-01-27T14:49:18.490Z"
   },
   {
    "duration": 0,
    "start_time": "2025-01-27T14:49:19.728Z"
   },
   {
    "duration": 0,
    "start_time": "2025-01-27T14:49:19.729Z"
   },
   {
    "duration": 0,
    "start_time": "2025-01-27T14:49:19.730Z"
   },
   {
    "duration": 0,
    "start_time": "2025-01-27T14:49:19.731Z"
   },
   {
    "duration": 3,
    "start_time": "2025-01-27T14:50:37.345Z"
   },
   {
    "duration": 1259,
    "start_time": "2025-01-27T14:50:49.984Z"
   },
   {
    "duration": 252,
    "start_time": "2025-01-27T14:50:51.245Z"
   },
   {
    "duration": 2,
    "start_time": "2025-01-27T14:50:51.499Z"
   },
   {
    "duration": 39,
    "start_time": "2025-01-27T14:50:51.503Z"
   },
   {
    "duration": 4920,
    "start_time": "2025-01-27T14:50:51.545Z"
   },
   {
    "duration": 38,
    "start_time": "2025-01-27T14:50:56.467Z"
   },
   {
    "duration": 16,
    "start_time": "2025-01-27T14:50:56.507Z"
   },
   {
    "duration": 110,
    "start_time": "2025-01-27T14:50:56.525Z"
   },
   {
    "duration": 14,
    "start_time": "2025-01-27T14:50:56.637Z"
   },
   {
    "duration": 6,
    "start_time": "2025-01-27T14:50:56.653Z"
   },
   {
    "duration": 27,
    "start_time": "2025-01-27T14:50:56.660Z"
   },
   {
    "duration": 1055,
    "start_time": "2025-01-27T14:50:56.689Z"
   },
   {
    "duration": 3225,
    "start_time": "2025-01-27T14:50:57.745Z"
   },
   {
    "duration": 568,
    "start_time": "2025-01-27T14:51:00.973Z"
   },
   {
    "duration": 266,
    "start_time": "2025-01-27T14:51:01.542Z"
   },
   {
    "duration": 6,
    "start_time": "2025-01-27T14:51:01.810Z"
   },
   {
    "duration": 55,
    "start_time": "2025-01-27T14:51:39.972Z"
   },
   {
    "duration": 5048,
    "start_time": "2025-01-27T14:51:52.444Z"
   },
   {
    "duration": 215,
    "start_time": "2025-01-27T14:51:57.494Z"
   },
   {
    "duration": 3,
    "start_time": "2025-01-27T14:51:57.710Z"
   },
   {
    "duration": 4,
    "start_time": "2025-01-27T14:51:57.714Z"
   },
   {
    "duration": 4837,
    "start_time": "2025-01-27T14:51:57.720Z"
   },
   {
    "duration": 35,
    "start_time": "2025-01-27T14:52:02.559Z"
   },
   {
    "duration": 34,
    "start_time": "2025-01-27T14:52:02.595Z"
   },
   {
    "duration": 80,
    "start_time": "2025-01-27T14:52:02.631Z"
   },
   {
    "duration": 192,
    "start_time": "2025-01-27T14:52:02.713Z"
   },
   {
    "duration": 49,
    "start_time": "2025-01-27T14:52:02.907Z"
   },
   {
    "duration": 38,
    "start_time": "2025-01-27T14:52:02.958Z"
   },
   {
    "duration": 958,
    "start_time": "2025-01-27T14:52:02.997Z"
   },
   {
    "duration": 3102,
    "start_time": "2025-01-27T14:52:03.957Z"
   },
   {
    "duration": 577,
    "start_time": "2025-01-27T14:52:07.062Z"
   },
   {
    "duration": 240,
    "start_time": "2025-01-27T14:52:07.641Z"
   },
   {
    "duration": 66408,
    "start_time": "2025-01-27T14:52:07.883Z"
   },
   {
    "duration": 2,
    "start_time": "2025-01-27T14:53:14.293Z"
   },
   {
    "duration": 31,
    "start_time": "2025-01-27T14:53:14.297Z"
   },
   {
    "duration": 3,
    "start_time": "2025-01-27T14:53:14.329Z"
   },
   {
    "duration": 155,
    "start_time": "2025-01-27T14:53:14.334Z"
   },
   {
    "duration": 0,
    "start_time": "2025-01-27T14:53:14.490Z"
   },
   {
    "duration": 1119,
    "start_time": "2025-01-27T14:54:49.193Z"
   },
   {
    "duration": 213,
    "start_time": "2025-01-27T14:54:50.314Z"
   },
   {
    "duration": 2,
    "start_time": "2025-01-27T14:54:50.529Z"
   },
   {
    "duration": 10,
    "start_time": "2025-01-27T14:54:50.533Z"
   },
   {
    "duration": 2068,
    "start_time": "2025-01-27T14:54:50.545Z"
   },
   {
    "duration": 29,
    "start_time": "2025-01-27T14:54:52.614Z"
   },
   {
    "duration": 29,
    "start_time": "2025-01-27T14:54:52.644Z"
   },
   {
    "duration": 79,
    "start_time": "2025-01-27T14:54:52.674Z"
   },
   {
    "duration": 36,
    "start_time": "2025-01-27T14:54:52.755Z"
   },
   {
    "duration": 11,
    "start_time": "2025-01-27T14:54:52.793Z"
   },
   {
    "duration": 7,
    "start_time": "2025-01-27T14:54:52.806Z"
   },
   {
    "duration": 1055,
    "start_time": "2025-01-27T14:54:52.814Z"
   },
   {
    "duration": 0,
    "start_time": "2025-01-27T14:54:53.871Z"
   },
   {
    "duration": 0,
    "start_time": "2025-01-27T14:54:53.872Z"
   },
   {
    "duration": 0,
    "start_time": "2025-01-27T14:54:53.873Z"
   },
   {
    "duration": 0,
    "start_time": "2025-01-27T14:54:53.874Z"
   },
   {
    "duration": 0,
    "start_time": "2025-01-27T14:54:53.875Z"
   },
   {
    "duration": 0,
    "start_time": "2025-01-27T14:54:53.877Z"
   },
   {
    "duration": 0,
    "start_time": "2025-01-27T14:54:53.877Z"
   },
   {
    "duration": 0,
    "start_time": "2025-01-27T14:54:53.878Z"
   },
   {
    "duration": 89725,
    "start_time": "2025-01-27T14:55:08.754Z"
   },
   {
    "duration": 3,
    "start_time": "2025-01-27T14:56:38.487Z"
   },
   {
    "duration": 975,
    "start_time": "2025-01-27T14:56:38.492Z"
   },
   {
    "duration": 745,
    "start_time": "2025-01-27T14:56:39.471Z"
   },
   {
    "duration": 183,
    "start_time": "2025-01-27T14:56:40.218Z"
   },
   {
    "duration": 3,
    "start_time": "2025-01-27T14:56:45.948Z"
   },
   {
    "duration": 21,
    "start_time": "2025-01-27T14:56:46.516Z"
   },
   {
    "duration": 3,
    "start_time": "2025-01-27T14:56:47.365Z"
   },
   {
    "duration": 20,
    "start_time": "2025-01-27T14:56:48.429Z"
   },
   {
    "duration": 3,
    "start_time": "2025-01-27T14:59:06.043Z"
   },
   {
    "duration": 17,
    "start_time": "2025-01-27T14:59:06.808Z"
   },
   {
    "duration": 21,
    "start_time": "2025-01-27T16:19:48.843Z"
   },
   {
    "duration": 4,
    "start_time": "2025-01-27T16:19:49.382Z"
   },
   {
    "duration": 8,
    "start_time": "2025-01-27T16:19:53.793Z"
   },
   {
    "duration": 22,
    "start_time": "2025-01-27T16:19:54.500Z"
   },
   {
    "duration": 4,
    "start_time": "2025-01-27T16:20:52.524Z"
   },
   {
    "duration": 13,
    "start_time": "2025-01-27T16:20:53.433Z"
   },
   {
    "duration": 8,
    "start_time": "2025-01-27T16:21:23.212Z"
   },
   {
    "duration": 4,
    "start_time": "2025-01-27T16:21:31.539Z"
   },
   {
    "duration": 28,
    "start_time": "2025-01-27T16:21:32.998Z"
   },
   {
    "duration": 7,
    "start_time": "2025-01-27T16:21:53.097Z"
   },
   {
    "duration": 4,
    "start_time": "2025-01-27T16:22:03.771Z"
   },
   {
    "duration": 13,
    "start_time": "2025-01-27T16:22:04.743Z"
   },
   {
    "duration": 5,
    "start_time": "2025-01-27T16:22:38.185Z"
   },
   {
    "duration": 15,
    "start_time": "2025-01-27T16:22:38.748Z"
   },
   {
    "duration": 4,
    "start_time": "2025-01-27T16:22:56.853Z"
   },
   {
    "duration": 4,
    "start_time": "2025-01-27T16:23:05.144Z"
   },
   {
    "duration": 13,
    "start_time": "2025-01-27T16:23:06.229Z"
   },
   {
    "duration": 5,
    "start_time": "2025-01-27T16:23:29.455Z"
   },
   {
    "duration": 675,
    "start_time": "2025-01-27T16:23:30.322Z"
   },
   {
    "duration": 4,
    "start_time": "2025-01-27T16:23:41.873Z"
   },
   {
    "duration": 973,
    "start_time": "2025-01-27T16:23:42.797Z"
   },
   {
    "duration": 4,
    "start_time": "2025-01-27T16:38:45.815Z"
   },
   {
    "duration": 671,
    "start_time": "2025-01-27T16:38:46.859Z"
   },
   {
    "duration": 751,
    "start_time": "2025-01-27T16:38:48.257Z"
   },
   {
    "duration": 3,
    "start_time": "2025-01-27T16:39:32.708Z"
   },
   {
    "duration": 770999,
    "start_time": "2025-01-27T16:39:33.707Z"
   },
   {
    "duration": 65034,
    "start_time": "2025-01-27T16:52:24.708Z"
   },
   {
    "duration": 0,
    "start_time": "2025-01-27T16:53:29.744Z"
   },
   {
    "duration": 0,
    "start_time": "2025-01-27T16:53:29.745Z"
   },
   {
    "duration": 3,
    "start_time": "2025-01-27T16:54:42.485Z"
   },
   {
    "duration": 22,
    "start_time": "2025-01-27T16:54:43.038Z"
   },
   {
    "duration": 4,
    "start_time": "2025-01-27T16:54:43.813Z"
   },
   {
    "duration": 3,
    "start_time": "2025-01-27T16:54:44.599Z"
   },
   {
    "duration": 4,
    "start_time": "2025-01-27T16:54:46.838Z"
   },
   {
    "duration": 9,
    "start_time": "2025-01-27T16:54:48.086Z"
   },
   {
    "duration": 3,
    "start_time": "2025-01-27T16:54:56.795Z"
   },
   {
    "duration": 12,
    "start_time": "2025-01-27T16:55:18.217Z"
   },
   {
    "duration": 388582,
    "start_time": "2025-01-27T16:55:31.779Z"
   },
   {
    "duration": 10,
    "start_time": "2025-01-27T17:02:00.362Z"
   },
   {
    "duration": 0,
    "start_time": "2025-01-27T17:02:00.373Z"
   },
   {
    "duration": 3,
    "start_time": "2025-01-27T17:02:26.219Z"
   },
   {
    "duration": 16,
    "start_time": "2025-01-27T17:02:28.818Z"
   },
   {
    "duration": 5,
    "start_time": "2025-01-27T17:05:43.445Z"
   },
   {
    "duration": 5,
    "start_time": "2025-01-27T17:06:20.144Z"
   },
   {
    "duration": 93269,
    "start_time": "2025-01-27T17:06:20.782Z"
   },
   {
    "duration": 0,
    "start_time": "2025-01-27T17:07:54.053Z"
   },
   {
    "duration": 0,
    "start_time": "2025-01-27T17:07:54.055Z"
   },
   {
    "duration": 4,
    "start_time": "2025-01-27T17:08:23.640Z"
   },
   {
    "duration": 178229,
    "start_time": "2025-01-27T17:08:24.354Z"
   },
   {
    "duration": 0,
    "start_time": "2025-01-27T17:11:22.585Z"
   },
   {
    "duration": 0,
    "start_time": "2025-01-27T17:11:22.586Z"
   },
   {
    "duration": 18,
    "start_time": "2025-01-27T17:11:45.639Z"
   },
   {
    "duration": 955119,
    "start_time": "2025-01-27T17:11:46.694Z"
   },
   {
    "duration": 65,
    "start_time": "2025-01-27T17:27:41.824Z"
   },
   {
    "duration": 20,
    "start_time": "2025-01-27T17:27:41.897Z"
   },
   {
    "duration": 1099,
    "start_time": "2025-01-27T17:58:11.173Z"
   },
   {
    "duration": 202,
    "start_time": "2025-01-27T17:58:12.274Z"
   },
   {
    "duration": 3,
    "start_time": "2025-01-27T17:58:12.477Z"
   },
   {
    "duration": 16,
    "start_time": "2025-01-27T17:58:12.486Z"
   },
   {
    "duration": 2002,
    "start_time": "2025-01-27T17:58:12.504Z"
   },
   {
    "duration": 27,
    "start_time": "2025-01-27T17:58:14.508Z"
   },
   {
    "duration": 12,
    "start_time": "2025-01-27T17:58:14.536Z"
   },
   {
    "duration": 92,
    "start_time": "2025-01-27T17:58:14.549Z"
   },
   {
    "duration": 19,
    "start_time": "2025-01-27T17:58:14.643Z"
   },
   {
    "duration": 7,
    "start_time": "2025-01-27T17:58:14.664Z"
   },
   {
    "duration": 4,
    "start_time": "2025-01-27T17:58:14.672Z"
   },
   {
    "duration": 1107,
    "start_time": "2025-01-27T17:59:27.093Z"
   },
   {
    "duration": 203,
    "start_time": "2025-01-27T17:59:28.203Z"
   },
   {
    "duration": 3,
    "start_time": "2025-01-27T17:59:28.407Z"
   },
   {
    "duration": 11,
    "start_time": "2025-01-27T17:59:28.412Z"
   },
   {
    "duration": 2139,
    "start_time": "2025-01-27T17:59:28.426Z"
   },
   {
    "duration": 31,
    "start_time": "2025-01-27T17:59:30.567Z"
   },
   {
    "duration": 28,
    "start_time": "2025-01-27T17:59:30.599Z"
   },
   {
    "duration": 94,
    "start_time": "2025-01-27T17:59:30.629Z"
   },
   {
    "duration": 7,
    "start_time": "2025-01-27T17:59:30.724Z"
   },
   {
    "duration": 18,
    "start_time": "2025-01-27T17:59:30.732Z"
   },
   {
    "duration": 17,
    "start_time": "2025-01-27T17:59:30.751Z"
   },
   {
    "duration": 96192,
    "start_time": "2025-01-27T17:59:30.770Z"
   },
   {
    "duration": 4,
    "start_time": "2025-01-27T18:01:06.964Z"
   },
   {
    "duration": 1128,
    "start_time": "2025-01-27T18:01:06.971Z"
   },
   {
    "duration": 759,
    "start_time": "2025-01-27T18:01:08.101Z"
   },
   {
    "duration": 183,
    "start_time": "2025-01-27T18:01:08.862Z"
   },
   {
    "duration": 2,
    "start_time": "2025-01-27T18:01:09.047Z"
   },
   {
    "duration": 27,
    "start_time": "2025-01-27T18:01:09.050Z"
   },
   {
    "duration": 3,
    "start_time": "2025-01-27T18:01:09.079Z"
   },
   {
    "duration": 7,
    "start_time": "2025-01-27T18:01:09.084Z"
   },
   {
    "duration": 6,
    "start_time": "2025-01-27T18:01:09.093Z"
   },
   {
    "duration": 1223312,
    "start_time": "2025-01-27T18:01:09.101Z"
   },
   {
    "duration": 11,
    "start_time": "2025-01-27T18:21:32.419Z"
   },
   {
    "duration": 62,
    "start_time": "2025-01-27T18:21:32.439Z"
   },
   {
    "duration": 2734,
    "start_time": "2025-01-27T18:41:52.308Z"
   },
   {
    "duration": 222,
    "start_time": "2025-01-27T18:41:55.044Z"
   },
   {
    "duration": 3,
    "start_time": "2025-01-27T18:41:55.268Z"
   },
   {
    "duration": 20,
    "start_time": "2025-01-27T18:41:55.273Z"
   },
   {
    "duration": 2146,
    "start_time": "2025-01-27T18:41:55.295Z"
   },
   {
    "duration": 35,
    "start_time": "2025-01-27T18:41:57.443Z"
   },
   {
    "duration": 15,
    "start_time": "2025-01-27T18:41:57.480Z"
   },
   {
    "duration": 101,
    "start_time": "2025-01-27T18:41:57.497Z"
   },
   {
    "duration": 11,
    "start_time": "2025-01-27T18:41:57.600Z"
   },
   {
    "duration": 18,
    "start_time": "2025-01-27T18:41:57.613Z"
   },
   {
    "duration": 2,
    "start_time": "2025-01-27T18:41:57.633Z"
   },
   {
    "duration": 738,
    "start_time": "2025-01-27T18:41:57.637Z"
   },
   {
    "duration": 4,
    "start_time": "2025-01-27T18:42:32.731Z"
   },
   {
    "duration": 5,
    "start_time": "2025-01-27T18:42:33.824Z"
   },
   {
    "duration": 8,
    "start_time": "2025-01-27T18:42:39.438Z"
   },
   {
    "duration": 1194,
    "start_time": "2025-01-28T06:11:35.179Z"
   },
   {
    "duration": 231,
    "start_time": "2025-01-28T06:11:37.176Z"
   },
   {
    "duration": 3,
    "start_time": "2025-01-28T06:12:15.575Z"
   },
   {
    "duration": 21,
    "start_time": "2025-01-28T06:12:15.580Z"
   },
   {
    "duration": 3,
    "start_time": "2025-01-28T06:12:17.475Z"
   },
   {
    "duration": 3,
    "start_time": "2025-01-28T06:12:18.302Z"
   },
   {
    "duration": 128,
    "start_time": "2025-01-28T06:12:28.922Z"
   },
   {
    "duration": 3,
    "start_time": "2025-01-28T06:12:35.842Z"
   },
   {
    "duration": 4,
    "start_time": "2025-01-28T06:12:36.858Z"
   },
   {
    "duration": 2126,
    "start_time": "2025-01-28T06:12:37.392Z"
   },
   {
    "duration": 33,
    "start_time": "2025-01-28T06:12:39.520Z"
   },
   {
    "duration": 14,
    "start_time": "2025-01-28T06:12:39.555Z"
   },
   {
    "duration": 4,
    "start_time": "2025-01-28T06:39:13.157Z"
   },
   {
    "duration": 3,
    "start_time": "2025-01-28T06:39:14.561Z"
   },
   {
    "duration": 3,
    "start_time": "2025-01-28T06:39:15.139Z"
   },
   {
    "duration": 4,
    "start_time": "2025-01-28T06:39:16.293Z"
   },
   {
    "duration": 2276,
    "start_time": "2025-01-28T06:39:16.863Z"
   },
   {
    "duration": 33,
    "start_time": "2025-01-28T06:39:19.141Z"
   },
   {
    "duration": 11,
    "start_time": "2025-01-28T06:39:20.617Z"
   },
   {
    "duration": 93,
    "start_time": "2025-01-28T06:39:25.757Z"
   },
   {
    "duration": 7,
    "start_time": "2025-01-28T06:39:28.594Z"
   },
   {
    "duration": 9,
    "start_time": "2025-01-28T06:39:29.725Z"
   },
   {
    "duration": 2,
    "start_time": "2025-01-28T06:39:34.854Z"
   },
   {
    "duration": 3319,
    "start_time": "2025-01-28T06:39:35.826Z"
   },
   {
    "duration": 5,
    "start_time": "2025-01-28T06:41:02.539Z"
   },
   {
    "duration": 3,
    "start_time": "2025-01-28T06:41:03.173Z"
   },
   {
    "duration": 3,
    "start_time": "2025-01-28T06:41:03.826Z"
   },
   {
    "duration": 10,
    "start_time": "2025-01-28T06:41:04.905Z"
   },
   {
    "duration": 2122,
    "start_time": "2025-01-28T06:41:05.460Z"
   },
   {
    "duration": 49,
    "start_time": "2025-01-28T06:41:07.584Z"
   },
   {
    "duration": 7,
    "start_time": "2025-01-28T06:41:08.567Z"
   },
   {
    "duration": 82,
    "start_time": "2025-01-28T06:41:11.463Z"
   },
   {
    "duration": 5,
    "start_time": "2025-01-28T06:41:12.559Z"
   },
   {
    "duration": 6,
    "start_time": "2025-01-28T06:41:13.239Z"
   },
   {
    "duration": 3172,
    "start_time": "2025-01-28T06:41:17.409Z"
   },
   {
    "duration": 55273,
    "start_time": "2025-01-28T06:41:21.722Z"
   },
   {
    "duration": 88,
    "start_time": "2025-01-28T06:44:47.376Z"
   },
   {
    "duration": 9669,
    "start_time": "2025-01-28T06:45:42.408Z"
   },
   {
    "duration": 255,
    "start_time": "2025-01-28T06:45:56.297Z"
   },
   {
    "duration": 55929,
    "start_time": "2025-01-28T06:45:57.632Z"
   },
   {
    "duration": 3,
    "start_time": "2025-01-28T06:56:10.238Z"
   },
   {
    "duration": 1977,
    "start_time": "2025-01-28T06:56:14.004Z"
   },
   {
    "duration": 4,
    "start_time": "2025-01-28T07:11:32.965Z"
   },
   {
    "duration": 200120,
    "start_time": "2025-01-28T07:11:34.257Z"
   },
   {
    "duration": 6,
    "start_time": "2025-01-28T07:57:06.832Z"
   },
   {
    "duration": 4,
    "start_time": "2025-01-28T07:57:07.752Z"
   },
   {
    "duration": 3,
    "start_time": "2025-01-28T07:57:08.448Z"
   },
   {
    "duration": 4,
    "start_time": "2025-01-28T07:57:10.013Z"
   },
   {
    "duration": 2010,
    "start_time": "2025-01-28T07:57:10.713Z"
   },
   {
    "duration": 34,
    "start_time": "2025-01-28T07:57:12.726Z"
   },
   {
    "duration": 59,
    "start_time": "2025-01-28T07:57:12.763Z"
   },
   {
    "duration": 81,
    "start_time": "2025-01-28T07:57:20.253Z"
   },
   {
    "duration": 6,
    "start_time": "2025-01-28T07:57:21.314Z"
   },
   {
    "duration": 7,
    "start_time": "2025-01-28T07:57:22.052Z"
   },
   {
    "duration": 3,
    "start_time": "2025-01-28T07:57:26.118Z"
   },
   {
    "duration": 174480,
    "start_time": "2025-01-28T07:57:27.369Z"
   },
   {
    "duration": 5,
    "start_time": "2025-01-28T08:02:06.775Z"
   },
   {
    "duration": 3,
    "start_time": "2025-01-28T08:02:08.495Z"
   },
   {
    "duration": 3,
    "start_time": "2025-01-28T08:02:09.167Z"
   },
   {
    "duration": 3,
    "start_time": "2025-01-28T08:02:10.645Z"
   },
   {
    "duration": 2095,
    "start_time": "2025-01-28T08:02:11.213Z"
   },
   {
    "duration": 33,
    "start_time": "2025-01-28T08:02:13.310Z"
   },
   {
    "duration": 7,
    "start_time": "2025-01-28T08:02:15.871Z"
   },
   {
    "duration": 80,
    "start_time": "2025-01-28T08:02:20.723Z"
   },
   {
    "duration": 5,
    "start_time": "2025-01-28T08:02:23.063Z"
   },
   {
    "duration": 6,
    "start_time": "2025-01-28T08:02:23.853Z"
   },
   {
    "duration": 3,
    "start_time": "2025-01-28T08:02:32.509Z"
   },
   {
    "duration": 171020,
    "start_time": "2025-01-28T08:02:37.290Z"
   },
   {
    "duration": 4,
    "start_time": "2025-01-28T08:05:51.544Z"
   },
   {
    "duration": 647,
    "start_time": "2025-01-28T08:05:56.637Z"
   },
   {
    "duration": 1205,
    "start_time": "2025-01-28T08:10:56.841Z"
   },
   {
    "duration": 240,
    "start_time": "2025-01-28T08:10:58.832Z"
   },
   {
    "duration": 3,
    "start_time": "2025-01-28T08:10:59.529Z"
   },
   {
    "duration": 3,
    "start_time": "2025-01-28T08:11:02.291Z"
   },
   {
    "duration": 2239,
    "start_time": "2025-01-28T08:11:03.131Z"
   },
   {
    "duration": 36,
    "start_time": "2025-01-28T08:11:06.484Z"
   },
   {
    "duration": 16,
    "start_time": "2025-01-28T08:11:07.802Z"
   },
   {
    "duration": 87,
    "start_time": "2025-01-28T08:11:11.763Z"
   },
   {
    "duration": 5,
    "start_time": "2025-01-28T08:11:12.844Z"
   },
   {
    "duration": 7,
    "start_time": "2025-01-28T08:11:13.849Z"
   },
   {
    "duration": 4,
    "start_time": "2025-01-28T08:11:17.820Z"
   },
   {
    "duration": 6736,
    "start_time": "2025-01-28T08:11:22.011Z"
   },
   {
    "duration": 6,
    "start_time": "2025-01-28T08:12:15.450Z"
   },
   {
    "duration": 3,
    "start_time": "2025-01-28T08:12:17.902Z"
   },
   {
    "duration": 174074,
    "start_time": "2025-01-28T08:12:19.013Z"
   },
   {
    "duration": 4,
    "start_time": "2025-01-28T08:15:31.995Z"
   },
   {
    "duration": 320,
    "start_time": "2025-01-28T08:15:33.842Z"
   },
   {
    "duration": 2,
    "start_time": "2025-01-28T08:16:29.124Z"
   },
   {
    "duration": 2392,
    "start_time": "2025-01-28T08:16:32.415Z"
   },
   {
    "duration": 3,
    "start_time": "2025-01-28T08:16:37.037Z"
   },
   {
    "duration": 33640,
    "start_time": "2025-01-28T08:16:38.250Z"
   },
   {
    "duration": 3,
    "start_time": "2025-01-28T08:19:10.311Z"
   },
   {
    "duration": 375,
    "start_time": "2025-01-28T08:19:12.285Z"
   },
   {
    "duration": 421,
    "start_time": "2025-01-28T08:19:34.895Z"
   },
   {
    "duration": 810,
    "start_time": "2025-01-28T08:19:41.191Z"
   },
   {
    "duration": 4,
    "start_time": "2025-01-28T08:20:12.094Z"
   },
   {
    "duration": 4,
    "start_time": "2025-01-28T08:20:12.686Z"
   },
   {
    "duration": 4,
    "start_time": "2025-01-28T08:20:13.245Z"
   },
   {
    "duration": 4,
    "start_time": "2025-01-28T08:20:14.338Z"
   },
   {
    "duration": 2072,
    "start_time": "2025-01-28T08:20:14.998Z"
   },
   {
    "duration": 32,
    "start_time": "2025-01-28T08:20:17.072Z"
   },
   {
    "duration": 7,
    "start_time": "2025-01-28T08:20:17.106Z"
   },
   {
    "duration": 80,
    "start_time": "2025-01-28T08:20:17.845Z"
   },
   {
    "duration": 4,
    "start_time": "2025-01-28T08:20:19.168Z"
   },
   {
    "duration": 7,
    "start_time": "2025-01-28T08:20:19.863Z"
   },
   {
    "duration": 3,
    "start_time": "2025-01-28T08:20:21.179Z"
   },
   {
    "duration": 3222,
    "start_time": "2025-01-28T08:20:22.063Z"
   },
   {
    "duration": 3,
    "start_time": "2025-01-28T08:20:25.287Z"
   },
   {
    "duration": 34816,
    "start_time": "2025-01-28T08:20:25.292Z"
   },
   {
    "duration": 3,
    "start_time": "2025-01-28T08:21:00.110Z"
   },
   {
    "duration": 613,
    "start_time": "2025-01-28T08:21:00.115Z"
   },
   {
    "duration": 1184,
    "start_time": "2025-01-28T08:25:12.206Z"
   },
   {
    "duration": 230,
    "start_time": "2025-01-28T08:25:14.378Z"
   },
   {
    "duration": 4,
    "start_time": "2025-01-28T08:25:15.178Z"
   },
   {
    "duration": 3,
    "start_time": "2025-01-28T08:25:16.360Z"
   },
   {
    "duration": 2214,
    "start_time": "2025-01-28T08:25:17.017Z"
   },
   {
    "duration": 35,
    "start_time": "2025-01-28T08:25:19.233Z"
   },
   {
    "duration": 14,
    "start_time": "2025-01-28T08:25:19.269Z"
   },
   {
    "duration": 82,
    "start_time": "2025-01-28T08:25:29.371Z"
   },
   {
    "duration": 5,
    "start_time": "2025-01-28T08:25:30.895Z"
   },
   {
    "duration": 6,
    "start_time": "2025-01-28T08:25:42.125Z"
   },
   {
    "duration": 3,
    "start_time": "2025-01-28T08:25:47.344Z"
   },
   {
    "duration": 1033,
    "start_time": "2025-01-28T08:25:48.879Z"
   },
   {
    "duration": 2,
    "start_time": "2025-01-28T08:25:54.744Z"
   },
   {
    "duration": 2539,
    "start_time": "2025-01-28T08:25:55.684Z"
   },
   {
    "duration": 3,
    "start_time": "2025-01-28T08:26:01.487Z"
   },
   {
    "duration": 36396,
    "start_time": "2025-01-28T08:26:11.325Z"
   },
   {
    "duration": 35340,
    "start_time": "2025-01-28T08:27:26.700Z"
   },
   {
    "duration": 6,
    "start_time": "2025-01-28T08:29:45.351Z"
   },
   {
    "duration": 3,
    "start_time": "2025-01-28T08:29:46.457Z"
   },
   {
    "duration": 3,
    "start_time": "2025-01-28T08:29:47.323Z"
   },
   {
    "duration": 3,
    "start_time": "2025-01-28T08:29:48.888Z"
   },
   {
    "duration": 2006,
    "start_time": "2025-01-28T08:29:49.572Z"
   },
   {
    "duration": 33,
    "start_time": "2025-01-28T08:29:52.792Z"
   },
   {
    "duration": 8,
    "start_time": "2025-01-28T08:29:53.834Z"
   },
   {
    "duration": 77,
    "start_time": "2025-01-28T08:29:55.578Z"
   },
   {
    "duration": 4,
    "start_time": "2025-01-28T08:29:56.099Z"
   },
   {
    "duration": 6,
    "start_time": "2025-01-28T08:29:56.759Z"
   },
   {
    "duration": 3,
    "start_time": "2025-01-28T08:29:58.162Z"
   },
   {
    "duration": 3,
    "start_time": "2025-01-28T08:29:59.997Z"
   },
   {
    "duration": 3,
    "start_time": "2025-01-28T08:30:00.549Z"
   },
   {
    "duration": 2549,
    "start_time": "2025-01-28T08:30:01.162Z"
   },
   {
    "duration": 3,
    "start_time": "2025-01-28T08:30:16.742Z"
   },
   {
    "duration": 33595,
    "start_time": "2025-01-28T08:30:19.247Z"
   },
   {
    "duration": 4,
    "start_time": "2025-01-28T08:38:12.204Z"
   },
   {
    "duration": 3,
    "start_time": "2025-01-28T08:38:12.802Z"
   },
   {
    "duration": 4,
    "start_time": "2025-01-28T08:38:13.408Z"
   },
   {
    "duration": 3,
    "start_time": "2025-01-28T08:38:14.676Z"
   },
   {
    "duration": 1957,
    "start_time": "2025-01-28T08:38:15.308Z"
   },
   {
    "duration": 32,
    "start_time": "2025-01-28T08:38:17.267Z"
   },
   {
    "duration": 7,
    "start_time": "2025-01-28T08:38:17.301Z"
   },
   {
    "duration": 79,
    "start_time": "2025-01-28T08:38:20.913Z"
   },
   {
    "duration": 5,
    "start_time": "2025-01-28T08:38:21.807Z"
   },
   {
    "duration": 6,
    "start_time": "2025-01-28T08:38:22.422Z"
   },
   {
    "duration": 34,
    "start_time": "2025-01-28T08:38:25.423Z"
   },
   {
    "duration": 3,
    "start_time": "2025-01-28T08:38:26.918Z"
   },
   {
    "duration": 129,
    "start_time": "2025-01-28T08:38:29.709Z"
   },
   {
    "duration": 1147,
    "start_time": "2025-01-28T08:38:57.337Z"
   },
   {
    "duration": 236,
    "start_time": "2025-01-28T08:38:58.486Z"
   },
   {
    "duration": 3,
    "start_time": "2025-01-28T08:38:58.724Z"
   },
   {
    "duration": 4,
    "start_time": "2025-01-28T08:38:59.675Z"
   },
   {
    "duration": 2275,
    "start_time": "2025-01-28T08:39:00.153Z"
   },
   {
    "duration": 37,
    "start_time": "2025-01-28T08:39:02.430Z"
   },
   {
    "duration": 41,
    "start_time": "2025-01-28T08:39:02.469Z"
   },
   {
    "duration": 86,
    "start_time": "2025-01-28T08:39:02.681Z"
   },
   {
    "duration": 5,
    "start_time": "2025-01-28T08:39:03.510Z"
   },
   {
    "duration": 7,
    "start_time": "2025-01-28T08:39:05.695Z"
   },
   {
    "duration": 45,
    "start_time": "2025-01-28T08:39:06.761Z"
   },
   {
    "duration": 3,
    "start_time": "2025-01-28T08:39:07.350Z"
   },
   {
    "duration": 123,
    "start_time": "2025-01-28T08:39:08.077Z"
   },
   {
    "duration": 1048,
    "start_time": "2025-01-28T08:39:17.876Z"
   },
   {
    "duration": 3,
    "start_time": "2025-01-28T08:39:39.339Z"
   },
   {
    "duration": 2588,
    "start_time": "2025-01-28T08:39:40.035Z"
   },
   {
    "duration": 12,
    "start_time": "2025-01-28T08:39:54.132Z"
   },
   {
    "duration": 3,
    "start_time": "2025-01-28T08:40:08.903Z"
   },
   {
    "duration": 37594,
    "start_time": "2025-01-28T08:40:11.877Z"
   },
   {
    "duration": 903,
    "start_time": "2025-01-28T08:41:52.995Z"
   },
   {
    "duration": 1186,
    "start_time": "2025-01-28T08:43:48.293Z"
   },
   {
    "duration": 232,
    "start_time": "2025-01-28T08:43:49.481Z"
   },
   {
    "duration": 3,
    "start_time": "2025-01-28T08:43:49.714Z"
   },
   {
    "duration": 3,
    "start_time": "2025-01-28T08:43:50.094Z"
   },
   {
    "duration": 2217,
    "start_time": "2025-01-28T08:43:50.607Z"
   },
   {
    "duration": 34,
    "start_time": "2025-01-28T08:43:52.826Z"
   },
   {
    "duration": 33,
    "start_time": "2025-01-28T08:43:52.862Z"
   },
   {
    "duration": 81,
    "start_time": "2025-01-28T08:43:56.857Z"
   },
   {
    "duration": 6,
    "start_time": "2025-01-28T08:43:57.647Z"
   },
   {
    "duration": 6,
    "start_time": "2025-01-28T08:43:58.194Z"
   },
   {
    "duration": 44,
    "start_time": "2025-01-28T08:43:59.438Z"
   },
   {
    "duration": 3,
    "start_time": "2025-01-28T08:44:00.507Z"
   },
   {
    "duration": 1037,
    "start_time": "2025-01-28T08:44:09.391Z"
   },
   {
    "duration": 2,
    "start_time": "2025-01-28T08:44:14.271Z"
   },
   {
    "duration": 2474,
    "start_time": "2025-01-28T08:44:16.567Z"
   },
   {
    "duration": 4,
    "start_time": "2025-01-28T08:44:23.363Z"
   },
   {
    "duration": 1587,
    "start_time": "2025-01-28T08:44:24.054Z"
   },
   {
    "duration": 178,
    "start_time": "2025-01-28T08:44:29.960Z"
   },
   {
    "duration": 3,
    "start_time": "2025-01-28T08:44:31.156Z"
   },
   {
    "duration": 2481,
    "start_time": "2025-01-28T08:44:31.958Z"
   },
   {
    "duration": 3,
    "start_time": "2025-01-28T08:44:35.378Z"
   },
   {
    "duration": 22476,
    "start_time": "2025-01-28T08:44:37.693Z"
   },
   {
    "duration": 1174,
    "start_time": "2025-01-28T08:47:25.725Z"
   },
   {
    "duration": 225,
    "start_time": "2025-01-28T08:47:26.901Z"
   },
   {
    "duration": 3,
    "start_time": "2025-01-28T08:47:27.128Z"
   },
   {
    "duration": 4,
    "start_time": "2025-01-28T08:47:28.176Z"
   },
   {
    "duration": 2227,
    "start_time": "2025-01-28T08:47:28.641Z"
   },
   {
    "duration": 43,
    "start_time": "2025-01-28T08:47:30.871Z"
   },
   {
    "duration": 17,
    "start_time": "2025-01-28T08:47:30.915Z"
   },
   {
    "duration": 81,
    "start_time": "2025-01-28T08:47:36.384Z"
   },
   {
    "duration": 5,
    "start_time": "2025-01-28T08:47:36.994Z"
   },
   {
    "duration": 6,
    "start_time": "2025-01-28T08:47:37.651Z"
   },
   {
    "duration": 45,
    "start_time": "2025-01-28T08:47:40.051Z"
   },
   {
    "duration": 3,
    "start_time": "2025-01-28T08:47:46.687Z"
   },
   {
    "duration": 1083,
    "start_time": "2025-01-28T08:47:48.084Z"
   },
   {
    "duration": 3,
    "start_time": "2025-01-28T08:47:52.774Z"
   },
   {
    "duration": 2627,
    "start_time": "2025-01-28T08:47:53.708Z"
   },
   {
    "duration": 4,
    "start_time": "2025-01-28T08:47:56.565Z"
   },
   {
    "duration": 1620,
    "start_time": "2025-01-28T08:47:57.913Z"
   },
   {
    "duration": 237,
    "start_time": "2025-01-28T08:47:59.535Z"
   },
   {
    "duration": 3,
    "start_time": "2025-01-28T08:48:02.438Z"
   },
   {
    "duration": 2611,
    "start_time": "2025-01-28T08:48:03.254Z"
   },
   {
    "duration": 3,
    "start_time": "2025-01-28T08:48:05.867Z"
   },
   {
    "duration": 23380,
    "start_time": "2025-01-28T08:48:06.367Z"
   },
   {
    "duration": 2,
    "start_time": "2025-01-28T08:49:42.784Z"
   },
   {
    "duration": 432,
    "start_time": "2025-01-28T08:49:43.560Z"
   },
   {
    "duration": 3,
    "start_time": "2025-01-28T08:50:34.123Z"
   },
   {
    "duration": 334,
    "start_time": "2025-01-28T08:50:34.659Z"
   },
   {
    "duration": 3,
    "start_time": "2025-01-28T08:53:31.494Z"
   },
   {
    "duration": 347,
    "start_time": "2025-01-28T08:53:33.846Z"
   },
   {
    "duration": 4011,
    "start_time": "2025-01-28T08:53:54.640Z"
   },
   {
    "duration": 3,
    "start_time": "2025-01-28T08:53:59.654Z"
   },
   {
    "duration": 612,
    "start_time": "2025-01-28T08:54:01.958Z"
   },
   {
    "duration": 1243,
    "start_time": "2025-01-28T08:54:23.964Z"
   },
   {
    "duration": 236,
    "start_time": "2025-01-28T08:54:25.209Z"
   },
   {
    "duration": 3,
    "start_time": "2025-01-28T08:54:25.961Z"
   },
   {
    "duration": 4,
    "start_time": "2025-01-28T08:54:27.308Z"
   },
   {
    "duration": 2206,
    "start_time": "2025-01-28T08:54:27.773Z"
   },
   {
    "duration": 39,
    "start_time": "2025-01-28T08:54:29.981Z"
   },
   {
    "duration": 56,
    "start_time": "2025-01-28T08:54:30.022Z"
   },
   {
    "duration": 85,
    "start_time": "2025-01-28T08:54:31.680Z"
   },
   {
    "duration": 5,
    "start_time": "2025-01-28T08:54:32.387Z"
   },
   {
    "duration": 7,
    "start_time": "2025-01-28T08:54:33.032Z"
   },
   {
    "duration": 46,
    "start_time": "2025-01-28T08:54:40.796Z"
   },
   {
    "duration": 3,
    "start_time": "2025-01-28T08:54:41.439Z"
   },
   {
    "duration": 3444,
    "start_time": "2025-01-28T08:54:53.633Z"
   },
   {
    "duration": 3,
    "start_time": "2025-01-28T08:54:57.079Z"
   },
   {
    "duration": 1158,
    "start_time": "2025-01-28T09:07:09.142Z"
   },
   {
    "duration": 241,
    "start_time": "2025-01-28T09:07:11.964Z"
   },
   {
    "duration": 3,
    "start_time": "2025-01-28T09:07:12.660Z"
   },
   {
    "duration": 4,
    "start_time": "2025-01-28T09:07:14.401Z"
   },
   {
    "duration": 2249,
    "start_time": "2025-01-28T09:07:15.135Z"
   },
   {
    "duration": 42,
    "start_time": "2025-01-28T09:07:17.387Z"
   },
   {
    "duration": 15,
    "start_time": "2025-01-28T09:07:19.458Z"
   },
   {
    "duration": 80,
    "start_time": "2025-01-28T09:07:22.620Z"
   },
   {
    "duration": 6,
    "start_time": "2025-01-28T09:07:24.925Z"
   },
   {
    "duration": 6,
    "start_time": "2025-01-28T09:07:25.620Z"
   },
   {
    "duration": 41,
    "start_time": "2025-01-28T09:07:26.868Z"
   },
   {
    "duration": 4,
    "start_time": "2025-01-28T09:07:29.416Z"
   },
   {
    "duration": 1126,
    "start_time": "2025-01-28T09:07:30.846Z"
   },
   {
    "duration": 3,
    "start_time": "2025-01-28T09:07:36.543Z"
   },
   {
    "duration": 2528,
    "start_time": "2025-01-28T09:07:37.148Z"
   },
   {
    "duration": 4,
    "start_time": "2025-01-28T09:07:39.678Z"
   },
   {
    "duration": 1702,
    "start_time": "2025-01-28T09:07:39.684Z"
   },
   {
    "duration": 175,
    "start_time": "2025-01-28T09:07:41.388Z"
   },
   {
    "duration": 3,
    "start_time": "2025-01-28T09:07:43.372Z"
   },
   {
    "duration": 2523,
    "start_time": "2025-01-28T09:07:44.000Z"
   },
   {
    "duration": 3760,
    "start_time": "2025-01-28T09:07:46.526Z"
   },
   {
    "duration": 4,
    "start_time": "2025-01-28T09:07:52.057Z"
   },
   {
    "duration": 724,
    "start_time": "2025-01-28T09:07:54.560Z"
   },
   {
    "duration": 17,
    "start_time": "2025-01-28T09:07:55.407Z"
   },
   {
    "duration": 1197,
    "start_time": "2025-01-28T09:08:32.498Z"
   },
   {
    "duration": 246,
    "start_time": "2025-01-28T09:08:33.697Z"
   },
   {
    "duration": 3,
    "start_time": "2025-01-28T09:08:33.945Z"
   },
   {
    "duration": 4,
    "start_time": "2025-01-28T09:08:34.849Z"
   },
   {
    "duration": 2282,
    "start_time": "2025-01-28T09:08:35.533Z"
   },
   {
    "duration": 34,
    "start_time": "2025-01-28T09:08:37.821Z"
   },
   {
    "duration": 13,
    "start_time": "2025-01-28T09:08:37.856Z"
   },
   {
    "duration": 88,
    "start_time": "2025-01-28T09:08:37.976Z"
   },
   {
    "duration": 5,
    "start_time": "2025-01-28T09:08:38.893Z"
   },
   {
    "duration": 6,
    "start_time": "2025-01-28T09:08:39.527Z"
   },
   {
    "duration": 55,
    "start_time": "2025-01-28T09:08:40.793Z"
   },
   {
    "duration": 3593,
    "start_time": "2025-01-28T09:09:01.043Z"
   },
   {
    "duration": 3,
    "start_time": "2025-01-28T09:09:04.638Z"
   },
   {
    "duration": 1189,
    "start_time": "2025-01-28T10:06:18.274Z"
   },
   {
    "duration": 234,
    "start_time": "2025-01-28T10:06:19.465Z"
   },
   {
    "duration": 2,
    "start_time": "2025-01-28T10:06:19.701Z"
   },
   {
    "duration": 3,
    "start_time": "2025-01-28T10:06:20.259Z"
   },
   {
    "duration": 5143,
    "start_time": "2025-01-28T10:06:20.782Z"
   },
   {
    "duration": 32,
    "start_time": "2025-01-28T10:06:25.927Z"
   },
   {
    "duration": 14,
    "start_time": "2025-01-28T10:06:25.961Z"
   },
   {
    "duration": 83,
    "start_time": "2025-01-28T10:06:25.976Z"
   },
   {
    "duration": 20,
    "start_time": "2025-01-28T10:06:26.060Z"
   },
   {
    "duration": 9,
    "start_time": "2025-01-28T10:06:26.081Z"
   },
   {
    "duration": 2,
    "start_time": "2025-01-28T10:06:43.752Z"
   },
   {
    "duration": 984,
    "start_time": "2025-01-28T10:06:45.036Z"
   },
   {
    "duration": 1497,
    "start_time": "2025-01-28T10:07:33.668Z"
   },
   {
    "duration": 243,
    "start_time": "2025-01-28T10:07:35.167Z"
   },
   {
    "duration": 3,
    "start_time": "2025-01-28T10:07:35.412Z"
   },
   {
    "duration": 19,
    "start_time": "2025-01-28T10:07:35.417Z"
   },
   {
    "duration": 2124,
    "start_time": "2025-01-28T10:07:35.438Z"
   },
   {
    "duration": 32,
    "start_time": "2025-01-28T10:07:37.564Z"
   },
   {
    "duration": 13,
    "start_time": "2025-01-28T10:07:37.597Z"
   },
   {
    "duration": 144,
    "start_time": "2025-01-28T10:07:37.611Z"
   },
   {
    "duration": 6,
    "start_time": "2025-01-28T10:07:37.757Z"
   },
   {
    "duration": 5,
    "start_time": "2025-01-28T10:07:37.766Z"
   },
   {
    "duration": 55,
    "start_time": "2025-01-28T10:07:37.772Z"
   },
   {
    "duration": 4,
    "start_time": "2025-01-28T10:07:37.828Z"
   },
   {
    "duration": 1052,
    "start_time": "2025-01-28T10:07:37.833Z"
   },
   {
    "duration": 3,
    "start_time": "2025-01-28T10:07:38.887Z"
   },
   {
    "duration": 2625,
    "start_time": "2025-01-28T10:07:38.891Z"
   },
   {
    "duration": 3,
    "start_time": "2025-01-28T10:07:41.517Z"
   },
   {
    "duration": 1421,
    "start_time": "2025-01-28T10:07:41.521Z"
   },
   {
    "duration": 245,
    "start_time": "2025-01-28T10:07:42.944Z"
   },
   {
    "duration": 3,
    "start_time": "2025-01-28T10:07:43.191Z"
   },
   {
    "duration": 2148,
    "start_time": "2025-01-28T10:07:43.195Z"
   },
   {
    "duration": 3435,
    "start_time": "2025-01-28T10:07:45.345Z"
   },
   {
    "duration": 2,
    "start_time": "2025-01-28T10:07:48.782Z"
   },
   {
    "duration": 627,
    "start_time": "2025-01-28T10:07:48.786Z"
   },
   {
    "duration": 0,
    "start_time": "2025-01-28T10:07:49.415Z"
   },
   {
    "duration": 0,
    "start_time": "2025-01-28T10:07:49.417Z"
   },
   {
    "duration": 0,
    "start_time": "2025-01-28T10:07:49.418Z"
   },
   {
    "duration": 0,
    "start_time": "2025-01-28T10:07:49.420Z"
   },
   {
    "duration": 0,
    "start_time": "2025-01-28T10:07:49.421Z"
   },
   {
    "duration": 0,
    "start_time": "2025-01-28T10:07:49.422Z"
   },
   {
    "duration": 0,
    "start_time": "2025-01-28T10:07:49.424Z"
   },
   {
    "duration": 0,
    "start_time": "2025-01-28T10:07:49.426Z"
   },
   {
    "duration": 0,
    "start_time": "2025-01-28T10:07:49.427Z"
   },
   {
    "duration": 3,
    "start_time": "2025-01-28T10:09:01.834Z"
   },
   {
    "duration": 267,
    "start_time": "2025-01-28T10:09:03.062Z"
   },
   {
    "duration": 283,
    "start_time": "2025-01-28T10:09:21.734Z"
   },
   {
    "duration": 3,
    "start_time": "2025-01-28T10:10:11.575Z"
   },
   {
    "duration": 299,
    "start_time": "2025-01-28T10:10:12.507Z"
   },
   {
    "duration": 300,
    "start_time": "2025-01-28T10:11:23.018Z"
   },
   {
    "duration": 1113,
    "start_time": "2025-01-28T10:11:44.525Z"
   },
   {
    "duration": 200,
    "start_time": "2025-01-28T10:11:45.641Z"
   },
   {
    "duration": 3,
    "start_time": "2025-01-28T10:11:45.842Z"
   },
   {
    "duration": 3,
    "start_time": "2025-01-28T10:11:45.847Z"
   },
   {
    "duration": 2044,
    "start_time": "2025-01-28T10:11:45.852Z"
   },
   {
    "duration": 30,
    "start_time": "2025-01-28T10:11:47.898Z"
   },
   {
    "duration": 33,
    "start_time": "2025-01-28T10:11:47.930Z"
   },
   {
    "duration": 84,
    "start_time": "2025-01-28T10:11:47.965Z"
   },
   {
    "duration": 20,
    "start_time": "2025-01-28T10:11:48.051Z"
   },
   {
    "duration": 7,
    "start_time": "2025-01-28T10:11:48.073Z"
   },
   {
    "duration": 27,
    "start_time": "2025-01-28T10:11:48.082Z"
   },
   {
    "duration": 1024,
    "start_time": "2025-01-28T10:11:48.111Z"
   },
   {
    "duration": 3,
    "start_time": "2025-01-28T10:11:49.137Z"
   },
   {
    "duration": 2220,
    "start_time": "2025-01-28T10:11:49.143Z"
   },
   {
    "duration": 3,
    "start_time": "2025-01-28T10:11:51.364Z"
   },
   {
    "duration": 1506,
    "start_time": "2025-01-28T10:11:51.369Z"
   },
   {
    "duration": 235,
    "start_time": "2025-01-28T10:11:52.876Z"
   },
   {
    "duration": 3,
    "start_time": "2025-01-28T10:11:53.113Z"
   },
   {
    "duration": 2220,
    "start_time": "2025-01-28T10:11:53.118Z"
   },
   {
    "duration": 3417,
    "start_time": "2025-01-28T10:11:55.339Z"
   },
   {
    "duration": 3,
    "start_time": "2025-01-28T10:11:58.758Z"
   },
   {
    "duration": 756,
    "start_time": "2025-01-28T10:11:58.762Z"
   },
   {
    "duration": 0,
    "start_time": "2025-01-28T10:11:59.519Z"
   },
   {
    "duration": 0,
    "start_time": "2025-01-28T10:11:59.520Z"
   },
   {
    "duration": 0,
    "start_time": "2025-01-28T10:11:59.521Z"
   },
   {
    "duration": 0,
    "start_time": "2025-01-28T10:11:59.522Z"
   },
   {
    "duration": 0,
    "start_time": "2025-01-28T10:11:59.523Z"
   },
   {
    "duration": 0,
    "start_time": "2025-01-28T10:11:59.524Z"
   },
   {
    "duration": 0,
    "start_time": "2025-01-28T10:11:59.525Z"
   },
   {
    "duration": 0,
    "start_time": "2025-01-28T10:11:59.526Z"
   },
   {
    "duration": 0,
    "start_time": "2025-01-28T10:11:59.527Z"
   },
   {
    "duration": 3991,
    "start_time": "2025-01-28T10:13:06.023Z"
   },
   {
    "duration": 496,
    "start_time": "2025-01-28T10:13:10.016Z"
   },
   {
    "duration": 4,
    "start_time": "2025-01-28T10:13:10.514Z"
   },
   {
    "duration": 11,
    "start_time": "2025-01-28T10:13:10.520Z"
   },
   {
    "duration": 1873,
    "start_time": "2025-01-28T10:13:10.533Z"
   },
   {
    "duration": 31,
    "start_time": "2025-01-28T10:13:12.407Z"
   },
   {
    "duration": 13,
    "start_time": "2025-01-28T10:13:12.440Z"
   },
   {
    "duration": 81,
    "start_time": "2025-01-28T10:13:12.455Z"
   },
   {
    "duration": 10,
    "start_time": "2025-01-28T10:13:12.537Z"
   },
   {
    "duration": 8,
    "start_time": "2025-01-28T10:13:12.551Z"
   },
   {
    "duration": 3,
    "start_time": "2025-01-28T10:13:12.560Z"
   },
   {
    "duration": 1047,
    "start_time": "2025-01-28T10:13:12.564Z"
   },
   {
    "duration": 3,
    "start_time": "2025-01-28T10:13:13.612Z"
   },
   {
    "duration": 2110,
    "start_time": "2025-01-28T10:13:13.617Z"
   },
   {
    "duration": 3,
    "start_time": "2025-01-28T10:13:15.729Z"
   },
   {
    "duration": 1516,
    "start_time": "2025-01-28T10:13:15.733Z"
   },
   {
    "duration": 236,
    "start_time": "2025-01-28T10:13:17.251Z"
   },
   {
    "duration": 4,
    "start_time": "2025-01-28T10:13:17.489Z"
   },
   {
    "duration": 2374,
    "start_time": "2025-01-28T10:13:17.494Z"
   },
   {
    "duration": 2,
    "start_time": "2025-01-28T10:13:19.870Z"
   },
   {
    "duration": 602,
    "start_time": "2025-01-28T10:13:19.874Z"
   },
   {
    "duration": 0,
    "start_time": "2025-01-28T10:13:20.478Z"
   },
   {
    "duration": 0,
    "start_time": "2025-01-28T10:13:20.479Z"
   },
   {
    "duration": 0,
    "start_time": "2025-01-28T10:13:20.480Z"
   },
   {
    "duration": 0,
    "start_time": "2025-01-28T10:13:20.481Z"
   },
   {
    "duration": 0,
    "start_time": "2025-01-28T10:13:20.483Z"
   },
   {
    "duration": 0,
    "start_time": "2025-01-28T10:13:20.484Z"
   },
   {
    "duration": 0,
    "start_time": "2025-01-28T10:13:20.486Z"
   },
   {
    "duration": 0,
    "start_time": "2025-01-28T10:13:20.486Z"
   },
   {
    "duration": 0,
    "start_time": "2025-01-28T10:13:20.487Z"
   },
   {
    "duration": 270,
    "start_time": "2025-01-28T10:16:07.372Z"
   },
   {
    "duration": 3,
    "start_time": "2025-01-28T10:23:05.798Z"
   },
   {
    "duration": 306,
    "start_time": "2025-01-28T10:23:06.582Z"
   },
   {
    "duration": 3,
    "start_time": "2025-01-28T10:23:24.365Z"
   },
   {
    "duration": 252,
    "start_time": "2025-01-28T10:23:25.197Z"
   },
   {
    "duration": 2,
    "start_time": "2025-01-28T10:32:34.335Z"
   },
   {
    "duration": 3,
    "start_time": "2025-01-28T10:32:36.127Z"
   },
   {
    "duration": 255,
    "start_time": "2025-01-28T10:32:38.323Z"
   },
   {
    "duration": 3,
    "start_time": "2025-01-28T10:33:38.739Z"
   },
   {
    "duration": 284,
    "start_time": "2025-01-28T10:33:39.512Z"
   },
   {
    "duration": 1883,
    "start_time": "2025-01-28T10:34:43.041Z"
   },
   {
    "duration": 31,
    "start_time": "2025-01-28T10:34:45.606Z"
   },
   {
    "duration": 2,
    "start_time": "2025-01-28T10:34:51.954Z"
   },
   {
    "duration": 3,
    "start_time": "2025-01-28T10:34:52.760Z"
   },
   {
    "duration": 288,
    "start_time": "2025-01-28T10:34:55.886Z"
   },
   {
    "duration": 3,
    "start_time": "2025-01-28T10:35:15.278Z"
   },
   {
    "duration": 276768,
    "start_time": "2025-01-28T10:35:18.031Z"
   },
   {
    "duration": 12,
    "start_time": "2025-01-28T10:40:20.535Z"
   },
   {
    "duration": 4042,
    "start_time": "2025-01-28T10:42:16.080Z"
   },
   {
    "duration": 507,
    "start_time": "2025-01-28T10:42:21.449Z"
   },
   {
    "duration": 3,
    "start_time": "2025-01-28T10:42:22.041Z"
   },
   {
    "duration": 4,
    "start_time": "2025-01-28T10:42:23.472Z"
   },
   {
    "duration": 1974,
    "start_time": "2025-01-28T10:42:24.351Z"
   },
   {
    "duration": 32,
    "start_time": "2025-01-28T10:42:26.327Z"
   },
   {
    "duration": 13,
    "start_time": "2025-01-28T10:42:27.585Z"
   },
   {
    "duration": 75,
    "start_time": "2025-01-28T10:42:31.456Z"
   },
   {
    "duration": 5,
    "start_time": "2025-01-28T10:42:33.935Z"
   },
   {
    "duration": 8,
    "start_time": "2025-01-28T10:42:34.312Z"
   },
   {
    "duration": 3,
    "start_time": "2025-01-28T10:42:49.304Z"
   },
   {
    "duration": 1030,
    "start_time": "2025-01-28T10:42:52.481Z"
   },
   {
    "duration": 3,
    "start_time": "2025-01-28T10:42:59.237Z"
   },
   {
    "duration": 2038,
    "start_time": "2025-01-28T10:42:59.803Z"
   },
   {
    "duration": 10,
    "start_time": "2025-01-28T10:43:16.385Z"
   },
   {
    "duration": 3,
    "start_time": "2025-01-28T10:43:29.179Z"
   },
   {
    "duration": 1466,
    "start_time": "2025-01-28T10:43:30.405Z"
   },
   {
    "duration": 225,
    "start_time": "2025-01-28T10:43:47.214Z"
   },
   {
    "duration": 3,
    "start_time": "2025-01-28T10:43:49.680Z"
   },
   {
    "duration": 2381,
    "start_time": "2025-01-28T10:43:51.853Z"
   },
   {
    "duration": 8,
    "start_time": "2025-01-28T10:44:38.553Z"
   },
   {
    "duration": 2,
    "start_time": "2025-01-28T10:44:52.950Z"
   },
   {
    "duration": 3,
    "start_time": "2025-01-28T10:44:54.940Z"
   },
   {
    "duration": 578,
    "start_time": "2025-01-28T10:44:56.143Z"
   },
   {
    "duration": 4012,
    "start_time": "2025-01-28T10:45:55.417Z"
   },
   {
    "duration": 506,
    "start_time": "2025-01-28T10:45:59.431Z"
   },
   {
    "duration": 3,
    "start_time": "2025-01-28T10:45:59.939Z"
   },
   {
    "duration": 10,
    "start_time": "2025-01-28T10:45:59.943Z"
   },
   {
    "duration": 1918,
    "start_time": "2025-01-28T10:45:59.955Z"
   },
   {
    "duration": 34,
    "start_time": "2025-01-28T10:46:01.876Z"
   },
   {
    "duration": 52,
    "start_time": "2025-01-28T10:46:01.912Z"
   },
   {
    "duration": 99,
    "start_time": "2025-01-28T10:46:01.966Z"
   },
   {
    "duration": 48,
    "start_time": "2025-01-28T10:46:02.066Z"
   },
   {
    "duration": 24,
    "start_time": "2025-01-28T10:46:02.116Z"
   },
   {
    "duration": 3,
    "start_time": "2025-01-28T10:46:03.625Z"
   },
   {
    "duration": 998,
    "start_time": "2025-01-28T10:46:09.604Z"
   },
   {
    "duration": 234,
    "start_time": "2025-01-28T10:46:19.891Z"
   },
   {
    "duration": 3,
    "start_time": "2025-01-28T10:46:20.707Z"
   },
   {
    "duration": 4101,
    "start_time": "2025-01-28T10:46:21.863Z"
   },
   {
    "duration": 10,
    "start_time": "2025-01-28T10:46:25.966Z"
   },
   {
    "duration": 3850,
    "start_time": "2025-01-28T10:46:57.956Z"
   },
   {
    "duration": 514,
    "start_time": "2025-01-28T10:47:01.809Z"
   },
   {
    "duration": 3,
    "start_time": "2025-01-28T10:47:02.327Z"
   },
   {
    "duration": 9,
    "start_time": "2025-01-28T10:47:02.332Z"
   },
   {
    "duration": 1880,
    "start_time": "2025-01-28T10:47:02.342Z"
   },
   {
    "duration": 32,
    "start_time": "2025-01-28T10:47:04.224Z"
   },
   {
    "duration": 14,
    "start_time": "2025-01-28T10:47:04.257Z"
   },
   {
    "duration": 90,
    "start_time": "2025-01-28T10:47:04.273Z"
   },
   {
    "duration": 6,
    "start_time": "2025-01-28T10:47:04.366Z"
   },
   {
    "duration": 7,
    "start_time": "2025-01-28T10:47:06.667Z"
   },
   {
    "duration": 3,
    "start_time": "2025-01-28T10:47:10.316Z"
   },
   {
    "duration": 1008,
    "start_time": "2025-01-28T10:47:11.366Z"
   },
   {
    "duration": 2,
    "start_time": "2025-01-28T10:47:18.108Z"
   },
   {
    "duration": 3,
    "start_time": "2025-01-28T10:47:20.387Z"
   },
   {
    "duration": 259672,
    "start_time": "2025-01-28T10:47:21.501Z"
   },
   {
    "duration": 8,
    "start_time": "2025-01-28T10:51:41.175Z"
   },
   {
    "duration": 239,
    "start_time": "2025-01-28T10:55:06.093Z"
   },
   {
    "duration": 3,
    "start_time": "2025-01-28T10:55:07.470Z"
   },
   {
    "duration": 7786,
    "start_time": "2025-01-28T10:55:22.407Z"
   },
   {
    "duration": 12,
    "start_time": "2025-01-28T10:56:40.046Z"
   },
   {
    "duration": 3927,
    "start_time": "2025-01-28T10:56:59.299Z"
   },
   {
    "duration": 501,
    "start_time": "2025-01-28T10:57:03.228Z"
   },
   {
    "duration": 3,
    "start_time": "2025-01-28T10:57:03.730Z"
   },
   {
    "duration": 16,
    "start_time": "2025-01-28T10:57:03.735Z"
   },
   {
    "duration": 1872,
    "start_time": "2025-01-28T10:57:03.752Z"
   },
   {
    "duration": 30,
    "start_time": "2025-01-28T10:57:05.626Z"
   },
   {
    "duration": 13,
    "start_time": "2025-01-28T10:57:07.001Z"
   },
   {
    "duration": 71,
    "start_time": "2025-01-28T10:57:11.394Z"
   },
   {
    "duration": 4,
    "start_time": "2025-01-28T10:57:12.199Z"
   },
   {
    "duration": 6,
    "start_time": "2025-01-28T10:57:15.786Z"
   },
   {
    "duration": 166,
    "start_time": "2025-01-28T10:59:22.019Z"
   },
   {
    "duration": 3,
    "start_time": "2025-01-28T11:00:11.195Z"
   },
   {
    "duration": 4,
    "start_time": "2025-01-28T11:00:12.167Z"
   },
   {
    "duration": 120817,
    "start_time": "2025-01-28T11:00:13.305Z"
   },
   {
    "duration": 10,
    "start_time": "2025-01-28T11:02:14.124Z"
   },
   {
    "duration": 3,
    "start_time": "2025-01-28T11:28:42.923Z"
   },
   {
    "duration": 719,
    "start_time": "2025-01-28T11:28:46.038Z"
   },
   {
    "duration": 1261,
    "start_time": "2025-01-28T11:33:12.318Z"
   },
   {
    "duration": 4,
    "start_time": "2025-01-28T11:33:30.945Z"
   },
   {
    "duration": 25,
    "start_time": "2025-01-28T11:33:32.055Z"
   },
   {
    "duration": 4,
    "start_time": "2025-01-28T11:33:33.638Z"
   },
   {
    "duration": 3,
    "start_time": "2025-01-28T11:33:36.801Z"
   },
   {
    "duration": 6,
    "start_time": "2025-01-28T11:33:39.946Z"
   },
   {
    "duration": 919087,
    "start_time": "2025-01-28T11:33:43.530Z"
   },
   {
    "duration": 3,
    "start_time": "2025-01-28T11:50:38.803Z"
   },
   {
    "duration": 4,
    "start_time": "2025-01-28T11:50:39.537Z"
   },
   {
    "duration": 25,
    "start_time": "2025-01-28T11:50:43.453Z"
   },
   {
    "duration": 19,
    "start_time": "2025-01-28T11:51:59.496Z"
   },
   {
    "duration": 21,
    "start_time": "2025-01-28T11:52:07.970Z"
   },
   {
    "duration": 22,
    "start_time": "2025-01-28T11:56:12.846Z"
   },
   {
    "duration": 3973,
    "start_time": "2025-01-28T12:03:12.867Z"
   },
   {
    "duration": 620,
    "start_time": "2025-01-28T12:03:16.842Z"
   },
   {
    "duration": 3,
    "start_time": "2025-01-28T12:03:17.464Z"
   },
   {
    "duration": 16,
    "start_time": "2025-01-28T12:03:17.469Z"
   },
   {
    "duration": 1896,
    "start_time": "2025-01-28T12:03:17.487Z"
   },
   {
    "duration": 31,
    "start_time": "2025-01-28T12:03:19.385Z"
   },
   {
    "duration": 14,
    "start_time": "2025-01-28T12:03:19.418Z"
   },
   {
    "duration": 94,
    "start_time": "2025-01-28T12:03:19.434Z"
   },
   {
    "duration": 7,
    "start_time": "2025-01-28T12:03:19.529Z"
   },
   {
    "duration": 9,
    "start_time": "2025-01-28T12:03:19.538Z"
   },
   {
    "duration": 587,
    "start_time": "2025-01-28T12:03:19.548Z"
   },
   {
    "duration": 2,
    "start_time": "2025-01-28T12:03:20.136Z"
   },
   {
    "duration": 27,
    "start_time": "2025-01-28T12:03:20.140Z"
   },
   {
    "duration": 121023,
    "start_time": "2025-01-28T12:03:20.170Z"
   },
   {
    "duration": 15,
    "start_time": "2025-01-28T12:05:21.195Z"
   },
   {
    "duration": 17,
    "start_time": "2025-01-28T12:05:21.212Z"
   },
   {
    "duration": 740,
    "start_time": "2025-01-28T12:05:21.231Z"
   },
   {
    "duration": 2,
    "start_time": "2025-01-28T12:05:21.973Z"
   },
   {
    "duration": 39,
    "start_time": "2025-01-28T12:05:21.977Z"
   },
   {
    "duration": 4,
    "start_time": "2025-01-28T12:05:22.017Z"
   },
   {
    "duration": 3,
    "start_time": "2025-01-28T12:05:22.022Z"
   },
   {
    "duration": 4,
    "start_time": "2025-01-28T12:05:22.027Z"
   },
   {
    "duration": 936981,
    "start_time": "2025-01-28T12:05:22.032Z"
   },
   {
    "duration": 3,
    "start_time": "2025-01-28T12:20:59.015Z"
   },
   {
    "duration": 5,
    "start_time": "2025-01-28T12:20:59.020Z"
   },
   {
    "duration": 37,
    "start_time": "2025-01-28T12:20:59.027Z"
   },
   {
    "duration": 1034,
    "start_time": "2025-01-28T12:20:59.066Z"
   },
   {
    "duration": 0,
    "start_time": "2025-01-28T12:21:00.102Z"
   },
   {
    "duration": 25,
    "start_time": "2025-01-28T12:21:18.349Z"
   },
   {
    "duration": 1113,
    "start_time": "2025-01-28T12:29:41.916Z"
   },
   {
    "duration": 12,
    "start_time": "2025-01-28T12:30:27.761Z"
   }
  ],
  "kernelspec": {
   "display_name": "Python 3 (ipykernel)",
   "language": "python",
   "name": "python3"
  },
  "language_info": {
   "codemirror_mode": {
    "name": "ipython",
    "version": 3
   },
   "file_extension": ".py",
   "mimetype": "text/x-python",
   "name": "python",
   "nbconvert_exporter": "python",
   "pygments_lexer": "ipython3",
   "version": "3.11.7"
  },
  "toc": {
   "base_numbering": 1,
   "nav_menu": {},
   "number_sections": true,
   "sideBar": true,
   "skip_h1_title": true,
   "title_cell": "Содержание",
   "title_sidebar": "Contents",
   "toc_cell": true,
   "toc_position": {
    "height": "calc(100% - 180px)",
    "left": "10px",
    "top": "150px",
    "width": "192.788px"
   },
   "toc_section_display": true,
   "toc_window_display": false
  }
 },
 "nbformat": 4,
 "nbformat_minor": 4
}
